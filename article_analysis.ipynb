{
 "cells": [
  {
   "cell_type": "markdown",
   "metadata": {},
   "source": [
    "# 全体の流れ"
   ]
  },
  {
   "cell_type": "markdown",
   "metadata": {},
   "source": [
    "1. スクレイピング\n",
    "2. 形態素解析(MeCab)\n",
    "3. nlplot"
   ]
  },
  {
   "cell_type": "markdown",
   "metadata": {},
   "source": [
    "# 1. スクレイピング"
   ]
  },
  {
   "cell_type": "code",
   "execution_count": null,
   "metadata": {},
   "outputs": [],
   "source": [
    "! pip install selenium"
   ]
  },
  {
   "cell_type": "code",
   "execution_count": 60,
   "metadata": {},
   "outputs": [],
   "source": [
    "import json\n",
    "import re\n",
    "import time\n",
    "\n",
    "import pandas as pd\n",
    "import requests\n",
    "from bs4 import BeautifulSoup as bs4\n",
    "from selenium import webdriver\n",
    "\n",
    "base_url = 'https://www.wantedly.com'\n",
    "\n",
    "\n",
    "def scrape_path(url):\n",
    "    \"\"\"\n",
    "    ストーリー一覧ページからスペース詳細ページのURLを取得する\n",
    "\n",
    "    Parameters\n",
    "    --------------\n",
    "    url: str\n",
    "        ストーリー一覧ページのURL\n",
    "\n",
    "    Returns\n",
    "    ----------\n",
    "    path_list: list of str\n",
    "        スペース詳細ページのURLを格納したリスト\n",
    "    \"\"\"\n",
    "\n",
    "    path_list = []\n",
    "\n",
    "    response = requests.get(url)\n",
    "    soup = bs4(response.text, 'lxml')\n",
    "    time.sleep(3)\n",
    "\n",
    "    # <script data-placeholder-key=\"wtd-ssr-placeholder\"> の中身を取得\n",
    "    # json文字で、先頭の'//'を除去するため.string[3:]\n",
    "    feeds = soup.find('script', {'data-placeholder-key': 'wtd-ssr-placeholder'}).string[3:]\n",
    "    feed = json.loads(feeds)\n",
    "\n",
    "    # {'body'}の'spaces'を取得\n",
    "    feed_spaces = feed['body'][list(feed['body'].keys())[0]]['spaces']\n",
    "    for i in feed_spaces:\n",
    "        space_path = base_url + i['post_space_path']\n",
    "        path_list.append(space_path)\n",
    "\n",
    "    return path_list\n",
    "\n",
    "\n",
    "path_list = scrape_path('https://www.wantedly.com/companies/exidea/feed')\n",
    "\n",
    "\n",
    "def scrape_url(path_list):\n",
    "    \"\"\"\n",
    "    スペース詳細ページからストーリー詳細ページのURLを取得する\n",
    "\n",
    "    Parameters\n",
    "    --------------\n",
    "    path_list: list of str\n",
    "        スペース詳細ページのURLを格納したリスト\n",
    "\n",
    "    Returns\n",
    "    ----------\n",
    "    url_list: list of str\n",
    "        ストーリー詳細ページのURLを格納したリスト\n",
    "    \"\"\"\n",
    "\n",
    "    url_list = []\n",
    "\n",
    "    # chromeを起動(chromedriverはこのファイルと同じディレクトリに配置)\n",
    "    driver = webdriver.Chrome('chromedriver')\n",
    "    for feed_path in path_list:\n",
    "        driver.get(feed_path)\n",
    "\n",
    "        # ページ下部までスクロールして、これ以上スクロールできなくなったらプログラム終了\n",
    "        # スクロール前の高さ\n",
    "        last_height = driver.execute_script(\"return document.body.scrollHeight\")\n",
    "\n",
    "        while True:\n",
    "            # ページ下部までスクロール\n",
    "            driver.execute_script('window.scrollTo(0, document.body.scrollHeight);')\n",
    "\n",
    "            # Seleniumの処理が速すぎて、新たなページを読み込めないので強制待機\n",
    "            time.sleep(3)\n",
    "\n",
    "            # スクロール後の高さ\n",
    "            new_height = driver.execute_script(\"return document.body.scrollHeight\")\n",
    "\n",
    "            # last_heightがnew_heightの高さと一致するまでスクロール\n",
    "            if new_height == last_height:\n",
    "                break\n",
    "            else:\n",
    "                last_height = new_height\n",
    "                continue\n",
    "\n",
    "        soup = bs4(driver.page_source, 'lxml')\n",
    "        time.sleep(3)\n",
    "        # <div class=\"post-space-item\" >の要素を取得\n",
    "        post_space = soup.find_all('div', class_='post-content')\n",
    "        for post in post_space:\n",
    "            # <\"post-space-item\">の<a>要素を取得\n",
    "            url = base_url + post.a.get('href')\n",
    "            url_list.append(url)\n",
    "\n",
    "    url_list = list(set(url_list))\n",
    "\n",
    "    # webページを閉じる\n",
    "    driver.close()\n",
    "    return url_list\n",
    "\n",
    "\n",
    "url_list = scrape_url(path_list)\n",
    "\n",
    "\n",
    "def get_text(url_list, wrong_name, correct_name):\n",
    "    \"\"\"\n",
    "    ストーリー詳細ページからテキストを取得する\n",
    "\n",
    "    Parameters\n",
    "    --------------\n",
    "    url_list: list of str\n",
    "        ストーリー詳細ページのURLを格納したリスト\n",
    "    wrong_name: str\n",
    "        間違った社名\n",
    "    correct_name: str\n",
    "        正しい社名\n",
    "\n",
    "    Returns\n",
    "    ----------\n",
    "    text_list: list of str\n",
    "        ストーリーを格納したリスト\n",
    "    \"\"\"\n",
    "\n",
    "    text_list = []\n",
    "\n",
    "    for url in url_list:\n",
    "        response = requests.get(url)\n",
    "        soup = bs4(response.text, 'lxml')\n",
    "        time.sleep(3)\n",
    "\n",
    "        # <section class=\"article-description\" data-post-id=\"○○○○○○\">の中の<p>要素を全取得\n",
    "        articles = soup.find('section', class_='article-description').find_all('p')\n",
    "        for article in articles:\n",
    "            # 　区切り文字で分割\n",
    "            for text in re.split('[\\n!?！？。]', article.text):\n",
    "                # 前処理\n",
    "                replaced_text = text.lower()  # 小文字変換\n",
    "                replaced_text = re.sub(wrong_name, correct_name, replaced_text)  # 社名を大文字に変換\n",
    "                replaced_text = re.sub(r'https?://[\\w/:%#\\$&\\?\\(\\)~\\.=\\+\\-…]+', '', replaced_text)  # URLを除去\n",
    "                replaced_text = re.sub('[0-9]', '', replaced_text)  # 数字を除外\n",
    "                replaced_text = re.sub('[,:;-~%（）]', '', replaced_text)  # 記号を半角スペースに置き換え\n",
    "                replaced_text = re.sub('[、：；・〜％（）※「」【】（笑）]', '', replaced_text)  # 記号を半角スペースに置き換え\n",
    "                replaced_text = re.sub('　', '', replaced_text)  # \\u3000を除去\n",
    "\n",
    "                text_list.append(replaced_text)\n",
    "\n",
    "    text_list = [x for x in text_list if x != '']\n",
    "    return text_list\n",
    "\n",
    "\n",
    "text_list = get_text(url_list, 'exidea', 'EXIDEA')"
   ]
  },
  {
   "cell_type": "code",
   "execution_count": 45,
   "metadata": {},
   "outputs": [],
   "source": [
    "# csvファイルに保存\n",
    "df_text = pd.DataFrame(text_list, columns=['text'])\n",
    "df_text.to_csv('post_articles.csv', index=False)"
   ]
  },
  {
   "cell_type": "markdown",
   "metadata": {},
   "source": [
    "# 2. 形態素解析"
   ]
  },
  {
   "cell_type": "code",
   "execution_count": 15,
   "metadata": {},
   "outputs": [
    {
     "name": "stdout",
     "output_type": "stream",
     "text": [
      "(6141, 1)\n"
     ]
    },
    {
     "data": {
      "text/html": [
       "<div>\n",
       "<style scoped>\n",
       "    .dataframe tbody tr th:only-of-type {\n",
       "        vertical-align: middle;\n",
       "    }\n",
       "\n",
       "    .dataframe tbody tr th {\n",
       "        vertical-align: top;\n",
       "    }\n",
       "\n",
       "    .dataframe thead th {\n",
       "        text-align: right;\n",
       "    }\n",
       "</style>\n",
       "<table border=\"1\" class=\"dataframe\">\n",
       "  <thead>\n",
       "    <tr style=\"text-align: right;\">\n",
       "      <th></th>\n",
       "      <th>text</th>\n",
       "    </tr>\n",
       "  </thead>\n",
       "  <tbody>\n",
       "    <tr>\n",
       "      <th>0</th>\n",
       "      <td>こんにちは</td>\n",
       "    </tr>\n",
       "    <tr>\n",
       "      <th>1</th>\n",
       "      <td>メディアグロース事業部の釜池です</td>\n",
       "    </tr>\n",
       "    <tr>\n",
       "      <th>2</th>\n",
       "      <td>昨今は外出自粛要請のため窮屈な毎日を送られている方も多いでしょう</td>\n",
       "    </tr>\n",
       "    <tr>\n",
       "      <th>3</th>\n",
       "      <td>私も半分缶詰状態にあるので少々息苦しく感じるときもあります</td>\n",
       "    </tr>\n",
       "    <tr>\n",
       "      <th>4</th>\n",
       "      <td>早くこの時期を脱せるようみんなでがんばっていきましょうね</td>\n",
       "    </tr>\n",
       "  </tbody>\n",
       "</table>\n",
       "</div>"
      ],
      "text/plain": [
       "                               text\n",
       "0                             こんにちは\n",
       "1                  メディアグロース事業部の釜池です\n",
       "2  昨今は外出自粛要請のため窮屈な毎日を送られている方も多いでしょう\n",
       "3     私も半分缶詰状態にあるので少々息苦しく感じるときもあります\n",
       "4      早くこの時期を脱せるようみんなでがんばっていきましょうね"
      ]
     },
     "execution_count": 15,
     "metadata": {},
     "output_type": "execute_result"
    }
   ],
   "source": [
    "df = pd.read_csv('post_articles.csv')\n",
    "\n",
    "print(df.shape)\n",
    "df.head()"
   ]
  },
  {
   "cell_type": "code",
   "execution_count": 18,
   "metadata": {},
   "outputs": [],
   "source": [
    "import MeCab\n",
    "\n",
    "def download_slothlib():\n",
    "    \"\"\"\n",
    "    SlothLibを読み込み、ストップワードを作成\n",
    "\n",
    "    Returns\n",
    "    ----------\n",
    "    slothlib_stopwords: list of str\n",
    "        ストップワードを格納したリスト\n",
    "    \"\"\"\n",
    "\n",
    "    slothlib_path = 'http://svn.sourceforge.jp/svnroot/slothlib/CSharp/Version1/SlothLib/NLP/Filter/StopWord/word/Japanese.txt'\n",
    "    response = requests.get(slothlib_path)\n",
    "    soup = bs4(response.content, 'html.parser')\n",
    "    slothlib_stopwords = [line.strip() for line in soup]\n",
    "    slothlib_stopwords = slothlib_stopwords[0].split('\\r\\n')\n",
    "    slothlib_stopwords = [x for x in slothlib_stopwords if x != '']\n",
    "    return slothlib_stopwords\n",
    "\n",
    "\n",
    "stopwords = download_slothlib()\n",
    "\n",
    "\n",
    "def add_stopwords():\n",
    "    \"\"\"\n",
    "    stopwordsにストップワードを追加\n",
    "\n",
    "    Returns\n",
    "    ----------\n",
    "    stopwords: list of str\n",
    "        ストップワードを格納したリスト\n",
    "    \"\"\"\n",
    "\n",
    "    add_words = ['ご覧', '社', '是非', 'ぜひ', 'お話', '弊社', '人間', 'いただき', '記事', '以外', 'ん', 'の', 'め', 'さ', 'こう']\n",
    "    stopwords.extend(add_words)\n",
    "    return stopwords\n",
    "\n",
    "\n",
    "stopwords = add_stopwords()\n",
    "\n",
    "\n",
    "def tokenize_text(text):\n",
    "    \"\"\"\n",
    "    形態素解析をして名詞のみを抽出\n",
    "\n",
    "    Parameters\n",
    "    --------------\n",
    "    text: str\n",
    "        dataframeに格納したテキスト\n",
    "\n",
    "    Returns\n",
    "    ----------\n",
    "    nons_list: list of str\n",
    "        形態素解析して名詞のみを格納したリスト\n",
    "    \"\"\"\n",
    "\n",
    "    # ユーザー辞書とneologd辞書が保存されたディレクトリを指定\n",
    "    tagger = MeCab.Tagger(\n",
    "        '-d /Users/*/opt/mecab/lib/mecab/dic/mecab-ipadic-neologd -u /Users/*/opt/mecab/lib/mecab/dic/userdic/userdic.dic')\n",
    "    node = tagger.parseToNode(text)\n",
    "    nons_list = []\n",
    "    while node:\n",
    "        if node.feature.split(',')[0] in ['名詞'] and node.surface not in stopwords:\n",
    "            nons_list.append(node.surface)\n",
    "        node = node.next\n",
    "    return nons_list\n",
    "\n",
    "\n",
    "df['words'] = df['text'].apply(tokenize_text)"
   ]
  },
  {
   "cell_type": "code",
   "execution_count": 19,
   "metadata": {},
   "outputs": [
    {
     "data": {
      "text/html": [
       "<div>\n",
       "<style scoped>\n",
       "    .dataframe tbody tr th:only-of-type {\n",
       "        vertical-align: middle;\n",
       "    }\n",
       "\n",
       "    .dataframe tbody tr th {\n",
       "        vertical-align: top;\n",
       "    }\n",
       "\n",
       "    .dataframe thead th {\n",
       "        text-align: right;\n",
       "    }\n",
       "</style>\n",
       "<table border=\"1\" class=\"dataframe\">\n",
       "  <thead>\n",
       "    <tr style=\"text-align: right;\">\n",
       "      <th></th>\n",
       "      <th>text</th>\n",
       "      <th>words</th>\n",
       "    </tr>\n",
       "  </thead>\n",
       "  <tbody>\n",
       "    <tr>\n",
       "      <th>0</th>\n",
       "      <td>こんにちは</td>\n",
       "      <td>[]</td>\n",
       "    </tr>\n",
       "    <tr>\n",
       "      <th>1</th>\n",
       "      <td>メディアグロース事業部の釜池です</td>\n",
       "      <td>[メディアグロース事業部, 釜池]</td>\n",
       "    </tr>\n",
       "    <tr>\n",
       "      <th>2</th>\n",
       "      <td>昨今は外出自粛要請のため窮屈な毎日を送られている方も多いでしょう</td>\n",
       "      <td>[昨今, 外出自粛, 要請, 窮屈]</td>\n",
       "    </tr>\n",
       "    <tr>\n",
       "      <th>3</th>\n",
       "      <td>私も半分缶詰状態にあるので少々息苦しく感じるときもあります</td>\n",
       "      <td>[半分, 缶詰, 状態]</td>\n",
       "    </tr>\n",
       "    <tr>\n",
       "      <th>4</th>\n",
       "      <td>早くこの時期を脱せるようみんなでがんばっていきましょうね</td>\n",
       "      <td>[時期]</td>\n",
       "    </tr>\n",
       "  </tbody>\n",
       "</table>\n",
       "</div>"
      ],
      "text/plain": [
       "                               text               words\n",
       "0                             こんにちは                  []\n",
       "1                  メディアグロース事業部の釜池です   [メディアグロース事業部, 釜池]\n",
       "2  昨今は外出自粛要請のため窮屈な毎日を送られている方も多いでしょう  [昨今, 外出自粛, 要請, 窮屈]\n",
       "3     私も半分缶詰状態にあるので少々息苦しく感じるときもあります        [半分, 缶詰, 状態]\n",
       "4      早くこの時期を脱せるようみんなでがんばっていきましょうね                [時期]"
      ]
     },
     "execution_count": 19,
     "metadata": {},
     "output_type": "execute_result"
    }
   ],
   "source": [
    "df.head()"
   ]
  },
  {
   "cell_type": "markdown",
   "metadata": {},
   "source": [
    "# 3. nlplot"
   ]
  },
  {
   "cell_type": "code",
   "execution_count": 13,
   "metadata": {},
   "outputs": [],
   "source": [
    "! pip install nlplot"
   ]
  },
  {
   "cell_type": "markdown",
   "metadata": {},
   "source": [
    "## 3-1. uni-gram"
   ]
  },
  {
   "cell_type": "code",
   "execution_count": 99,
   "metadata": {},
   "outputs": [
    {
     "name": "stderr",
     "output_type": "stream",
     "text": [
      "100%|██████████| 6141/6141 [00:00<00:00, 212432.44it/s]\n"
     ]
    },
    {
     "data": {
      "application/vnd.plotly.v1+json": {
       "config": {
        "plotlyServerURL": "https://plot.ly"
       },
       "data": [
        {
         "alignmentgroup": "True",
         "hovertemplate": "word_count=%{text}<br>word=%{y}<extra></extra>",
         "legendgroup": "",
         "marker": {},
         "name": "",
         "offsetgroup": "",
         "orientation": "h",
         "showlegend": false,
         "text": [
          56,
          57,
          57,
          58,
          62,
          62,
          63,
          63,
          64,
          65,
          67,
          67,
          67,
          68,
          69,
          71,
          71,
          72,
          73,
          73,
          75,
          77,
          78,
          78,
          79,
          80,
          81,
          83,
          83,
          84,
          84,
          86,
          88,
          88,
          91,
          94,
          98,
          101,
          102,
          108,
          112,
          120,
          129,
          134,
          138,
          161,
          171,
          204,
          208,
          312
         ],
         "textposition": "auto",
         "texttemplate": "%{text:.2s}",
         "type": "bar",
         "x": [
          56,
          57,
          57,
          58,
          62,
          62,
          63,
          63,
          64,
          65,
          67,
          67,
          67,
          68,
          69,
          71,
          71,
          72,
          73,
          73,
          75,
          77,
          78,
          78,
          79,
          80,
          81,
          83,
          83,
          84,
          84,
          86,
          88,
          88,
          91,
          94,
          98,
          101,
          102,
          108,
          112,
          120,
          129,
          134,
          138,
          161,
          171,
          204,
          208,
          312
         ],
         "xaxis": "x",
         "y": [
          "動画",
          "インターン生",
          "私たち",
          "実施",
          "機会",
          "広告",
          "未経験",
          "最後",
          "興味",
          "社会",
          "コアバリュー",
          "日本",
          "業務",
          "仲間",
          "結果",
          "インタビュー",
          "リモートワーク",
          "コンテンツ",
          "オフィス",
          "社長",
          "家族",
          "参加",
          "サービス",
          "ユーザー",
          "必要",
          "貢献",
          "チーム",
          "スキル",
          "世の中",
          "幸せ",
          "価値",
          "情報",
          "思い",
          "大事",
          "紹介",
          "大切",
          "環境",
          "社員",
          "経験",
          "事業",
          "メディア",
          "人生",
          "インターン",
          "企業",
          "僕",
          "成長",
          "世界",
          "マーケティング",
          "入社",
          "メンバー"
         ],
         "yaxis": "y"
        }
       ],
       "layout": {
        "barmode": "relative",
        "height": 1100,
        "legend": {
         "tracegroupgap": 0
        },
        "margin": {
         "t": 60
        },
        "template": {
         "data": {
          "bar": [
           {
            "error_x": {
             "color": "#2a3f5f"
            },
            "error_y": {
             "color": "#2a3f5f"
            },
            "marker": {
             "line": {
              "color": "#E5ECF6",
              "width": 0.5
             }
            },
            "type": "bar"
           }
          ],
          "barpolar": [
           {
            "marker": {
             "line": {
              "color": "#E5ECF6",
              "width": 0.5
             }
            },
            "type": "barpolar"
           }
          ],
          "carpet": [
           {
            "aaxis": {
             "endlinecolor": "#2a3f5f",
             "gridcolor": "white",
             "linecolor": "white",
             "minorgridcolor": "white",
             "startlinecolor": "#2a3f5f"
            },
            "baxis": {
             "endlinecolor": "#2a3f5f",
             "gridcolor": "white",
             "linecolor": "white",
             "minorgridcolor": "white",
             "startlinecolor": "#2a3f5f"
            },
            "type": "carpet"
           }
          ],
          "choropleth": [
           {
            "colorbar": {
             "outlinewidth": 0,
             "ticks": ""
            },
            "type": "choropleth"
           }
          ],
          "contour": [
           {
            "colorbar": {
             "outlinewidth": 0,
             "ticks": ""
            },
            "colorscale": [
             [
              0,
              "#0d0887"
             ],
             [
              0.1111111111111111,
              "#46039f"
             ],
             [
              0.2222222222222222,
              "#7201a8"
             ],
             [
              0.3333333333333333,
              "#9c179e"
             ],
             [
              0.4444444444444444,
              "#bd3786"
             ],
             [
              0.5555555555555556,
              "#d8576b"
             ],
             [
              0.6666666666666666,
              "#ed7953"
             ],
             [
              0.7777777777777778,
              "#fb9f3a"
             ],
             [
              0.8888888888888888,
              "#fdca26"
             ],
             [
              1,
              "#f0f921"
             ]
            ],
            "type": "contour"
           }
          ],
          "contourcarpet": [
           {
            "colorbar": {
             "outlinewidth": 0,
             "ticks": ""
            },
            "type": "contourcarpet"
           }
          ],
          "heatmap": [
           {
            "colorbar": {
             "outlinewidth": 0,
             "ticks": ""
            },
            "colorscale": [
             [
              0,
              "#0d0887"
             ],
             [
              0.1111111111111111,
              "#46039f"
             ],
             [
              0.2222222222222222,
              "#7201a8"
             ],
             [
              0.3333333333333333,
              "#9c179e"
             ],
             [
              0.4444444444444444,
              "#bd3786"
             ],
             [
              0.5555555555555556,
              "#d8576b"
             ],
             [
              0.6666666666666666,
              "#ed7953"
             ],
             [
              0.7777777777777778,
              "#fb9f3a"
             ],
             [
              0.8888888888888888,
              "#fdca26"
             ],
             [
              1,
              "#f0f921"
             ]
            ],
            "type": "heatmap"
           }
          ],
          "heatmapgl": [
           {
            "colorbar": {
             "outlinewidth": 0,
             "ticks": ""
            },
            "colorscale": [
             [
              0,
              "#0d0887"
             ],
             [
              0.1111111111111111,
              "#46039f"
             ],
             [
              0.2222222222222222,
              "#7201a8"
             ],
             [
              0.3333333333333333,
              "#9c179e"
             ],
             [
              0.4444444444444444,
              "#bd3786"
             ],
             [
              0.5555555555555556,
              "#d8576b"
             ],
             [
              0.6666666666666666,
              "#ed7953"
             ],
             [
              0.7777777777777778,
              "#fb9f3a"
             ],
             [
              0.8888888888888888,
              "#fdca26"
             ],
             [
              1,
              "#f0f921"
             ]
            ],
            "type": "heatmapgl"
           }
          ],
          "histogram": [
           {
            "marker": {
             "colorbar": {
              "outlinewidth": 0,
              "ticks": ""
             }
            },
            "type": "histogram"
           }
          ],
          "histogram2d": [
           {
            "colorbar": {
             "outlinewidth": 0,
             "ticks": ""
            },
            "colorscale": [
             [
              0,
              "#0d0887"
             ],
             [
              0.1111111111111111,
              "#46039f"
             ],
             [
              0.2222222222222222,
              "#7201a8"
             ],
             [
              0.3333333333333333,
              "#9c179e"
             ],
             [
              0.4444444444444444,
              "#bd3786"
             ],
             [
              0.5555555555555556,
              "#d8576b"
             ],
             [
              0.6666666666666666,
              "#ed7953"
             ],
             [
              0.7777777777777778,
              "#fb9f3a"
             ],
             [
              0.8888888888888888,
              "#fdca26"
             ],
             [
              1,
              "#f0f921"
             ]
            ],
            "type": "histogram2d"
           }
          ],
          "histogram2dcontour": [
           {
            "colorbar": {
             "outlinewidth": 0,
             "ticks": ""
            },
            "colorscale": [
             [
              0,
              "#0d0887"
             ],
             [
              0.1111111111111111,
              "#46039f"
             ],
             [
              0.2222222222222222,
              "#7201a8"
             ],
             [
              0.3333333333333333,
              "#9c179e"
             ],
             [
              0.4444444444444444,
              "#bd3786"
             ],
             [
              0.5555555555555556,
              "#d8576b"
             ],
             [
              0.6666666666666666,
              "#ed7953"
             ],
             [
              0.7777777777777778,
              "#fb9f3a"
             ],
             [
              0.8888888888888888,
              "#fdca26"
             ],
             [
              1,
              "#f0f921"
             ]
            ],
            "type": "histogram2dcontour"
           }
          ],
          "mesh3d": [
           {
            "colorbar": {
             "outlinewidth": 0,
             "ticks": ""
            },
            "type": "mesh3d"
           }
          ],
          "parcoords": [
           {
            "line": {
             "colorbar": {
              "outlinewidth": 0,
              "ticks": ""
             }
            },
            "type": "parcoords"
           }
          ],
          "pie": [
           {
            "automargin": true,
            "type": "pie"
           }
          ],
          "scatter": [
           {
            "marker": {
             "colorbar": {
              "outlinewidth": 0,
              "ticks": ""
             }
            },
            "type": "scatter"
           }
          ],
          "scatter3d": [
           {
            "line": {
             "colorbar": {
              "outlinewidth": 0,
              "ticks": ""
             }
            },
            "marker": {
             "colorbar": {
              "outlinewidth": 0,
              "ticks": ""
             }
            },
            "type": "scatter3d"
           }
          ],
          "scattercarpet": [
           {
            "marker": {
             "colorbar": {
              "outlinewidth": 0,
              "ticks": ""
             }
            },
            "type": "scattercarpet"
           }
          ],
          "scattergeo": [
           {
            "marker": {
             "colorbar": {
              "outlinewidth": 0,
              "ticks": ""
             }
            },
            "type": "scattergeo"
           }
          ],
          "scattergl": [
           {
            "marker": {
             "colorbar": {
              "outlinewidth": 0,
              "ticks": ""
             }
            },
            "type": "scattergl"
           }
          ],
          "scattermapbox": [
           {
            "marker": {
             "colorbar": {
              "outlinewidth": 0,
              "ticks": ""
             }
            },
            "type": "scattermapbox"
           }
          ],
          "scatterpolar": [
           {
            "marker": {
             "colorbar": {
              "outlinewidth": 0,
              "ticks": ""
             }
            },
            "type": "scatterpolar"
           }
          ],
          "scatterpolargl": [
           {
            "marker": {
             "colorbar": {
              "outlinewidth": 0,
              "ticks": ""
             }
            },
            "type": "scatterpolargl"
           }
          ],
          "scatterternary": [
           {
            "marker": {
             "colorbar": {
              "outlinewidth": 0,
              "ticks": ""
             }
            },
            "type": "scatterternary"
           }
          ],
          "surface": [
           {
            "colorbar": {
             "outlinewidth": 0,
             "ticks": ""
            },
            "colorscale": [
             [
              0,
              "#0d0887"
             ],
             [
              0.1111111111111111,
              "#46039f"
             ],
             [
              0.2222222222222222,
              "#7201a8"
             ],
             [
              0.3333333333333333,
              "#9c179e"
             ],
             [
              0.4444444444444444,
              "#bd3786"
             ],
             [
              0.5555555555555556,
              "#d8576b"
             ],
             [
              0.6666666666666666,
              "#ed7953"
             ],
             [
              0.7777777777777778,
              "#fb9f3a"
             ],
             [
              0.8888888888888888,
              "#fdca26"
             ],
             [
              1,
              "#f0f921"
             ]
            ],
            "type": "surface"
           }
          ],
          "table": [
           {
            "cells": {
             "fill": {
              "color": "#EBF0F8"
             },
             "line": {
              "color": "white"
             }
            },
            "header": {
             "fill": {
              "color": "#C8D4E3"
             },
             "line": {
              "color": "white"
             }
            },
            "type": "table"
           }
          ]
         },
         "layout": {
          "annotationdefaults": {
           "arrowcolor": "#2a3f5f",
           "arrowhead": 0,
           "arrowwidth": 1
          },
          "coloraxis": {
           "colorbar": {
            "outlinewidth": 0,
            "ticks": ""
           }
          },
          "colorscale": {
           "diverging": [
            [
             0,
             "#8e0152"
            ],
            [
             0.1,
             "#c51b7d"
            ],
            [
             0.2,
             "#de77ae"
            ],
            [
             0.3,
             "#f1b6da"
            ],
            [
             0.4,
             "#fde0ef"
            ],
            [
             0.5,
             "#f7f7f7"
            ],
            [
             0.6,
             "#e6f5d0"
            ],
            [
             0.7,
             "#b8e186"
            ],
            [
             0.8,
             "#7fbc41"
            ],
            [
             0.9,
             "#4d9221"
            ],
            [
             1,
             "#276419"
            ]
           ],
           "sequential": [
            [
             0,
             "#0d0887"
            ],
            [
             0.1111111111111111,
             "#46039f"
            ],
            [
             0.2222222222222222,
             "#7201a8"
            ],
            [
             0.3333333333333333,
             "#9c179e"
            ],
            [
             0.4444444444444444,
             "#bd3786"
            ],
            [
             0.5555555555555556,
             "#d8576b"
            ],
            [
             0.6666666666666666,
             "#ed7953"
            ],
            [
             0.7777777777777778,
             "#fb9f3a"
            ],
            [
             0.8888888888888888,
             "#fdca26"
            ],
            [
             1,
             "#f0f921"
            ]
           ],
           "sequentialminus": [
            [
             0,
             "#0d0887"
            ],
            [
             0.1111111111111111,
             "#46039f"
            ],
            [
             0.2222222222222222,
             "#7201a8"
            ],
            [
             0.3333333333333333,
             "#9c179e"
            ],
            [
             0.4444444444444444,
             "#bd3786"
            ],
            [
             0.5555555555555556,
             "#d8576b"
            ],
            [
             0.6666666666666666,
             "#ed7953"
            ],
            [
             0.7777777777777778,
             "#fb9f3a"
            ],
            [
             0.8888888888888888,
             "#fdca26"
            ],
            [
             1,
             "#f0f921"
            ]
           ]
          },
          "colorway": [
           "#636efa",
           "#EF553B",
           "#00cc96",
           "#ab63fa",
           "#FFA15A",
           "#19d3f3",
           "#FF6692",
           "#B6E880",
           "#FF97FF",
           "#FECB52"
          ],
          "font": {
           "color": "#2a3f5f"
          },
          "geo": {
           "bgcolor": "white",
           "lakecolor": "white",
           "landcolor": "#E5ECF6",
           "showlakes": true,
           "showland": true,
           "subunitcolor": "white"
          },
          "hoverlabel": {
           "align": "left"
          },
          "hovermode": "closest",
          "mapbox": {
           "style": "light"
          },
          "paper_bgcolor": "white",
          "plot_bgcolor": "#E5ECF6",
          "polar": {
           "angularaxis": {
            "gridcolor": "white",
            "linecolor": "white",
            "ticks": ""
           },
           "bgcolor": "#E5ECF6",
           "radialaxis": {
            "gridcolor": "white",
            "linecolor": "white",
            "ticks": ""
           }
          },
          "scene": {
           "xaxis": {
            "backgroundcolor": "#E5ECF6",
            "gridcolor": "white",
            "gridwidth": 2,
            "linecolor": "white",
            "showbackground": true,
            "ticks": "",
            "zerolinecolor": "white"
           },
           "yaxis": {
            "backgroundcolor": "#E5ECF6",
            "gridcolor": "white",
            "gridwidth": 2,
            "linecolor": "white",
            "showbackground": true,
            "ticks": "",
            "zerolinecolor": "white"
           },
           "zaxis": {
            "backgroundcolor": "#E5ECF6",
            "gridcolor": "white",
            "gridwidth": 2,
            "linecolor": "white",
            "showbackground": true,
            "ticks": "",
            "zerolinecolor": "white"
           }
          },
          "shapedefaults": {
           "line": {
            "color": "#2a3f5f"
           }
          },
          "ternary": {
           "aaxis": {
            "gridcolor": "white",
            "linecolor": "white",
            "ticks": ""
           },
           "baxis": {
            "gridcolor": "white",
            "linecolor": "white",
            "ticks": ""
           },
           "bgcolor": "#E5ECF6",
           "caxis": {
            "gridcolor": "white",
            "linecolor": "white",
            "ticks": ""
           }
          },
          "title": {
           "x": 0.05
          },
          "xaxis": {
           "automargin": true,
           "gridcolor": "white",
           "linecolor": "white",
           "ticks": "",
           "title": {
            "standoff": 15
           },
           "zerolinecolor": "white",
           "zerolinewidth": 2
          },
          "yaxis": {
           "automargin": true,
           "gridcolor": "white",
           "linecolor": "white",
           "ticks": "",
           "title": {
            "standoff": 15
           },
           "zerolinecolor": "white",
           "zerolinewidth": 2
          }
         }
        },
        "title": {
         "text": "uni-gram"
        },
        "width": 800,
        "xaxis": {
         "anchor": "y",
         "domain": [
          0,
          1
         ],
         "title": {
          "text": "word_count"
         }
        },
        "yaxis": {
         "anchor": "x",
         "domain": [
          0,
          1
         ],
         "title": {
          "text": "word"
         }
        }
       }
      },
      "text/html": [
       "<div>\n",
       "        \n",
       "        \n",
       "            <div id=\"bbc51f2e-0acb-4cf7-91e8-b333f585f954\" class=\"plotly-graph-div\" style=\"height:1100px; width:800px;\"></div>\n",
       "            <script type=\"text/javascript\">\n",
       "                require([\"plotly\"], function(Plotly) {\n",
       "                    window.PLOTLYENV=window.PLOTLYENV || {};\n",
       "                    \n",
       "                if (document.getElementById(\"bbc51f2e-0acb-4cf7-91e8-b333f585f954\")) {\n",
       "                    Plotly.newPlot(\n",
       "                        'bbc51f2e-0acb-4cf7-91e8-b333f585f954',\n",
       "                        [{\"alignmentgroup\": \"True\", \"hovertemplate\": \"word_count=%{text}<br>word=%{y}<extra></extra>\", \"legendgroup\": \"\", \"marker\": {}, \"name\": \"\", \"offsetgroup\": \"\", \"orientation\": \"h\", \"showlegend\": false, \"text\": [56.0, 57.0, 57.0, 58.0, 62.0, 62.0, 63.0, 63.0, 64.0, 65.0, 67.0, 67.0, 67.0, 68.0, 69.0, 71.0, 71.0, 72.0, 73.0, 73.0, 75.0, 77.0, 78.0, 78.0, 79.0, 80.0, 81.0, 83.0, 83.0, 84.0, 84.0, 86.0, 88.0, 88.0, 91.0, 94.0, 98.0, 101.0, 102.0, 108.0, 112.0, 120.0, 129.0, 134.0, 138.0, 161.0, 171.0, 204.0, 208.0, 312.0], \"textposition\": \"auto\", \"texttemplate\": \"%{text:.2s}\", \"type\": \"bar\", \"x\": [56, 57, 57, 58, 62, 62, 63, 63, 64, 65, 67, 67, 67, 68, 69, 71, 71, 72, 73, 73, 75, 77, 78, 78, 79, 80, 81, 83, 83, 84, 84, 86, 88, 88, 91, 94, 98, 101, 102, 108, 112, 120, 129, 134, 138, 161, 171, 204, 208, 312], \"xaxis\": \"x\", \"y\": [\"\\u52d5\\u753b\", \"\\u30a4\\u30f3\\u30bf\\u30fc\\u30f3\\u751f\", \"\\u79c1\\u305f\\u3061\", \"\\u5b9f\\u65bd\", \"\\u6a5f\\u4f1a\", \"\\u5e83\\u544a\", \"\\u672a\\u7d4c\\u9a13\", \"\\u6700\\u5f8c\", \"\\u8208\\u5473\", \"\\u793e\\u4f1a\", \"\\u30b3\\u30a2\\u30d0\\u30ea\\u30e5\\u30fc\", \"\\u65e5\\u672c\", \"\\u696d\\u52d9\", \"\\u4ef2\\u9593\", \"\\u7d50\\u679c\", \"\\u30a4\\u30f3\\u30bf\\u30d3\\u30e5\\u30fc\", \"\\u30ea\\u30e2\\u30fc\\u30c8\\u30ef\\u30fc\\u30af\", \"\\u30b3\\u30f3\\u30c6\\u30f3\\u30c4\", \"\\u30aa\\u30d5\\u30a3\\u30b9\", \"\\u793e\\u9577\", \"\\u5bb6\\u65cf\", \"\\u53c2\\u52a0\", \"\\u30b5\\u30fc\\u30d3\\u30b9\", \"\\u30e6\\u30fc\\u30b6\\u30fc\", \"\\u5fc5\\u8981\", \"\\u8ca2\\u732e\", \"\\u30c1\\u30fc\\u30e0\", \"\\u30b9\\u30ad\\u30eb\", \"\\u4e16\\u306e\\u4e2d\", \"\\u5e78\\u305b\", \"\\u4fa1\\u5024\", \"\\u60c5\\u5831\", \"\\u601d\\u3044\", \"\\u5927\\u4e8b\", \"\\u7d39\\u4ecb\", \"\\u5927\\u5207\", \"\\u74b0\\u5883\", \"\\u793e\\u54e1\", \"\\u7d4c\\u9a13\", \"\\u4e8b\\u696d\", \"\\u30e1\\u30c7\\u30a3\\u30a2\", \"\\u4eba\\u751f\", \"\\u30a4\\u30f3\\u30bf\\u30fc\\u30f3\", \"\\u4f01\\u696d\", \"\\u50d5\", \"\\u6210\\u9577\", \"\\u4e16\\u754c\", \"\\u30de\\u30fc\\u30b1\\u30c6\\u30a3\\u30f3\\u30b0\", \"\\u5165\\u793e\", \"\\u30e1\\u30f3\\u30d0\\u30fc\"], \"yaxis\": \"y\"}],\n",
       "                        {\"barmode\": \"relative\", \"height\": 1100, \"legend\": {\"tracegroupgap\": 0}, \"margin\": {\"t\": 60}, \"template\": {\"data\": {\"bar\": [{\"error_x\": {\"color\": \"#2a3f5f\"}, \"error_y\": {\"color\": \"#2a3f5f\"}, \"marker\": {\"line\": {\"color\": \"#E5ECF6\", \"width\": 0.5}}, \"type\": \"bar\"}], \"barpolar\": [{\"marker\": {\"line\": {\"color\": \"#E5ECF6\", \"width\": 0.5}}, \"type\": \"barpolar\"}], \"carpet\": [{\"aaxis\": {\"endlinecolor\": \"#2a3f5f\", \"gridcolor\": \"white\", \"linecolor\": \"white\", \"minorgridcolor\": \"white\", \"startlinecolor\": \"#2a3f5f\"}, \"baxis\": {\"endlinecolor\": \"#2a3f5f\", \"gridcolor\": \"white\", \"linecolor\": \"white\", \"minorgridcolor\": \"white\", \"startlinecolor\": \"#2a3f5f\"}, \"type\": \"carpet\"}], \"choropleth\": [{\"colorbar\": {\"outlinewidth\": 0, \"ticks\": \"\"}, \"type\": \"choropleth\"}], \"contour\": [{\"colorbar\": {\"outlinewidth\": 0, \"ticks\": \"\"}, \"colorscale\": [[0.0, \"#0d0887\"], [0.1111111111111111, \"#46039f\"], [0.2222222222222222, \"#7201a8\"], [0.3333333333333333, \"#9c179e\"], [0.4444444444444444, \"#bd3786\"], [0.5555555555555556, \"#d8576b\"], [0.6666666666666666, \"#ed7953\"], [0.7777777777777778, \"#fb9f3a\"], [0.8888888888888888, \"#fdca26\"], [1.0, \"#f0f921\"]], \"type\": \"contour\"}], \"contourcarpet\": [{\"colorbar\": {\"outlinewidth\": 0, \"ticks\": \"\"}, \"type\": \"contourcarpet\"}], \"heatmap\": [{\"colorbar\": {\"outlinewidth\": 0, \"ticks\": \"\"}, \"colorscale\": [[0.0, \"#0d0887\"], [0.1111111111111111, \"#46039f\"], [0.2222222222222222, \"#7201a8\"], [0.3333333333333333, \"#9c179e\"], [0.4444444444444444, \"#bd3786\"], [0.5555555555555556, \"#d8576b\"], [0.6666666666666666, \"#ed7953\"], [0.7777777777777778, \"#fb9f3a\"], [0.8888888888888888, \"#fdca26\"], [1.0, \"#f0f921\"]], \"type\": \"heatmap\"}], \"heatmapgl\": [{\"colorbar\": {\"outlinewidth\": 0, \"ticks\": \"\"}, \"colorscale\": [[0.0, \"#0d0887\"], [0.1111111111111111, \"#46039f\"], [0.2222222222222222, \"#7201a8\"], [0.3333333333333333, \"#9c179e\"], [0.4444444444444444, \"#bd3786\"], [0.5555555555555556, \"#d8576b\"], [0.6666666666666666, \"#ed7953\"], [0.7777777777777778, \"#fb9f3a\"], [0.8888888888888888, \"#fdca26\"], [1.0, \"#f0f921\"]], \"type\": \"heatmapgl\"}], \"histogram\": [{\"marker\": {\"colorbar\": {\"outlinewidth\": 0, \"ticks\": \"\"}}, \"type\": \"histogram\"}], \"histogram2d\": [{\"colorbar\": {\"outlinewidth\": 0, \"ticks\": \"\"}, \"colorscale\": [[0.0, \"#0d0887\"], [0.1111111111111111, \"#46039f\"], [0.2222222222222222, \"#7201a8\"], [0.3333333333333333, \"#9c179e\"], [0.4444444444444444, \"#bd3786\"], [0.5555555555555556, \"#d8576b\"], [0.6666666666666666, \"#ed7953\"], [0.7777777777777778, \"#fb9f3a\"], [0.8888888888888888, \"#fdca26\"], [1.0, \"#f0f921\"]], \"type\": \"histogram2d\"}], \"histogram2dcontour\": [{\"colorbar\": {\"outlinewidth\": 0, \"ticks\": \"\"}, \"colorscale\": [[0.0, \"#0d0887\"], [0.1111111111111111, \"#46039f\"], [0.2222222222222222, \"#7201a8\"], [0.3333333333333333, \"#9c179e\"], [0.4444444444444444, \"#bd3786\"], [0.5555555555555556, \"#d8576b\"], [0.6666666666666666, \"#ed7953\"], [0.7777777777777778, \"#fb9f3a\"], [0.8888888888888888, \"#fdca26\"], [1.0, \"#f0f921\"]], \"type\": \"histogram2dcontour\"}], \"mesh3d\": [{\"colorbar\": {\"outlinewidth\": 0, \"ticks\": \"\"}, \"type\": \"mesh3d\"}], \"parcoords\": [{\"line\": {\"colorbar\": {\"outlinewidth\": 0, \"ticks\": \"\"}}, \"type\": \"parcoords\"}], \"pie\": [{\"automargin\": true, \"type\": \"pie\"}], \"scatter\": [{\"marker\": {\"colorbar\": {\"outlinewidth\": 0, \"ticks\": \"\"}}, \"type\": \"scatter\"}], \"scatter3d\": [{\"line\": {\"colorbar\": {\"outlinewidth\": 0, \"ticks\": \"\"}}, \"marker\": {\"colorbar\": {\"outlinewidth\": 0, \"ticks\": \"\"}}, \"type\": \"scatter3d\"}], \"scattercarpet\": [{\"marker\": {\"colorbar\": {\"outlinewidth\": 0, \"ticks\": \"\"}}, \"type\": \"scattercarpet\"}], \"scattergeo\": [{\"marker\": {\"colorbar\": {\"outlinewidth\": 0, \"ticks\": \"\"}}, \"type\": \"scattergeo\"}], \"scattergl\": [{\"marker\": {\"colorbar\": {\"outlinewidth\": 0, \"ticks\": \"\"}}, \"type\": \"scattergl\"}], \"scattermapbox\": [{\"marker\": {\"colorbar\": {\"outlinewidth\": 0, \"ticks\": \"\"}}, \"type\": \"scattermapbox\"}], \"scatterpolar\": [{\"marker\": {\"colorbar\": {\"outlinewidth\": 0, \"ticks\": \"\"}}, \"type\": \"scatterpolar\"}], \"scatterpolargl\": [{\"marker\": {\"colorbar\": {\"outlinewidth\": 0, \"ticks\": \"\"}}, \"type\": \"scatterpolargl\"}], \"scatterternary\": [{\"marker\": {\"colorbar\": {\"outlinewidth\": 0, \"ticks\": \"\"}}, \"type\": \"scatterternary\"}], \"surface\": [{\"colorbar\": {\"outlinewidth\": 0, \"ticks\": \"\"}, \"colorscale\": [[0.0, \"#0d0887\"], [0.1111111111111111, \"#46039f\"], [0.2222222222222222, \"#7201a8\"], [0.3333333333333333, \"#9c179e\"], [0.4444444444444444, \"#bd3786\"], [0.5555555555555556, \"#d8576b\"], [0.6666666666666666, \"#ed7953\"], [0.7777777777777778, \"#fb9f3a\"], [0.8888888888888888, \"#fdca26\"], [1.0, \"#f0f921\"]], \"type\": \"surface\"}], \"table\": [{\"cells\": {\"fill\": {\"color\": \"#EBF0F8\"}, \"line\": {\"color\": \"white\"}}, \"header\": {\"fill\": {\"color\": \"#C8D4E3\"}, \"line\": {\"color\": \"white\"}}, \"type\": \"table\"}]}, \"layout\": {\"annotationdefaults\": {\"arrowcolor\": \"#2a3f5f\", \"arrowhead\": 0, \"arrowwidth\": 1}, \"coloraxis\": {\"colorbar\": {\"outlinewidth\": 0, \"ticks\": \"\"}}, \"colorscale\": {\"diverging\": [[0, \"#8e0152\"], [0.1, \"#c51b7d\"], [0.2, \"#de77ae\"], [0.3, \"#f1b6da\"], [0.4, \"#fde0ef\"], [0.5, \"#f7f7f7\"], [0.6, \"#e6f5d0\"], [0.7, \"#b8e186\"], [0.8, \"#7fbc41\"], [0.9, \"#4d9221\"], [1, \"#276419\"]], \"sequential\": [[0.0, \"#0d0887\"], [0.1111111111111111, \"#46039f\"], [0.2222222222222222, \"#7201a8\"], [0.3333333333333333, \"#9c179e\"], [0.4444444444444444, \"#bd3786\"], [0.5555555555555556, \"#d8576b\"], [0.6666666666666666, \"#ed7953\"], [0.7777777777777778, \"#fb9f3a\"], [0.8888888888888888, \"#fdca26\"], [1.0, \"#f0f921\"]], \"sequentialminus\": [[0.0, \"#0d0887\"], [0.1111111111111111, \"#46039f\"], [0.2222222222222222, \"#7201a8\"], [0.3333333333333333, \"#9c179e\"], [0.4444444444444444, \"#bd3786\"], [0.5555555555555556, \"#d8576b\"], [0.6666666666666666, \"#ed7953\"], [0.7777777777777778, \"#fb9f3a\"], [0.8888888888888888, \"#fdca26\"], [1.0, \"#f0f921\"]]}, \"colorway\": [\"#636efa\", \"#EF553B\", \"#00cc96\", \"#ab63fa\", \"#FFA15A\", \"#19d3f3\", \"#FF6692\", \"#B6E880\", \"#FF97FF\", \"#FECB52\"], \"font\": {\"color\": \"#2a3f5f\"}, \"geo\": {\"bgcolor\": \"white\", \"lakecolor\": \"white\", \"landcolor\": \"#E5ECF6\", \"showlakes\": true, \"showland\": true, \"subunitcolor\": \"white\"}, \"hoverlabel\": {\"align\": \"left\"}, \"hovermode\": \"closest\", \"mapbox\": {\"style\": \"light\"}, \"paper_bgcolor\": \"white\", \"plot_bgcolor\": \"#E5ECF6\", \"polar\": {\"angularaxis\": {\"gridcolor\": \"white\", \"linecolor\": \"white\", \"ticks\": \"\"}, \"bgcolor\": \"#E5ECF6\", \"radialaxis\": {\"gridcolor\": \"white\", \"linecolor\": \"white\", \"ticks\": \"\"}}, \"scene\": {\"xaxis\": {\"backgroundcolor\": \"#E5ECF6\", \"gridcolor\": \"white\", \"gridwidth\": 2, \"linecolor\": \"white\", \"showbackground\": true, \"ticks\": \"\", \"zerolinecolor\": \"white\"}, \"yaxis\": {\"backgroundcolor\": \"#E5ECF6\", \"gridcolor\": \"white\", \"gridwidth\": 2, \"linecolor\": \"white\", \"showbackground\": true, \"ticks\": \"\", \"zerolinecolor\": \"white\"}, \"zaxis\": {\"backgroundcolor\": \"#E5ECF6\", \"gridcolor\": \"white\", \"gridwidth\": 2, \"linecolor\": \"white\", \"showbackground\": true, \"ticks\": \"\", \"zerolinecolor\": \"white\"}}, \"shapedefaults\": {\"line\": {\"color\": \"#2a3f5f\"}}, \"ternary\": {\"aaxis\": {\"gridcolor\": \"white\", \"linecolor\": \"white\", \"ticks\": \"\"}, \"baxis\": {\"gridcolor\": \"white\", \"linecolor\": \"white\", \"ticks\": \"\"}, \"bgcolor\": \"#E5ECF6\", \"caxis\": {\"gridcolor\": \"white\", \"linecolor\": \"white\", \"ticks\": \"\"}}, \"title\": {\"x\": 0.05}, \"xaxis\": {\"automargin\": true, \"gridcolor\": \"white\", \"linecolor\": \"white\", \"ticks\": \"\", \"title\": {\"standoff\": 15}, \"zerolinecolor\": \"white\", \"zerolinewidth\": 2}, \"yaxis\": {\"automargin\": true, \"gridcolor\": \"white\", \"linecolor\": \"white\", \"ticks\": \"\", \"title\": {\"standoff\": 15}, \"zerolinecolor\": \"white\", \"zerolinewidth\": 2}}}, \"title\": {\"text\": \"uni-gram\"}, \"width\": 800, \"xaxis\": {\"anchor\": \"y\", \"domain\": [0.0, 1.0], \"title\": {\"text\": \"word_count\"}}, \"yaxis\": {\"anchor\": \"x\", \"domain\": [0.0, 1.0], \"title\": {\"text\": \"word\"}}},\n",
       "                        {\"responsive\": true}\n",
       "                    ).then(function(){\n",
       "                            \n",
       "var gd = document.getElementById('bbc51f2e-0acb-4cf7-91e8-b333f585f954');\n",
       "var x = new MutationObserver(function (mutations, observer) {{\n",
       "        var display = window.getComputedStyle(gd).display;\n",
       "        if (!display || display === 'none') {{\n",
       "            console.log([gd, 'removed!']);\n",
       "            Plotly.purge(gd);\n",
       "            observer.disconnect();\n",
       "        }}\n",
       "}});\n",
       "\n",
       "// Listen for the removal of the full notebook cells\n",
       "var notebookContainer = gd.closest('#notebook-container');\n",
       "if (notebookContainer) {{\n",
       "    x.observe(notebookContainer, {childList: true});\n",
       "}}\n",
       "\n",
       "// Listen for the clearing of the current output cell\n",
       "var outputEl = gd.closest('.output');\n",
       "if (outputEl) {{\n",
       "    x.observe(outputEl, {childList: true});\n",
       "}}\n",
       "\n",
       "                        })\n",
       "                };\n",
       "                });\n",
       "            </script>\n",
       "        </div>"
      ]
     },
     "metadata": {},
     "output_type": "display_data"
    }
   ],
   "source": [
    "import nlplot\n",
    "\n",
    "npt = nlplot.NLPlot(df, taget_col='words')\n",
    "\n",
    "# top_nで頻出上位2単語, min_freqで頻出下位単語を指定\n",
    "# 上位2単語: ['会社', '仕事']\n",
    "stopwords = npt.get_stopword(top_n=2, min_freq=0)\n",
    "\n",
    "npt.bar_ngram(\n",
    "    title='uni-gram',\n",
    "    xaxis_label='word_count',\n",
    "    yaxis_label='word',\n",
    "    ngram=1,\n",
    "    top_n=50,\n",
    "    stopwords=stopwords,\n",
    "    save=True\n",
    ")"
   ]
  },
  {
   "cell_type": "markdown",
   "metadata": {},
   "source": [
    "## 3-2. bi-gram"
   ]
  },
  {
   "cell_type": "code",
   "execution_count": 100,
   "metadata": {},
   "outputs": [
    {
     "name": "stderr",
     "output_type": "stream",
     "text": [
      "100%|██████████| 6141/6141 [00:00<00:00, 175552.38it/s]\n"
     ]
    },
    {
     "data": {
      "application/vnd.plotly.v1+json": {
       "config": {
        "plotlyServerURL": "https://plot.ly"
       },
       "data": [
        {
         "alignmentgroup": "True",
         "hovertemplate": "word_count=%{text}<br>word=%{y}<extra></extra>",
         "legendgroup": "",
         "marker": {},
         "name": "",
         "offsetgroup": "",
         "orientation": "h",
         "showlegend": false,
         "text": [
          8,
          8,
          8,
          8,
          8,
          8,
          9,
          9,
          9,
          9,
          9,
          9,
          9,
          9,
          9,
          10,
          10,
          10,
          10,
          10,
          10,
          10,
          10,
          10,
          10,
          11,
          11,
          12,
          12,
          12,
          12,
          12,
          13,
          13,
          13,
          13,
          13,
          13,
          14,
          14,
          14,
          14,
          15,
          15,
          15,
          16,
          16,
          17,
          18,
          38
         ],
         "textposition": "auto",
         "texttemplate": "%{text:.2s}",
         "type": "bar",
         "x": [
          8,
          8,
          8,
          8,
          8,
          8,
          9,
          9,
          9,
          9,
          9,
          9,
          9,
          9,
          9,
          10,
          10,
          10,
          10,
          10,
          10,
          10,
          10,
          10,
          10,
          11,
          11,
          12,
          12,
          12,
          12,
          12,
          13,
          13,
          13,
          13,
          13,
          13,
          14,
          14,
          14,
          14,
          15,
          15,
          15,
          16,
          16,
          17,
          18,
          38
         ],
         "xaxis": "x",
         "y": [
          "入社 当初",
          "マーケティング カンファレンス",
          "インターン 経験",
          "実感 瞬間",
          "社長 ランチ",
          "ミッション ビジョン",
          "ミートアップ 参加",
          "在宅 勤務",
          "１ ひとり",
          "経済 豊か",
          "メディア グロースハッカー",
          "新型コロナ 影響",
          "開催 気軽",
          "コアバリュー 大切",
          "純粋 思い",
          "サービス 紹介動画",
          "気軽 参加",
          "世界 最先端",
          "カンファレンス 参加",
          "本物 情報",
          "社会 貢献",
          "コミュニケーションデザイン 山本",
          "コンテンツ マーケティング",
          "検索 結果",
          "オンライン 座談",
          "マーケティング 未経験",
          "スキル 身",
          "事業部 未経験",
          "事業 成長",
          "代表 小川",
          "最先端 マーケティング",
          "海外 研修",
          "地球 貢献",
          "予定 オンライン",
          "オンライン カジュアル面談",
          "カジュアル面談 実施",
          "実施 気軽",
          "ハロウィン パーティ",
          "最高 インターン",
          "世の中 貢献",
          "コンテンツ 作成",
          "心理的 安全性",
          "今後 キャリア",
          "未経験 入社",
          "メディア 事業",
          "社会 地球",
          "価値 提供",
          "成長 実感",
          "人生 グラフ",
          "メンバー インタビュー"
         ],
         "yaxis": "y"
        }
       ],
       "layout": {
        "barmode": "relative",
        "height": 1100,
        "legend": {
         "tracegroupgap": 0
        },
        "margin": {
         "t": 60
        },
        "template": {
         "data": {
          "bar": [
           {
            "error_x": {
             "color": "#2a3f5f"
            },
            "error_y": {
             "color": "#2a3f5f"
            },
            "marker": {
             "line": {
              "color": "#E5ECF6",
              "width": 0.5
             }
            },
            "type": "bar"
           }
          ],
          "barpolar": [
           {
            "marker": {
             "line": {
              "color": "#E5ECF6",
              "width": 0.5
             }
            },
            "type": "barpolar"
           }
          ],
          "carpet": [
           {
            "aaxis": {
             "endlinecolor": "#2a3f5f",
             "gridcolor": "white",
             "linecolor": "white",
             "minorgridcolor": "white",
             "startlinecolor": "#2a3f5f"
            },
            "baxis": {
             "endlinecolor": "#2a3f5f",
             "gridcolor": "white",
             "linecolor": "white",
             "minorgridcolor": "white",
             "startlinecolor": "#2a3f5f"
            },
            "type": "carpet"
           }
          ],
          "choropleth": [
           {
            "colorbar": {
             "outlinewidth": 0,
             "ticks": ""
            },
            "type": "choropleth"
           }
          ],
          "contour": [
           {
            "colorbar": {
             "outlinewidth": 0,
             "ticks": ""
            },
            "colorscale": [
             [
              0,
              "#0d0887"
             ],
             [
              0.1111111111111111,
              "#46039f"
             ],
             [
              0.2222222222222222,
              "#7201a8"
             ],
             [
              0.3333333333333333,
              "#9c179e"
             ],
             [
              0.4444444444444444,
              "#bd3786"
             ],
             [
              0.5555555555555556,
              "#d8576b"
             ],
             [
              0.6666666666666666,
              "#ed7953"
             ],
             [
              0.7777777777777778,
              "#fb9f3a"
             ],
             [
              0.8888888888888888,
              "#fdca26"
             ],
             [
              1,
              "#f0f921"
             ]
            ],
            "type": "contour"
           }
          ],
          "contourcarpet": [
           {
            "colorbar": {
             "outlinewidth": 0,
             "ticks": ""
            },
            "type": "contourcarpet"
           }
          ],
          "heatmap": [
           {
            "colorbar": {
             "outlinewidth": 0,
             "ticks": ""
            },
            "colorscale": [
             [
              0,
              "#0d0887"
             ],
             [
              0.1111111111111111,
              "#46039f"
             ],
             [
              0.2222222222222222,
              "#7201a8"
             ],
             [
              0.3333333333333333,
              "#9c179e"
             ],
             [
              0.4444444444444444,
              "#bd3786"
             ],
             [
              0.5555555555555556,
              "#d8576b"
             ],
             [
              0.6666666666666666,
              "#ed7953"
             ],
             [
              0.7777777777777778,
              "#fb9f3a"
             ],
             [
              0.8888888888888888,
              "#fdca26"
             ],
             [
              1,
              "#f0f921"
             ]
            ],
            "type": "heatmap"
           }
          ],
          "heatmapgl": [
           {
            "colorbar": {
             "outlinewidth": 0,
             "ticks": ""
            },
            "colorscale": [
             [
              0,
              "#0d0887"
             ],
             [
              0.1111111111111111,
              "#46039f"
             ],
             [
              0.2222222222222222,
              "#7201a8"
             ],
             [
              0.3333333333333333,
              "#9c179e"
             ],
             [
              0.4444444444444444,
              "#bd3786"
             ],
             [
              0.5555555555555556,
              "#d8576b"
             ],
             [
              0.6666666666666666,
              "#ed7953"
             ],
             [
              0.7777777777777778,
              "#fb9f3a"
             ],
             [
              0.8888888888888888,
              "#fdca26"
             ],
             [
              1,
              "#f0f921"
             ]
            ],
            "type": "heatmapgl"
           }
          ],
          "histogram": [
           {
            "marker": {
             "colorbar": {
              "outlinewidth": 0,
              "ticks": ""
             }
            },
            "type": "histogram"
           }
          ],
          "histogram2d": [
           {
            "colorbar": {
             "outlinewidth": 0,
             "ticks": ""
            },
            "colorscale": [
             [
              0,
              "#0d0887"
             ],
             [
              0.1111111111111111,
              "#46039f"
             ],
             [
              0.2222222222222222,
              "#7201a8"
             ],
             [
              0.3333333333333333,
              "#9c179e"
             ],
             [
              0.4444444444444444,
              "#bd3786"
             ],
             [
              0.5555555555555556,
              "#d8576b"
             ],
             [
              0.6666666666666666,
              "#ed7953"
             ],
             [
              0.7777777777777778,
              "#fb9f3a"
             ],
             [
              0.8888888888888888,
              "#fdca26"
             ],
             [
              1,
              "#f0f921"
             ]
            ],
            "type": "histogram2d"
           }
          ],
          "histogram2dcontour": [
           {
            "colorbar": {
             "outlinewidth": 0,
             "ticks": ""
            },
            "colorscale": [
             [
              0,
              "#0d0887"
             ],
             [
              0.1111111111111111,
              "#46039f"
             ],
             [
              0.2222222222222222,
              "#7201a8"
             ],
             [
              0.3333333333333333,
              "#9c179e"
             ],
             [
              0.4444444444444444,
              "#bd3786"
             ],
             [
              0.5555555555555556,
              "#d8576b"
             ],
             [
              0.6666666666666666,
              "#ed7953"
             ],
             [
              0.7777777777777778,
              "#fb9f3a"
             ],
             [
              0.8888888888888888,
              "#fdca26"
             ],
             [
              1,
              "#f0f921"
             ]
            ],
            "type": "histogram2dcontour"
           }
          ],
          "mesh3d": [
           {
            "colorbar": {
             "outlinewidth": 0,
             "ticks": ""
            },
            "type": "mesh3d"
           }
          ],
          "parcoords": [
           {
            "line": {
             "colorbar": {
              "outlinewidth": 0,
              "ticks": ""
             }
            },
            "type": "parcoords"
           }
          ],
          "pie": [
           {
            "automargin": true,
            "type": "pie"
           }
          ],
          "scatter": [
           {
            "marker": {
             "colorbar": {
              "outlinewidth": 0,
              "ticks": ""
             }
            },
            "type": "scatter"
           }
          ],
          "scatter3d": [
           {
            "line": {
             "colorbar": {
              "outlinewidth": 0,
              "ticks": ""
             }
            },
            "marker": {
             "colorbar": {
              "outlinewidth": 0,
              "ticks": ""
             }
            },
            "type": "scatter3d"
           }
          ],
          "scattercarpet": [
           {
            "marker": {
             "colorbar": {
              "outlinewidth": 0,
              "ticks": ""
             }
            },
            "type": "scattercarpet"
           }
          ],
          "scattergeo": [
           {
            "marker": {
             "colorbar": {
              "outlinewidth": 0,
              "ticks": ""
             }
            },
            "type": "scattergeo"
           }
          ],
          "scattergl": [
           {
            "marker": {
             "colorbar": {
              "outlinewidth": 0,
              "ticks": ""
             }
            },
            "type": "scattergl"
           }
          ],
          "scattermapbox": [
           {
            "marker": {
             "colorbar": {
              "outlinewidth": 0,
              "ticks": ""
             }
            },
            "type": "scattermapbox"
           }
          ],
          "scatterpolar": [
           {
            "marker": {
             "colorbar": {
              "outlinewidth": 0,
              "ticks": ""
             }
            },
            "type": "scatterpolar"
           }
          ],
          "scatterpolargl": [
           {
            "marker": {
             "colorbar": {
              "outlinewidth": 0,
              "ticks": ""
             }
            },
            "type": "scatterpolargl"
           }
          ],
          "scatterternary": [
           {
            "marker": {
             "colorbar": {
              "outlinewidth": 0,
              "ticks": ""
             }
            },
            "type": "scatterternary"
           }
          ],
          "surface": [
           {
            "colorbar": {
             "outlinewidth": 0,
             "ticks": ""
            },
            "colorscale": [
             [
              0,
              "#0d0887"
             ],
             [
              0.1111111111111111,
              "#46039f"
             ],
             [
              0.2222222222222222,
              "#7201a8"
             ],
             [
              0.3333333333333333,
              "#9c179e"
             ],
             [
              0.4444444444444444,
              "#bd3786"
             ],
             [
              0.5555555555555556,
              "#d8576b"
             ],
             [
              0.6666666666666666,
              "#ed7953"
             ],
             [
              0.7777777777777778,
              "#fb9f3a"
             ],
             [
              0.8888888888888888,
              "#fdca26"
             ],
             [
              1,
              "#f0f921"
             ]
            ],
            "type": "surface"
           }
          ],
          "table": [
           {
            "cells": {
             "fill": {
              "color": "#EBF0F8"
             },
             "line": {
              "color": "white"
             }
            },
            "header": {
             "fill": {
              "color": "#C8D4E3"
             },
             "line": {
              "color": "white"
             }
            },
            "type": "table"
           }
          ]
         },
         "layout": {
          "annotationdefaults": {
           "arrowcolor": "#2a3f5f",
           "arrowhead": 0,
           "arrowwidth": 1
          },
          "coloraxis": {
           "colorbar": {
            "outlinewidth": 0,
            "ticks": ""
           }
          },
          "colorscale": {
           "diverging": [
            [
             0,
             "#8e0152"
            ],
            [
             0.1,
             "#c51b7d"
            ],
            [
             0.2,
             "#de77ae"
            ],
            [
             0.3,
             "#f1b6da"
            ],
            [
             0.4,
             "#fde0ef"
            ],
            [
             0.5,
             "#f7f7f7"
            ],
            [
             0.6,
             "#e6f5d0"
            ],
            [
             0.7,
             "#b8e186"
            ],
            [
             0.8,
             "#7fbc41"
            ],
            [
             0.9,
             "#4d9221"
            ],
            [
             1,
             "#276419"
            ]
           ],
           "sequential": [
            [
             0,
             "#0d0887"
            ],
            [
             0.1111111111111111,
             "#46039f"
            ],
            [
             0.2222222222222222,
             "#7201a8"
            ],
            [
             0.3333333333333333,
             "#9c179e"
            ],
            [
             0.4444444444444444,
             "#bd3786"
            ],
            [
             0.5555555555555556,
             "#d8576b"
            ],
            [
             0.6666666666666666,
             "#ed7953"
            ],
            [
             0.7777777777777778,
             "#fb9f3a"
            ],
            [
             0.8888888888888888,
             "#fdca26"
            ],
            [
             1,
             "#f0f921"
            ]
           ],
           "sequentialminus": [
            [
             0,
             "#0d0887"
            ],
            [
             0.1111111111111111,
             "#46039f"
            ],
            [
             0.2222222222222222,
             "#7201a8"
            ],
            [
             0.3333333333333333,
             "#9c179e"
            ],
            [
             0.4444444444444444,
             "#bd3786"
            ],
            [
             0.5555555555555556,
             "#d8576b"
            ],
            [
             0.6666666666666666,
             "#ed7953"
            ],
            [
             0.7777777777777778,
             "#fb9f3a"
            ],
            [
             0.8888888888888888,
             "#fdca26"
            ],
            [
             1,
             "#f0f921"
            ]
           ]
          },
          "colorway": [
           "#636efa",
           "#EF553B",
           "#00cc96",
           "#ab63fa",
           "#FFA15A",
           "#19d3f3",
           "#FF6692",
           "#B6E880",
           "#FF97FF",
           "#FECB52"
          ],
          "font": {
           "color": "#2a3f5f"
          },
          "geo": {
           "bgcolor": "white",
           "lakecolor": "white",
           "landcolor": "#E5ECF6",
           "showlakes": true,
           "showland": true,
           "subunitcolor": "white"
          },
          "hoverlabel": {
           "align": "left"
          },
          "hovermode": "closest",
          "mapbox": {
           "style": "light"
          },
          "paper_bgcolor": "white",
          "plot_bgcolor": "#E5ECF6",
          "polar": {
           "angularaxis": {
            "gridcolor": "white",
            "linecolor": "white",
            "ticks": ""
           },
           "bgcolor": "#E5ECF6",
           "radialaxis": {
            "gridcolor": "white",
            "linecolor": "white",
            "ticks": ""
           }
          },
          "scene": {
           "xaxis": {
            "backgroundcolor": "#E5ECF6",
            "gridcolor": "white",
            "gridwidth": 2,
            "linecolor": "white",
            "showbackground": true,
            "ticks": "",
            "zerolinecolor": "white"
           },
           "yaxis": {
            "backgroundcolor": "#E5ECF6",
            "gridcolor": "white",
            "gridwidth": 2,
            "linecolor": "white",
            "showbackground": true,
            "ticks": "",
            "zerolinecolor": "white"
           },
           "zaxis": {
            "backgroundcolor": "#E5ECF6",
            "gridcolor": "white",
            "gridwidth": 2,
            "linecolor": "white",
            "showbackground": true,
            "ticks": "",
            "zerolinecolor": "white"
           }
          },
          "shapedefaults": {
           "line": {
            "color": "#2a3f5f"
           }
          },
          "ternary": {
           "aaxis": {
            "gridcolor": "white",
            "linecolor": "white",
            "ticks": ""
           },
           "baxis": {
            "gridcolor": "white",
            "linecolor": "white",
            "ticks": ""
           },
           "bgcolor": "#E5ECF6",
           "caxis": {
            "gridcolor": "white",
            "linecolor": "white",
            "ticks": ""
           }
          },
          "title": {
           "x": 0.05
          },
          "xaxis": {
           "automargin": true,
           "gridcolor": "white",
           "linecolor": "white",
           "ticks": "",
           "title": {
            "standoff": 15
           },
           "zerolinecolor": "white",
           "zerolinewidth": 2
          },
          "yaxis": {
           "automargin": true,
           "gridcolor": "white",
           "linecolor": "white",
           "ticks": "",
           "title": {
            "standoff": 15
           },
           "zerolinecolor": "white",
           "zerolinewidth": 2
          }
         }
        },
        "title": {
         "text": "bi-gram"
        },
        "width": 800,
        "xaxis": {
         "anchor": "y",
         "domain": [
          0,
          1
         ],
         "title": {
          "text": "word_count"
         }
        },
        "yaxis": {
         "anchor": "x",
         "domain": [
          0,
          1
         ],
         "title": {
          "text": "word"
         }
        }
       }
      },
      "text/html": [
       "<div>\n",
       "        \n",
       "        \n",
       "            <div id=\"49643d83-2042-43b2-919f-0993716f04e2\" class=\"plotly-graph-div\" style=\"height:1100px; width:800px;\"></div>\n",
       "            <script type=\"text/javascript\">\n",
       "                require([\"plotly\"], function(Plotly) {\n",
       "                    window.PLOTLYENV=window.PLOTLYENV || {};\n",
       "                    \n",
       "                if (document.getElementById(\"49643d83-2042-43b2-919f-0993716f04e2\")) {\n",
       "                    Plotly.newPlot(\n",
       "                        '49643d83-2042-43b2-919f-0993716f04e2',\n",
       "                        [{\"alignmentgroup\": \"True\", \"hovertemplate\": \"word_count=%{text}<br>word=%{y}<extra></extra>\", \"legendgroup\": \"\", \"marker\": {}, \"name\": \"\", \"offsetgroup\": \"\", \"orientation\": \"h\", \"showlegend\": false, \"text\": [8.0, 8.0, 8.0, 8.0, 8.0, 8.0, 9.0, 9.0, 9.0, 9.0, 9.0, 9.0, 9.0, 9.0, 9.0, 10.0, 10.0, 10.0, 10.0, 10.0, 10.0, 10.0, 10.0, 10.0, 10.0, 11.0, 11.0, 12.0, 12.0, 12.0, 12.0, 12.0, 13.0, 13.0, 13.0, 13.0, 13.0, 13.0, 14.0, 14.0, 14.0, 14.0, 15.0, 15.0, 15.0, 16.0, 16.0, 17.0, 18.0, 38.0], \"textposition\": \"auto\", \"texttemplate\": \"%{text:.2s}\", \"type\": \"bar\", \"x\": [8, 8, 8, 8, 8, 8, 9, 9, 9, 9, 9, 9, 9, 9, 9, 10, 10, 10, 10, 10, 10, 10, 10, 10, 10, 11, 11, 12, 12, 12, 12, 12, 13, 13, 13, 13, 13, 13, 14, 14, 14, 14, 15, 15, 15, 16, 16, 17, 18, 38], \"xaxis\": \"x\", \"y\": [\"\\u5165\\u793e \\u5f53\\u521d\", \"\\u30de\\u30fc\\u30b1\\u30c6\\u30a3\\u30f3\\u30b0 \\u30ab\\u30f3\\u30d5\\u30a1\\u30ec\\u30f3\\u30b9\", \"\\u30a4\\u30f3\\u30bf\\u30fc\\u30f3 \\u7d4c\\u9a13\", \"\\u5b9f\\u611f \\u77ac\\u9593\", \"\\u793e\\u9577 \\u30e9\\u30f3\\u30c1\", \"\\u30df\\u30c3\\u30b7\\u30e7\\u30f3 \\u30d3\\u30b8\\u30e7\\u30f3\", \"\\u30df\\u30fc\\u30c8\\u30a2\\u30c3\\u30d7 \\u53c2\\u52a0\", \"\\u5728\\u5b85 \\u52e4\\u52d9\", \"\\uff11 \\u3072\\u3068\\u308a\", \"\\u7d4c\\u6e08 \\u8c4a\\u304b\", \"\\u30e1\\u30c7\\u30a3\\u30a2 \\u30b0\\u30ed\\u30fc\\u30b9\\u30cf\\u30c3\\u30ab\\u30fc\", \"\\u65b0\\u578b\\u30b3\\u30ed\\u30ca \\u5f71\\u97ff\", \"\\u958b\\u50ac \\u6c17\\u8efd\", \"\\u30b3\\u30a2\\u30d0\\u30ea\\u30e5\\u30fc \\u5927\\u5207\", \"\\u7d14\\u7c8b \\u601d\\u3044\", \"\\u30b5\\u30fc\\u30d3\\u30b9 \\u7d39\\u4ecb\\u52d5\\u753b\", \"\\u6c17\\u8efd \\u53c2\\u52a0\", \"\\u4e16\\u754c \\u6700\\u5148\\u7aef\", \"\\u30ab\\u30f3\\u30d5\\u30a1\\u30ec\\u30f3\\u30b9 \\u53c2\\u52a0\", \"\\u672c\\u7269 \\u60c5\\u5831\", \"\\u793e\\u4f1a \\u8ca2\\u732e\", \"\\u30b3\\u30df\\u30e5\\u30cb\\u30b1\\u30fc\\u30b7\\u30e7\\u30f3\\u30c7\\u30b6\\u30a4\\u30f3 \\u5c71\\u672c\", \"\\u30b3\\u30f3\\u30c6\\u30f3\\u30c4 \\u30de\\u30fc\\u30b1\\u30c6\\u30a3\\u30f3\\u30b0\", \"\\u691c\\u7d22 \\u7d50\\u679c\", \"\\u30aa\\u30f3\\u30e9\\u30a4\\u30f3 \\u5ea7\\u8ac7\", \"\\u30de\\u30fc\\u30b1\\u30c6\\u30a3\\u30f3\\u30b0 \\u672a\\u7d4c\\u9a13\", \"\\u30b9\\u30ad\\u30eb \\u8eab\", \"\\u4e8b\\u696d\\u90e8 \\u672a\\u7d4c\\u9a13\", \"\\u4e8b\\u696d \\u6210\\u9577\", \"\\u4ee3\\u8868 \\u5c0f\\u5ddd\", \"\\u6700\\u5148\\u7aef \\u30de\\u30fc\\u30b1\\u30c6\\u30a3\\u30f3\\u30b0\", \"\\u6d77\\u5916 \\u7814\\u4fee\", \"\\u5730\\u7403 \\u8ca2\\u732e\", \"\\u4e88\\u5b9a \\u30aa\\u30f3\\u30e9\\u30a4\\u30f3\", \"\\u30aa\\u30f3\\u30e9\\u30a4\\u30f3 \\u30ab\\u30b8\\u30e5\\u30a2\\u30eb\\u9762\\u8ac7\", \"\\u30ab\\u30b8\\u30e5\\u30a2\\u30eb\\u9762\\u8ac7 \\u5b9f\\u65bd\", \"\\u5b9f\\u65bd \\u6c17\\u8efd\", \"\\u30cf\\u30ed\\u30a6\\u30a3\\u30f3 \\u30d1\\u30fc\\u30c6\\u30a3\", \"\\u6700\\u9ad8 \\u30a4\\u30f3\\u30bf\\u30fc\\u30f3\", \"\\u4e16\\u306e\\u4e2d \\u8ca2\\u732e\", \"\\u30b3\\u30f3\\u30c6\\u30f3\\u30c4 \\u4f5c\\u6210\", \"\\u5fc3\\u7406\\u7684 \\u5b89\\u5168\\u6027\", \"\\u4eca\\u5f8c \\u30ad\\u30e3\\u30ea\\u30a2\", \"\\u672a\\u7d4c\\u9a13 \\u5165\\u793e\", \"\\u30e1\\u30c7\\u30a3\\u30a2 \\u4e8b\\u696d\", \"\\u793e\\u4f1a \\u5730\\u7403\", \"\\u4fa1\\u5024 \\u63d0\\u4f9b\", \"\\u6210\\u9577 \\u5b9f\\u611f\", \"\\u4eba\\u751f \\u30b0\\u30e9\\u30d5\", \"\\u30e1\\u30f3\\u30d0\\u30fc \\u30a4\\u30f3\\u30bf\\u30d3\\u30e5\\u30fc\"], \"yaxis\": \"y\"}],\n",
       "                        {\"barmode\": \"relative\", \"height\": 1100, \"legend\": {\"tracegroupgap\": 0}, \"margin\": {\"t\": 60}, \"template\": {\"data\": {\"bar\": [{\"error_x\": {\"color\": \"#2a3f5f\"}, \"error_y\": {\"color\": \"#2a3f5f\"}, \"marker\": {\"line\": {\"color\": \"#E5ECF6\", \"width\": 0.5}}, \"type\": \"bar\"}], \"barpolar\": [{\"marker\": {\"line\": {\"color\": \"#E5ECF6\", \"width\": 0.5}}, \"type\": \"barpolar\"}], \"carpet\": [{\"aaxis\": {\"endlinecolor\": \"#2a3f5f\", \"gridcolor\": \"white\", \"linecolor\": \"white\", \"minorgridcolor\": \"white\", \"startlinecolor\": \"#2a3f5f\"}, \"baxis\": {\"endlinecolor\": \"#2a3f5f\", \"gridcolor\": \"white\", \"linecolor\": \"white\", \"minorgridcolor\": \"white\", \"startlinecolor\": \"#2a3f5f\"}, \"type\": \"carpet\"}], \"choropleth\": [{\"colorbar\": {\"outlinewidth\": 0, \"ticks\": \"\"}, \"type\": \"choropleth\"}], \"contour\": [{\"colorbar\": {\"outlinewidth\": 0, \"ticks\": \"\"}, \"colorscale\": [[0.0, \"#0d0887\"], [0.1111111111111111, \"#46039f\"], [0.2222222222222222, \"#7201a8\"], [0.3333333333333333, \"#9c179e\"], [0.4444444444444444, \"#bd3786\"], [0.5555555555555556, \"#d8576b\"], [0.6666666666666666, \"#ed7953\"], [0.7777777777777778, \"#fb9f3a\"], [0.8888888888888888, \"#fdca26\"], [1.0, \"#f0f921\"]], \"type\": \"contour\"}], \"contourcarpet\": [{\"colorbar\": {\"outlinewidth\": 0, \"ticks\": \"\"}, \"type\": \"contourcarpet\"}], \"heatmap\": [{\"colorbar\": {\"outlinewidth\": 0, \"ticks\": \"\"}, \"colorscale\": [[0.0, \"#0d0887\"], [0.1111111111111111, \"#46039f\"], [0.2222222222222222, \"#7201a8\"], [0.3333333333333333, \"#9c179e\"], [0.4444444444444444, \"#bd3786\"], [0.5555555555555556, \"#d8576b\"], [0.6666666666666666, \"#ed7953\"], [0.7777777777777778, \"#fb9f3a\"], [0.8888888888888888, \"#fdca26\"], [1.0, \"#f0f921\"]], \"type\": \"heatmap\"}], \"heatmapgl\": [{\"colorbar\": {\"outlinewidth\": 0, \"ticks\": \"\"}, \"colorscale\": [[0.0, \"#0d0887\"], [0.1111111111111111, \"#46039f\"], [0.2222222222222222, \"#7201a8\"], [0.3333333333333333, \"#9c179e\"], [0.4444444444444444, \"#bd3786\"], [0.5555555555555556, \"#d8576b\"], [0.6666666666666666, \"#ed7953\"], [0.7777777777777778, \"#fb9f3a\"], [0.8888888888888888, \"#fdca26\"], [1.0, \"#f0f921\"]], \"type\": \"heatmapgl\"}], \"histogram\": [{\"marker\": {\"colorbar\": {\"outlinewidth\": 0, \"ticks\": \"\"}}, \"type\": \"histogram\"}], \"histogram2d\": [{\"colorbar\": {\"outlinewidth\": 0, \"ticks\": \"\"}, \"colorscale\": [[0.0, \"#0d0887\"], [0.1111111111111111, \"#46039f\"], [0.2222222222222222, \"#7201a8\"], [0.3333333333333333, \"#9c179e\"], [0.4444444444444444, \"#bd3786\"], [0.5555555555555556, \"#d8576b\"], [0.6666666666666666, \"#ed7953\"], [0.7777777777777778, \"#fb9f3a\"], [0.8888888888888888, \"#fdca26\"], [1.0, \"#f0f921\"]], \"type\": \"histogram2d\"}], \"histogram2dcontour\": [{\"colorbar\": {\"outlinewidth\": 0, \"ticks\": \"\"}, \"colorscale\": [[0.0, \"#0d0887\"], [0.1111111111111111, \"#46039f\"], [0.2222222222222222, \"#7201a8\"], [0.3333333333333333, \"#9c179e\"], [0.4444444444444444, \"#bd3786\"], [0.5555555555555556, \"#d8576b\"], [0.6666666666666666, \"#ed7953\"], [0.7777777777777778, \"#fb9f3a\"], [0.8888888888888888, \"#fdca26\"], [1.0, \"#f0f921\"]], \"type\": \"histogram2dcontour\"}], \"mesh3d\": [{\"colorbar\": {\"outlinewidth\": 0, \"ticks\": \"\"}, \"type\": \"mesh3d\"}], \"parcoords\": [{\"line\": {\"colorbar\": {\"outlinewidth\": 0, \"ticks\": \"\"}}, \"type\": \"parcoords\"}], \"pie\": [{\"automargin\": true, \"type\": \"pie\"}], \"scatter\": [{\"marker\": {\"colorbar\": {\"outlinewidth\": 0, \"ticks\": \"\"}}, \"type\": \"scatter\"}], \"scatter3d\": [{\"line\": {\"colorbar\": {\"outlinewidth\": 0, \"ticks\": \"\"}}, \"marker\": {\"colorbar\": {\"outlinewidth\": 0, \"ticks\": \"\"}}, \"type\": \"scatter3d\"}], \"scattercarpet\": [{\"marker\": {\"colorbar\": {\"outlinewidth\": 0, \"ticks\": \"\"}}, \"type\": \"scattercarpet\"}], \"scattergeo\": [{\"marker\": {\"colorbar\": {\"outlinewidth\": 0, \"ticks\": \"\"}}, \"type\": \"scattergeo\"}], \"scattergl\": [{\"marker\": {\"colorbar\": {\"outlinewidth\": 0, \"ticks\": \"\"}}, \"type\": \"scattergl\"}], \"scattermapbox\": [{\"marker\": {\"colorbar\": {\"outlinewidth\": 0, \"ticks\": \"\"}}, \"type\": \"scattermapbox\"}], \"scatterpolar\": [{\"marker\": {\"colorbar\": {\"outlinewidth\": 0, \"ticks\": \"\"}}, \"type\": \"scatterpolar\"}], \"scatterpolargl\": [{\"marker\": {\"colorbar\": {\"outlinewidth\": 0, \"ticks\": \"\"}}, \"type\": \"scatterpolargl\"}], \"scatterternary\": [{\"marker\": {\"colorbar\": {\"outlinewidth\": 0, \"ticks\": \"\"}}, \"type\": \"scatterternary\"}], \"surface\": [{\"colorbar\": {\"outlinewidth\": 0, \"ticks\": \"\"}, \"colorscale\": [[0.0, \"#0d0887\"], [0.1111111111111111, \"#46039f\"], [0.2222222222222222, \"#7201a8\"], [0.3333333333333333, \"#9c179e\"], [0.4444444444444444, \"#bd3786\"], [0.5555555555555556, \"#d8576b\"], [0.6666666666666666, \"#ed7953\"], [0.7777777777777778, \"#fb9f3a\"], [0.8888888888888888, \"#fdca26\"], [1.0, \"#f0f921\"]], \"type\": \"surface\"}], \"table\": [{\"cells\": {\"fill\": {\"color\": \"#EBF0F8\"}, \"line\": {\"color\": \"white\"}}, \"header\": {\"fill\": {\"color\": \"#C8D4E3\"}, \"line\": {\"color\": \"white\"}}, \"type\": \"table\"}]}, \"layout\": {\"annotationdefaults\": {\"arrowcolor\": \"#2a3f5f\", \"arrowhead\": 0, \"arrowwidth\": 1}, \"coloraxis\": {\"colorbar\": {\"outlinewidth\": 0, \"ticks\": \"\"}}, \"colorscale\": {\"diverging\": [[0, \"#8e0152\"], [0.1, \"#c51b7d\"], [0.2, \"#de77ae\"], [0.3, \"#f1b6da\"], [0.4, \"#fde0ef\"], [0.5, \"#f7f7f7\"], [0.6, \"#e6f5d0\"], [0.7, \"#b8e186\"], [0.8, \"#7fbc41\"], [0.9, \"#4d9221\"], [1, \"#276419\"]], \"sequential\": [[0.0, \"#0d0887\"], [0.1111111111111111, \"#46039f\"], [0.2222222222222222, \"#7201a8\"], [0.3333333333333333, \"#9c179e\"], [0.4444444444444444, \"#bd3786\"], [0.5555555555555556, \"#d8576b\"], [0.6666666666666666, \"#ed7953\"], [0.7777777777777778, \"#fb9f3a\"], [0.8888888888888888, \"#fdca26\"], [1.0, \"#f0f921\"]], \"sequentialminus\": [[0.0, \"#0d0887\"], [0.1111111111111111, \"#46039f\"], [0.2222222222222222, \"#7201a8\"], [0.3333333333333333, \"#9c179e\"], [0.4444444444444444, \"#bd3786\"], [0.5555555555555556, \"#d8576b\"], [0.6666666666666666, \"#ed7953\"], [0.7777777777777778, \"#fb9f3a\"], [0.8888888888888888, \"#fdca26\"], [1.0, \"#f0f921\"]]}, \"colorway\": [\"#636efa\", \"#EF553B\", \"#00cc96\", \"#ab63fa\", \"#FFA15A\", \"#19d3f3\", \"#FF6692\", \"#B6E880\", \"#FF97FF\", \"#FECB52\"], \"font\": {\"color\": \"#2a3f5f\"}, \"geo\": {\"bgcolor\": \"white\", \"lakecolor\": \"white\", \"landcolor\": \"#E5ECF6\", \"showlakes\": true, \"showland\": true, \"subunitcolor\": \"white\"}, \"hoverlabel\": {\"align\": \"left\"}, \"hovermode\": \"closest\", \"mapbox\": {\"style\": \"light\"}, \"paper_bgcolor\": \"white\", \"plot_bgcolor\": \"#E5ECF6\", \"polar\": {\"angularaxis\": {\"gridcolor\": \"white\", \"linecolor\": \"white\", \"ticks\": \"\"}, \"bgcolor\": \"#E5ECF6\", \"radialaxis\": {\"gridcolor\": \"white\", \"linecolor\": \"white\", \"ticks\": \"\"}}, \"scene\": {\"xaxis\": {\"backgroundcolor\": \"#E5ECF6\", \"gridcolor\": \"white\", \"gridwidth\": 2, \"linecolor\": \"white\", \"showbackground\": true, \"ticks\": \"\", \"zerolinecolor\": \"white\"}, \"yaxis\": {\"backgroundcolor\": \"#E5ECF6\", \"gridcolor\": \"white\", \"gridwidth\": 2, \"linecolor\": \"white\", \"showbackground\": true, \"ticks\": \"\", \"zerolinecolor\": \"white\"}, \"zaxis\": {\"backgroundcolor\": \"#E5ECF6\", \"gridcolor\": \"white\", \"gridwidth\": 2, \"linecolor\": \"white\", \"showbackground\": true, \"ticks\": \"\", \"zerolinecolor\": \"white\"}}, \"shapedefaults\": {\"line\": {\"color\": \"#2a3f5f\"}}, \"ternary\": {\"aaxis\": {\"gridcolor\": \"white\", \"linecolor\": \"white\", \"ticks\": \"\"}, \"baxis\": {\"gridcolor\": \"white\", \"linecolor\": \"white\", \"ticks\": \"\"}, \"bgcolor\": \"#E5ECF6\", \"caxis\": {\"gridcolor\": \"white\", \"linecolor\": \"white\", \"ticks\": \"\"}}, \"title\": {\"x\": 0.05}, \"xaxis\": {\"automargin\": true, \"gridcolor\": \"white\", \"linecolor\": \"white\", \"ticks\": \"\", \"title\": {\"standoff\": 15}, \"zerolinecolor\": \"white\", \"zerolinewidth\": 2}, \"yaxis\": {\"automargin\": true, \"gridcolor\": \"white\", \"linecolor\": \"white\", \"ticks\": \"\", \"title\": {\"standoff\": 15}, \"zerolinecolor\": \"white\", \"zerolinewidth\": 2}}}, \"title\": {\"text\": \"bi-gram\"}, \"width\": 800, \"xaxis\": {\"anchor\": \"y\", \"domain\": [0.0, 1.0], \"title\": {\"text\": \"word_count\"}}, \"yaxis\": {\"anchor\": \"x\", \"domain\": [0.0, 1.0], \"title\": {\"text\": \"word\"}}},\n",
       "                        {\"responsive\": true}\n",
       "                    ).then(function(){\n",
       "                            \n",
       "var gd = document.getElementById('49643d83-2042-43b2-919f-0993716f04e2');\n",
       "var x = new MutationObserver(function (mutations, observer) {{\n",
       "        var display = window.getComputedStyle(gd).display;\n",
       "        if (!display || display === 'none') {{\n",
       "            console.log([gd, 'removed!']);\n",
       "            Plotly.purge(gd);\n",
       "            observer.disconnect();\n",
       "        }}\n",
       "}});\n",
       "\n",
       "// Listen for the removal of the full notebook cells\n",
       "var notebookContainer = gd.closest('#notebook-container');\n",
       "if (notebookContainer) {{\n",
       "    x.observe(notebookContainer, {childList: true});\n",
       "}}\n",
       "\n",
       "// Listen for the clearing of the current output cell\n",
       "var outputEl = gd.closest('.output');\n",
       "if (outputEl) {{\n",
       "    x.observe(outputEl, {childList: true});\n",
       "}}\n",
       "\n",
       "                        })\n",
       "                };\n",
       "                });\n",
       "            </script>\n",
       "        </div>"
      ]
     },
     "metadata": {},
     "output_type": "display_data"
    }
   ],
   "source": [
    "npt.bar_ngram(\n",
    "    title='bi-gram',\n",
    "    xaxis_label='word_count',\n",
    "    yaxis_label='word',\n",
    "    ngram=2,\n",
    "    top_n=50,\n",
    "    stopwords=stopwords,\n",
    "    save=True\n",
    ")"
   ]
  },
  {
   "cell_type": "markdown",
   "metadata": {},
   "source": [
    "## 3-3. tri-gram"
   ]
  },
  {
   "cell_type": "code",
   "execution_count": 77,
   "metadata": {
    "scrolled": false
   },
   "outputs": [
    {
     "name": "stderr",
     "output_type": "stream",
     "text": [
      "100%|██████████| 6141/6141 [00:00<00:00, 177665.41it/s]\n"
     ]
    },
    {
     "data": {
      "application/vnd.plotly.v1+json": {
       "config": {
        "plotlyServerURL": "https://plot.ly"
       },
       "data": [
        {
         "alignmentgroup": "True",
         "hovertemplate": "word_count=%{text}<br>word=%{y}<extra></extra>",
         "legendgroup": "",
         "marker": {},
         "name": "",
         "offsetgroup": "",
         "orientation": "h",
         "showlegend": false,
         "text": [
          5,
          5,
          5,
          5,
          6,
          6,
          6,
          6,
          6,
          6,
          6,
          6,
          6,
          6,
          6,
          6,
          6,
          6,
          6,
          6,
          6,
          6,
          6,
          7,
          7,
          7,
          7,
          7,
          7,
          7,
          7,
          7,
          7,
          7,
          7,
          7,
          7,
          7,
          7,
          7,
          7,
          7,
          7,
          7,
          7,
          8,
          12,
          13,
          13,
          13
         ],
         "textposition": "auto",
         "texttemplate": "%{text:.2s}",
         "type": "bar",
         "x": [
          5,
          5,
          5,
          5,
          6,
          6,
          6,
          6,
          6,
          6,
          6,
          6,
          6,
          6,
          6,
          6,
          6,
          6,
          6,
          6,
          6,
          6,
          6,
          7,
          7,
          7,
          7,
          7,
          7,
          7,
          7,
          7,
          7,
          7,
          7,
          7,
          7,
          7,
          7,
          7,
          7,
          7,
          7,
          7,
          7,
          8,
          12,
          13,
          13,
          13
         ],
         "xaxis": "x",
         "y": [
          "幸せ 誠実 謙虚",
          "マーケティング カンファレンス 参加",
          "心 あり方 大切",
          "最高 インターン 体験",
          "新型コロナ 影響 在宅ワーク",
          "周り 周り 周り",
          "本物 情報 世界",
          "利他的 責任 情熱",
          "謙虚 利他的 責任",
          "誠実 謙虚 利他的",
          "事業部 未経験 大丈夫",
          "割 事業部 未経験",
          "入社 割 事業部",
          "未経験 入社 割",
          "思い 共感 あなたへ",
          "コアバリュー 在り方 大事",
          "中核 コアバリュー 在り方",
          "事業部 未経験 最速",
          "気軽 参加 幸い",
          "作り 気軽 参加",
          "きっかけ 作り 気軽",
          "影響 在宅ワーク 今後",
          "思い 未経験 入社",
          "当社 オンライン 座談",
          "オンライン 座談 積極",
          "座談 積極 開催",
          "当社 今後 キャリア",
          "気軽 ボタン 申し込み",
          "開催 気軽 ボタン",
          "多数 開催 気軽",
          "日程 多数 開催",
          "その他 日程 多数",
          "成長 事業戦略 中核",
          "在宅ワーク 今後 キャリア",
          "貢献 スキル 純粋",
          "スキル 純粋 思い",
          "一心 事業 貢献",
          "貢献 一心 事業",
          "地球 貢献 一心",
          "メディア グロースハッカー 環境",
          "最速 メディア グロースハッカー",
          "未経験 最速 メディア",
          "キャリア きっかけ 作り",
          "今後 キャリア きっかけ",
          "事業 貢献 スキル",
          "成長 実感 瞬間",
          "社会 地球 貢献",
          "予定 オンライン カジュアル面談",
          "オンライン カジュアル面談 実施",
          "カジュアル面談 実施 気軽"
         ],
         "yaxis": "y"
        }
       ],
       "layout": {
        "barmode": "relative",
        "height": 1100,
        "legend": {
         "tracegroupgap": 0
        },
        "margin": {
         "t": 60
        },
        "template": {
         "data": {
          "bar": [
           {
            "error_x": {
             "color": "#2a3f5f"
            },
            "error_y": {
             "color": "#2a3f5f"
            },
            "marker": {
             "line": {
              "color": "#E5ECF6",
              "width": 0.5
             }
            },
            "type": "bar"
           }
          ],
          "barpolar": [
           {
            "marker": {
             "line": {
              "color": "#E5ECF6",
              "width": 0.5
             }
            },
            "type": "barpolar"
           }
          ],
          "carpet": [
           {
            "aaxis": {
             "endlinecolor": "#2a3f5f",
             "gridcolor": "white",
             "linecolor": "white",
             "minorgridcolor": "white",
             "startlinecolor": "#2a3f5f"
            },
            "baxis": {
             "endlinecolor": "#2a3f5f",
             "gridcolor": "white",
             "linecolor": "white",
             "minorgridcolor": "white",
             "startlinecolor": "#2a3f5f"
            },
            "type": "carpet"
           }
          ],
          "choropleth": [
           {
            "colorbar": {
             "outlinewidth": 0,
             "ticks": ""
            },
            "type": "choropleth"
           }
          ],
          "contour": [
           {
            "colorbar": {
             "outlinewidth": 0,
             "ticks": ""
            },
            "colorscale": [
             [
              0,
              "#0d0887"
             ],
             [
              0.1111111111111111,
              "#46039f"
             ],
             [
              0.2222222222222222,
              "#7201a8"
             ],
             [
              0.3333333333333333,
              "#9c179e"
             ],
             [
              0.4444444444444444,
              "#bd3786"
             ],
             [
              0.5555555555555556,
              "#d8576b"
             ],
             [
              0.6666666666666666,
              "#ed7953"
             ],
             [
              0.7777777777777778,
              "#fb9f3a"
             ],
             [
              0.8888888888888888,
              "#fdca26"
             ],
             [
              1,
              "#f0f921"
             ]
            ],
            "type": "contour"
           }
          ],
          "contourcarpet": [
           {
            "colorbar": {
             "outlinewidth": 0,
             "ticks": ""
            },
            "type": "contourcarpet"
           }
          ],
          "heatmap": [
           {
            "colorbar": {
             "outlinewidth": 0,
             "ticks": ""
            },
            "colorscale": [
             [
              0,
              "#0d0887"
             ],
             [
              0.1111111111111111,
              "#46039f"
             ],
             [
              0.2222222222222222,
              "#7201a8"
             ],
             [
              0.3333333333333333,
              "#9c179e"
             ],
             [
              0.4444444444444444,
              "#bd3786"
             ],
             [
              0.5555555555555556,
              "#d8576b"
             ],
             [
              0.6666666666666666,
              "#ed7953"
             ],
             [
              0.7777777777777778,
              "#fb9f3a"
             ],
             [
              0.8888888888888888,
              "#fdca26"
             ],
             [
              1,
              "#f0f921"
             ]
            ],
            "type": "heatmap"
           }
          ],
          "heatmapgl": [
           {
            "colorbar": {
             "outlinewidth": 0,
             "ticks": ""
            },
            "colorscale": [
             [
              0,
              "#0d0887"
             ],
             [
              0.1111111111111111,
              "#46039f"
             ],
             [
              0.2222222222222222,
              "#7201a8"
             ],
             [
              0.3333333333333333,
              "#9c179e"
             ],
             [
              0.4444444444444444,
              "#bd3786"
             ],
             [
              0.5555555555555556,
              "#d8576b"
             ],
             [
              0.6666666666666666,
              "#ed7953"
             ],
             [
              0.7777777777777778,
              "#fb9f3a"
             ],
             [
              0.8888888888888888,
              "#fdca26"
             ],
             [
              1,
              "#f0f921"
             ]
            ],
            "type": "heatmapgl"
           }
          ],
          "histogram": [
           {
            "marker": {
             "colorbar": {
              "outlinewidth": 0,
              "ticks": ""
             }
            },
            "type": "histogram"
           }
          ],
          "histogram2d": [
           {
            "colorbar": {
             "outlinewidth": 0,
             "ticks": ""
            },
            "colorscale": [
             [
              0,
              "#0d0887"
             ],
             [
              0.1111111111111111,
              "#46039f"
             ],
             [
              0.2222222222222222,
              "#7201a8"
             ],
             [
              0.3333333333333333,
              "#9c179e"
             ],
             [
              0.4444444444444444,
              "#bd3786"
             ],
             [
              0.5555555555555556,
              "#d8576b"
             ],
             [
              0.6666666666666666,
              "#ed7953"
             ],
             [
              0.7777777777777778,
              "#fb9f3a"
             ],
             [
              0.8888888888888888,
              "#fdca26"
             ],
             [
              1,
              "#f0f921"
             ]
            ],
            "type": "histogram2d"
           }
          ],
          "histogram2dcontour": [
           {
            "colorbar": {
             "outlinewidth": 0,
             "ticks": ""
            },
            "colorscale": [
             [
              0,
              "#0d0887"
             ],
             [
              0.1111111111111111,
              "#46039f"
             ],
             [
              0.2222222222222222,
              "#7201a8"
             ],
             [
              0.3333333333333333,
              "#9c179e"
             ],
             [
              0.4444444444444444,
              "#bd3786"
             ],
             [
              0.5555555555555556,
              "#d8576b"
             ],
             [
              0.6666666666666666,
              "#ed7953"
             ],
             [
              0.7777777777777778,
              "#fb9f3a"
             ],
             [
              0.8888888888888888,
              "#fdca26"
             ],
             [
              1,
              "#f0f921"
             ]
            ],
            "type": "histogram2dcontour"
           }
          ],
          "mesh3d": [
           {
            "colorbar": {
             "outlinewidth": 0,
             "ticks": ""
            },
            "type": "mesh3d"
           }
          ],
          "parcoords": [
           {
            "line": {
             "colorbar": {
              "outlinewidth": 0,
              "ticks": ""
             }
            },
            "type": "parcoords"
           }
          ],
          "pie": [
           {
            "automargin": true,
            "type": "pie"
           }
          ],
          "scatter": [
           {
            "marker": {
             "colorbar": {
              "outlinewidth": 0,
              "ticks": ""
             }
            },
            "type": "scatter"
           }
          ],
          "scatter3d": [
           {
            "line": {
             "colorbar": {
              "outlinewidth": 0,
              "ticks": ""
             }
            },
            "marker": {
             "colorbar": {
              "outlinewidth": 0,
              "ticks": ""
             }
            },
            "type": "scatter3d"
           }
          ],
          "scattercarpet": [
           {
            "marker": {
             "colorbar": {
              "outlinewidth": 0,
              "ticks": ""
             }
            },
            "type": "scattercarpet"
           }
          ],
          "scattergeo": [
           {
            "marker": {
             "colorbar": {
              "outlinewidth": 0,
              "ticks": ""
             }
            },
            "type": "scattergeo"
           }
          ],
          "scattergl": [
           {
            "marker": {
             "colorbar": {
              "outlinewidth": 0,
              "ticks": ""
             }
            },
            "type": "scattergl"
           }
          ],
          "scattermapbox": [
           {
            "marker": {
             "colorbar": {
              "outlinewidth": 0,
              "ticks": ""
             }
            },
            "type": "scattermapbox"
           }
          ],
          "scatterpolar": [
           {
            "marker": {
             "colorbar": {
              "outlinewidth": 0,
              "ticks": ""
             }
            },
            "type": "scatterpolar"
           }
          ],
          "scatterpolargl": [
           {
            "marker": {
             "colorbar": {
              "outlinewidth": 0,
              "ticks": ""
             }
            },
            "type": "scatterpolargl"
           }
          ],
          "scatterternary": [
           {
            "marker": {
             "colorbar": {
              "outlinewidth": 0,
              "ticks": ""
             }
            },
            "type": "scatterternary"
           }
          ],
          "surface": [
           {
            "colorbar": {
             "outlinewidth": 0,
             "ticks": ""
            },
            "colorscale": [
             [
              0,
              "#0d0887"
             ],
             [
              0.1111111111111111,
              "#46039f"
             ],
             [
              0.2222222222222222,
              "#7201a8"
             ],
             [
              0.3333333333333333,
              "#9c179e"
             ],
             [
              0.4444444444444444,
              "#bd3786"
             ],
             [
              0.5555555555555556,
              "#d8576b"
             ],
             [
              0.6666666666666666,
              "#ed7953"
             ],
             [
              0.7777777777777778,
              "#fb9f3a"
             ],
             [
              0.8888888888888888,
              "#fdca26"
             ],
             [
              1,
              "#f0f921"
             ]
            ],
            "type": "surface"
           }
          ],
          "table": [
           {
            "cells": {
             "fill": {
              "color": "#EBF0F8"
             },
             "line": {
              "color": "white"
             }
            },
            "header": {
             "fill": {
              "color": "#C8D4E3"
             },
             "line": {
              "color": "white"
             }
            },
            "type": "table"
           }
          ]
         },
         "layout": {
          "annotationdefaults": {
           "arrowcolor": "#2a3f5f",
           "arrowhead": 0,
           "arrowwidth": 1
          },
          "coloraxis": {
           "colorbar": {
            "outlinewidth": 0,
            "ticks": ""
           }
          },
          "colorscale": {
           "diverging": [
            [
             0,
             "#8e0152"
            ],
            [
             0.1,
             "#c51b7d"
            ],
            [
             0.2,
             "#de77ae"
            ],
            [
             0.3,
             "#f1b6da"
            ],
            [
             0.4,
             "#fde0ef"
            ],
            [
             0.5,
             "#f7f7f7"
            ],
            [
             0.6,
             "#e6f5d0"
            ],
            [
             0.7,
             "#b8e186"
            ],
            [
             0.8,
             "#7fbc41"
            ],
            [
             0.9,
             "#4d9221"
            ],
            [
             1,
             "#276419"
            ]
           ],
           "sequential": [
            [
             0,
             "#0d0887"
            ],
            [
             0.1111111111111111,
             "#46039f"
            ],
            [
             0.2222222222222222,
             "#7201a8"
            ],
            [
             0.3333333333333333,
             "#9c179e"
            ],
            [
             0.4444444444444444,
             "#bd3786"
            ],
            [
             0.5555555555555556,
             "#d8576b"
            ],
            [
             0.6666666666666666,
             "#ed7953"
            ],
            [
             0.7777777777777778,
             "#fb9f3a"
            ],
            [
             0.8888888888888888,
             "#fdca26"
            ],
            [
             1,
             "#f0f921"
            ]
           ],
           "sequentialminus": [
            [
             0,
             "#0d0887"
            ],
            [
             0.1111111111111111,
             "#46039f"
            ],
            [
             0.2222222222222222,
             "#7201a8"
            ],
            [
             0.3333333333333333,
             "#9c179e"
            ],
            [
             0.4444444444444444,
             "#bd3786"
            ],
            [
             0.5555555555555556,
             "#d8576b"
            ],
            [
             0.6666666666666666,
             "#ed7953"
            ],
            [
             0.7777777777777778,
             "#fb9f3a"
            ],
            [
             0.8888888888888888,
             "#fdca26"
            ],
            [
             1,
             "#f0f921"
            ]
           ]
          },
          "colorway": [
           "#636efa",
           "#EF553B",
           "#00cc96",
           "#ab63fa",
           "#FFA15A",
           "#19d3f3",
           "#FF6692",
           "#B6E880",
           "#FF97FF",
           "#FECB52"
          ],
          "font": {
           "color": "#2a3f5f"
          },
          "geo": {
           "bgcolor": "white",
           "lakecolor": "white",
           "landcolor": "#E5ECF6",
           "showlakes": true,
           "showland": true,
           "subunitcolor": "white"
          },
          "hoverlabel": {
           "align": "left"
          },
          "hovermode": "closest",
          "mapbox": {
           "style": "light"
          },
          "paper_bgcolor": "white",
          "plot_bgcolor": "#E5ECF6",
          "polar": {
           "angularaxis": {
            "gridcolor": "white",
            "linecolor": "white",
            "ticks": ""
           },
           "bgcolor": "#E5ECF6",
           "radialaxis": {
            "gridcolor": "white",
            "linecolor": "white",
            "ticks": ""
           }
          },
          "scene": {
           "xaxis": {
            "backgroundcolor": "#E5ECF6",
            "gridcolor": "white",
            "gridwidth": 2,
            "linecolor": "white",
            "showbackground": true,
            "ticks": "",
            "zerolinecolor": "white"
           },
           "yaxis": {
            "backgroundcolor": "#E5ECF6",
            "gridcolor": "white",
            "gridwidth": 2,
            "linecolor": "white",
            "showbackground": true,
            "ticks": "",
            "zerolinecolor": "white"
           },
           "zaxis": {
            "backgroundcolor": "#E5ECF6",
            "gridcolor": "white",
            "gridwidth": 2,
            "linecolor": "white",
            "showbackground": true,
            "ticks": "",
            "zerolinecolor": "white"
           }
          },
          "shapedefaults": {
           "line": {
            "color": "#2a3f5f"
           }
          },
          "ternary": {
           "aaxis": {
            "gridcolor": "white",
            "linecolor": "white",
            "ticks": ""
           },
           "baxis": {
            "gridcolor": "white",
            "linecolor": "white",
            "ticks": ""
           },
           "bgcolor": "#E5ECF6",
           "caxis": {
            "gridcolor": "white",
            "linecolor": "white",
            "ticks": ""
           }
          },
          "title": {
           "x": 0.05
          },
          "xaxis": {
           "automargin": true,
           "gridcolor": "white",
           "linecolor": "white",
           "ticks": "",
           "title": {
            "standoff": 15
           },
           "zerolinecolor": "white",
           "zerolinewidth": 2
          },
          "yaxis": {
           "automargin": true,
           "gridcolor": "white",
           "linecolor": "white",
           "ticks": "",
           "title": {
            "standoff": 15
           },
           "zerolinecolor": "white",
           "zerolinewidth": 2
          }
         }
        },
        "title": {
         "text": "tri-gram"
        },
        "width": 800,
        "xaxis": {
         "anchor": "y",
         "domain": [
          0,
          1
         ],
         "title": {
          "text": "word_count"
         }
        },
        "yaxis": {
         "anchor": "x",
         "domain": [
          0,
          1
         ],
         "title": {
          "text": "word"
         }
        }
       }
      },
      "text/html": [
       "<div>\n",
       "        \n",
       "        \n",
       "            <div id=\"6d9f29d9-c551-48aa-8e76-d997d57e4b24\" class=\"plotly-graph-div\" style=\"height:1100px; width:800px;\"></div>\n",
       "            <script type=\"text/javascript\">\n",
       "                require([\"plotly\"], function(Plotly) {\n",
       "                    window.PLOTLYENV=window.PLOTLYENV || {};\n",
       "                    \n",
       "                if (document.getElementById(\"6d9f29d9-c551-48aa-8e76-d997d57e4b24\")) {\n",
       "                    Plotly.newPlot(\n",
       "                        '6d9f29d9-c551-48aa-8e76-d997d57e4b24',\n",
       "                        [{\"alignmentgroup\": \"True\", \"hovertemplate\": \"word_count=%{text}<br>word=%{y}<extra></extra>\", \"legendgroup\": \"\", \"marker\": {}, \"name\": \"\", \"offsetgroup\": \"\", \"orientation\": \"h\", \"showlegend\": false, \"text\": [5.0, 5.0, 5.0, 5.0, 6.0, 6.0, 6.0, 6.0, 6.0, 6.0, 6.0, 6.0, 6.0, 6.0, 6.0, 6.0, 6.0, 6.0, 6.0, 6.0, 6.0, 6.0, 6.0, 7.0, 7.0, 7.0, 7.0, 7.0, 7.0, 7.0, 7.0, 7.0, 7.0, 7.0, 7.0, 7.0, 7.0, 7.0, 7.0, 7.0, 7.0, 7.0, 7.0, 7.0, 7.0, 8.0, 12.0, 13.0, 13.0, 13.0], \"textposition\": \"auto\", \"texttemplate\": \"%{text:.2s}\", \"type\": \"bar\", \"x\": [5, 5, 5, 5, 6, 6, 6, 6, 6, 6, 6, 6, 6, 6, 6, 6, 6, 6, 6, 6, 6, 6, 6, 7, 7, 7, 7, 7, 7, 7, 7, 7, 7, 7, 7, 7, 7, 7, 7, 7, 7, 7, 7, 7, 7, 8, 12, 13, 13, 13], \"xaxis\": \"x\", \"y\": [\"\\u5e78\\u305b \\u8aa0\\u5b9f \\u8b19\\u865a\", \"\\u30de\\u30fc\\u30b1\\u30c6\\u30a3\\u30f3\\u30b0 \\u30ab\\u30f3\\u30d5\\u30a1\\u30ec\\u30f3\\u30b9 \\u53c2\\u52a0\", \"\\u5fc3 \\u3042\\u308a\\u65b9 \\u5927\\u5207\", \"\\u6700\\u9ad8 \\u30a4\\u30f3\\u30bf\\u30fc\\u30f3 \\u4f53\\u9a13\", \"\\u65b0\\u578b\\u30b3\\u30ed\\u30ca \\u5f71\\u97ff \\u5728\\u5b85\\u30ef\\u30fc\\u30af\", \"\\u5468\\u308a \\u5468\\u308a \\u5468\\u308a\", \"\\u672c\\u7269 \\u60c5\\u5831 \\u4e16\\u754c\", \"\\u5229\\u4ed6\\u7684 \\u8cac\\u4efb \\u60c5\\u71b1\", \"\\u8b19\\u865a \\u5229\\u4ed6\\u7684 \\u8cac\\u4efb\", \"\\u8aa0\\u5b9f \\u8b19\\u865a \\u5229\\u4ed6\\u7684\", \"\\u4e8b\\u696d\\u90e8 \\u672a\\u7d4c\\u9a13 \\u5927\\u4e08\\u592b\", \"\\u5272 \\u4e8b\\u696d\\u90e8 \\u672a\\u7d4c\\u9a13\", \"\\u5165\\u793e \\u5272 \\u4e8b\\u696d\\u90e8\", \"\\u672a\\u7d4c\\u9a13 \\u5165\\u793e \\u5272\", \"\\u601d\\u3044 \\u5171\\u611f \\u3042\\u306a\\u305f\\u3078\", \"\\u30b3\\u30a2\\u30d0\\u30ea\\u30e5\\u30fc \\u5728\\u308a\\u65b9 \\u5927\\u4e8b\", \"\\u4e2d\\u6838 \\u30b3\\u30a2\\u30d0\\u30ea\\u30e5\\u30fc \\u5728\\u308a\\u65b9\", \"\\u4e8b\\u696d\\u90e8 \\u672a\\u7d4c\\u9a13 \\u6700\\u901f\", \"\\u6c17\\u8efd \\u53c2\\u52a0 \\u5e78\\u3044\", \"\\u4f5c\\u308a \\u6c17\\u8efd \\u53c2\\u52a0\", \"\\u304d\\u3063\\u304b\\u3051 \\u4f5c\\u308a \\u6c17\\u8efd\", \"\\u5f71\\u97ff \\u5728\\u5b85\\u30ef\\u30fc\\u30af \\u4eca\\u5f8c\", \"\\u601d\\u3044 \\u672a\\u7d4c\\u9a13 \\u5165\\u793e\", \"\\u5f53\\u793e \\u30aa\\u30f3\\u30e9\\u30a4\\u30f3 \\u5ea7\\u8ac7\", \"\\u30aa\\u30f3\\u30e9\\u30a4\\u30f3 \\u5ea7\\u8ac7 \\u7a4d\\u6975\", \"\\u5ea7\\u8ac7 \\u7a4d\\u6975 \\u958b\\u50ac\", \"\\u5f53\\u793e \\u4eca\\u5f8c \\u30ad\\u30e3\\u30ea\\u30a2\", \"\\u6c17\\u8efd \\u30dc\\u30bf\\u30f3 \\u7533\\u3057\\u8fbc\\u307f\", \"\\u958b\\u50ac \\u6c17\\u8efd \\u30dc\\u30bf\\u30f3\", \"\\u591a\\u6570 \\u958b\\u50ac \\u6c17\\u8efd\", \"\\u65e5\\u7a0b \\u591a\\u6570 \\u958b\\u50ac\", \"\\u305d\\u306e\\u4ed6 \\u65e5\\u7a0b \\u591a\\u6570\", \"\\u6210\\u9577 \\u4e8b\\u696d\\u6226\\u7565 \\u4e2d\\u6838\", \"\\u5728\\u5b85\\u30ef\\u30fc\\u30af \\u4eca\\u5f8c \\u30ad\\u30e3\\u30ea\\u30a2\", \"\\u8ca2\\u732e \\u30b9\\u30ad\\u30eb \\u7d14\\u7c8b\", \"\\u30b9\\u30ad\\u30eb \\u7d14\\u7c8b \\u601d\\u3044\", \"\\u4e00\\u5fc3 \\u4e8b\\u696d \\u8ca2\\u732e\", \"\\u8ca2\\u732e \\u4e00\\u5fc3 \\u4e8b\\u696d\", \"\\u5730\\u7403 \\u8ca2\\u732e \\u4e00\\u5fc3\", \"\\u30e1\\u30c7\\u30a3\\u30a2 \\u30b0\\u30ed\\u30fc\\u30b9\\u30cf\\u30c3\\u30ab\\u30fc \\u74b0\\u5883\", \"\\u6700\\u901f \\u30e1\\u30c7\\u30a3\\u30a2 \\u30b0\\u30ed\\u30fc\\u30b9\\u30cf\\u30c3\\u30ab\\u30fc\", \"\\u672a\\u7d4c\\u9a13 \\u6700\\u901f \\u30e1\\u30c7\\u30a3\\u30a2\", \"\\u30ad\\u30e3\\u30ea\\u30a2 \\u304d\\u3063\\u304b\\u3051 \\u4f5c\\u308a\", \"\\u4eca\\u5f8c \\u30ad\\u30e3\\u30ea\\u30a2 \\u304d\\u3063\\u304b\\u3051\", \"\\u4e8b\\u696d \\u8ca2\\u732e \\u30b9\\u30ad\\u30eb\", \"\\u6210\\u9577 \\u5b9f\\u611f \\u77ac\\u9593\", \"\\u793e\\u4f1a \\u5730\\u7403 \\u8ca2\\u732e\", \"\\u4e88\\u5b9a \\u30aa\\u30f3\\u30e9\\u30a4\\u30f3 \\u30ab\\u30b8\\u30e5\\u30a2\\u30eb\\u9762\\u8ac7\", \"\\u30aa\\u30f3\\u30e9\\u30a4\\u30f3 \\u30ab\\u30b8\\u30e5\\u30a2\\u30eb\\u9762\\u8ac7 \\u5b9f\\u65bd\", \"\\u30ab\\u30b8\\u30e5\\u30a2\\u30eb\\u9762\\u8ac7 \\u5b9f\\u65bd \\u6c17\\u8efd\"], \"yaxis\": \"y\"}],\n",
       "                        {\"barmode\": \"relative\", \"height\": 1100, \"legend\": {\"tracegroupgap\": 0}, \"margin\": {\"t\": 60}, \"template\": {\"data\": {\"bar\": [{\"error_x\": {\"color\": \"#2a3f5f\"}, \"error_y\": {\"color\": \"#2a3f5f\"}, \"marker\": {\"line\": {\"color\": \"#E5ECF6\", \"width\": 0.5}}, \"type\": \"bar\"}], \"barpolar\": [{\"marker\": {\"line\": {\"color\": \"#E5ECF6\", \"width\": 0.5}}, \"type\": \"barpolar\"}], \"carpet\": [{\"aaxis\": {\"endlinecolor\": \"#2a3f5f\", \"gridcolor\": \"white\", \"linecolor\": \"white\", \"minorgridcolor\": \"white\", \"startlinecolor\": \"#2a3f5f\"}, \"baxis\": {\"endlinecolor\": \"#2a3f5f\", \"gridcolor\": \"white\", \"linecolor\": \"white\", \"minorgridcolor\": \"white\", \"startlinecolor\": \"#2a3f5f\"}, \"type\": \"carpet\"}], \"choropleth\": [{\"colorbar\": {\"outlinewidth\": 0, \"ticks\": \"\"}, \"type\": \"choropleth\"}], \"contour\": [{\"colorbar\": {\"outlinewidth\": 0, \"ticks\": \"\"}, \"colorscale\": [[0.0, \"#0d0887\"], [0.1111111111111111, \"#46039f\"], [0.2222222222222222, \"#7201a8\"], [0.3333333333333333, \"#9c179e\"], [0.4444444444444444, \"#bd3786\"], [0.5555555555555556, \"#d8576b\"], [0.6666666666666666, \"#ed7953\"], [0.7777777777777778, \"#fb9f3a\"], [0.8888888888888888, \"#fdca26\"], [1.0, \"#f0f921\"]], \"type\": \"contour\"}], \"contourcarpet\": [{\"colorbar\": {\"outlinewidth\": 0, \"ticks\": \"\"}, \"type\": \"contourcarpet\"}], \"heatmap\": [{\"colorbar\": {\"outlinewidth\": 0, \"ticks\": \"\"}, \"colorscale\": [[0.0, \"#0d0887\"], [0.1111111111111111, \"#46039f\"], [0.2222222222222222, \"#7201a8\"], [0.3333333333333333, \"#9c179e\"], [0.4444444444444444, \"#bd3786\"], [0.5555555555555556, \"#d8576b\"], [0.6666666666666666, \"#ed7953\"], [0.7777777777777778, \"#fb9f3a\"], [0.8888888888888888, \"#fdca26\"], [1.0, \"#f0f921\"]], \"type\": \"heatmap\"}], \"heatmapgl\": [{\"colorbar\": {\"outlinewidth\": 0, \"ticks\": \"\"}, \"colorscale\": [[0.0, \"#0d0887\"], [0.1111111111111111, \"#46039f\"], [0.2222222222222222, \"#7201a8\"], [0.3333333333333333, \"#9c179e\"], [0.4444444444444444, \"#bd3786\"], [0.5555555555555556, \"#d8576b\"], [0.6666666666666666, \"#ed7953\"], [0.7777777777777778, \"#fb9f3a\"], [0.8888888888888888, \"#fdca26\"], [1.0, \"#f0f921\"]], \"type\": \"heatmapgl\"}], \"histogram\": [{\"marker\": {\"colorbar\": {\"outlinewidth\": 0, \"ticks\": \"\"}}, \"type\": \"histogram\"}], \"histogram2d\": [{\"colorbar\": {\"outlinewidth\": 0, \"ticks\": \"\"}, \"colorscale\": [[0.0, \"#0d0887\"], [0.1111111111111111, \"#46039f\"], [0.2222222222222222, \"#7201a8\"], [0.3333333333333333, \"#9c179e\"], [0.4444444444444444, \"#bd3786\"], [0.5555555555555556, \"#d8576b\"], [0.6666666666666666, \"#ed7953\"], [0.7777777777777778, \"#fb9f3a\"], [0.8888888888888888, \"#fdca26\"], [1.0, \"#f0f921\"]], \"type\": \"histogram2d\"}], \"histogram2dcontour\": [{\"colorbar\": {\"outlinewidth\": 0, \"ticks\": \"\"}, \"colorscale\": [[0.0, \"#0d0887\"], [0.1111111111111111, \"#46039f\"], [0.2222222222222222, \"#7201a8\"], [0.3333333333333333, \"#9c179e\"], [0.4444444444444444, \"#bd3786\"], [0.5555555555555556, \"#d8576b\"], [0.6666666666666666, \"#ed7953\"], [0.7777777777777778, \"#fb9f3a\"], [0.8888888888888888, \"#fdca26\"], [1.0, \"#f0f921\"]], \"type\": \"histogram2dcontour\"}], \"mesh3d\": [{\"colorbar\": {\"outlinewidth\": 0, \"ticks\": \"\"}, \"type\": \"mesh3d\"}], \"parcoords\": [{\"line\": {\"colorbar\": {\"outlinewidth\": 0, \"ticks\": \"\"}}, \"type\": \"parcoords\"}], \"pie\": [{\"automargin\": true, \"type\": \"pie\"}], \"scatter\": [{\"marker\": {\"colorbar\": {\"outlinewidth\": 0, \"ticks\": \"\"}}, \"type\": \"scatter\"}], \"scatter3d\": [{\"line\": {\"colorbar\": {\"outlinewidth\": 0, \"ticks\": \"\"}}, \"marker\": {\"colorbar\": {\"outlinewidth\": 0, \"ticks\": \"\"}}, \"type\": \"scatter3d\"}], \"scattercarpet\": [{\"marker\": {\"colorbar\": {\"outlinewidth\": 0, \"ticks\": \"\"}}, \"type\": \"scattercarpet\"}], \"scattergeo\": [{\"marker\": {\"colorbar\": {\"outlinewidth\": 0, \"ticks\": \"\"}}, \"type\": \"scattergeo\"}], \"scattergl\": [{\"marker\": {\"colorbar\": {\"outlinewidth\": 0, \"ticks\": \"\"}}, \"type\": \"scattergl\"}], \"scattermapbox\": [{\"marker\": {\"colorbar\": {\"outlinewidth\": 0, \"ticks\": \"\"}}, \"type\": \"scattermapbox\"}], \"scatterpolar\": [{\"marker\": {\"colorbar\": {\"outlinewidth\": 0, \"ticks\": \"\"}}, \"type\": \"scatterpolar\"}], \"scatterpolargl\": [{\"marker\": {\"colorbar\": {\"outlinewidth\": 0, \"ticks\": \"\"}}, \"type\": \"scatterpolargl\"}], \"scatterternary\": [{\"marker\": {\"colorbar\": {\"outlinewidth\": 0, \"ticks\": \"\"}}, \"type\": \"scatterternary\"}], \"surface\": [{\"colorbar\": {\"outlinewidth\": 0, \"ticks\": \"\"}, \"colorscale\": [[0.0, \"#0d0887\"], [0.1111111111111111, \"#46039f\"], [0.2222222222222222, \"#7201a8\"], [0.3333333333333333, \"#9c179e\"], [0.4444444444444444, \"#bd3786\"], [0.5555555555555556, \"#d8576b\"], [0.6666666666666666, \"#ed7953\"], [0.7777777777777778, \"#fb9f3a\"], [0.8888888888888888, \"#fdca26\"], [1.0, \"#f0f921\"]], \"type\": \"surface\"}], \"table\": [{\"cells\": {\"fill\": {\"color\": \"#EBF0F8\"}, \"line\": {\"color\": \"white\"}}, \"header\": {\"fill\": {\"color\": \"#C8D4E3\"}, \"line\": {\"color\": \"white\"}}, \"type\": \"table\"}]}, \"layout\": {\"annotationdefaults\": {\"arrowcolor\": \"#2a3f5f\", \"arrowhead\": 0, \"arrowwidth\": 1}, \"coloraxis\": {\"colorbar\": {\"outlinewidth\": 0, \"ticks\": \"\"}}, \"colorscale\": {\"diverging\": [[0, \"#8e0152\"], [0.1, \"#c51b7d\"], [0.2, \"#de77ae\"], [0.3, \"#f1b6da\"], [0.4, \"#fde0ef\"], [0.5, \"#f7f7f7\"], [0.6, \"#e6f5d0\"], [0.7, \"#b8e186\"], [0.8, \"#7fbc41\"], [0.9, \"#4d9221\"], [1, \"#276419\"]], \"sequential\": [[0.0, \"#0d0887\"], [0.1111111111111111, \"#46039f\"], [0.2222222222222222, \"#7201a8\"], [0.3333333333333333, \"#9c179e\"], [0.4444444444444444, \"#bd3786\"], [0.5555555555555556, \"#d8576b\"], [0.6666666666666666, \"#ed7953\"], [0.7777777777777778, \"#fb9f3a\"], [0.8888888888888888, \"#fdca26\"], [1.0, \"#f0f921\"]], \"sequentialminus\": [[0.0, \"#0d0887\"], [0.1111111111111111, \"#46039f\"], [0.2222222222222222, \"#7201a8\"], [0.3333333333333333, \"#9c179e\"], [0.4444444444444444, \"#bd3786\"], [0.5555555555555556, \"#d8576b\"], [0.6666666666666666, \"#ed7953\"], [0.7777777777777778, \"#fb9f3a\"], [0.8888888888888888, \"#fdca26\"], [1.0, \"#f0f921\"]]}, \"colorway\": [\"#636efa\", \"#EF553B\", \"#00cc96\", \"#ab63fa\", \"#FFA15A\", \"#19d3f3\", \"#FF6692\", \"#B6E880\", \"#FF97FF\", \"#FECB52\"], \"font\": {\"color\": \"#2a3f5f\"}, \"geo\": {\"bgcolor\": \"white\", \"lakecolor\": \"white\", \"landcolor\": \"#E5ECF6\", \"showlakes\": true, \"showland\": true, \"subunitcolor\": \"white\"}, \"hoverlabel\": {\"align\": \"left\"}, \"hovermode\": \"closest\", \"mapbox\": {\"style\": \"light\"}, \"paper_bgcolor\": \"white\", \"plot_bgcolor\": \"#E5ECF6\", \"polar\": {\"angularaxis\": {\"gridcolor\": \"white\", \"linecolor\": \"white\", \"ticks\": \"\"}, \"bgcolor\": \"#E5ECF6\", \"radialaxis\": {\"gridcolor\": \"white\", \"linecolor\": \"white\", \"ticks\": \"\"}}, \"scene\": {\"xaxis\": {\"backgroundcolor\": \"#E5ECF6\", \"gridcolor\": \"white\", \"gridwidth\": 2, \"linecolor\": \"white\", \"showbackground\": true, \"ticks\": \"\", \"zerolinecolor\": \"white\"}, \"yaxis\": {\"backgroundcolor\": \"#E5ECF6\", \"gridcolor\": \"white\", \"gridwidth\": 2, \"linecolor\": \"white\", \"showbackground\": true, \"ticks\": \"\", \"zerolinecolor\": \"white\"}, \"zaxis\": {\"backgroundcolor\": \"#E5ECF6\", \"gridcolor\": \"white\", \"gridwidth\": 2, \"linecolor\": \"white\", \"showbackground\": true, \"ticks\": \"\", \"zerolinecolor\": \"white\"}}, \"shapedefaults\": {\"line\": {\"color\": \"#2a3f5f\"}}, \"ternary\": {\"aaxis\": {\"gridcolor\": \"white\", \"linecolor\": \"white\", \"ticks\": \"\"}, \"baxis\": {\"gridcolor\": \"white\", \"linecolor\": \"white\", \"ticks\": \"\"}, \"bgcolor\": \"#E5ECF6\", \"caxis\": {\"gridcolor\": \"white\", \"linecolor\": \"white\", \"ticks\": \"\"}}, \"title\": {\"x\": 0.05}, \"xaxis\": {\"automargin\": true, \"gridcolor\": \"white\", \"linecolor\": \"white\", \"ticks\": \"\", \"title\": {\"standoff\": 15}, \"zerolinecolor\": \"white\", \"zerolinewidth\": 2}, \"yaxis\": {\"automargin\": true, \"gridcolor\": \"white\", \"linecolor\": \"white\", \"ticks\": \"\", \"title\": {\"standoff\": 15}, \"zerolinecolor\": \"white\", \"zerolinewidth\": 2}}}, \"title\": {\"text\": \"tri-gram\"}, \"width\": 800, \"xaxis\": {\"anchor\": \"y\", \"domain\": [0.0, 1.0], \"title\": {\"text\": \"word_count\"}}, \"yaxis\": {\"anchor\": \"x\", \"domain\": [0.0, 1.0], \"title\": {\"text\": \"word\"}}},\n",
       "                        {\"responsive\": true}\n",
       "                    ).then(function(){\n",
       "                            \n",
       "var gd = document.getElementById('6d9f29d9-c551-48aa-8e76-d997d57e4b24');\n",
       "var x = new MutationObserver(function (mutations, observer) {{\n",
       "        var display = window.getComputedStyle(gd).display;\n",
       "        if (!display || display === 'none') {{\n",
       "            console.log([gd, 'removed!']);\n",
       "            Plotly.purge(gd);\n",
       "            observer.disconnect();\n",
       "        }}\n",
       "}});\n",
       "\n",
       "// Listen for the removal of the full notebook cells\n",
       "var notebookContainer = gd.closest('#notebook-container');\n",
       "if (notebookContainer) {{\n",
       "    x.observe(notebookContainer, {childList: true});\n",
       "}}\n",
       "\n",
       "// Listen for the clearing of the current output cell\n",
       "var outputEl = gd.closest('.output');\n",
       "if (outputEl) {{\n",
       "    x.observe(outputEl, {childList: true});\n",
       "}}\n",
       "\n",
       "                        })\n",
       "                };\n",
       "                });\n",
       "            </script>\n",
       "        </div>"
      ]
     },
     "metadata": {},
     "output_type": "display_data"
    }
   ],
   "source": [
    "npt.bar_ngram(\n",
    "    title='tri-gram',\n",
    "    xaxis_label='word_count',\n",
    "    yaxis_label='word',\n",
    "    ngram=3,\n",
    "    top_n=50,\n",
    "    stopwords=stopwords,\n",
    "    save=True\n",
    ")"
   ]
  },
  {
   "cell_type": "markdown",
   "metadata": {},
   "source": [
    "## 3-4. tree map"
   ]
  },
  {
   "cell_type": "code",
   "execution_count": 104,
   "metadata": {},
   "outputs": [
    {
     "name": "stderr",
     "output_type": "stream",
     "text": [
      "100%|██████████| 6141/6141 [00:00<00:00, 251564.84it/s]\n"
     ]
    },
    {
     "data": {
      "application/vnd.plotly.v1+json": {
       "config": {
        "plotlyServerURL": "https://plot.ly"
       },
       "data": [
        {
         "branchvalues": "total",
         "domain": {
          "x": [
           0,
           1
          ],
          "y": [
           0,
           1
          ]
         },
         "hovertemplate": "labels=%{label}<br>word_count=%{value}<br>parent=%{parent}<br>id=%{id}<extra></extra>",
         "ids": [
          "インタビュー",
          "インターン",
          "インターン生",
          "オフィス",
          "コアバリュー",
          "コンテンツ",
          "サービス",
          "スキル",
          "チーム",
          "マーケティング",
          "メディア",
          "メンバー",
          "ユーザー",
          "リモートワーク",
          "世の中",
          "世界",
          "事業",
          "人生",
          "仲間",
          "企業",
          "価値",
          "僕",
          "入社",
          "動画",
          "参加",
          "大事",
          "大切",
          "実施",
          "家族",
          "幸せ",
          "広告",
          "必要",
          "思い",
          "情報",
          "成長",
          "日本",
          "最後",
          "未経験",
          "業務",
          "機会",
          "環境",
          "社会",
          "社員",
          "社長",
          "私たち",
          "紹介",
          "経験",
          "結果",
          "興味",
          "貢献"
         ],
         "labels": [
          "インタビュー",
          "インターン",
          "インターン生",
          "オフィス",
          "コアバリュー",
          "コンテンツ",
          "サービス",
          "スキル",
          "チーム",
          "マーケティング",
          "メディア",
          "メンバー",
          "ユーザー",
          "リモートワーク",
          "世の中",
          "世界",
          "事業",
          "人生",
          "仲間",
          "企業",
          "価値",
          "僕",
          "入社",
          "動画",
          "参加",
          "大事",
          "大切",
          "実施",
          "家族",
          "幸せ",
          "広告",
          "必要",
          "思い",
          "情報",
          "成長",
          "日本",
          "最後",
          "未経験",
          "業務",
          "機会",
          "環境",
          "社会",
          "社員",
          "社長",
          "私たち",
          "紹介",
          "経験",
          "結果",
          "興味",
          "貢献"
         ],
         "name": "",
         "parents": [
          "",
          "",
          "",
          "",
          "",
          "",
          "",
          "",
          "",
          "",
          "",
          "",
          "",
          "",
          "",
          "",
          "",
          "",
          "",
          "",
          "",
          "",
          "",
          "",
          "",
          "",
          "",
          "",
          "",
          "",
          "",
          "",
          "",
          "",
          "",
          "",
          "",
          "",
          "",
          "",
          "",
          "",
          "",
          "",
          "",
          "",
          "",
          "",
          "",
          ""
         ],
         "type": "treemap",
         "values": [
          71,
          129,
          57,
          73,
          67,
          72,
          78,
          83,
          81,
          204,
          112,
          312,
          78,
          71,
          83,
          171,
          108,
          120,
          68,
          134,
          84,
          138,
          208,
          56,
          77,
          88,
          94,
          58,
          75,
          84,
          62,
          79,
          88,
          86,
          161,
          67,
          63,
          63,
          67,
          62,
          98,
          65,
          101,
          73,
          57,
          91,
          102,
          69,
          64,
          80
         ]
        }
       ],
       "layout": {
        "height": 800,
        "legend": {
         "tracegroupgap": 0
        },
        "margin": {
         "t": 60
        },
        "template": {
         "data": {
          "bar": [
           {
            "error_x": {
             "color": "#2a3f5f"
            },
            "error_y": {
             "color": "#2a3f5f"
            },
            "marker": {
             "line": {
              "color": "#E5ECF6",
              "width": 0.5
             }
            },
            "type": "bar"
           }
          ],
          "barpolar": [
           {
            "marker": {
             "line": {
              "color": "#E5ECF6",
              "width": 0.5
             }
            },
            "type": "barpolar"
           }
          ],
          "carpet": [
           {
            "aaxis": {
             "endlinecolor": "#2a3f5f",
             "gridcolor": "white",
             "linecolor": "white",
             "minorgridcolor": "white",
             "startlinecolor": "#2a3f5f"
            },
            "baxis": {
             "endlinecolor": "#2a3f5f",
             "gridcolor": "white",
             "linecolor": "white",
             "minorgridcolor": "white",
             "startlinecolor": "#2a3f5f"
            },
            "type": "carpet"
           }
          ],
          "choropleth": [
           {
            "colorbar": {
             "outlinewidth": 0,
             "ticks": ""
            },
            "type": "choropleth"
           }
          ],
          "contour": [
           {
            "colorbar": {
             "outlinewidth": 0,
             "ticks": ""
            },
            "colorscale": [
             [
              0,
              "#0d0887"
             ],
             [
              0.1111111111111111,
              "#46039f"
             ],
             [
              0.2222222222222222,
              "#7201a8"
             ],
             [
              0.3333333333333333,
              "#9c179e"
             ],
             [
              0.4444444444444444,
              "#bd3786"
             ],
             [
              0.5555555555555556,
              "#d8576b"
             ],
             [
              0.6666666666666666,
              "#ed7953"
             ],
             [
              0.7777777777777778,
              "#fb9f3a"
             ],
             [
              0.8888888888888888,
              "#fdca26"
             ],
             [
              1,
              "#f0f921"
             ]
            ],
            "type": "contour"
           }
          ],
          "contourcarpet": [
           {
            "colorbar": {
             "outlinewidth": 0,
             "ticks": ""
            },
            "type": "contourcarpet"
           }
          ],
          "heatmap": [
           {
            "colorbar": {
             "outlinewidth": 0,
             "ticks": ""
            },
            "colorscale": [
             [
              0,
              "#0d0887"
             ],
             [
              0.1111111111111111,
              "#46039f"
             ],
             [
              0.2222222222222222,
              "#7201a8"
             ],
             [
              0.3333333333333333,
              "#9c179e"
             ],
             [
              0.4444444444444444,
              "#bd3786"
             ],
             [
              0.5555555555555556,
              "#d8576b"
             ],
             [
              0.6666666666666666,
              "#ed7953"
             ],
             [
              0.7777777777777778,
              "#fb9f3a"
             ],
             [
              0.8888888888888888,
              "#fdca26"
             ],
             [
              1,
              "#f0f921"
             ]
            ],
            "type": "heatmap"
           }
          ],
          "heatmapgl": [
           {
            "colorbar": {
             "outlinewidth": 0,
             "ticks": ""
            },
            "colorscale": [
             [
              0,
              "#0d0887"
             ],
             [
              0.1111111111111111,
              "#46039f"
             ],
             [
              0.2222222222222222,
              "#7201a8"
             ],
             [
              0.3333333333333333,
              "#9c179e"
             ],
             [
              0.4444444444444444,
              "#bd3786"
             ],
             [
              0.5555555555555556,
              "#d8576b"
             ],
             [
              0.6666666666666666,
              "#ed7953"
             ],
             [
              0.7777777777777778,
              "#fb9f3a"
             ],
             [
              0.8888888888888888,
              "#fdca26"
             ],
             [
              1,
              "#f0f921"
             ]
            ],
            "type": "heatmapgl"
           }
          ],
          "histogram": [
           {
            "marker": {
             "colorbar": {
              "outlinewidth": 0,
              "ticks": ""
             }
            },
            "type": "histogram"
           }
          ],
          "histogram2d": [
           {
            "colorbar": {
             "outlinewidth": 0,
             "ticks": ""
            },
            "colorscale": [
             [
              0,
              "#0d0887"
             ],
             [
              0.1111111111111111,
              "#46039f"
             ],
             [
              0.2222222222222222,
              "#7201a8"
             ],
             [
              0.3333333333333333,
              "#9c179e"
             ],
             [
              0.4444444444444444,
              "#bd3786"
             ],
             [
              0.5555555555555556,
              "#d8576b"
             ],
             [
              0.6666666666666666,
              "#ed7953"
             ],
             [
              0.7777777777777778,
              "#fb9f3a"
             ],
             [
              0.8888888888888888,
              "#fdca26"
             ],
             [
              1,
              "#f0f921"
             ]
            ],
            "type": "histogram2d"
           }
          ],
          "histogram2dcontour": [
           {
            "colorbar": {
             "outlinewidth": 0,
             "ticks": ""
            },
            "colorscale": [
             [
              0,
              "#0d0887"
             ],
             [
              0.1111111111111111,
              "#46039f"
             ],
             [
              0.2222222222222222,
              "#7201a8"
             ],
             [
              0.3333333333333333,
              "#9c179e"
             ],
             [
              0.4444444444444444,
              "#bd3786"
             ],
             [
              0.5555555555555556,
              "#d8576b"
             ],
             [
              0.6666666666666666,
              "#ed7953"
             ],
             [
              0.7777777777777778,
              "#fb9f3a"
             ],
             [
              0.8888888888888888,
              "#fdca26"
             ],
             [
              1,
              "#f0f921"
             ]
            ],
            "type": "histogram2dcontour"
           }
          ],
          "mesh3d": [
           {
            "colorbar": {
             "outlinewidth": 0,
             "ticks": ""
            },
            "type": "mesh3d"
           }
          ],
          "parcoords": [
           {
            "line": {
             "colorbar": {
              "outlinewidth": 0,
              "ticks": ""
             }
            },
            "type": "parcoords"
           }
          ],
          "pie": [
           {
            "automargin": true,
            "type": "pie"
           }
          ],
          "scatter": [
           {
            "marker": {
             "colorbar": {
              "outlinewidth": 0,
              "ticks": ""
             }
            },
            "type": "scatter"
           }
          ],
          "scatter3d": [
           {
            "line": {
             "colorbar": {
              "outlinewidth": 0,
              "ticks": ""
             }
            },
            "marker": {
             "colorbar": {
              "outlinewidth": 0,
              "ticks": ""
             }
            },
            "type": "scatter3d"
           }
          ],
          "scattercarpet": [
           {
            "marker": {
             "colorbar": {
              "outlinewidth": 0,
              "ticks": ""
             }
            },
            "type": "scattercarpet"
           }
          ],
          "scattergeo": [
           {
            "marker": {
             "colorbar": {
              "outlinewidth": 0,
              "ticks": ""
             }
            },
            "type": "scattergeo"
           }
          ],
          "scattergl": [
           {
            "marker": {
             "colorbar": {
              "outlinewidth": 0,
              "ticks": ""
             }
            },
            "type": "scattergl"
           }
          ],
          "scattermapbox": [
           {
            "marker": {
             "colorbar": {
              "outlinewidth": 0,
              "ticks": ""
             }
            },
            "type": "scattermapbox"
           }
          ],
          "scatterpolar": [
           {
            "marker": {
             "colorbar": {
              "outlinewidth": 0,
              "ticks": ""
             }
            },
            "type": "scatterpolar"
           }
          ],
          "scatterpolargl": [
           {
            "marker": {
             "colorbar": {
              "outlinewidth": 0,
              "ticks": ""
             }
            },
            "type": "scatterpolargl"
           }
          ],
          "scatterternary": [
           {
            "marker": {
             "colorbar": {
              "outlinewidth": 0,
              "ticks": ""
             }
            },
            "type": "scatterternary"
           }
          ],
          "surface": [
           {
            "colorbar": {
             "outlinewidth": 0,
             "ticks": ""
            },
            "colorscale": [
             [
              0,
              "#0d0887"
             ],
             [
              0.1111111111111111,
              "#46039f"
             ],
             [
              0.2222222222222222,
              "#7201a8"
             ],
             [
              0.3333333333333333,
              "#9c179e"
             ],
             [
              0.4444444444444444,
              "#bd3786"
             ],
             [
              0.5555555555555556,
              "#d8576b"
             ],
             [
              0.6666666666666666,
              "#ed7953"
             ],
             [
              0.7777777777777778,
              "#fb9f3a"
             ],
             [
              0.8888888888888888,
              "#fdca26"
             ],
             [
              1,
              "#f0f921"
             ]
            ],
            "type": "surface"
           }
          ],
          "table": [
           {
            "cells": {
             "fill": {
              "color": "#EBF0F8"
             },
             "line": {
              "color": "white"
             }
            },
            "header": {
             "fill": {
              "color": "#C8D4E3"
             },
             "line": {
              "color": "white"
             }
            },
            "type": "table"
           }
          ]
         },
         "layout": {
          "annotationdefaults": {
           "arrowcolor": "#2a3f5f",
           "arrowhead": 0,
           "arrowwidth": 1
          },
          "coloraxis": {
           "colorbar": {
            "outlinewidth": 0,
            "ticks": ""
           }
          },
          "colorscale": {
           "diverging": [
            [
             0,
             "#8e0152"
            ],
            [
             0.1,
             "#c51b7d"
            ],
            [
             0.2,
             "#de77ae"
            ],
            [
             0.3,
             "#f1b6da"
            ],
            [
             0.4,
             "#fde0ef"
            ],
            [
             0.5,
             "#f7f7f7"
            ],
            [
             0.6,
             "#e6f5d0"
            ],
            [
             0.7,
             "#b8e186"
            ],
            [
             0.8,
             "#7fbc41"
            ],
            [
             0.9,
             "#4d9221"
            ],
            [
             1,
             "#276419"
            ]
           ],
           "sequential": [
            [
             0,
             "#0d0887"
            ],
            [
             0.1111111111111111,
             "#46039f"
            ],
            [
             0.2222222222222222,
             "#7201a8"
            ],
            [
             0.3333333333333333,
             "#9c179e"
            ],
            [
             0.4444444444444444,
             "#bd3786"
            ],
            [
             0.5555555555555556,
             "#d8576b"
            ],
            [
             0.6666666666666666,
             "#ed7953"
            ],
            [
             0.7777777777777778,
             "#fb9f3a"
            ],
            [
             0.8888888888888888,
             "#fdca26"
            ],
            [
             1,
             "#f0f921"
            ]
           ],
           "sequentialminus": [
            [
             0,
             "#0d0887"
            ],
            [
             0.1111111111111111,
             "#46039f"
            ],
            [
             0.2222222222222222,
             "#7201a8"
            ],
            [
             0.3333333333333333,
             "#9c179e"
            ],
            [
             0.4444444444444444,
             "#bd3786"
            ],
            [
             0.5555555555555556,
             "#d8576b"
            ],
            [
             0.6666666666666666,
             "#ed7953"
            ],
            [
             0.7777777777777778,
             "#fb9f3a"
            ],
            [
             0.8888888888888888,
             "#fdca26"
            ],
            [
             1,
             "#f0f921"
            ]
           ]
          },
          "colorway": [
           "#636efa",
           "#EF553B",
           "#00cc96",
           "#ab63fa",
           "#FFA15A",
           "#19d3f3",
           "#FF6692",
           "#B6E880",
           "#FF97FF",
           "#FECB52"
          ],
          "font": {
           "color": "#2a3f5f"
          },
          "geo": {
           "bgcolor": "white",
           "lakecolor": "white",
           "landcolor": "#E5ECF6",
           "showlakes": true,
           "showland": true,
           "subunitcolor": "white"
          },
          "hoverlabel": {
           "align": "left"
          },
          "hovermode": "closest",
          "mapbox": {
           "style": "light"
          },
          "paper_bgcolor": "white",
          "plot_bgcolor": "#E5ECF6",
          "polar": {
           "angularaxis": {
            "gridcolor": "white",
            "linecolor": "white",
            "ticks": ""
           },
           "bgcolor": "#E5ECF6",
           "radialaxis": {
            "gridcolor": "white",
            "linecolor": "white",
            "ticks": ""
           }
          },
          "scene": {
           "xaxis": {
            "backgroundcolor": "#E5ECF6",
            "gridcolor": "white",
            "gridwidth": 2,
            "linecolor": "white",
            "showbackground": true,
            "ticks": "",
            "zerolinecolor": "white"
           },
           "yaxis": {
            "backgroundcolor": "#E5ECF6",
            "gridcolor": "white",
            "gridwidth": 2,
            "linecolor": "white",
            "showbackground": true,
            "ticks": "",
            "zerolinecolor": "white"
           },
           "zaxis": {
            "backgroundcolor": "#E5ECF6",
            "gridcolor": "white",
            "gridwidth": 2,
            "linecolor": "white",
            "showbackground": true,
            "ticks": "",
            "zerolinecolor": "white"
           }
          },
          "shapedefaults": {
           "line": {
            "color": "#2a3f5f"
           }
          },
          "ternary": {
           "aaxis": {
            "gridcolor": "white",
            "linecolor": "white",
            "ticks": ""
           },
           "baxis": {
            "gridcolor": "white",
            "linecolor": "white",
            "ticks": ""
           },
           "bgcolor": "#E5ECF6",
           "caxis": {
            "gridcolor": "white",
            "linecolor": "white",
            "ticks": ""
           }
          },
          "title": {
           "x": 0.05
          },
          "xaxis": {
           "automargin": true,
           "gridcolor": "white",
           "linecolor": "white",
           "ticks": "",
           "title": {
            "standoff": 15
           },
           "zerolinecolor": "white",
           "zerolinewidth": 2
          },
          "yaxis": {
           "automargin": true,
           "gridcolor": "white",
           "linecolor": "white",
           "ticks": "",
           "title": {
            "standoff": 15
           },
           "zerolinecolor": "white",
           "zerolinewidth": 2
          }
         }
        },
        "title": {
         "text": "tree map"
        },
        "width": 1200
       }
      },
      "text/html": [
       "<div>\n",
       "        \n",
       "        \n",
       "            <div id=\"25fab9b7-ae60-45b0-a066-7e0bdfdf07fb\" class=\"plotly-graph-div\" style=\"height:800px; width:1200px;\"></div>\n",
       "            <script type=\"text/javascript\">\n",
       "                require([\"plotly\"], function(Plotly) {\n",
       "                    window.PLOTLYENV=window.PLOTLYENV || {};\n",
       "                    \n",
       "                if (document.getElementById(\"25fab9b7-ae60-45b0-a066-7e0bdfdf07fb\")) {\n",
       "                    Plotly.newPlot(\n",
       "                        '25fab9b7-ae60-45b0-a066-7e0bdfdf07fb',\n",
       "                        [{\"branchvalues\": \"total\", \"domain\": {\"x\": [0.0, 1.0], \"y\": [0.0, 1.0]}, \"hovertemplate\": \"labels=%{label}<br>word_count=%{value}<br>parent=%{parent}<br>id=%{id}<extra></extra>\", \"ids\": [\"\\u30a4\\u30f3\\u30bf\\u30d3\\u30e5\\u30fc\", \"\\u30a4\\u30f3\\u30bf\\u30fc\\u30f3\", \"\\u30a4\\u30f3\\u30bf\\u30fc\\u30f3\\u751f\", \"\\u30aa\\u30d5\\u30a3\\u30b9\", \"\\u30b3\\u30a2\\u30d0\\u30ea\\u30e5\\u30fc\", \"\\u30b3\\u30f3\\u30c6\\u30f3\\u30c4\", \"\\u30b5\\u30fc\\u30d3\\u30b9\", \"\\u30b9\\u30ad\\u30eb\", \"\\u30c1\\u30fc\\u30e0\", \"\\u30de\\u30fc\\u30b1\\u30c6\\u30a3\\u30f3\\u30b0\", \"\\u30e1\\u30c7\\u30a3\\u30a2\", \"\\u30e1\\u30f3\\u30d0\\u30fc\", \"\\u30e6\\u30fc\\u30b6\\u30fc\", \"\\u30ea\\u30e2\\u30fc\\u30c8\\u30ef\\u30fc\\u30af\", \"\\u4e16\\u306e\\u4e2d\", \"\\u4e16\\u754c\", \"\\u4e8b\\u696d\", \"\\u4eba\\u751f\", \"\\u4ef2\\u9593\", \"\\u4f01\\u696d\", \"\\u4fa1\\u5024\", \"\\u50d5\", \"\\u5165\\u793e\", \"\\u52d5\\u753b\", \"\\u53c2\\u52a0\", \"\\u5927\\u4e8b\", \"\\u5927\\u5207\", \"\\u5b9f\\u65bd\", \"\\u5bb6\\u65cf\", \"\\u5e78\\u305b\", \"\\u5e83\\u544a\", \"\\u5fc5\\u8981\", \"\\u601d\\u3044\", \"\\u60c5\\u5831\", \"\\u6210\\u9577\", \"\\u65e5\\u672c\", \"\\u6700\\u5f8c\", \"\\u672a\\u7d4c\\u9a13\", \"\\u696d\\u52d9\", \"\\u6a5f\\u4f1a\", \"\\u74b0\\u5883\", \"\\u793e\\u4f1a\", \"\\u793e\\u54e1\", \"\\u793e\\u9577\", \"\\u79c1\\u305f\\u3061\", \"\\u7d39\\u4ecb\", \"\\u7d4c\\u9a13\", \"\\u7d50\\u679c\", \"\\u8208\\u5473\", \"\\u8ca2\\u732e\"], \"labels\": [\"\\u30a4\\u30f3\\u30bf\\u30d3\\u30e5\\u30fc\", \"\\u30a4\\u30f3\\u30bf\\u30fc\\u30f3\", \"\\u30a4\\u30f3\\u30bf\\u30fc\\u30f3\\u751f\", \"\\u30aa\\u30d5\\u30a3\\u30b9\", \"\\u30b3\\u30a2\\u30d0\\u30ea\\u30e5\\u30fc\", \"\\u30b3\\u30f3\\u30c6\\u30f3\\u30c4\", \"\\u30b5\\u30fc\\u30d3\\u30b9\", \"\\u30b9\\u30ad\\u30eb\", \"\\u30c1\\u30fc\\u30e0\", \"\\u30de\\u30fc\\u30b1\\u30c6\\u30a3\\u30f3\\u30b0\", \"\\u30e1\\u30c7\\u30a3\\u30a2\", \"\\u30e1\\u30f3\\u30d0\\u30fc\", \"\\u30e6\\u30fc\\u30b6\\u30fc\", \"\\u30ea\\u30e2\\u30fc\\u30c8\\u30ef\\u30fc\\u30af\", \"\\u4e16\\u306e\\u4e2d\", \"\\u4e16\\u754c\", \"\\u4e8b\\u696d\", \"\\u4eba\\u751f\", \"\\u4ef2\\u9593\", \"\\u4f01\\u696d\", \"\\u4fa1\\u5024\", \"\\u50d5\", \"\\u5165\\u793e\", \"\\u52d5\\u753b\", \"\\u53c2\\u52a0\", \"\\u5927\\u4e8b\", \"\\u5927\\u5207\", \"\\u5b9f\\u65bd\", \"\\u5bb6\\u65cf\", \"\\u5e78\\u305b\", \"\\u5e83\\u544a\", \"\\u5fc5\\u8981\", \"\\u601d\\u3044\", \"\\u60c5\\u5831\", \"\\u6210\\u9577\", \"\\u65e5\\u672c\", \"\\u6700\\u5f8c\", \"\\u672a\\u7d4c\\u9a13\", \"\\u696d\\u52d9\", \"\\u6a5f\\u4f1a\", \"\\u74b0\\u5883\", \"\\u793e\\u4f1a\", \"\\u793e\\u54e1\", \"\\u793e\\u9577\", \"\\u79c1\\u305f\\u3061\", \"\\u7d39\\u4ecb\", \"\\u7d4c\\u9a13\", \"\\u7d50\\u679c\", \"\\u8208\\u5473\", \"\\u8ca2\\u732e\"], \"name\": \"\", \"parents\": [\"\", \"\", \"\", \"\", \"\", \"\", \"\", \"\", \"\", \"\", \"\", \"\", \"\", \"\", \"\", \"\", \"\", \"\", \"\", \"\", \"\", \"\", \"\", \"\", \"\", \"\", \"\", \"\", \"\", \"\", \"\", \"\", \"\", \"\", \"\", \"\", \"\", \"\", \"\", \"\", \"\", \"\", \"\", \"\", \"\", \"\", \"\", \"\", \"\", \"\"], \"type\": \"treemap\", \"values\": [71, 129, 57, 73, 67, 72, 78, 83, 81, 204, 112, 312, 78, 71, 83, 171, 108, 120, 68, 134, 84, 138, 208, 56, 77, 88, 94, 58, 75, 84, 62, 79, 88, 86, 161, 67, 63, 63, 67, 62, 98, 65, 101, 73, 57, 91, 102, 69, 64, 80]}],\n",
       "                        {\"height\": 800, \"legend\": {\"tracegroupgap\": 0}, \"margin\": {\"t\": 60}, \"template\": {\"data\": {\"bar\": [{\"error_x\": {\"color\": \"#2a3f5f\"}, \"error_y\": {\"color\": \"#2a3f5f\"}, \"marker\": {\"line\": {\"color\": \"#E5ECF6\", \"width\": 0.5}}, \"type\": \"bar\"}], \"barpolar\": [{\"marker\": {\"line\": {\"color\": \"#E5ECF6\", \"width\": 0.5}}, \"type\": \"barpolar\"}], \"carpet\": [{\"aaxis\": {\"endlinecolor\": \"#2a3f5f\", \"gridcolor\": \"white\", \"linecolor\": \"white\", \"minorgridcolor\": \"white\", \"startlinecolor\": \"#2a3f5f\"}, \"baxis\": {\"endlinecolor\": \"#2a3f5f\", \"gridcolor\": \"white\", \"linecolor\": \"white\", \"minorgridcolor\": \"white\", \"startlinecolor\": \"#2a3f5f\"}, \"type\": \"carpet\"}], \"choropleth\": [{\"colorbar\": {\"outlinewidth\": 0, \"ticks\": \"\"}, \"type\": \"choropleth\"}], \"contour\": [{\"colorbar\": {\"outlinewidth\": 0, \"ticks\": \"\"}, \"colorscale\": [[0.0, \"#0d0887\"], [0.1111111111111111, \"#46039f\"], [0.2222222222222222, \"#7201a8\"], [0.3333333333333333, \"#9c179e\"], [0.4444444444444444, \"#bd3786\"], [0.5555555555555556, \"#d8576b\"], [0.6666666666666666, \"#ed7953\"], [0.7777777777777778, \"#fb9f3a\"], [0.8888888888888888, \"#fdca26\"], [1.0, \"#f0f921\"]], \"type\": \"contour\"}], \"contourcarpet\": [{\"colorbar\": {\"outlinewidth\": 0, \"ticks\": \"\"}, \"type\": \"contourcarpet\"}], \"heatmap\": [{\"colorbar\": {\"outlinewidth\": 0, \"ticks\": \"\"}, \"colorscale\": [[0.0, \"#0d0887\"], [0.1111111111111111, \"#46039f\"], [0.2222222222222222, \"#7201a8\"], [0.3333333333333333, \"#9c179e\"], [0.4444444444444444, \"#bd3786\"], [0.5555555555555556, \"#d8576b\"], [0.6666666666666666, \"#ed7953\"], [0.7777777777777778, \"#fb9f3a\"], [0.8888888888888888, \"#fdca26\"], [1.0, \"#f0f921\"]], \"type\": \"heatmap\"}], \"heatmapgl\": [{\"colorbar\": {\"outlinewidth\": 0, \"ticks\": \"\"}, \"colorscale\": [[0.0, \"#0d0887\"], [0.1111111111111111, \"#46039f\"], [0.2222222222222222, \"#7201a8\"], [0.3333333333333333, \"#9c179e\"], [0.4444444444444444, \"#bd3786\"], [0.5555555555555556, \"#d8576b\"], [0.6666666666666666, \"#ed7953\"], [0.7777777777777778, \"#fb9f3a\"], [0.8888888888888888, \"#fdca26\"], [1.0, \"#f0f921\"]], \"type\": \"heatmapgl\"}], \"histogram\": [{\"marker\": {\"colorbar\": {\"outlinewidth\": 0, \"ticks\": \"\"}}, \"type\": \"histogram\"}], \"histogram2d\": [{\"colorbar\": {\"outlinewidth\": 0, \"ticks\": \"\"}, \"colorscale\": [[0.0, \"#0d0887\"], [0.1111111111111111, \"#46039f\"], [0.2222222222222222, \"#7201a8\"], [0.3333333333333333, \"#9c179e\"], [0.4444444444444444, \"#bd3786\"], [0.5555555555555556, \"#d8576b\"], [0.6666666666666666, \"#ed7953\"], [0.7777777777777778, \"#fb9f3a\"], [0.8888888888888888, \"#fdca26\"], [1.0, \"#f0f921\"]], \"type\": \"histogram2d\"}], \"histogram2dcontour\": [{\"colorbar\": {\"outlinewidth\": 0, \"ticks\": \"\"}, \"colorscale\": [[0.0, \"#0d0887\"], [0.1111111111111111, \"#46039f\"], [0.2222222222222222, \"#7201a8\"], [0.3333333333333333, \"#9c179e\"], [0.4444444444444444, \"#bd3786\"], [0.5555555555555556, \"#d8576b\"], [0.6666666666666666, \"#ed7953\"], [0.7777777777777778, \"#fb9f3a\"], [0.8888888888888888, \"#fdca26\"], [1.0, \"#f0f921\"]], \"type\": \"histogram2dcontour\"}], \"mesh3d\": [{\"colorbar\": {\"outlinewidth\": 0, \"ticks\": \"\"}, \"type\": \"mesh3d\"}], \"parcoords\": [{\"line\": {\"colorbar\": {\"outlinewidth\": 0, \"ticks\": \"\"}}, \"type\": \"parcoords\"}], \"pie\": [{\"automargin\": true, \"type\": \"pie\"}], \"scatter\": [{\"marker\": {\"colorbar\": {\"outlinewidth\": 0, \"ticks\": \"\"}}, \"type\": \"scatter\"}], \"scatter3d\": [{\"line\": {\"colorbar\": {\"outlinewidth\": 0, \"ticks\": \"\"}}, \"marker\": {\"colorbar\": {\"outlinewidth\": 0, \"ticks\": \"\"}}, \"type\": \"scatter3d\"}], \"scattercarpet\": [{\"marker\": {\"colorbar\": {\"outlinewidth\": 0, \"ticks\": \"\"}}, \"type\": \"scattercarpet\"}], \"scattergeo\": [{\"marker\": {\"colorbar\": {\"outlinewidth\": 0, \"ticks\": \"\"}}, \"type\": \"scattergeo\"}], \"scattergl\": [{\"marker\": {\"colorbar\": {\"outlinewidth\": 0, \"ticks\": \"\"}}, \"type\": \"scattergl\"}], \"scattermapbox\": [{\"marker\": {\"colorbar\": {\"outlinewidth\": 0, \"ticks\": \"\"}}, \"type\": \"scattermapbox\"}], \"scatterpolar\": [{\"marker\": {\"colorbar\": {\"outlinewidth\": 0, \"ticks\": \"\"}}, \"type\": \"scatterpolar\"}], \"scatterpolargl\": [{\"marker\": {\"colorbar\": {\"outlinewidth\": 0, \"ticks\": \"\"}}, \"type\": \"scatterpolargl\"}], \"scatterternary\": [{\"marker\": {\"colorbar\": {\"outlinewidth\": 0, \"ticks\": \"\"}}, \"type\": \"scatterternary\"}], \"surface\": [{\"colorbar\": {\"outlinewidth\": 0, \"ticks\": \"\"}, \"colorscale\": [[0.0, \"#0d0887\"], [0.1111111111111111, \"#46039f\"], [0.2222222222222222, \"#7201a8\"], [0.3333333333333333, \"#9c179e\"], [0.4444444444444444, \"#bd3786\"], [0.5555555555555556, \"#d8576b\"], [0.6666666666666666, \"#ed7953\"], [0.7777777777777778, \"#fb9f3a\"], [0.8888888888888888, \"#fdca26\"], [1.0, \"#f0f921\"]], \"type\": \"surface\"}], \"table\": [{\"cells\": {\"fill\": {\"color\": \"#EBF0F8\"}, \"line\": {\"color\": \"white\"}}, \"header\": {\"fill\": {\"color\": \"#C8D4E3\"}, \"line\": {\"color\": \"white\"}}, \"type\": \"table\"}]}, \"layout\": {\"annotationdefaults\": {\"arrowcolor\": \"#2a3f5f\", \"arrowhead\": 0, \"arrowwidth\": 1}, \"coloraxis\": {\"colorbar\": {\"outlinewidth\": 0, \"ticks\": \"\"}}, \"colorscale\": {\"diverging\": [[0, \"#8e0152\"], [0.1, \"#c51b7d\"], [0.2, \"#de77ae\"], [0.3, \"#f1b6da\"], [0.4, \"#fde0ef\"], [0.5, \"#f7f7f7\"], [0.6, \"#e6f5d0\"], [0.7, \"#b8e186\"], [0.8, \"#7fbc41\"], [0.9, \"#4d9221\"], [1, \"#276419\"]], \"sequential\": [[0.0, \"#0d0887\"], [0.1111111111111111, \"#46039f\"], [0.2222222222222222, \"#7201a8\"], [0.3333333333333333, \"#9c179e\"], [0.4444444444444444, \"#bd3786\"], [0.5555555555555556, \"#d8576b\"], [0.6666666666666666, \"#ed7953\"], [0.7777777777777778, \"#fb9f3a\"], [0.8888888888888888, \"#fdca26\"], [1.0, \"#f0f921\"]], \"sequentialminus\": [[0.0, \"#0d0887\"], [0.1111111111111111, \"#46039f\"], [0.2222222222222222, \"#7201a8\"], [0.3333333333333333, \"#9c179e\"], [0.4444444444444444, \"#bd3786\"], [0.5555555555555556, \"#d8576b\"], [0.6666666666666666, \"#ed7953\"], [0.7777777777777778, \"#fb9f3a\"], [0.8888888888888888, \"#fdca26\"], [1.0, \"#f0f921\"]]}, \"colorway\": [\"#636efa\", \"#EF553B\", \"#00cc96\", \"#ab63fa\", \"#FFA15A\", \"#19d3f3\", \"#FF6692\", \"#B6E880\", \"#FF97FF\", \"#FECB52\"], \"font\": {\"color\": \"#2a3f5f\"}, \"geo\": {\"bgcolor\": \"white\", \"lakecolor\": \"white\", \"landcolor\": \"#E5ECF6\", \"showlakes\": true, \"showland\": true, \"subunitcolor\": \"white\"}, \"hoverlabel\": {\"align\": \"left\"}, \"hovermode\": \"closest\", \"mapbox\": {\"style\": \"light\"}, \"paper_bgcolor\": \"white\", \"plot_bgcolor\": \"#E5ECF6\", \"polar\": {\"angularaxis\": {\"gridcolor\": \"white\", \"linecolor\": \"white\", \"ticks\": \"\"}, \"bgcolor\": \"#E5ECF6\", \"radialaxis\": {\"gridcolor\": \"white\", \"linecolor\": \"white\", \"ticks\": \"\"}}, \"scene\": {\"xaxis\": {\"backgroundcolor\": \"#E5ECF6\", \"gridcolor\": \"white\", \"gridwidth\": 2, \"linecolor\": \"white\", \"showbackground\": true, \"ticks\": \"\", \"zerolinecolor\": \"white\"}, \"yaxis\": {\"backgroundcolor\": \"#E5ECF6\", \"gridcolor\": \"white\", \"gridwidth\": 2, \"linecolor\": \"white\", \"showbackground\": true, \"ticks\": \"\", \"zerolinecolor\": \"white\"}, \"zaxis\": {\"backgroundcolor\": \"#E5ECF6\", \"gridcolor\": \"white\", \"gridwidth\": 2, \"linecolor\": \"white\", \"showbackground\": true, \"ticks\": \"\", \"zerolinecolor\": \"white\"}}, \"shapedefaults\": {\"line\": {\"color\": \"#2a3f5f\"}}, \"ternary\": {\"aaxis\": {\"gridcolor\": \"white\", \"linecolor\": \"white\", \"ticks\": \"\"}, \"baxis\": {\"gridcolor\": \"white\", \"linecolor\": \"white\", \"ticks\": \"\"}, \"bgcolor\": \"#E5ECF6\", \"caxis\": {\"gridcolor\": \"white\", \"linecolor\": \"white\", \"ticks\": \"\"}}, \"title\": {\"x\": 0.05}, \"xaxis\": {\"automargin\": true, \"gridcolor\": \"white\", \"linecolor\": \"white\", \"ticks\": \"\", \"title\": {\"standoff\": 15}, \"zerolinecolor\": \"white\", \"zerolinewidth\": 2}, \"yaxis\": {\"automargin\": true, \"gridcolor\": \"white\", \"linecolor\": \"white\", \"ticks\": \"\", \"title\": {\"standoff\": 15}, \"zerolinecolor\": \"white\", \"zerolinewidth\": 2}}}, \"title\": {\"text\": \"tree map\"}, \"width\": 1200},\n",
       "                        {\"responsive\": true}\n",
       "                    ).then(function(){\n",
       "                            \n",
       "var gd = document.getElementById('25fab9b7-ae60-45b0-a066-7e0bdfdf07fb');\n",
       "var x = new MutationObserver(function (mutations, observer) {{\n",
       "        var display = window.getComputedStyle(gd).display;\n",
       "        if (!display || display === 'none') {{\n",
       "            console.log([gd, 'removed!']);\n",
       "            Plotly.purge(gd);\n",
       "            observer.disconnect();\n",
       "        }}\n",
       "}});\n",
       "\n",
       "// Listen for the removal of the full notebook cells\n",
       "var notebookContainer = gd.closest('#notebook-container');\n",
       "if (notebookContainer) {{\n",
       "    x.observe(notebookContainer, {childList: true});\n",
       "}}\n",
       "\n",
       "// Listen for the clearing of the current output cell\n",
       "var outputEl = gd.closest('.output');\n",
       "if (outputEl) {{\n",
       "    x.observe(outputEl, {childList: true});\n",
       "}}\n",
       "\n",
       "                        })\n",
       "                };\n",
       "                });\n",
       "            </script>\n",
       "        </div>"
      ]
     },
     "metadata": {},
     "output_type": "display_data"
    }
   ],
   "source": [
    "npt.treemap(\n",
    "    title='tree map',\n",
    "    ngram=1,\n",
    "    stopwords=stopwords,\n",
    "    width=1200,\n",
    "    height=800,\n",
    "    save=True\n",
    ")"
   ]
  },
  {
   "cell_type": "markdown",
   "metadata": {},
   "source": [
    "## 3-5. Histogram of the word count"
   ]
  },
  {
   "cell_type": "code",
   "execution_count": 84,
   "metadata": {},
   "outputs": [
    {
     "data": {
      "application/vnd.plotly.v1+json": {
       "config": {
        "plotlyServerURL": "https://plot.ly"
       },
       "data": [
        {
         "alignmentgroup": "True",
         "bingroup": "x",
         "hovertemplate": "words_length=%{x}<br>count=%{y}<extra></extra>",
         "legendgroup": "",
         "marker": {
          "color": "#636efa"
         },
         "name": "",
         "offsetgroup": "",
         "orientation": "v",
         "showlegend": false,
         "type": "histogram",
         "x": [
          0,
          2,
          4,
          3,
          1,
          3,
          6,
          1,
          6,
          0,
          3,
          3,
          2,
          4,
          6,
          2,
          2,
          7,
          7,
          0,
          5,
          4,
          5,
          5,
          8,
          6,
          9,
          4,
          5,
          3,
          7,
          1,
          7,
          2,
          0,
          2,
          3,
          1,
          4,
          5,
          1,
          7,
          5,
          1,
          2,
          1,
          7,
          9,
          2,
          10,
          2,
          2,
          3,
          8,
          3,
          6,
          7,
          5,
          7,
          5,
          4,
          3,
          8,
          5,
          5,
          3,
          2,
          2,
          1,
          2,
          5,
          0,
          3,
          6,
          6,
          5,
          10,
          12,
          11,
          7,
          8,
          3,
          6,
          4,
          5,
          2,
          6,
          0,
          1,
          3,
          2,
          4,
          4,
          7,
          1,
          8,
          6,
          4,
          4,
          2,
          5,
          1,
          4,
          4,
          0,
          3,
          2,
          6,
          3,
          3,
          7,
          4,
          3,
          8,
          4,
          1,
          5,
          3,
          2,
          4,
          3,
          7,
          5,
          0,
          9,
          8,
          8,
          8,
          5,
          10,
          7,
          8,
          7,
          4,
          3,
          3,
          5,
          0,
          3,
          4,
          3,
          3,
          0,
          2,
          0,
          3,
          1,
          1,
          4,
          0,
          6,
          2,
          2,
          4,
          2,
          2,
          2,
          4,
          2,
          7,
          2,
          5,
          0,
          2,
          0,
          4,
          3,
          2,
          4,
          5,
          5,
          4,
          4,
          5,
          4,
          3,
          4,
          3,
          10,
          1,
          13,
          7,
          1,
          7,
          2,
          2,
          1,
          0,
          0,
          0,
          3,
          9,
          5,
          3,
          2,
          4,
          2,
          2,
          5,
          4,
          4,
          2,
          5,
          1,
          2,
          2,
          1,
          2,
          2,
          2,
          2,
          3,
          3,
          3,
          1,
          6,
          4,
          5,
          3,
          3,
          5,
          2,
          6,
          4,
          6,
          7,
          4,
          1,
          1,
          9,
          1,
          7,
          2,
          6,
          7,
          3,
          2,
          6,
          3,
          2,
          2,
          3,
          3,
          5,
          13,
          6,
          1,
          1,
          1,
          1,
          1,
          3,
          2,
          3,
          2,
          5,
          1,
          2,
          1,
          3,
          5,
          2,
          0,
          1,
          5,
          7,
          6,
          5,
          2,
          0,
          7,
          4,
          4,
          7,
          2,
          4,
          5,
          1,
          0,
          2,
          7,
          3,
          4,
          2,
          1,
          2,
          4,
          9,
          7,
          5,
          8,
          7,
          5,
          7,
          6,
          14,
          8,
          3,
          2,
          3,
          5,
          20,
          1,
          2,
          6,
          3,
          3,
          6,
          5,
          5,
          10,
          5,
          7,
          3,
          18,
          5,
          5,
          6,
          2,
          5,
          1,
          1,
          2,
          2,
          5,
          12,
          9,
          7,
          4,
          6,
          1,
          0,
          2,
          1,
          2,
          3,
          0,
          4,
          0,
          7,
          7,
          10,
          6,
          2,
          4,
          0,
          1,
          1,
          3,
          11,
          3,
          6,
          1,
          5,
          13,
          7,
          9,
          0,
          1,
          5,
          2,
          0,
          1,
          4,
          2,
          4,
          7,
          3,
          2,
          4,
          1,
          0,
          5,
          4,
          2,
          3,
          3,
          5,
          2,
          2,
          2,
          1,
          6,
          1,
          1,
          6,
          7,
          7,
          24,
          4,
          3,
          1,
          3,
          4,
          4,
          6,
          5,
          6,
          1,
          2,
          5,
          0,
          2,
          1,
          0,
          6,
          4,
          6,
          2,
          12,
          5,
          0,
          5,
          0,
          2,
          7,
          1,
          3,
          5,
          2,
          13,
          4,
          5,
          2,
          2,
          8,
          2,
          2,
          5,
          7,
          3,
          10,
          3,
          5,
          7,
          2,
          2,
          6,
          11,
          3,
          1,
          5,
          9,
          10,
          2,
          0,
          2,
          5,
          5,
          7,
          9,
          6,
          5,
          4,
          17,
          5,
          1,
          2,
          10,
          6,
          7,
          5,
          5,
          4,
          1,
          1,
          2,
          5,
          2,
          1,
          8,
          4,
          1,
          0,
          2,
          2,
          3,
          2,
          4,
          2,
          1,
          3,
          8,
          4,
          1,
          5,
          2,
          1,
          5,
          3,
          8,
          10,
          3,
          4,
          4,
          10,
          5,
          5,
          2,
          27,
          7,
          5,
          1,
          5,
          4,
          7,
          7,
          10,
          3,
          5,
          8,
          2,
          3,
          3,
          2,
          6,
          2,
          0,
          3,
          4,
          3,
          8,
          2,
          2,
          8,
          1,
          7,
          5,
          4,
          3,
          7,
          5,
          1,
          5,
          3,
          9,
          4,
          3,
          0,
          10,
          7,
          1,
          5,
          4,
          1,
          5,
          4,
          18,
          10,
          1,
          1,
          8,
          12,
          8,
          3,
          0,
          8,
          3,
          2,
          2,
          2,
          4,
          4,
          1,
          7,
          3,
          17,
          9,
          0,
          1,
          3,
          5,
          6,
          5,
          2,
          11,
          6,
          12,
          2,
          8,
          6,
          3,
          13,
          2,
          7,
          2,
          1,
          4,
          9,
          5,
          0,
          2,
          2,
          7,
          1,
          3,
          2,
          3,
          5,
          1,
          3,
          3,
          7,
          5,
          1,
          4,
          4,
          2,
          3,
          5,
          8,
          6,
          7,
          1,
          5,
          3,
          4,
          3,
          2,
          2,
          11,
          4,
          0,
          9,
          4,
          0,
          0,
          3,
          5,
          4,
          7,
          6,
          3,
          0,
          0,
          7,
          2,
          5,
          0,
          3,
          3,
          4,
          4,
          6,
          1,
          1,
          2,
          2,
          0,
          0,
          3,
          14,
          1,
          10,
          4,
          5,
          2,
          6,
          5,
          9,
          4,
          14,
          8,
          2,
          0,
          10,
          8,
          3,
          9,
          7,
          3,
          1,
          0,
          3,
          2,
          0,
          0,
          3,
          5,
          11,
          5,
          1,
          2,
          1,
          3,
          2,
          6,
          5,
          3,
          2,
          13,
          4,
          8,
          4,
          2,
          5,
          5,
          5,
          4,
          6,
          2,
          2,
          0,
          11,
          1,
          9,
          7,
          5,
          4,
          5,
          4,
          3,
          5,
          8,
          5,
          5,
          5,
          5,
          8,
          1,
          5,
          4,
          7,
          6,
          4,
          1,
          4,
          8,
          8,
          9,
          2,
          9,
          8,
          7,
          6,
          5,
          11,
          4,
          5,
          3,
          1,
          8,
          1,
          3,
          5,
          8,
          7,
          5,
          1,
          1,
          5,
          2,
          11,
          4,
          1,
          8,
          11,
          3,
          7,
          2,
          3,
          3,
          10,
          2,
          5,
          10,
          8,
          6,
          1,
          6,
          5,
          4,
          3,
          0,
          4,
          2,
          4,
          4,
          7,
          7,
          0,
          3,
          0,
          5,
          6,
          8,
          3,
          8,
          3,
          8,
          4,
          1,
          13,
          6,
          3,
          5,
          1,
          2,
          0,
          4,
          3,
          6,
          3,
          1,
          0,
          0,
          4,
          5,
          4,
          4,
          2,
          2,
          2,
          2,
          8,
          2,
          4,
          4,
          0,
          6,
          5,
          2,
          3,
          11,
          6,
          5,
          4,
          2,
          0,
          7,
          7,
          6,
          4,
          2,
          5,
          2,
          5,
          2,
          1,
          4,
          1,
          1,
          8,
          2,
          3,
          3,
          3,
          3,
          1,
          2,
          9,
          1,
          1,
          3,
          3,
          1,
          1,
          1,
          4,
          1,
          4,
          2,
          2,
          0,
          11,
          0,
          5,
          1,
          3,
          9,
          0,
          1,
          5,
          1,
          0,
          2,
          3,
          1,
          1,
          2,
          1,
          0,
          4,
          11,
          3,
          7,
          1,
          3,
          5,
          5,
          2,
          0,
          3,
          4,
          5,
          1,
          5,
          2,
          7,
          4,
          23,
          3,
          5,
          1,
          3,
          1,
          7,
          0,
          4,
          6,
          1,
          4,
          11,
          2,
          8,
          5,
          5,
          6,
          7,
          3,
          8,
          2,
          4,
          7,
          4,
          0,
          0,
          0,
          0,
          4,
          0,
          0,
          2,
          3,
          0,
          1,
          5,
          3,
          1,
          3,
          0,
          2,
          1,
          1,
          3,
          9,
          4,
          2,
          2,
          3,
          1,
          8,
          4,
          6,
          4,
          1,
          6,
          0,
          7,
          2,
          2,
          2,
          2,
          0,
          9,
          2,
          3,
          2,
          1,
          2,
          3,
          11,
          4,
          2,
          2,
          5,
          6,
          1,
          5,
          7,
          3,
          2,
          12,
          0,
          3,
          7,
          4,
          7,
          1,
          0,
          2,
          8,
          6,
          2,
          0,
          5,
          2,
          1,
          5,
          2,
          1,
          1,
          2,
          0,
          4,
          5,
          7,
          4,
          6,
          4,
          1,
          1,
          2,
          0,
          2,
          12,
          8,
          3,
          3,
          3,
          1,
          2,
          2,
          3,
          1,
          5,
          7,
          1,
          1,
          5,
          0,
          8,
          4,
          2,
          4,
          2,
          1,
          4,
          3,
          2,
          2,
          1,
          5,
          2,
          3,
          5,
          5,
          9,
          5,
          1,
          7,
          3,
          4,
          7,
          1,
          3,
          2,
          7,
          4,
          0,
          7,
          4,
          0,
          0,
          1,
          1,
          0,
          2,
          2,
          1,
          2,
          1,
          6,
          3,
          5,
          3,
          1,
          5,
          2,
          3,
          5,
          5,
          3,
          5,
          1,
          7,
          8,
          6,
          4,
          2,
          2,
          7,
          1,
          0,
          3,
          3,
          3,
          2,
          1,
          0,
          5,
          7,
          3,
          1,
          9,
          2,
          10,
          9,
          5,
          2,
          0,
          4,
          1,
          4,
          2,
          3,
          0,
          2,
          1,
          0,
          1,
          0,
          1,
          0,
          3,
          3,
          1,
          2,
          0,
          0,
          2,
          4,
          2,
          2,
          0,
          4,
          3,
          1,
          1,
          2,
          1,
          1,
          1,
          2,
          2,
          0,
          3,
          1,
          7,
          4,
          3,
          1,
          1,
          2,
          0,
          0,
          7,
          1,
          2,
          1,
          1,
          1,
          1,
          2,
          1,
          0,
          1,
          0,
          3,
          4,
          5,
          0,
          0,
          3,
          1,
          3,
          3,
          0,
          0,
          1,
          0,
          2,
          1,
          0,
          0,
          6,
          8,
          1,
          0,
          0,
          0,
          0,
          0,
          2,
          3,
          5,
          8,
          5,
          0,
          1,
          2,
          1,
          0,
          1,
          1,
          0,
          0,
          1,
          1,
          3,
          1,
          2,
          0,
          0,
          0,
          3,
          6,
          4,
          6,
          5,
          1,
          0,
          3,
          2,
          2,
          2,
          6,
          5,
          0,
          3,
          0,
          0,
          3,
          1,
          1,
          3,
          2,
          2,
          0,
          1,
          0,
          0,
          1,
          1,
          1,
          2,
          0,
          1,
          2,
          4,
          3,
          4,
          1,
          1,
          1,
          0,
          4,
          6,
          1,
          3,
          5,
          7,
          1,
          8,
          0,
          6,
          5,
          1,
          4,
          7,
          0,
          2,
          4,
          4,
          2,
          1,
          4,
          4,
          5,
          3,
          2,
          5,
          2,
          5,
          1,
          13,
          2,
          2,
          4,
          5,
          1,
          1,
          3,
          0,
          2,
          4,
          2,
          7,
          4,
          1,
          4,
          2,
          2,
          2,
          4,
          2,
          1,
          0,
          1,
          2,
          1,
          1,
          1,
          8,
          9,
          19,
          4,
          1,
          18,
          9,
          3,
          6,
          1,
          7,
          16,
          10,
          4,
          19,
          31,
          2,
          0,
          19,
          1,
          16,
          25,
          7,
          11,
          2,
          10,
          7,
          7,
          3,
          1,
          3,
          11,
          7,
          7,
          2,
          3,
          4,
          9,
          7,
          4,
          0,
          2,
          6,
          0,
          2,
          4,
          7,
          2,
          4,
          1,
          2,
          1,
          1,
          4,
          5,
          13,
          6,
          1,
          3,
          1,
          9,
          4,
          1,
          1,
          1,
          6,
          8,
          5,
          0,
          9,
          4,
          0,
          8,
          2,
          4,
          3,
          3,
          1,
          5,
          7,
          1,
          0,
          1,
          3,
          2,
          5,
          2,
          0,
          8,
          1,
          8,
          8,
          20,
          6,
          1,
          3,
          3,
          4,
          8,
          3,
          7,
          1,
          3,
          3,
          0,
          0,
          0,
          2,
          1,
          9,
          4,
          5,
          6,
          7,
          5,
          8,
          6,
          0,
          2,
          4,
          1,
          3,
          1,
          4,
          5,
          9,
          5,
          3,
          1,
          6,
          1,
          8,
          5,
          2,
          1,
          1,
          4,
          1,
          9,
          6,
          1,
          0,
          7,
          3,
          2,
          5,
          5,
          3,
          2,
          2,
          4,
          4,
          4,
          8,
          2,
          2,
          2,
          3,
          3,
          2,
          3,
          1,
          3,
          2,
          17,
          10,
          20,
          8,
          8,
          3,
          8,
          3,
          4,
          2,
          6,
          3,
          10,
          5,
          5,
          6,
          6,
          5,
          20,
          3,
          2,
          1,
          0,
          5,
          7,
          11,
          7,
          12,
          14,
          5,
          8,
          4,
          9,
          9,
          5,
          10,
          6,
          0,
          2,
          1,
          10,
          7,
          3,
          6,
          4,
          26,
          18,
          5,
          0,
          4,
          7,
          7,
          7,
          1,
          20,
          13,
          19,
          9,
          4,
          1,
          4,
          2,
          2,
          6,
          9,
          3,
          1,
          5,
          3,
          6,
          1,
          2,
          1,
          3,
          0,
          3,
          1,
          13,
          8,
          1,
          2,
          1,
          2,
          2,
          8,
          8,
          3,
          4,
          2,
          3,
          1,
          1,
          3,
          3,
          6,
          1,
          2,
          3,
          5,
          3,
          6,
          4,
          0,
          9,
          2,
          4,
          6,
          3,
          3,
          3,
          6,
          1,
          3,
          3,
          4,
          7,
          4,
          8,
          4,
          3,
          7,
          11,
          5,
          3,
          2,
          5,
          2,
          3,
          5,
          4,
          10,
          3,
          1,
          6,
          3,
          4,
          8,
          2,
          2,
          2,
          7,
          3,
          5,
          1,
          11,
          13,
          3,
          8,
          5,
          12,
          5,
          2,
          2,
          2,
          5,
          3,
          1,
          3,
          6,
          12,
          7,
          2,
          2,
          3,
          0,
          2,
          3,
          3,
          3,
          2,
          3,
          1,
          3,
          0,
          4,
          1,
          2,
          1,
          4,
          5,
          2,
          5,
          4,
          2,
          5,
          7,
          4,
          3,
          4,
          4,
          1,
          3,
          0,
          5,
          1,
          4,
          4,
          1,
          6,
          1,
          1,
          0,
          4,
          0,
          1,
          6,
          3,
          3,
          7,
          1,
          8,
          3,
          0,
          2,
          4,
          4,
          4,
          1,
          4,
          5,
          2,
          7,
          5,
          0,
          0,
          4,
          2,
          4,
          3,
          7,
          5,
          2,
          9,
          2,
          1,
          0,
          6,
          1,
          1,
          1,
          1,
          1,
          1,
          1,
          3,
          7,
          7,
          2,
          2,
          21,
          0,
          1,
          4,
          2,
          1,
          1,
          6,
          4,
          0,
          6,
          3,
          1,
          5,
          4,
          1,
          2,
          3,
          1,
          1,
          11,
          2,
          4,
          2,
          0,
          2,
          5,
          9,
          1,
          5,
          9,
          5,
          7,
          12,
          7,
          3,
          8,
          1,
          0,
          5,
          8,
          0,
          7,
          5,
          19,
          4,
          1,
          2,
          2,
          4,
          4,
          6,
          12,
          0,
          13,
          5,
          5,
          3,
          8,
          8,
          5,
          8,
          3,
          0,
          3,
          8,
          5,
          2,
          3,
          7,
          1,
          1,
          2,
          0,
          5,
          3,
          1,
          1,
          5,
          2,
          4,
          2,
          2,
          4,
          9,
          10,
          2,
          5,
          4,
          1,
          3,
          4,
          4,
          1,
          1,
          8,
          3,
          4,
          7,
          2,
          11,
          8,
          7,
          3,
          0,
          2,
          2,
          1,
          2,
          0,
          2,
          2,
          5,
          2,
          0,
          0,
          3,
          2,
          11,
          1,
          1,
          0,
          5,
          5,
          8,
          6,
          9,
          5,
          3,
          7,
          1,
          7,
          2,
          2,
          1,
          1,
          2,
          1,
          4,
          3,
          1,
          1,
          2,
          4,
          0,
          7,
          4,
          2,
          0,
          4,
          9,
          0,
          13,
          0,
          8,
          3,
          1,
          4,
          2,
          1,
          3,
          0,
          2,
          3,
          4,
          2,
          7,
          2,
          2,
          1,
          2,
          1,
          1,
          1,
          1,
          0,
          2,
          3,
          1,
          2,
          8,
          2,
          4,
          4,
          4,
          1,
          3,
          4,
          4,
          3,
          5,
          8,
          2,
          3,
          5,
          2,
          0,
          0,
          3,
          1,
          4,
          0,
          8,
          0,
          0,
          3,
          5,
          4,
          6,
          7,
          7,
          0,
          6,
          4,
          4,
          3,
          7,
          3,
          3,
          1,
          3,
          1,
          5,
          4,
          1,
          1,
          2,
          3,
          0,
          6,
          8,
          2,
          0,
          2,
          7,
          0,
          3,
          1,
          4,
          5,
          3,
          1,
          3,
          1,
          6,
          8,
          3,
          2,
          3,
          4,
          5,
          1,
          5,
          1,
          1,
          8,
          4,
          1,
          4,
          4,
          4,
          1,
          6,
          3,
          9,
          8,
          2,
          3,
          2,
          4,
          2,
          0,
          3,
          1,
          4,
          5,
          3,
          10,
          5,
          7,
          4,
          4,
          0,
          9,
          4,
          1,
          4,
          5,
          3,
          2,
          2,
          7,
          1,
          0,
          3,
          5,
          3,
          2,
          6,
          2,
          2,
          3,
          5,
          3,
          3,
          5,
          6,
          3,
          2,
          9,
          5,
          8,
          2,
          2,
          2,
          2,
          5,
          0,
          2,
          6,
          6,
          4,
          0,
          5,
          3,
          2,
          2,
          1,
          7,
          2,
          1,
          2,
          5,
          11,
          2,
          0,
          4,
          2,
          0,
          4,
          4,
          2,
          7,
          0,
          5,
          2,
          5,
          1,
          3,
          5,
          3,
          3,
          1,
          0,
          12,
          17,
          6,
          3,
          0,
          1,
          8,
          4,
          6,
          3,
          3,
          2,
          3,
          3,
          2,
          2,
          11,
          8,
          5,
          0,
          2,
          4,
          7,
          2,
          0,
          2,
          1,
          4,
          2,
          9,
          2,
          4,
          8,
          1,
          2,
          2,
          1,
          11,
          2,
          4,
          3,
          4,
          1,
          2,
          2,
          4,
          3,
          1,
          5,
          1,
          7,
          0,
          0,
          1,
          0,
          0,
          3,
          1,
          0,
          2,
          5,
          3,
          3,
          3,
          1,
          1,
          3,
          2,
          1,
          0,
          1,
          0,
          1,
          1,
          1,
          0,
          2,
          5,
          0,
          3,
          5,
          1,
          3,
          3,
          4,
          4,
          1,
          5,
          0,
          3,
          0,
          1,
          3,
          2,
          5,
          4,
          2,
          2,
          1,
          0,
          3,
          15,
          0,
          5,
          6,
          0,
          0,
          3,
          0,
          4,
          2,
          3,
          2,
          0,
          2,
          1,
          3,
          4,
          0,
          0,
          1,
          2,
          3,
          2,
          4,
          4,
          0,
          4,
          1,
          5,
          1,
          3,
          3,
          5,
          4,
          4,
          2,
          6,
          4,
          2,
          2,
          1,
          2,
          1,
          0,
          4,
          3,
          4,
          1,
          3,
          2,
          3,
          10,
          8,
          4,
          9,
          4,
          0,
          1,
          3,
          5,
          4,
          4,
          5,
          5,
          1,
          0,
          4,
          0,
          0,
          4,
          4,
          1,
          1,
          5,
          10,
          3,
          3,
          2,
          2,
          1,
          7,
          7,
          7,
          5,
          3,
          3,
          3,
          3,
          3,
          4,
          4,
          12,
          5,
          8,
          13,
          5,
          2,
          5,
          4,
          1,
          3,
          16,
          3,
          8,
          14,
          17,
          6,
          10,
          3,
          2,
          2,
          5,
          7,
          19,
          22,
          8,
          2,
          2,
          6,
          11,
          9,
          8,
          4,
          3,
          5,
          15,
          5,
          14,
          1,
          1,
          7,
          8,
          9,
          9,
          1,
          7,
          4,
          2,
          1,
          2,
          7,
          3,
          1,
          7,
          1,
          0,
          5,
          3,
          3,
          1,
          1,
          1,
          0,
          1,
          3,
          2,
          5,
          3,
          6,
          3,
          1,
          1,
          7,
          1,
          4,
          7,
          6,
          1,
          3,
          2,
          2,
          2,
          1,
          5,
          3,
          0,
          6,
          4,
          2,
          2,
          2,
          3,
          12,
          4,
          10,
          4,
          1,
          4,
          2,
          1,
          2,
          1,
          3,
          5,
          0,
          4,
          6,
          1,
          9,
          2,
          1,
          9,
          4,
          6,
          14,
          9,
          8,
          3,
          1,
          6,
          6,
          6,
          1,
          2,
          2,
          10,
          1,
          2,
          4,
          1,
          0,
          1,
          5,
          5,
          0,
          0,
          3,
          5,
          4,
          7,
          7,
          7,
          0,
          6,
          4,
          4,
          3,
          7,
          3,
          3,
          1,
          5,
          4,
          1,
          3,
          5,
          5,
          1,
          2,
          3,
          0,
          6,
          8,
          2,
          0,
          2,
          7,
          0,
          3,
          1,
          4,
          4,
          3,
          1,
          3,
          1,
          6,
          8,
          3,
          2,
          3,
          4,
          5,
          1,
          5,
          1,
          1,
          8,
          4,
          1,
          4,
          4,
          4,
          1,
          6,
          3,
          9,
          8,
          2,
          3,
          2,
          4,
          0,
          3,
          7,
          9,
          8,
          7,
          7,
          6,
          4,
          15,
          7,
          2,
          3,
          4,
          3,
          4,
          3,
          8,
          1,
          3,
          4,
          8,
          3,
          6,
          2,
          6,
          0,
          5,
          0,
          8,
          13,
          6,
          4,
          5,
          5,
          5,
          8,
          4,
          11,
          7,
          3,
          10,
          2,
          0,
          2,
          1,
          5,
          4,
          15,
          6,
          5,
          2,
          0,
          1,
          4,
          11,
          12,
          6,
          5,
          6,
          7,
          3,
          7,
          1,
          7,
          8,
          3,
          14,
          2,
          2,
          0,
          0,
          3,
          5,
          2,
          4,
          12,
          6,
          6,
          10,
          13,
          0,
          7,
          5,
          5,
          5,
          5,
          8,
          4,
          6,
          10,
          2,
          6,
          0,
          9,
          5,
          2,
          6,
          6,
          4,
          4,
          4,
          3,
          1,
          1,
          6,
          1,
          1,
          2,
          6,
          2,
          1,
          8,
          1,
          6,
          10,
          1,
          12,
          8,
          1,
          14,
          7,
          8,
          18,
          3,
          2,
          9,
          6,
          6,
          4,
          2,
          9,
          5,
          2,
          2,
          5,
          9,
          1,
          1,
          13,
          4,
          1,
          2,
          1,
          2,
          0,
          0,
          5,
          2,
          1,
          1,
          1,
          11,
          0,
          1,
          3,
          3,
          0,
          2,
          0,
          1,
          4,
          3,
          3,
          3,
          2,
          3,
          7,
          4,
          11,
          1,
          1,
          10,
          4,
          5,
          2,
          1,
          4,
          0,
          0,
          2,
          1,
          3,
          5,
          6,
          3,
          2,
          3,
          4,
          5,
          3,
          4,
          3,
          3,
          2,
          0,
          6,
          2,
          1,
          1,
          1,
          2,
          1,
          0,
          1,
          6,
          1,
          8,
          3,
          2,
          5,
          4,
          2,
          4,
          10,
          10,
          3,
          2,
          3,
          2,
          5,
          0,
          2,
          3,
          4,
          3,
          1,
          0,
          1,
          1,
          3,
          5,
          3,
          1,
          4,
          4,
          8,
          6,
          3,
          5,
          7,
          9,
          9,
          4,
          2,
          4,
          9,
          5,
          5,
          6,
          5,
          3,
          8,
          9,
          5,
          4,
          10,
          4,
          3,
          7,
          1,
          7,
          6,
          6,
          7,
          4,
          10,
          3,
          4,
          4,
          5,
          5,
          4,
          5,
          4,
          5,
          5,
          3,
          7,
          9,
          4,
          5,
          5,
          8,
          7,
          6,
          7,
          1,
          10,
          5,
          3,
          0,
          3,
          7,
          2,
          7,
          4,
          1,
          4,
          7,
          10,
          4,
          8,
          3,
          5,
          0,
          6,
          0,
          4,
          6,
          10,
          4,
          8,
          7,
          2,
          0,
          3,
          5,
          1,
          3,
          14,
          0,
          0,
          4,
          1,
          0,
          2,
          2,
          9,
          2,
          3,
          0,
          2,
          1,
          3,
          17,
          4,
          2,
          1,
          2,
          2,
          3,
          4,
          5,
          9,
          2,
          11,
          2,
          6,
          4,
          8,
          8,
          14,
          16,
          2,
          11,
          3,
          3,
          6,
          4,
          2,
          18,
          3,
          8,
          3,
          8,
          2,
          11,
          1,
          8,
          4,
          3,
          8,
          2,
          0,
          2,
          6,
          2,
          5,
          7,
          3,
          5,
          4,
          8,
          2,
          1,
          2,
          5,
          2,
          9,
          9,
          2,
          3,
          1,
          5,
          2,
          5,
          2,
          7,
          2,
          6,
          7,
          6,
          5,
          9,
          3,
          6,
          3,
          7,
          3,
          3,
          6,
          3,
          3,
          4,
          2,
          7,
          7,
          8,
          1,
          6,
          9,
          5,
          6,
          4,
          3,
          9,
          1,
          5,
          2,
          2,
          4,
          2,
          9,
          5,
          6,
          4,
          2,
          4,
          3,
          5,
          5,
          17,
          0,
          4,
          1,
          1,
          2,
          5,
          2,
          7,
          8,
          2,
          5,
          2,
          1,
          10,
          5,
          4,
          1,
          0,
          1,
          0,
          7,
          2,
          9,
          8,
          8,
          11,
          11,
          2,
          3,
          2,
          4,
          5,
          0,
          6,
          4,
          9,
          4,
          1,
          2,
          3,
          3,
          3,
          3,
          5,
          5,
          13,
          7,
          2,
          1,
          3,
          1,
          3,
          11,
          8,
          1,
          1,
          0,
          3,
          0,
          2,
          1,
          10,
          12,
          3,
          4,
          0,
          9,
          1,
          8,
          7,
          11,
          2,
          5,
          2,
          1,
          1,
          9,
          1,
          15,
          7,
          2,
          1,
          3,
          0,
          1,
          2,
          4,
          2,
          0,
          2,
          5,
          6,
          9,
          0,
          4,
          2,
          1,
          1,
          2,
          5,
          6,
          9,
          5,
          4,
          2,
          3,
          2,
          3,
          1,
          2,
          5,
          4,
          2,
          2,
          1,
          2,
          0,
          5,
          2,
          1,
          3,
          3,
          4,
          4,
          1,
          2,
          2,
          2,
          1,
          2,
          3,
          7,
          8,
          3,
          0,
          2,
          3,
          7,
          0,
          3,
          5,
          4,
          4,
          6,
          8,
          3,
          8,
          4,
          6,
          6,
          7,
          7,
          10,
          3,
          4,
          4,
          4,
          8,
          10,
          4,
          12,
          4,
          10,
          9,
          6,
          2,
          5,
          0,
          2,
          7,
          3,
          7,
          1,
          7,
          5,
          6,
          8,
          6,
          6,
          3,
          5,
          7,
          1,
          10,
          5,
          1,
          8,
          3,
          4,
          11,
          12,
          5,
          4,
          7,
          10,
          4,
          0,
          7,
          7,
          9,
          13,
          8,
          3,
          4,
          2,
          2,
          4,
          13,
          11,
          4,
          3,
          4,
          3,
          1,
          3,
          17,
          7,
          1,
          6,
          0,
          6,
          7,
          7,
          5,
          3,
          10,
          7,
          1,
          2,
          4,
          9,
          9,
          7,
          5,
          11,
          0,
          8,
          1,
          7,
          0,
          5,
          1,
          14,
          13,
          6,
          8,
          5,
          7,
          0,
          2,
          2,
          11,
          8,
          5,
          5,
          6,
          0,
          0,
          3,
          5,
          1,
          3,
          12,
          3,
          3,
          6,
          7,
          10,
          27,
          1,
          11,
          6,
          2,
          21,
          9,
          1,
          10,
          4,
          2,
          1,
          0,
          2,
          6,
          8,
          2,
          2,
          1,
          1,
          4,
          0,
          4,
          10,
          5,
          2,
          5,
          6,
          1,
          3,
          5,
          3,
          3,
          1,
          1,
          4,
          5,
          3,
          4,
          3,
          2,
          3,
          4,
          0,
          3,
          0,
          2,
          3,
          7,
          2,
          9,
          1,
          5,
          0,
          11,
          11,
          7,
          11,
          6,
          0,
          0,
          1,
          0,
          1,
          3,
          6,
          1,
          4,
          6,
          0,
          9,
          8,
          3,
          7,
          1,
          4,
          10,
          19,
          1,
          6,
          5,
          2,
          2,
          5,
          2,
          1,
          2,
          1,
          5,
          3,
          7,
          5,
          5,
          2,
          1,
          3,
          5,
          2,
          7,
          10,
          8,
          1,
          0,
          7,
          1,
          2,
          1,
          4,
          3,
          1,
          1,
          5,
          10,
          1,
          2,
          1,
          1,
          2,
          3,
          2,
          3,
          6,
          2,
          1,
          14,
          3,
          6,
          4,
          0,
          0,
          2,
          3,
          13,
          1,
          2,
          2,
          2,
          1,
          2,
          8,
          1,
          0,
          4,
          3,
          6,
          8,
          6,
          4,
          8,
          5,
          5,
          0,
          1,
          3,
          1,
          5,
          7,
          4,
          2,
          4,
          3,
          1,
          2,
          7,
          1,
          5,
          8,
          5,
          5,
          11,
          2,
          7,
          2,
          6,
          2,
          7,
          5,
          10,
          7,
          4,
          6,
          8,
          10,
          8,
          7,
          7,
          0,
          1,
          3,
          3,
          5,
          2,
          9,
          5,
          2,
          3,
          4,
          7,
          2,
          2,
          3,
          2,
          13,
          17,
          2,
          0,
          6,
          15,
          7,
          1,
          7,
          3,
          1,
          7,
          7,
          5,
          0,
          24,
          8,
          8,
          2,
          7,
          8,
          5,
          5,
          3,
          3,
          14,
          26,
          5,
          4,
          4,
          2,
          1,
          2,
          7,
          2,
          3,
          7,
          4,
          2,
          1,
          5,
          2,
          3,
          4,
          9,
          2,
          2,
          2,
          1,
          3,
          11,
          3,
          2,
          1,
          3,
          6,
          1,
          8,
          1,
          3,
          1,
          8,
          1,
          2,
          3,
          15,
          3,
          5,
          4,
          7,
          5,
          10,
          5,
          2,
          1,
          12,
          10,
          2,
          1,
          1,
          8,
          2,
          10,
          1,
          3,
          17,
          16,
          4,
          1,
          7,
          5,
          19,
          0,
          1,
          2,
          13,
          1,
          2,
          7,
          5,
          11,
          3,
          13,
          0,
          6,
          7,
          7,
          3,
          0,
          9,
          2,
          1,
          1,
          5,
          6,
          1,
          5,
          6,
          12,
          5,
          4,
          6,
          3,
          1,
          0,
          3,
          2,
          1,
          0,
          2,
          2,
          4,
          7,
          8,
          6,
          4,
          4,
          4,
          5,
          3,
          2,
          9,
          4,
          8,
          9,
          7,
          1,
          1,
          7,
          8,
          8,
          2,
          9,
          1,
          7,
          4,
          2,
          1,
          5,
          5,
          8,
          4,
          5,
          5,
          2,
          1,
          0,
          0,
          1,
          9,
          3,
          3,
          5,
          17,
          17,
          4,
          9,
          5,
          11,
          4,
          3,
          2,
          5,
          2,
          0,
          2,
          6,
          9,
          3,
          8,
          1,
          5,
          6,
          1,
          3,
          1,
          13,
          5,
          7,
          2,
          1,
          3,
          3,
          3,
          1,
          4,
          4,
          1,
          6,
          2,
          8,
          4,
          3,
          4,
          5,
          3,
          1,
          1,
          11,
          8,
          3,
          4,
          3,
          2,
          3,
          4,
          7,
          2,
          1,
          1,
          4,
          3,
          2,
          2,
          1,
          1,
          4,
          3,
          8,
          6,
          3,
          3,
          4,
          3,
          3,
          9,
          3,
          5,
          8,
          10,
          3,
          5,
          4,
          7,
          9,
          4,
          6,
          2,
          6,
          9,
          5,
          3,
          4,
          4,
          13,
          12,
          4,
          8,
          4,
          2,
          10,
          10,
          16,
          8,
          11,
          7,
          1,
          0,
          13,
          9,
          8,
          11,
          4,
          10,
          8,
          10,
          6,
          2,
          7,
          1,
          4,
          4,
          2,
          13,
          4,
          8,
          1,
          0,
          1,
          2,
          7,
          4,
          3,
          1,
          2,
          6,
          1,
          9,
          4,
          5,
          6,
          14,
          2,
          6,
          4,
          5,
          2,
          13,
          4,
          10,
          3,
          2,
          2,
          5,
          7,
          11,
          2,
          10,
          10,
          1,
          16,
          9,
          7,
          8,
          5,
          0,
          4,
          2,
          8,
          6,
          10,
          7,
          11,
          5,
          4,
          13,
          4,
          12,
          2,
          6,
          7,
          12,
          5,
          2,
          1,
          6,
          1,
          2,
          0,
          2,
          7,
          3,
          0,
          4,
          8,
          20,
          1,
          3,
          5,
          3,
          4,
          6,
          2,
          4,
          4,
          13,
          3,
          3,
          5,
          12,
          4,
          1,
          2,
          6,
          5,
          19,
          6,
          5,
          3,
          3,
          6,
          4,
          1,
          2,
          5,
          10,
          4,
          9,
          6,
          3,
          6,
          4,
          0,
          3,
          9,
          10,
          7,
          5,
          13,
          1,
          2,
          1,
          0,
          2,
          5,
          0,
          3,
          5,
          0,
          4,
          0,
          3,
          2,
          2,
          5,
          0,
          4,
          1,
          2,
          1,
          1,
          4,
          0,
          3,
          7,
          3,
          2,
          1,
          3,
          3,
          1,
          3,
          11,
          9,
          1,
          3,
          3,
          2,
          4,
          3,
          3,
          4,
          6,
          3,
          2,
          6,
          6,
          1,
          1,
          6,
          3,
          7,
          1,
          5,
          5,
          8,
          3,
          4,
          2,
          5,
          0,
          8,
          7,
          4,
          10,
          1,
          7,
          7,
          2,
          7,
          4,
          5,
          3,
          3,
          2,
          5,
          0,
          0,
          0,
          1,
          6,
          4,
          2,
          4,
          5,
          1,
          3,
          4,
          5,
          1,
          0,
          3,
          2,
          3,
          6,
          8,
          4,
          3,
          2,
          2,
          1,
          2,
          2,
          3,
          2,
          11,
          10,
          3,
          3,
          1,
          2,
          0,
          3,
          4,
          3,
          0,
          4,
          2,
          2,
          1,
          8,
          4,
          0,
          1,
          2,
          2,
          2,
          5,
          2,
          5,
          6,
          4,
          12,
          1,
          2,
          0,
          1,
          2,
          2,
          0,
          5,
          4,
          3,
          5,
          1,
          13,
          7,
          0,
          5,
          4,
          4,
          4,
          3,
          1,
          6,
          1,
          6,
          1,
          1,
          0,
          3,
          0,
          2,
          3,
          5,
          4,
          2,
          4,
          4,
          2,
          7,
          0,
          6,
          15,
          11,
          8,
          1,
          4,
          4,
          1,
          7,
          8,
          5,
          1,
          5,
          15,
          11,
          15,
          5,
          0,
          1,
          7,
          1,
          0,
          0,
          5,
          0,
          2,
          5,
          8,
          2,
          2,
          6,
          4,
          6,
          5,
          6,
          4,
          3,
          5,
          4,
          6,
          3,
          6,
          4,
          7,
          0,
          5,
          5,
          6,
          2,
          3,
          3,
          2,
          3,
          6,
          2,
          3,
          5,
          2,
          2,
          6,
          0,
          3,
          2,
          3,
          0,
          1,
          2,
          3,
          6,
          1,
          2,
          8,
          12,
          10,
          1,
          8,
          0,
          0,
          12,
          3,
          1,
          2,
          9,
          5,
          0,
          3,
          7,
          8,
          0,
          2,
          3,
          0,
          3,
          0,
          0,
          0,
          0,
          10,
          6,
          12,
          13,
          8,
          3,
          1,
          3,
          2,
          1,
          18,
          2,
          13,
          4,
          1,
          4,
          4,
          1,
          6,
          11,
          11,
          5,
          8,
          9,
          7,
          9,
          5,
          6,
          6,
          5,
          7,
          3,
          6,
          6,
          8,
          6,
          10,
          8,
          1,
          5,
          3,
          1,
          3,
          5,
          2,
          4,
          2,
          0,
          5,
          1,
          3,
          3,
          13,
          4,
          4,
          5,
          3,
          8,
          5,
          8,
          5,
          13,
          7,
          1,
          12,
          4,
          7,
          4,
          8,
          5,
          4,
          3,
          11,
          6,
          4,
          7,
          10,
          6,
          11,
          9,
          13,
          1,
          4,
          1,
          6,
          10,
          2,
          8,
          3,
          9,
          0,
          8,
          4,
          9,
          3,
          8,
          1,
          4,
          6,
          6,
          6,
          0,
          1,
          0,
          8,
          8,
          10,
          7,
          10,
          2,
          2,
          2,
          12,
          8,
          6,
          6,
          1,
          4,
          5,
          14,
          8,
          3,
          1,
          2,
          8,
          3,
          7,
          0,
          3,
          6,
          4,
          0,
          4,
          3,
          3,
          2,
          4,
          0,
          1,
          3,
          1,
          2,
          5,
          8,
          4,
          0,
          2,
          2,
          0,
          0,
          4,
          5,
          5,
          3,
          0,
          2,
          3,
          0,
          1,
          3,
          0,
          5,
          0,
          3,
          2,
          3,
          2,
          1,
          4,
          1,
          5,
          1,
          1,
          1,
          1,
          6,
          2,
          8,
          7,
          4,
          2,
          0,
          5,
          5,
          4,
          5,
          2,
          2,
          3,
          4,
          2,
          6,
          8,
          6,
          2,
          7,
          1,
          4,
          1,
          3,
          3,
          3,
          3,
          2,
          2,
          8,
          4,
          2,
          9,
          1,
          4,
          4,
          9,
          4,
          0,
          1,
          4,
          8,
          0,
          8,
          2,
          8,
          1,
          3,
          6,
          1,
          9,
          3,
          4,
          3,
          1,
          1,
          4,
          6,
          5,
          4,
          0,
          5,
          5,
          3,
          1,
          6,
          8,
          6,
          3,
          13,
          2,
          5,
          1,
          1,
          4,
          0,
          3,
          5,
          1,
          0,
          1,
          8,
          4,
          1,
          0,
          1,
          3,
          1,
          0,
          1,
          0,
          11,
          4,
          1,
          8,
          3,
          6,
          3,
          5,
          1,
          5,
          5,
          8,
          6,
          9,
          9,
          3,
          7,
          1,
          7,
          2,
          0,
          6,
          1,
          10,
          5,
          3,
          7,
          9,
          3,
          2,
          5,
          4,
          3,
          1,
          3,
          7,
          2,
          1,
          1,
          3,
          5,
          3,
          0,
          2,
          1,
          2,
          4,
          2,
          9,
          7,
          12,
          1,
          3,
          1,
          2,
          3,
          6,
          2,
          3,
          0,
          5,
          1,
          9,
          10,
          2,
          2,
          3,
          3,
          3,
          8,
          4,
          8,
          1,
          7,
          9,
          12,
          5,
          5,
          1,
          7,
          2,
          1,
          2,
          1,
          3,
          1,
          25,
          6,
          11,
          5,
          10,
          2,
          1,
          6,
          1,
          1,
          7,
          2,
          2,
          4,
          0,
          3,
          0,
          4,
          0,
          3,
          2,
          1,
          0,
          0,
          4,
          4,
          2,
          13,
          1,
          0,
          19,
          2,
          1,
          1,
          1,
          2,
          2,
          2,
          1,
          1,
          2,
          2,
          2,
          5,
          4,
          1,
          0,
          5,
          1,
          3,
          5,
          2,
          7,
          1,
          1,
          5,
          4,
          4,
          3,
          1,
          2,
          3,
          5,
          7,
          1,
          1,
          1,
          3,
          0,
          8,
          5,
          1,
          3,
          2,
          7,
          12,
          1,
          4,
          1,
          4,
          10,
          0,
          4,
          1,
          3,
          6,
          4,
          0,
          3,
          0,
          1,
          2,
          4,
          0,
          2,
          3,
          6,
          2,
          1,
          1,
          2,
          2,
          6,
          3,
          8,
          2,
          2,
          3,
          4,
          0,
          0,
          5,
          1,
          3,
          1,
          8,
          5,
          7,
          7,
          5,
          12,
          4,
          4,
          9,
          18,
          8,
          11,
          7,
          7,
          5,
          4,
          5,
          5,
          6,
          8,
          3,
          4,
          0,
          6,
          4,
          6,
          4,
          10,
          7,
          4,
          3,
          10,
          9,
          12,
          2,
          3,
          5,
          12,
          6,
          4,
          9,
          3,
          7,
          0,
          9,
          6,
          4,
          10,
          15,
          11,
          8,
          5,
          2,
          2,
          12,
          9,
          8,
          0,
          2,
          3,
          3,
          0,
          11,
          8,
          5,
          10,
          5,
          6,
          2,
          4,
          4,
          8,
          7,
          10,
          5,
          9,
          4,
          8,
          4,
          6,
          1,
          5,
          1,
          2,
          5,
          8,
          4,
          5,
          2,
          4,
          4,
          6,
          3,
          7,
          12,
          7,
          6,
          0,
          5,
          0,
          5,
          4,
          3,
          5,
          4,
          5,
          5,
          8,
          6,
          9,
          4,
          5,
          3,
          7,
          1,
          7,
          2,
          0,
          2,
          4,
          2,
          3,
          4,
          1,
          1,
          5,
          4,
          4,
          6,
          1,
          3,
          11,
          4,
          3,
          2,
          5,
          3,
          3,
          4,
          5,
          3,
          3,
          2,
          4,
          13,
          8,
          5,
          5,
          4,
          8,
          11,
          9,
          2,
          0,
          3,
          4,
          5,
          2,
          2,
          3,
          6,
          5,
          5,
          8,
          6,
          9,
          4,
          5,
          3,
          7,
          1,
          7,
          2,
          0,
          4,
          3,
          2,
          11,
          6,
          11,
          4,
          3,
          9,
          0,
          8,
          8,
          3,
          6,
          1,
          0,
          1,
          6,
          5,
          0,
          3,
          1,
          1,
          8,
          0,
          3,
          3,
          4,
          4,
          6,
          0,
          0,
          2,
          1,
          2,
          1,
          1,
          0,
          7,
          8,
          6,
          6,
          1,
          5,
          9,
          6,
          1,
          2,
          8,
          2,
          4,
          6,
          7,
          7,
          4,
          4,
          4,
          4,
          8,
          5,
          4,
          3,
          1,
          10,
          13,
          4,
          10,
          5,
          6,
          0,
          1,
          6,
          3,
          6,
          6,
          13,
          0,
          10,
          7,
          8,
          11,
          3,
          7,
          3,
          1,
          2,
          3,
          1,
          0,
          4,
          9,
          3,
          10,
          10,
          7,
          5,
          3,
          2,
          5,
          8,
          4,
          1,
          10,
          9,
          10,
          5,
          7,
          5,
          8,
          9,
          11,
          4,
          12,
          14,
          6,
          8,
          5,
          6,
          3,
          3,
          4,
          2,
          0,
          5,
          1,
          0,
          1,
          4,
          4,
          10,
          4,
          5,
          5,
          7,
          2,
          0,
          5,
          13,
          11,
          1,
          2,
          7,
          3,
          0,
          2,
          0,
          0,
          2,
          4,
          2,
          1,
          3,
          7,
          8,
          3,
          10,
          5,
          4,
          7,
          11,
          4,
          1,
          2,
          4,
          5,
          4,
          0,
          1,
          2,
          2,
          2,
          2,
          1,
          1,
          1,
          6,
          1,
          0,
          1,
          3,
          2,
          1,
          1,
          0,
          2,
          6,
          0,
          1,
          3,
          2,
          1,
          5,
          1,
          2,
          0,
          4,
          7,
          2,
          3,
          4,
          2,
          4,
          2,
          2,
          3,
          2,
          1,
          0,
          0,
          2,
          1,
          2,
          5,
          6,
          2,
          0,
          2,
          2,
          9,
          5,
          7,
          3,
          9,
          2,
          0,
          3,
          1,
          0,
          5,
          2,
          1,
          2,
          5,
          2,
          1,
          1,
          4,
          7,
          3,
          3,
          3,
          8,
          0,
          2,
          3,
          3,
          1,
          3,
          6,
          1,
          9,
          1,
          5,
          6,
          5,
          2,
          2,
          4,
          2,
          5,
          9,
          12,
          2,
          4,
          6,
          0,
          4,
          8,
          0,
          0,
          0,
          2,
          4,
          3,
          8,
          2,
          3,
          2,
          5,
          8,
          8,
          8,
          7,
          2,
          0,
          7,
          4,
          7,
          7,
          11,
          8,
          4,
          8,
          5,
          4,
          10,
          7,
          1,
          0,
          3,
          2,
          6,
          10,
          5,
          2,
          0,
          5,
          1,
          8,
          8,
          4,
          10,
          2,
          5,
          5,
          8,
          6,
          9,
          4,
          5,
          3,
          7,
          1,
          7,
          2,
          2,
          0,
          3,
          5,
          3,
          0,
          0,
          2,
          4,
          4,
          2,
          1,
          5,
          2,
          6,
          3,
          2,
          4,
          1,
          1,
          4,
          9,
          8,
          5,
          3,
          1,
          8,
          5,
          3,
          2,
          3,
          3,
          7,
          1,
          3,
          2,
          6,
          6,
          8,
          7,
          10,
          1,
          6,
          5,
          4,
          3,
          4,
          3,
          6,
          3,
          4,
          0,
          5,
          0,
          0,
          5,
          0,
          3,
          2,
          0,
          6,
          12,
          3,
          2,
          8,
          6,
          2,
          2,
          1,
          2,
          3,
          8,
          11,
          6,
          1,
          2,
          2,
          5,
          13,
          1,
          0,
          0,
          3,
          5,
          3,
          3,
          4,
          9,
          5,
          3,
          5,
          2,
          3,
          6,
          1,
          9,
          1,
          10,
          4,
          4,
          4,
          2,
          2,
          3,
          5,
          4,
          8,
          7,
          1,
          1,
          0,
          2,
          0,
          0,
          4,
          3,
          2,
          6,
          5,
          4,
          2,
          8,
          7,
          1,
          2,
          1,
          4,
          1,
          4,
          5,
          5,
          4,
          1,
          8,
          6,
          6,
          2,
          4,
          4,
          2,
          6,
          10,
          3,
          5,
          4,
          5,
          2,
          0,
          7,
          6,
          1,
          1,
          4,
          5,
          0,
          1,
          6,
          3,
          2,
          0,
          2,
          1,
          2,
          7,
          3,
          6,
          3,
          2,
          6,
          4,
          5,
          2,
          6,
          11,
          6,
          2,
          8,
          6,
          5,
          8,
          7,
          4,
          4,
          5,
          3,
          2,
          3,
          8,
          3,
          3,
          8,
          5,
          0,
          3,
          3,
          2,
          3,
          2,
          11,
          1,
          1,
          4,
          16,
          5,
          6,
          12,
          1,
          8,
          6,
          3,
          1,
          9,
          13,
          1,
          12,
          8,
          1,
          2,
          11,
          22,
          3,
          5,
          8,
          4,
          6,
          3,
          1,
          5,
          13,
          1,
          4,
          5,
          13,
          2,
          4,
          14,
          1,
          0,
          3,
          16,
          0,
          6,
          2,
          11,
          0,
          2,
          0,
          0,
          5,
          10,
          5,
          10,
          9,
          11,
          8,
          0,
          15,
          4,
          2,
          9,
          8,
          1,
          4,
          8,
          2,
          12,
          5,
          7,
          5,
          9,
          0,
          8,
          4,
          2,
          6,
          5,
          4,
          4,
          9,
          3,
          10,
          2,
          1,
          7,
          6,
          2,
          7,
          3,
          4,
          2,
          0,
          5,
          10,
          6,
          17,
          0,
          2,
          10,
          11,
          14,
          11,
          10,
          0,
          14,
          11,
          4,
          2,
          5,
          2,
          6,
          3,
          1,
          1,
          14,
          11,
          6,
          4,
          6,
          2,
          0,
          3,
          4,
          2,
          5,
          1,
          4,
          6,
          10,
          0,
          6,
          5,
          0,
          1,
          8,
          0,
          1,
          2,
          6,
          0,
          0,
          0,
          3,
          1,
          1,
          2,
          2,
          1,
          1,
          4,
          2,
          1,
          4,
          5,
          1,
          1,
          0,
          8,
          1,
          7,
          2,
          10,
          8,
          8,
          5,
          10,
          7,
          3,
          2,
          3,
          0,
          1,
          0,
          2,
          0,
          4,
          5,
          4,
          6,
          3,
          2,
          2,
          5,
          5,
          2,
          0,
          2,
          1,
          4,
          4,
          4,
          0,
          2,
          7,
          6,
          0,
          1,
          2,
          3,
          6,
          1,
          5,
          3,
          2,
          4,
          2,
          3,
          4,
          5,
          4,
          6,
          4,
          1,
          2,
          5,
          7,
          5,
          14,
          7,
          10,
          2,
          4,
          0,
          7,
          6,
          1,
          3,
          4,
          1,
          2,
          3,
          1,
          8,
          2,
          6,
          3,
          3,
          4,
          2,
          1,
          4,
          1,
          5,
          3,
          3,
          0,
          4,
          3,
          7,
          4,
          4,
          3,
          1,
          2,
          4,
          7,
          5,
          2,
          5,
          1,
          2,
          3,
          4,
          2,
          7,
          4,
          4,
          4,
          2,
          2,
          2,
          7,
          1,
          1,
          7,
          4,
          2,
          3,
          5,
          12,
          6,
          0,
          0,
          7,
          17,
          4,
          4,
          14,
          4,
          2,
          5,
          2,
          12,
          1,
          2,
          12,
          2,
          7,
          2,
          4,
          4,
          6,
          1,
          2,
          3,
          1,
          2,
          2,
          1,
          4,
          6,
          8,
          12,
          16,
          10,
          5,
          2,
          17,
          5,
          7,
          9,
          4,
          17,
          5,
          2,
          1,
          6,
          7,
          8,
          1,
          3,
          1,
          1,
          4,
          2,
          6,
          5,
          1,
          2,
          4,
          3,
          5,
          3,
          4,
          3,
          1,
          2,
          3,
          21,
          11,
          0,
          2,
          1,
          1,
          2,
          24,
          2,
          0,
          0,
          4,
          25,
          0,
          0,
          4,
          4,
          1,
          4,
          6,
          6,
          0,
          2,
          5,
          8,
          7,
          4,
          6,
          1,
          3,
          4,
          4,
          3,
          5,
          8,
          3,
          2,
          3,
          4,
          1,
          4,
          4,
          7,
          7,
          4,
          7,
          7,
          2,
          4,
          5,
          4,
          0,
          5,
          2,
          7,
          4,
          3,
          0,
          3,
          3,
          1,
          2,
          3,
          9,
          4,
          6,
          7,
          5,
          2,
          4,
          9,
          3,
          4,
          3,
          0,
          3,
          3,
          1,
          3,
          0,
          3,
          8,
          2,
          0,
          4,
          6,
          0,
          10,
          5,
          8,
          0,
          3,
          5,
          5,
          12,
          14,
          10,
          0,
          3,
          2,
          5,
          5,
          0,
          5,
          0,
          2,
          3,
          5,
          1,
          1,
          3,
          2,
          2,
          3,
          1,
          4,
          4,
          7,
          10,
          5,
          2,
          2,
          6,
          2,
          5,
          4,
          0,
          3,
          1,
          6,
          0,
          3,
          2,
          3,
          0,
          2,
          4,
          3,
          8,
          1,
          3,
          2,
          3,
          2,
          0,
          2,
          8,
          4,
          4,
          3,
          0,
          0,
          1,
          8,
          3,
          1,
          3,
          3,
          6,
          7,
          5,
          5,
          8,
          11,
          10,
          5,
          5,
          1,
          6,
          6,
          3,
          1,
          7,
          1,
          1,
          4,
          3,
          2,
          5,
          8,
          3,
          1,
          2,
          2,
          5,
          1,
          4,
          4,
          7,
          4,
          5,
          3,
          4,
          5,
          3,
          5,
          7,
          1,
          6,
          2,
          3,
          5,
          3,
          4,
          6,
          3,
          0,
          3,
          2,
          1,
          0,
          1,
          4,
          4,
          1,
          1,
          0,
          10,
          1,
          4,
          5,
          8,
          5,
          0,
          2,
          3,
          12,
          1,
          0,
          0,
          0,
          5,
          0,
          1,
          1,
          2,
          2,
          0,
          5,
          3,
          1,
          0,
          0,
          4,
          5,
          2,
          0,
          5,
          5,
          1,
          2,
          0,
          7,
          0,
          2,
          0,
          3,
          1,
          1,
          4,
          6,
          2,
          0,
          0,
          0,
          4,
          1,
          1,
          5,
          4,
          6,
          2,
          2,
          1,
          2,
          7,
          6,
          7,
          2,
          3,
          1,
          2,
          4,
          3,
          2,
          1,
          5,
          2,
          2,
          3,
          0,
          13,
          1,
          3,
          4,
          6,
          4,
          2,
          6,
          0,
          3,
          4,
          2,
          9,
          3,
          6,
          6,
          2,
          3,
          4,
          4,
          3,
          0,
          5,
          2,
          3,
          2,
          7,
          2,
          5,
          5,
          4,
          3,
          6,
          3,
          6,
          0,
          1,
          2,
          3,
          1,
          3,
          4,
          5,
          1,
          4,
          7,
          7,
          4,
          5,
          5,
          2,
          2,
          1,
          2,
          2,
          1,
          6,
          6,
          4,
          0,
          2,
          6,
          3,
          1,
          9,
          6,
          1,
          5,
          1,
          3,
          1,
          2,
          2,
          2,
          5,
          6,
          1,
          5,
          0,
          0,
          2,
          5,
          2,
          1,
          1,
          6,
          4,
          2,
          4,
          2,
          2,
          0,
          1,
          3,
          2,
          1,
          6,
          2,
          0,
          1,
          0,
          2,
          8,
          1,
          5,
          0,
          5,
          3,
          2,
          4,
          1,
          2,
          4,
          6,
          3,
          4,
          9,
          10,
          8,
          0,
          3,
          2,
          5,
          0,
          1,
          6,
          0,
          9,
          2,
          6,
          8,
          1,
          6,
          6,
          4,
          2,
          2,
          3,
          2,
          4,
          3,
          3,
          3,
          7,
          5,
          9,
          3,
          4,
          3,
          1,
          8,
          5,
          1,
          4,
          9,
          5,
          2,
          8,
          5,
          3,
          0,
          6,
          6,
          1,
          0,
          5,
          6,
          3,
          3,
          0,
          1,
          2,
          1,
          2,
          7,
          3,
          5,
          3,
          9,
          3,
          6,
          2,
          5,
          2,
          5,
          4,
          3,
          1,
          3,
          2,
          2,
          1,
          3,
          7,
          6,
          6,
          0,
          7,
          5,
          2,
          3,
          2,
          3,
          1,
          3,
          2,
          15,
          2,
          1,
          1,
          1,
          2,
          0,
          1,
          2,
          4,
          4,
          2,
          2,
          4,
          5,
          0,
          1,
          8,
          4,
          2,
          3,
          0,
          2,
          4,
          2,
          8,
          2,
          1,
          4,
          9,
          5,
          3,
          7,
          8,
          4,
          4,
          2,
          5,
          5,
          2,
          7,
          3,
          1,
          4,
          10,
          8,
          5,
          3,
          14,
          1,
          3,
          4,
          4,
          1,
          1,
          0,
          4,
          2,
          1,
          1,
          0,
          4,
          4,
          2,
          1
         ],
         "xaxis": "x",
         "yaxis": "y"
        }
       ],
       "layout": {
        "barmode": "relative",
        "height": 600,
        "legend": {
         "tracegroupgap": 0
        },
        "margin": {
         "t": 60
        },
        "template": {
         "data": {
          "bar": [
           {
            "error_x": {
             "color": "#2a3f5f"
            },
            "error_y": {
             "color": "#2a3f5f"
            },
            "marker": {
             "line": {
              "color": "#E5ECF6",
              "width": 0.5
             }
            },
            "type": "bar"
           }
          ],
          "barpolar": [
           {
            "marker": {
             "line": {
              "color": "#E5ECF6",
              "width": 0.5
             }
            },
            "type": "barpolar"
           }
          ],
          "carpet": [
           {
            "aaxis": {
             "endlinecolor": "#2a3f5f",
             "gridcolor": "white",
             "linecolor": "white",
             "minorgridcolor": "white",
             "startlinecolor": "#2a3f5f"
            },
            "baxis": {
             "endlinecolor": "#2a3f5f",
             "gridcolor": "white",
             "linecolor": "white",
             "minorgridcolor": "white",
             "startlinecolor": "#2a3f5f"
            },
            "type": "carpet"
           }
          ],
          "choropleth": [
           {
            "colorbar": {
             "outlinewidth": 0,
             "ticks": ""
            },
            "type": "choropleth"
           }
          ],
          "contour": [
           {
            "colorbar": {
             "outlinewidth": 0,
             "ticks": ""
            },
            "colorscale": [
             [
              0,
              "#0d0887"
             ],
             [
              0.1111111111111111,
              "#46039f"
             ],
             [
              0.2222222222222222,
              "#7201a8"
             ],
             [
              0.3333333333333333,
              "#9c179e"
             ],
             [
              0.4444444444444444,
              "#bd3786"
             ],
             [
              0.5555555555555556,
              "#d8576b"
             ],
             [
              0.6666666666666666,
              "#ed7953"
             ],
             [
              0.7777777777777778,
              "#fb9f3a"
             ],
             [
              0.8888888888888888,
              "#fdca26"
             ],
             [
              1,
              "#f0f921"
             ]
            ],
            "type": "contour"
           }
          ],
          "contourcarpet": [
           {
            "colorbar": {
             "outlinewidth": 0,
             "ticks": ""
            },
            "type": "contourcarpet"
           }
          ],
          "heatmap": [
           {
            "colorbar": {
             "outlinewidth": 0,
             "ticks": ""
            },
            "colorscale": [
             [
              0,
              "#0d0887"
             ],
             [
              0.1111111111111111,
              "#46039f"
             ],
             [
              0.2222222222222222,
              "#7201a8"
             ],
             [
              0.3333333333333333,
              "#9c179e"
             ],
             [
              0.4444444444444444,
              "#bd3786"
             ],
             [
              0.5555555555555556,
              "#d8576b"
             ],
             [
              0.6666666666666666,
              "#ed7953"
             ],
             [
              0.7777777777777778,
              "#fb9f3a"
             ],
             [
              0.8888888888888888,
              "#fdca26"
             ],
             [
              1,
              "#f0f921"
             ]
            ],
            "type": "heatmap"
           }
          ],
          "heatmapgl": [
           {
            "colorbar": {
             "outlinewidth": 0,
             "ticks": ""
            },
            "colorscale": [
             [
              0,
              "#0d0887"
             ],
             [
              0.1111111111111111,
              "#46039f"
             ],
             [
              0.2222222222222222,
              "#7201a8"
             ],
             [
              0.3333333333333333,
              "#9c179e"
             ],
             [
              0.4444444444444444,
              "#bd3786"
             ],
             [
              0.5555555555555556,
              "#d8576b"
             ],
             [
              0.6666666666666666,
              "#ed7953"
             ],
             [
              0.7777777777777778,
              "#fb9f3a"
             ],
             [
              0.8888888888888888,
              "#fdca26"
             ],
             [
              1,
              "#f0f921"
             ]
            ],
            "type": "heatmapgl"
           }
          ],
          "histogram": [
           {
            "marker": {
             "colorbar": {
              "outlinewidth": 0,
              "ticks": ""
             }
            },
            "type": "histogram"
           }
          ],
          "histogram2d": [
           {
            "colorbar": {
             "outlinewidth": 0,
             "ticks": ""
            },
            "colorscale": [
             [
              0,
              "#0d0887"
             ],
             [
              0.1111111111111111,
              "#46039f"
             ],
             [
              0.2222222222222222,
              "#7201a8"
             ],
             [
              0.3333333333333333,
              "#9c179e"
             ],
             [
              0.4444444444444444,
              "#bd3786"
             ],
             [
              0.5555555555555556,
              "#d8576b"
             ],
             [
              0.6666666666666666,
              "#ed7953"
             ],
             [
              0.7777777777777778,
              "#fb9f3a"
             ],
             [
              0.8888888888888888,
              "#fdca26"
             ],
             [
              1,
              "#f0f921"
             ]
            ],
            "type": "histogram2d"
           }
          ],
          "histogram2dcontour": [
           {
            "colorbar": {
             "outlinewidth": 0,
             "ticks": ""
            },
            "colorscale": [
             [
              0,
              "#0d0887"
             ],
             [
              0.1111111111111111,
              "#46039f"
             ],
             [
              0.2222222222222222,
              "#7201a8"
             ],
             [
              0.3333333333333333,
              "#9c179e"
             ],
             [
              0.4444444444444444,
              "#bd3786"
             ],
             [
              0.5555555555555556,
              "#d8576b"
             ],
             [
              0.6666666666666666,
              "#ed7953"
             ],
             [
              0.7777777777777778,
              "#fb9f3a"
             ],
             [
              0.8888888888888888,
              "#fdca26"
             ],
             [
              1,
              "#f0f921"
             ]
            ],
            "type": "histogram2dcontour"
           }
          ],
          "mesh3d": [
           {
            "colorbar": {
             "outlinewidth": 0,
             "ticks": ""
            },
            "type": "mesh3d"
           }
          ],
          "parcoords": [
           {
            "line": {
             "colorbar": {
              "outlinewidth": 0,
              "ticks": ""
             }
            },
            "type": "parcoords"
           }
          ],
          "pie": [
           {
            "automargin": true,
            "type": "pie"
           }
          ],
          "scatter": [
           {
            "marker": {
             "colorbar": {
              "outlinewidth": 0,
              "ticks": ""
             }
            },
            "type": "scatter"
           }
          ],
          "scatter3d": [
           {
            "line": {
             "colorbar": {
              "outlinewidth": 0,
              "ticks": ""
             }
            },
            "marker": {
             "colorbar": {
              "outlinewidth": 0,
              "ticks": ""
             }
            },
            "type": "scatter3d"
           }
          ],
          "scattercarpet": [
           {
            "marker": {
             "colorbar": {
              "outlinewidth": 0,
              "ticks": ""
             }
            },
            "type": "scattercarpet"
           }
          ],
          "scattergeo": [
           {
            "marker": {
             "colorbar": {
              "outlinewidth": 0,
              "ticks": ""
             }
            },
            "type": "scattergeo"
           }
          ],
          "scattergl": [
           {
            "marker": {
             "colorbar": {
              "outlinewidth": 0,
              "ticks": ""
             }
            },
            "type": "scattergl"
           }
          ],
          "scattermapbox": [
           {
            "marker": {
             "colorbar": {
              "outlinewidth": 0,
              "ticks": ""
             }
            },
            "type": "scattermapbox"
           }
          ],
          "scatterpolar": [
           {
            "marker": {
             "colorbar": {
              "outlinewidth": 0,
              "ticks": ""
             }
            },
            "type": "scatterpolar"
           }
          ],
          "scatterpolargl": [
           {
            "marker": {
             "colorbar": {
              "outlinewidth": 0,
              "ticks": ""
             }
            },
            "type": "scatterpolargl"
           }
          ],
          "scatterternary": [
           {
            "marker": {
             "colorbar": {
              "outlinewidth": 0,
              "ticks": ""
             }
            },
            "type": "scatterternary"
           }
          ],
          "surface": [
           {
            "colorbar": {
             "outlinewidth": 0,
             "ticks": ""
            },
            "colorscale": [
             [
              0,
              "#0d0887"
             ],
             [
              0.1111111111111111,
              "#46039f"
             ],
             [
              0.2222222222222222,
              "#7201a8"
             ],
             [
              0.3333333333333333,
              "#9c179e"
             ],
             [
              0.4444444444444444,
              "#bd3786"
             ],
             [
              0.5555555555555556,
              "#d8576b"
             ],
             [
              0.6666666666666666,
              "#ed7953"
             ],
             [
              0.7777777777777778,
              "#fb9f3a"
             ],
             [
              0.8888888888888888,
              "#fdca26"
             ],
             [
              1,
              "#f0f921"
             ]
            ],
            "type": "surface"
           }
          ],
          "table": [
           {
            "cells": {
             "fill": {
              "color": "#EBF0F8"
             },
             "line": {
              "color": "white"
             }
            },
            "header": {
             "fill": {
              "color": "#C8D4E3"
             },
             "line": {
              "color": "white"
             }
            },
            "type": "table"
           }
          ]
         },
         "layout": {
          "annotationdefaults": {
           "arrowcolor": "#2a3f5f",
           "arrowhead": 0,
           "arrowwidth": 1
          },
          "coloraxis": {
           "colorbar": {
            "outlinewidth": 0,
            "ticks": ""
           }
          },
          "colorscale": {
           "diverging": [
            [
             0,
             "#8e0152"
            ],
            [
             0.1,
             "#c51b7d"
            ],
            [
             0.2,
             "#de77ae"
            ],
            [
             0.3,
             "#f1b6da"
            ],
            [
             0.4,
             "#fde0ef"
            ],
            [
             0.5,
             "#f7f7f7"
            ],
            [
             0.6,
             "#e6f5d0"
            ],
            [
             0.7,
             "#b8e186"
            ],
            [
             0.8,
             "#7fbc41"
            ],
            [
             0.9,
             "#4d9221"
            ],
            [
             1,
             "#276419"
            ]
           ],
           "sequential": [
            [
             0,
             "#0d0887"
            ],
            [
             0.1111111111111111,
             "#46039f"
            ],
            [
             0.2222222222222222,
             "#7201a8"
            ],
            [
             0.3333333333333333,
             "#9c179e"
            ],
            [
             0.4444444444444444,
             "#bd3786"
            ],
            [
             0.5555555555555556,
             "#d8576b"
            ],
            [
             0.6666666666666666,
             "#ed7953"
            ],
            [
             0.7777777777777778,
             "#fb9f3a"
            ],
            [
             0.8888888888888888,
             "#fdca26"
            ],
            [
             1,
             "#f0f921"
            ]
           ],
           "sequentialminus": [
            [
             0,
             "#0d0887"
            ],
            [
             0.1111111111111111,
             "#46039f"
            ],
            [
             0.2222222222222222,
             "#7201a8"
            ],
            [
             0.3333333333333333,
             "#9c179e"
            ],
            [
             0.4444444444444444,
             "#bd3786"
            ],
            [
             0.5555555555555556,
             "#d8576b"
            ],
            [
             0.6666666666666666,
             "#ed7953"
            ],
            [
             0.7777777777777778,
             "#fb9f3a"
            ],
            [
             0.8888888888888888,
             "#fdca26"
            ],
            [
             1,
             "#f0f921"
            ]
           ]
          },
          "colorway": [
           "#636efa",
           "#EF553B",
           "#00cc96",
           "#ab63fa",
           "#FFA15A",
           "#19d3f3",
           "#FF6692",
           "#B6E880",
           "#FF97FF",
           "#FECB52"
          ],
          "font": {
           "color": "#2a3f5f"
          },
          "geo": {
           "bgcolor": "white",
           "lakecolor": "white",
           "landcolor": "#E5ECF6",
           "showlakes": true,
           "showland": true,
           "subunitcolor": "white"
          },
          "hoverlabel": {
           "align": "left"
          },
          "hovermode": "closest",
          "mapbox": {
           "style": "light"
          },
          "paper_bgcolor": "white",
          "plot_bgcolor": "#E5ECF6",
          "polar": {
           "angularaxis": {
            "gridcolor": "white",
            "linecolor": "white",
            "ticks": ""
           },
           "bgcolor": "#E5ECF6",
           "radialaxis": {
            "gridcolor": "white",
            "linecolor": "white",
            "ticks": ""
           }
          },
          "scene": {
           "xaxis": {
            "backgroundcolor": "#E5ECF6",
            "gridcolor": "white",
            "gridwidth": 2,
            "linecolor": "white",
            "showbackground": true,
            "ticks": "",
            "zerolinecolor": "white"
           },
           "yaxis": {
            "backgroundcolor": "#E5ECF6",
            "gridcolor": "white",
            "gridwidth": 2,
            "linecolor": "white",
            "showbackground": true,
            "ticks": "",
            "zerolinecolor": "white"
           },
           "zaxis": {
            "backgroundcolor": "#E5ECF6",
            "gridcolor": "white",
            "gridwidth": 2,
            "linecolor": "white",
            "showbackground": true,
            "ticks": "",
            "zerolinecolor": "white"
           }
          },
          "shapedefaults": {
           "line": {
            "color": "#2a3f5f"
           }
          },
          "ternary": {
           "aaxis": {
            "gridcolor": "white",
            "linecolor": "white",
            "ticks": ""
           },
           "baxis": {
            "gridcolor": "white",
            "linecolor": "white",
            "ticks": ""
           },
           "bgcolor": "#E5ECF6",
           "caxis": {
            "gridcolor": "white",
            "linecolor": "white",
            "ticks": ""
           }
          },
          "title": {
           "x": 0.05
          },
          "xaxis": {
           "automargin": true,
           "gridcolor": "white",
           "linecolor": "white",
           "ticks": "",
           "title": {
            "standoff": 15
           },
           "zerolinecolor": "white",
           "zerolinewidth": 2
          },
          "yaxis": {
           "automargin": true,
           "gridcolor": "white",
           "linecolor": "white",
           "ticks": "",
           "title": {
            "standoff": 15
           },
           "zerolinecolor": "white",
           "zerolinewidth": 2
          }
         }
        },
        "title": {
         "text": "number of words distribution"
        },
        "width": 1000,
        "xaxis": {
         "anchor": "y",
         "domain": [
          0,
          1
         ],
         "title": {
          "text": ""
         }
        },
        "yaxis": {
         "anchor": "x",
         "domain": [
          0,
          1
         ],
         "title": {
          "text": ""
         }
        }
       }
      },
      "text/html": [
       "<div>\n",
       "        \n",
       "        \n",
       "            <div id=\"2e44338c-bcc5-417b-9164-bfd157446113\" class=\"plotly-graph-div\" style=\"height:600px; width:1000px;\"></div>\n",
       "            <script type=\"text/javascript\">\n",
       "                require([\"plotly\"], function(Plotly) {\n",
       "                    window.PLOTLYENV=window.PLOTLYENV || {};\n",
       "                    \n",
       "                if (document.getElementById(\"2e44338c-bcc5-417b-9164-bfd157446113\")) {\n",
       "                    Plotly.newPlot(\n",
       "                        '2e44338c-bcc5-417b-9164-bfd157446113',\n",
       "                        [{\"alignmentgroup\": \"True\", \"bingroup\": \"x\", \"hovertemplate\": \"words_length=%{x}<br>count=%{y}<extra></extra>\", \"legendgroup\": \"\", \"marker\": {\"color\": \"#636efa\"}, \"name\": \"\", \"offsetgroup\": \"\", \"orientation\": \"v\", \"showlegend\": false, \"type\": \"histogram\", \"x\": [0, 2, 4, 3, 1, 3, 6, 1, 6, 0, 3, 3, 2, 4, 6, 2, 2, 7, 7, 0, 5, 4, 5, 5, 8, 6, 9, 4, 5, 3, 7, 1, 7, 2, 0, 2, 3, 1, 4, 5, 1, 7, 5, 1, 2, 1, 7, 9, 2, 10, 2, 2, 3, 8, 3, 6, 7, 5, 7, 5, 4, 3, 8, 5, 5, 3, 2, 2, 1, 2, 5, 0, 3, 6, 6, 5, 10, 12, 11, 7, 8, 3, 6, 4, 5, 2, 6, 0, 1, 3, 2, 4, 4, 7, 1, 8, 6, 4, 4, 2, 5, 1, 4, 4, 0, 3, 2, 6, 3, 3, 7, 4, 3, 8, 4, 1, 5, 3, 2, 4, 3, 7, 5, 0, 9, 8, 8, 8, 5, 10, 7, 8, 7, 4, 3, 3, 5, 0, 3, 4, 3, 3, 0, 2, 0, 3, 1, 1, 4, 0, 6, 2, 2, 4, 2, 2, 2, 4, 2, 7, 2, 5, 0, 2, 0, 4, 3, 2, 4, 5, 5, 4, 4, 5, 4, 3, 4, 3, 10, 1, 13, 7, 1, 7, 2, 2, 1, 0, 0, 0, 3, 9, 5, 3, 2, 4, 2, 2, 5, 4, 4, 2, 5, 1, 2, 2, 1, 2, 2, 2, 2, 3, 3, 3, 1, 6, 4, 5, 3, 3, 5, 2, 6, 4, 6, 7, 4, 1, 1, 9, 1, 7, 2, 6, 7, 3, 2, 6, 3, 2, 2, 3, 3, 5, 13, 6, 1, 1, 1, 1, 1, 3, 2, 3, 2, 5, 1, 2, 1, 3, 5, 2, 0, 1, 5, 7, 6, 5, 2, 0, 7, 4, 4, 7, 2, 4, 5, 1, 0, 2, 7, 3, 4, 2, 1, 2, 4, 9, 7, 5, 8, 7, 5, 7, 6, 14, 8, 3, 2, 3, 5, 20, 1, 2, 6, 3, 3, 6, 5, 5, 10, 5, 7, 3, 18, 5, 5, 6, 2, 5, 1, 1, 2, 2, 5, 12, 9, 7, 4, 6, 1, 0, 2, 1, 2, 3, 0, 4, 0, 7, 7, 10, 6, 2, 4, 0, 1, 1, 3, 11, 3, 6, 1, 5, 13, 7, 9, 0, 1, 5, 2, 0, 1, 4, 2, 4, 7, 3, 2, 4, 1, 0, 5, 4, 2, 3, 3, 5, 2, 2, 2, 1, 6, 1, 1, 6, 7, 7, 24, 4, 3, 1, 3, 4, 4, 6, 5, 6, 1, 2, 5, 0, 2, 1, 0, 6, 4, 6, 2, 12, 5, 0, 5, 0, 2, 7, 1, 3, 5, 2, 13, 4, 5, 2, 2, 8, 2, 2, 5, 7, 3, 10, 3, 5, 7, 2, 2, 6, 11, 3, 1, 5, 9, 10, 2, 0, 2, 5, 5, 7, 9, 6, 5, 4, 17, 5, 1, 2, 10, 6, 7, 5, 5, 4, 1, 1, 2, 5, 2, 1, 8, 4, 1, 0, 2, 2, 3, 2, 4, 2, 1, 3, 8, 4, 1, 5, 2, 1, 5, 3, 8, 10, 3, 4, 4, 10, 5, 5, 2, 27, 7, 5, 1, 5, 4, 7, 7, 10, 3, 5, 8, 2, 3, 3, 2, 6, 2, 0, 3, 4, 3, 8, 2, 2, 8, 1, 7, 5, 4, 3, 7, 5, 1, 5, 3, 9, 4, 3, 0, 10, 7, 1, 5, 4, 1, 5, 4, 18, 10, 1, 1, 8, 12, 8, 3, 0, 8, 3, 2, 2, 2, 4, 4, 1, 7, 3, 17, 9, 0, 1, 3, 5, 6, 5, 2, 11, 6, 12, 2, 8, 6, 3, 13, 2, 7, 2, 1, 4, 9, 5, 0, 2, 2, 7, 1, 3, 2, 3, 5, 1, 3, 3, 7, 5, 1, 4, 4, 2, 3, 5, 8, 6, 7, 1, 5, 3, 4, 3, 2, 2, 11, 4, 0, 9, 4, 0, 0, 3, 5, 4, 7, 6, 3, 0, 0, 7, 2, 5, 0, 3, 3, 4, 4, 6, 1, 1, 2, 2, 0, 0, 3, 14, 1, 10, 4, 5, 2, 6, 5, 9, 4, 14, 8, 2, 0, 10, 8, 3, 9, 7, 3, 1, 0, 3, 2, 0, 0, 3, 5, 11, 5, 1, 2, 1, 3, 2, 6, 5, 3, 2, 13, 4, 8, 4, 2, 5, 5, 5, 4, 6, 2, 2, 0, 11, 1, 9, 7, 5, 4, 5, 4, 3, 5, 8, 5, 5, 5, 5, 8, 1, 5, 4, 7, 6, 4, 1, 4, 8, 8, 9, 2, 9, 8, 7, 6, 5, 11, 4, 5, 3, 1, 8, 1, 3, 5, 8, 7, 5, 1, 1, 5, 2, 11, 4, 1, 8, 11, 3, 7, 2, 3, 3, 10, 2, 5, 10, 8, 6, 1, 6, 5, 4, 3, 0, 4, 2, 4, 4, 7, 7, 0, 3, 0, 5, 6, 8, 3, 8, 3, 8, 4, 1, 13, 6, 3, 5, 1, 2, 0, 4, 3, 6, 3, 1, 0, 0, 4, 5, 4, 4, 2, 2, 2, 2, 8, 2, 4, 4, 0, 6, 5, 2, 3, 11, 6, 5, 4, 2, 0, 7, 7, 6, 4, 2, 5, 2, 5, 2, 1, 4, 1, 1, 8, 2, 3, 3, 3, 3, 1, 2, 9, 1, 1, 3, 3, 1, 1, 1, 4, 1, 4, 2, 2, 0, 11, 0, 5, 1, 3, 9, 0, 1, 5, 1, 0, 2, 3, 1, 1, 2, 1, 0, 4, 11, 3, 7, 1, 3, 5, 5, 2, 0, 3, 4, 5, 1, 5, 2, 7, 4, 23, 3, 5, 1, 3, 1, 7, 0, 4, 6, 1, 4, 11, 2, 8, 5, 5, 6, 7, 3, 8, 2, 4, 7, 4, 0, 0, 0, 0, 4, 0, 0, 2, 3, 0, 1, 5, 3, 1, 3, 0, 2, 1, 1, 3, 9, 4, 2, 2, 3, 1, 8, 4, 6, 4, 1, 6, 0, 7, 2, 2, 2, 2, 0, 9, 2, 3, 2, 1, 2, 3, 11, 4, 2, 2, 5, 6, 1, 5, 7, 3, 2, 12, 0, 3, 7, 4, 7, 1, 0, 2, 8, 6, 2, 0, 5, 2, 1, 5, 2, 1, 1, 2, 0, 4, 5, 7, 4, 6, 4, 1, 1, 2, 0, 2, 12, 8, 3, 3, 3, 1, 2, 2, 3, 1, 5, 7, 1, 1, 5, 0, 8, 4, 2, 4, 2, 1, 4, 3, 2, 2, 1, 5, 2, 3, 5, 5, 9, 5, 1, 7, 3, 4, 7, 1, 3, 2, 7, 4, 0, 7, 4, 0, 0, 1, 1, 0, 2, 2, 1, 2, 1, 6, 3, 5, 3, 1, 5, 2, 3, 5, 5, 3, 5, 1, 7, 8, 6, 4, 2, 2, 7, 1, 0, 3, 3, 3, 2, 1, 0, 5, 7, 3, 1, 9, 2, 10, 9, 5, 2, 0, 4, 1, 4, 2, 3, 0, 2, 1, 0, 1, 0, 1, 0, 3, 3, 1, 2, 0, 0, 2, 4, 2, 2, 0, 4, 3, 1, 1, 2, 1, 1, 1, 2, 2, 0, 3, 1, 7, 4, 3, 1, 1, 2, 0, 0, 7, 1, 2, 1, 1, 1, 1, 2, 1, 0, 1, 0, 3, 4, 5, 0, 0, 3, 1, 3, 3, 0, 0, 1, 0, 2, 1, 0, 0, 6, 8, 1, 0, 0, 0, 0, 0, 2, 3, 5, 8, 5, 0, 1, 2, 1, 0, 1, 1, 0, 0, 1, 1, 3, 1, 2, 0, 0, 0, 3, 6, 4, 6, 5, 1, 0, 3, 2, 2, 2, 6, 5, 0, 3, 0, 0, 3, 1, 1, 3, 2, 2, 0, 1, 0, 0, 1, 1, 1, 2, 0, 1, 2, 4, 3, 4, 1, 1, 1, 0, 4, 6, 1, 3, 5, 7, 1, 8, 0, 6, 5, 1, 4, 7, 0, 2, 4, 4, 2, 1, 4, 4, 5, 3, 2, 5, 2, 5, 1, 13, 2, 2, 4, 5, 1, 1, 3, 0, 2, 4, 2, 7, 4, 1, 4, 2, 2, 2, 4, 2, 1, 0, 1, 2, 1, 1, 1, 8, 9, 19, 4, 1, 18, 9, 3, 6, 1, 7, 16, 10, 4, 19, 31, 2, 0, 19, 1, 16, 25, 7, 11, 2, 10, 7, 7, 3, 1, 3, 11, 7, 7, 2, 3, 4, 9, 7, 4, 0, 2, 6, 0, 2, 4, 7, 2, 4, 1, 2, 1, 1, 4, 5, 13, 6, 1, 3, 1, 9, 4, 1, 1, 1, 6, 8, 5, 0, 9, 4, 0, 8, 2, 4, 3, 3, 1, 5, 7, 1, 0, 1, 3, 2, 5, 2, 0, 8, 1, 8, 8, 20, 6, 1, 3, 3, 4, 8, 3, 7, 1, 3, 3, 0, 0, 0, 2, 1, 9, 4, 5, 6, 7, 5, 8, 6, 0, 2, 4, 1, 3, 1, 4, 5, 9, 5, 3, 1, 6, 1, 8, 5, 2, 1, 1, 4, 1, 9, 6, 1, 0, 7, 3, 2, 5, 5, 3, 2, 2, 4, 4, 4, 8, 2, 2, 2, 3, 3, 2, 3, 1, 3, 2, 17, 10, 20, 8, 8, 3, 8, 3, 4, 2, 6, 3, 10, 5, 5, 6, 6, 5, 20, 3, 2, 1, 0, 5, 7, 11, 7, 12, 14, 5, 8, 4, 9, 9, 5, 10, 6, 0, 2, 1, 10, 7, 3, 6, 4, 26, 18, 5, 0, 4, 7, 7, 7, 1, 20, 13, 19, 9, 4, 1, 4, 2, 2, 6, 9, 3, 1, 5, 3, 6, 1, 2, 1, 3, 0, 3, 1, 13, 8, 1, 2, 1, 2, 2, 8, 8, 3, 4, 2, 3, 1, 1, 3, 3, 6, 1, 2, 3, 5, 3, 6, 4, 0, 9, 2, 4, 6, 3, 3, 3, 6, 1, 3, 3, 4, 7, 4, 8, 4, 3, 7, 11, 5, 3, 2, 5, 2, 3, 5, 4, 10, 3, 1, 6, 3, 4, 8, 2, 2, 2, 7, 3, 5, 1, 11, 13, 3, 8, 5, 12, 5, 2, 2, 2, 5, 3, 1, 3, 6, 12, 7, 2, 2, 3, 0, 2, 3, 3, 3, 2, 3, 1, 3, 0, 4, 1, 2, 1, 4, 5, 2, 5, 4, 2, 5, 7, 4, 3, 4, 4, 1, 3, 0, 5, 1, 4, 4, 1, 6, 1, 1, 0, 4, 0, 1, 6, 3, 3, 7, 1, 8, 3, 0, 2, 4, 4, 4, 1, 4, 5, 2, 7, 5, 0, 0, 4, 2, 4, 3, 7, 5, 2, 9, 2, 1, 0, 6, 1, 1, 1, 1, 1, 1, 1, 3, 7, 7, 2, 2, 21, 0, 1, 4, 2, 1, 1, 6, 4, 0, 6, 3, 1, 5, 4, 1, 2, 3, 1, 1, 11, 2, 4, 2, 0, 2, 5, 9, 1, 5, 9, 5, 7, 12, 7, 3, 8, 1, 0, 5, 8, 0, 7, 5, 19, 4, 1, 2, 2, 4, 4, 6, 12, 0, 13, 5, 5, 3, 8, 8, 5, 8, 3, 0, 3, 8, 5, 2, 3, 7, 1, 1, 2, 0, 5, 3, 1, 1, 5, 2, 4, 2, 2, 4, 9, 10, 2, 5, 4, 1, 3, 4, 4, 1, 1, 8, 3, 4, 7, 2, 11, 8, 7, 3, 0, 2, 2, 1, 2, 0, 2, 2, 5, 2, 0, 0, 3, 2, 11, 1, 1, 0, 5, 5, 8, 6, 9, 5, 3, 7, 1, 7, 2, 2, 1, 1, 2, 1, 4, 3, 1, 1, 2, 4, 0, 7, 4, 2, 0, 4, 9, 0, 13, 0, 8, 3, 1, 4, 2, 1, 3, 0, 2, 3, 4, 2, 7, 2, 2, 1, 2, 1, 1, 1, 1, 0, 2, 3, 1, 2, 8, 2, 4, 4, 4, 1, 3, 4, 4, 3, 5, 8, 2, 3, 5, 2, 0, 0, 3, 1, 4, 0, 8, 0, 0, 3, 5, 4, 6, 7, 7, 0, 6, 4, 4, 3, 7, 3, 3, 1, 3, 1, 5, 4, 1, 1, 2, 3, 0, 6, 8, 2, 0, 2, 7, 0, 3, 1, 4, 5, 3, 1, 3, 1, 6, 8, 3, 2, 3, 4, 5, 1, 5, 1, 1, 8, 4, 1, 4, 4, 4, 1, 6, 3, 9, 8, 2, 3, 2, 4, 2, 0, 3, 1, 4, 5, 3, 10, 5, 7, 4, 4, 0, 9, 4, 1, 4, 5, 3, 2, 2, 7, 1, 0, 3, 5, 3, 2, 6, 2, 2, 3, 5, 3, 3, 5, 6, 3, 2, 9, 5, 8, 2, 2, 2, 2, 5, 0, 2, 6, 6, 4, 0, 5, 3, 2, 2, 1, 7, 2, 1, 2, 5, 11, 2, 0, 4, 2, 0, 4, 4, 2, 7, 0, 5, 2, 5, 1, 3, 5, 3, 3, 1, 0, 12, 17, 6, 3, 0, 1, 8, 4, 6, 3, 3, 2, 3, 3, 2, 2, 11, 8, 5, 0, 2, 4, 7, 2, 0, 2, 1, 4, 2, 9, 2, 4, 8, 1, 2, 2, 1, 11, 2, 4, 3, 4, 1, 2, 2, 4, 3, 1, 5, 1, 7, 0, 0, 1, 0, 0, 3, 1, 0, 2, 5, 3, 3, 3, 1, 1, 3, 2, 1, 0, 1, 0, 1, 1, 1, 0, 2, 5, 0, 3, 5, 1, 3, 3, 4, 4, 1, 5, 0, 3, 0, 1, 3, 2, 5, 4, 2, 2, 1, 0, 3, 15, 0, 5, 6, 0, 0, 3, 0, 4, 2, 3, 2, 0, 2, 1, 3, 4, 0, 0, 1, 2, 3, 2, 4, 4, 0, 4, 1, 5, 1, 3, 3, 5, 4, 4, 2, 6, 4, 2, 2, 1, 2, 1, 0, 4, 3, 4, 1, 3, 2, 3, 10, 8, 4, 9, 4, 0, 1, 3, 5, 4, 4, 5, 5, 1, 0, 4, 0, 0, 4, 4, 1, 1, 5, 10, 3, 3, 2, 2, 1, 7, 7, 7, 5, 3, 3, 3, 3, 3, 4, 4, 12, 5, 8, 13, 5, 2, 5, 4, 1, 3, 16, 3, 8, 14, 17, 6, 10, 3, 2, 2, 5, 7, 19, 22, 8, 2, 2, 6, 11, 9, 8, 4, 3, 5, 15, 5, 14, 1, 1, 7, 8, 9, 9, 1, 7, 4, 2, 1, 2, 7, 3, 1, 7, 1, 0, 5, 3, 3, 1, 1, 1, 0, 1, 3, 2, 5, 3, 6, 3, 1, 1, 7, 1, 4, 7, 6, 1, 3, 2, 2, 2, 1, 5, 3, 0, 6, 4, 2, 2, 2, 3, 12, 4, 10, 4, 1, 4, 2, 1, 2, 1, 3, 5, 0, 4, 6, 1, 9, 2, 1, 9, 4, 6, 14, 9, 8, 3, 1, 6, 6, 6, 1, 2, 2, 10, 1, 2, 4, 1, 0, 1, 5, 5, 0, 0, 3, 5, 4, 7, 7, 7, 0, 6, 4, 4, 3, 7, 3, 3, 1, 5, 4, 1, 3, 5, 5, 1, 2, 3, 0, 6, 8, 2, 0, 2, 7, 0, 3, 1, 4, 4, 3, 1, 3, 1, 6, 8, 3, 2, 3, 4, 5, 1, 5, 1, 1, 8, 4, 1, 4, 4, 4, 1, 6, 3, 9, 8, 2, 3, 2, 4, 0, 3, 7, 9, 8, 7, 7, 6, 4, 15, 7, 2, 3, 4, 3, 4, 3, 8, 1, 3, 4, 8, 3, 6, 2, 6, 0, 5, 0, 8, 13, 6, 4, 5, 5, 5, 8, 4, 11, 7, 3, 10, 2, 0, 2, 1, 5, 4, 15, 6, 5, 2, 0, 1, 4, 11, 12, 6, 5, 6, 7, 3, 7, 1, 7, 8, 3, 14, 2, 2, 0, 0, 3, 5, 2, 4, 12, 6, 6, 10, 13, 0, 7, 5, 5, 5, 5, 8, 4, 6, 10, 2, 6, 0, 9, 5, 2, 6, 6, 4, 4, 4, 3, 1, 1, 6, 1, 1, 2, 6, 2, 1, 8, 1, 6, 10, 1, 12, 8, 1, 14, 7, 8, 18, 3, 2, 9, 6, 6, 4, 2, 9, 5, 2, 2, 5, 9, 1, 1, 13, 4, 1, 2, 1, 2, 0, 0, 5, 2, 1, 1, 1, 11, 0, 1, 3, 3, 0, 2, 0, 1, 4, 3, 3, 3, 2, 3, 7, 4, 11, 1, 1, 10, 4, 5, 2, 1, 4, 0, 0, 2, 1, 3, 5, 6, 3, 2, 3, 4, 5, 3, 4, 3, 3, 2, 0, 6, 2, 1, 1, 1, 2, 1, 0, 1, 6, 1, 8, 3, 2, 5, 4, 2, 4, 10, 10, 3, 2, 3, 2, 5, 0, 2, 3, 4, 3, 1, 0, 1, 1, 3, 5, 3, 1, 4, 4, 8, 6, 3, 5, 7, 9, 9, 4, 2, 4, 9, 5, 5, 6, 5, 3, 8, 9, 5, 4, 10, 4, 3, 7, 1, 7, 6, 6, 7, 4, 10, 3, 4, 4, 5, 5, 4, 5, 4, 5, 5, 3, 7, 9, 4, 5, 5, 8, 7, 6, 7, 1, 10, 5, 3, 0, 3, 7, 2, 7, 4, 1, 4, 7, 10, 4, 8, 3, 5, 0, 6, 0, 4, 6, 10, 4, 8, 7, 2, 0, 3, 5, 1, 3, 14, 0, 0, 4, 1, 0, 2, 2, 9, 2, 3, 0, 2, 1, 3, 17, 4, 2, 1, 2, 2, 3, 4, 5, 9, 2, 11, 2, 6, 4, 8, 8, 14, 16, 2, 11, 3, 3, 6, 4, 2, 18, 3, 8, 3, 8, 2, 11, 1, 8, 4, 3, 8, 2, 0, 2, 6, 2, 5, 7, 3, 5, 4, 8, 2, 1, 2, 5, 2, 9, 9, 2, 3, 1, 5, 2, 5, 2, 7, 2, 6, 7, 6, 5, 9, 3, 6, 3, 7, 3, 3, 6, 3, 3, 4, 2, 7, 7, 8, 1, 6, 9, 5, 6, 4, 3, 9, 1, 5, 2, 2, 4, 2, 9, 5, 6, 4, 2, 4, 3, 5, 5, 17, 0, 4, 1, 1, 2, 5, 2, 7, 8, 2, 5, 2, 1, 10, 5, 4, 1, 0, 1, 0, 7, 2, 9, 8, 8, 11, 11, 2, 3, 2, 4, 5, 0, 6, 4, 9, 4, 1, 2, 3, 3, 3, 3, 5, 5, 13, 7, 2, 1, 3, 1, 3, 11, 8, 1, 1, 0, 3, 0, 2, 1, 10, 12, 3, 4, 0, 9, 1, 8, 7, 11, 2, 5, 2, 1, 1, 9, 1, 15, 7, 2, 1, 3, 0, 1, 2, 4, 2, 0, 2, 5, 6, 9, 0, 4, 2, 1, 1, 2, 5, 6, 9, 5, 4, 2, 3, 2, 3, 1, 2, 5, 4, 2, 2, 1, 2, 0, 5, 2, 1, 3, 3, 4, 4, 1, 2, 2, 2, 1, 2, 3, 7, 8, 3, 0, 2, 3, 7, 0, 3, 5, 4, 4, 6, 8, 3, 8, 4, 6, 6, 7, 7, 10, 3, 4, 4, 4, 8, 10, 4, 12, 4, 10, 9, 6, 2, 5, 0, 2, 7, 3, 7, 1, 7, 5, 6, 8, 6, 6, 3, 5, 7, 1, 10, 5, 1, 8, 3, 4, 11, 12, 5, 4, 7, 10, 4, 0, 7, 7, 9, 13, 8, 3, 4, 2, 2, 4, 13, 11, 4, 3, 4, 3, 1, 3, 17, 7, 1, 6, 0, 6, 7, 7, 5, 3, 10, 7, 1, 2, 4, 9, 9, 7, 5, 11, 0, 8, 1, 7, 0, 5, 1, 14, 13, 6, 8, 5, 7, 0, 2, 2, 11, 8, 5, 5, 6, 0, 0, 3, 5, 1, 3, 12, 3, 3, 6, 7, 10, 27, 1, 11, 6, 2, 21, 9, 1, 10, 4, 2, 1, 0, 2, 6, 8, 2, 2, 1, 1, 4, 0, 4, 10, 5, 2, 5, 6, 1, 3, 5, 3, 3, 1, 1, 4, 5, 3, 4, 3, 2, 3, 4, 0, 3, 0, 2, 3, 7, 2, 9, 1, 5, 0, 11, 11, 7, 11, 6, 0, 0, 1, 0, 1, 3, 6, 1, 4, 6, 0, 9, 8, 3, 7, 1, 4, 10, 19, 1, 6, 5, 2, 2, 5, 2, 1, 2, 1, 5, 3, 7, 5, 5, 2, 1, 3, 5, 2, 7, 10, 8, 1, 0, 7, 1, 2, 1, 4, 3, 1, 1, 5, 10, 1, 2, 1, 1, 2, 3, 2, 3, 6, 2, 1, 14, 3, 6, 4, 0, 0, 2, 3, 13, 1, 2, 2, 2, 1, 2, 8, 1, 0, 4, 3, 6, 8, 6, 4, 8, 5, 5, 0, 1, 3, 1, 5, 7, 4, 2, 4, 3, 1, 2, 7, 1, 5, 8, 5, 5, 11, 2, 7, 2, 6, 2, 7, 5, 10, 7, 4, 6, 8, 10, 8, 7, 7, 0, 1, 3, 3, 5, 2, 9, 5, 2, 3, 4, 7, 2, 2, 3, 2, 13, 17, 2, 0, 6, 15, 7, 1, 7, 3, 1, 7, 7, 5, 0, 24, 8, 8, 2, 7, 8, 5, 5, 3, 3, 14, 26, 5, 4, 4, 2, 1, 2, 7, 2, 3, 7, 4, 2, 1, 5, 2, 3, 4, 9, 2, 2, 2, 1, 3, 11, 3, 2, 1, 3, 6, 1, 8, 1, 3, 1, 8, 1, 2, 3, 15, 3, 5, 4, 7, 5, 10, 5, 2, 1, 12, 10, 2, 1, 1, 8, 2, 10, 1, 3, 17, 16, 4, 1, 7, 5, 19, 0, 1, 2, 13, 1, 2, 7, 5, 11, 3, 13, 0, 6, 7, 7, 3, 0, 9, 2, 1, 1, 5, 6, 1, 5, 6, 12, 5, 4, 6, 3, 1, 0, 3, 2, 1, 0, 2, 2, 4, 7, 8, 6, 4, 4, 4, 5, 3, 2, 9, 4, 8, 9, 7, 1, 1, 7, 8, 8, 2, 9, 1, 7, 4, 2, 1, 5, 5, 8, 4, 5, 5, 2, 1, 0, 0, 1, 9, 3, 3, 5, 17, 17, 4, 9, 5, 11, 4, 3, 2, 5, 2, 0, 2, 6, 9, 3, 8, 1, 5, 6, 1, 3, 1, 13, 5, 7, 2, 1, 3, 3, 3, 1, 4, 4, 1, 6, 2, 8, 4, 3, 4, 5, 3, 1, 1, 11, 8, 3, 4, 3, 2, 3, 4, 7, 2, 1, 1, 4, 3, 2, 2, 1, 1, 4, 3, 8, 6, 3, 3, 4, 3, 3, 9, 3, 5, 8, 10, 3, 5, 4, 7, 9, 4, 6, 2, 6, 9, 5, 3, 4, 4, 13, 12, 4, 8, 4, 2, 10, 10, 16, 8, 11, 7, 1, 0, 13, 9, 8, 11, 4, 10, 8, 10, 6, 2, 7, 1, 4, 4, 2, 13, 4, 8, 1, 0, 1, 2, 7, 4, 3, 1, 2, 6, 1, 9, 4, 5, 6, 14, 2, 6, 4, 5, 2, 13, 4, 10, 3, 2, 2, 5, 7, 11, 2, 10, 10, 1, 16, 9, 7, 8, 5, 0, 4, 2, 8, 6, 10, 7, 11, 5, 4, 13, 4, 12, 2, 6, 7, 12, 5, 2, 1, 6, 1, 2, 0, 2, 7, 3, 0, 4, 8, 20, 1, 3, 5, 3, 4, 6, 2, 4, 4, 13, 3, 3, 5, 12, 4, 1, 2, 6, 5, 19, 6, 5, 3, 3, 6, 4, 1, 2, 5, 10, 4, 9, 6, 3, 6, 4, 0, 3, 9, 10, 7, 5, 13, 1, 2, 1, 0, 2, 5, 0, 3, 5, 0, 4, 0, 3, 2, 2, 5, 0, 4, 1, 2, 1, 1, 4, 0, 3, 7, 3, 2, 1, 3, 3, 1, 3, 11, 9, 1, 3, 3, 2, 4, 3, 3, 4, 6, 3, 2, 6, 6, 1, 1, 6, 3, 7, 1, 5, 5, 8, 3, 4, 2, 5, 0, 8, 7, 4, 10, 1, 7, 7, 2, 7, 4, 5, 3, 3, 2, 5, 0, 0, 0, 1, 6, 4, 2, 4, 5, 1, 3, 4, 5, 1, 0, 3, 2, 3, 6, 8, 4, 3, 2, 2, 1, 2, 2, 3, 2, 11, 10, 3, 3, 1, 2, 0, 3, 4, 3, 0, 4, 2, 2, 1, 8, 4, 0, 1, 2, 2, 2, 5, 2, 5, 6, 4, 12, 1, 2, 0, 1, 2, 2, 0, 5, 4, 3, 5, 1, 13, 7, 0, 5, 4, 4, 4, 3, 1, 6, 1, 6, 1, 1, 0, 3, 0, 2, 3, 5, 4, 2, 4, 4, 2, 7, 0, 6, 15, 11, 8, 1, 4, 4, 1, 7, 8, 5, 1, 5, 15, 11, 15, 5, 0, 1, 7, 1, 0, 0, 5, 0, 2, 5, 8, 2, 2, 6, 4, 6, 5, 6, 4, 3, 5, 4, 6, 3, 6, 4, 7, 0, 5, 5, 6, 2, 3, 3, 2, 3, 6, 2, 3, 5, 2, 2, 6, 0, 3, 2, 3, 0, 1, 2, 3, 6, 1, 2, 8, 12, 10, 1, 8, 0, 0, 12, 3, 1, 2, 9, 5, 0, 3, 7, 8, 0, 2, 3, 0, 3, 0, 0, 0, 0, 10, 6, 12, 13, 8, 3, 1, 3, 2, 1, 18, 2, 13, 4, 1, 4, 4, 1, 6, 11, 11, 5, 8, 9, 7, 9, 5, 6, 6, 5, 7, 3, 6, 6, 8, 6, 10, 8, 1, 5, 3, 1, 3, 5, 2, 4, 2, 0, 5, 1, 3, 3, 13, 4, 4, 5, 3, 8, 5, 8, 5, 13, 7, 1, 12, 4, 7, 4, 8, 5, 4, 3, 11, 6, 4, 7, 10, 6, 11, 9, 13, 1, 4, 1, 6, 10, 2, 8, 3, 9, 0, 8, 4, 9, 3, 8, 1, 4, 6, 6, 6, 0, 1, 0, 8, 8, 10, 7, 10, 2, 2, 2, 12, 8, 6, 6, 1, 4, 5, 14, 8, 3, 1, 2, 8, 3, 7, 0, 3, 6, 4, 0, 4, 3, 3, 2, 4, 0, 1, 3, 1, 2, 5, 8, 4, 0, 2, 2, 0, 0, 4, 5, 5, 3, 0, 2, 3, 0, 1, 3, 0, 5, 0, 3, 2, 3, 2, 1, 4, 1, 5, 1, 1, 1, 1, 6, 2, 8, 7, 4, 2, 0, 5, 5, 4, 5, 2, 2, 3, 4, 2, 6, 8, 6, 2, 7, 1, 4, 1, 3, 3, 3, 3, 2, 2, 8, 4, 2, 9, 1, 4, 4, 9, 4, 0, 1, 4, 8, 0, 8, 2, 8, 1, 3, 6, 1, 9, 3, 4, 3, 1, 1, 4, 6, 5, 4, 0, 5, 5, 3, 1, 6, 8, 6, 3, 13, 2, 5, 1, 1, 4, 0, 3, 5, 1, 0, 1, 8, 4, 1, 0, 1, 3, 1, 0, 1, 0, 11, 4, 1, 8, 3, 6, 3, 5, 1, 5, 5, 8, 6, 9, 9, 3, 7, 1, 7, 2, 0, 6, 1, 10, 5, 3, 7, 9, 3, 2, 5, 4, 3, 1, 3, 7, 2, 1, 1, 3, 5, 3, 0, 2, 1, 2, 4, 2, 9, 7, 12, 1, 3, 1, 2, 3, 6, 2, 3, 0, 5, 1, 9, 10, 2, 2, 3, 3, 3, 8, 4, 8, 1, 7, 9, 12, 5, 5, 1, 7, 2, 1, 2, 1, 3, 1, 25, 6, 11, 5, 10, 2, 1, 6, 1, 1, 7, 2, 2, 4, 0, 3, 0, 4, 0, 3, 2, 1, 0, 0, 4, 4, 2, 13, 1, 0, 19, 2, 1, 1, 1, 2, 2, 2, 1, 1, 2, 2, 2, 5, 4, 1, 0, 5, 1, 3, 5, 2, 7, 1, 1, 5, 4, 4, 3, 1, 2, 3, 5, 7, 1, 1, 1, 3, 0, 8, 5, 1, 3, 2, 7, 12, 1, 4, 1, 4, 10, 0, 4, 1, 3, 6, 4, 0, 3, 0, 1, 2, 4, 0, 2, 3, 6, 2, 1, 1, 2, 2, 6, 3, 8, 2, 2, 3, 4, 0, 0, 5, 1, 3, 1, 8, 5, 7, 7, 5, 12, 4, 4, 9, 18, 8, 11, 7, 7, 5, 4, 5, 5, 6, 8, 3, 4, 0, 6, 4, 6, 4, 10, 7, 4, 3, 10, 9, 12, 2, 3, 5, 12, 6, 4, 9, 3, 7, 0, 9, 6, 4, 10, 15, 11, 8, 5, 2, 2, 12, 9, 8, 0, 2, 3, 3, 0, 11, 8, 5, 10, 5, 6, 2, 4, 4, 8, 7, 10, 5, 9, 4, 8, 4, 6, 1, 5, 1, 2, 5, 8, 4, 5, 2, 4, 4, 6, 3, 7, 12, 7, 6, 0, 5, 0, 5, 4, 3, 5, 4, 5, 5, 8, 6, 9, 4, 5, 3, 7, 1, 7, 2, 0, 2, 4, 2, 3, 4, 1, 1, 5, 4, 4, 6, 1, 3, 11, 4, 3, 2, 5, 3, 3, 4, 5, 3, 3, 2, 4, 13, 8, 5, 5, 4, 8, 11, 9, 2, 0, 3, 4, 5, 2, 2, 3, 6, 5, 5, 8, 6, 9, 4, 5, 3, 7, 1, 7, 2, 0, 4, 3, 2, 11, 6, 11, 4, 3, 9, 0, 8, 8, 3, 6, 1, 0, 1, 6, 5, 0, 3, 1, 1, 8, 0, 3, 3, 4, 4, 6, 0, 0, 2, 1, 2, 1, 1, 0, 7, 8, 6, 6, 1, 5, 9, 6, 1, 2, 8, 2, 4, 6, 7, 7, 4, 4, 4, 4, 8, 5, 4, 3, 1, 10, 13, 4, 10, 5, 6, 0, 1, 6, 3, 6, 6, 13, 0, 10, 7, 8, 11, 3, 7, 3, 1, 2, 3, 1, 0, 4, 9, 3, 10, 10, 7, 5, 3, 2, 5, 8, 4, 1, 10, 9, 10, 5, 7, 5, 8, 9, 11, 4, 12, 14, 6, 8, 5, 6, 3, 3, 4, 2, 0, 5, 1, 0, 1, 4, 4, 10, 4, 5, 5, 7, 2, 0, 5, 13, 11, 1, 2, 7, 3, 0, 2, 0, 0, 2, 4, 2, 1, 3, 7, 8, 3, 10, 5, 4, 7, 11, 4, 1, 2, 4, 5, 4, 0, 1, 2, 2, 2, 2, 1, 1, 1, 6, 1, 0, 1, 3, 2, 1, 1, 0, 2, 6, 0, 1, 3, 2, 1, 5, 1, 2, 0, 4, 7, 2, 3, 4, 2, 4, 2, 2, 3, 2, 1, 0, 0, 2, 1, 2, 5, 6, 2, 0, 2, 2, 9, 5, 7, 3, 9, 2, 0, 3, 1, 0, 5, 2, 1, 2, 5, 2, 1, 1, 4, 7, 3, 3, 3, 8, 0, 2, 3, 3, 1, 3, 6, 1, 9, 1, 5, 6, 5, 2, 2, 4, 2, 5, 9, 12, 2, 4, 6, 0, 4, 8, 0, 0, 0, 2, 4, 3, 8, 2, 3, 2, 5, 8, 8, 8, 7, 2, 0, 7, 4, 7, 7, 11, 8, 4, 8, 5, 4, 10, 7, 1, 0, 3, 2, 6, 10, 5, 2, 0, 5, 1, 8, 8, 4, 10, 2, 5, 5, 8, 6, 9, 4, 5, 3, 7, 1, 7, 2, 2, 0, 3, 5, 3, 0, 0, 2, 4, 4, 2, 1, 5, 2, 6, 3, 2, 4, 1, 1, 4, 9, 8, 5, 3, 1, 8, 5, 3, 2, 3, 3, 7, 1, 3, 2, 6, 6, 8, 7, 10, 1, 6, 5, 4, 3, 4, 3, 6, 3, 4, 0, 5, 0, 0, 5, 0, 3, 2, 0, 6, 12, 3, 2, 8, 6, 2, 2, 1, 2, 3, 8, 11, 6, 1, 2, 2, 5, 13, 1, 0, 0, 3, 5, 3, 3, 4, 9, 5, 3, 5, 2, 3, 6, 1, 9, 1, 10, 4, 4, 4, 2, 2, 3, 5, 4, 8, 7, 1, 1, 0, 2, 0, 0, 4, 3, 2, 6, 5, 4, 2, 8, 7, 1, 2, 1, 4, 1, 4, 5, 5, 4, 1, 8, 6, 6, 2, 4, 4, 2, 6, 10, 3, 5, 4, 5, 2, 0, 7, 6, 1, 1, 4, 5, 0, 1, 6, 3, 2, 0, 2, 1, 2, 7, 3, 6, 3, 2, 6, 4, 5, 2, 6, 11, 6, 2, 8, 6, 5, 8, 7, 4, 4, 5, 3, 2, 3, 8, 3, 3, 8, 5, 0, 3, 3, 2, 3, 2, 11, 1, 1, 4, 16, 5, 6, 12, 1, 8, 6, 3, 1, 9, 13, 1, 12, 8, 1, 2, 11, 22, 3, 5, 8, 4, 6, 3, 1, 5, 13, 1, 4, 5, 13, 2, 4, 14, 1, 0, 3, 16, 0, 6, 2, 11, 0, 2, 0, 0, 5, 10, 5, 10, 9, 11, 8, 0, 15, 4, 2, 9, 8, 1, 4, 8, 2, 12, 5, 7, 5, 9, 0, 8, 4, 2, 6, 5, 4, 4, 9, 3, 10, 2, 1, 7, 6, 2, 7, 3, 4, 2, 0, 5, 10, 6, 17, 0, 2, 10, 11, 14, 11, 10, 0, 14, 11, 4, 2, 5, 2, 6, 3, 1, 1, 14, 11, 6, 4, 6, 2, 0, 3, 4, 2, 5, 1, 4, 6, 10, 0, 6, 5, 0, 1, 8, 0, 1, 2, 6, 0, 0, 0, 3, 1, 1, 2, 2, 1, 1, 4, 2, 1, 4, 5, 1, 1, 0, 8, 1, 7, 2, 10, 8, 8, 5, 10, 7, 3, 2, 3, 0, 1, 0, 2, 0, 4, 5, 4, 6, 3, 2, 2, 5, 5, 2, 0, 2, 1, 4, 4, 4, 0, 2, 7, 6, 0, 1, 2, 3, 6, 1, 5, 3, 2, 4, 2, 3, 4, 5, 4, 6, 4, 1, 2, 5, 7, 5, 14, 7, 10, 2, 4, 0, 7, 6, 1, 3, 4, 1, 2, 3, 1, 8, 2, 6, 3, 3, 4, 2, 1, 4, 1, 5, 3, 3, 0, 4, 3, 7, 4, 4, 3, 1, 2, 4, 7, 5, 2, 5, 1, 2, 3, 4, 2, 7, 4, 4, 4, 2, 2, 2, 7, 1, 1, 7, 4, 2, 3, 5, 12, 6, 0, 0, 7, 17, 4, 4, 14, 4, 2, 5, 2, 12, 1, 2, 12, 2, 7, 2, 4, 4, 6, 1, 2, 3, 1, 2, 2, 1, 4, 6, 8, 12, 16, 10, 5, 2, 17, 5, 7, 9, 4, 17, 5, 2, 1, 6, 7, 8, 1, 3, 1, 1, 4, 2, 6, 5, 1, 2, 4, 3, 5, 3, 4, 3, 1, 2, 3, 21, 11, 0, 2, 1, 1, 2, 24, 2, 0, 0, 4, 25, 0, 0, 4, 4, 1, 4, 6, 6, 0, 2, 5, 8, 7, 4, 6, 1, 3, 4, 4, 3, 5, 8, 3, 2, 3, 4, 1, 4, 4, 7, 7, 4, 7, 7, 2, 4, 5, 4, 0, 5, 2, 7, 4, 3, 0, 3, 3, 1, 2, 3, 9, 4, 6, 7, 5, 2, 4, 9, 3, 4, 3, 0, 3, 3, 1, 3, 0, 3, 8, 2, 0, 4, 6, 0, 10, 5, 8, 0, 3, 5, 5, 12, 14, 10, 0, 3, 2, 5, 5, 0, 5, 0, 2, 3, 5, 1, 1, 3, 2, 2, 3, 1, 4, 4, 7, 10, 5, 2, 2, 6, 2, 5, 4, 0, 3, 1, 6, 0, 3, 2, 3, 0, 2, 4, 3, 8, 1, 3, 2, 3, 2, 0, 2, 8, 4, 4, 3, 0, 0, 1, 8, 3, 1, 3, 3, 6, 7, 5, 5, 8, 11, 10, 5, 5, 1, 6, 6, 3, 1, 7, 1, 1, 4, 3, 2, 5, 8, 3, 1, 2, 2, 5, 1, 4, 4, 7, 4, 5, 3, 4, 5, 3, 5, 7, 1, 6, 2, 3, 5, 3, 4, 6, 3, 0, 3, 2, 1, 0, 1, 4, 4, 1, 1, 0, 10, 1, 4, 5, 8, 5, 0, 2, 3, 12, 1, 0, 0, 0, 5, 0, 1, 1, 2, 2, 0, 5, 3, 1, 0, 0, 4, 5, 2, 0, 5, 5, 1, 2, 0, 7, 0, 2, 0, 3, 1, 1, 4, 6, 2, 0, 0, 0, 4, 1, 1, 5, 4, 6, 2, 2, 1, 2, 7, 6, 7, 2, 3, 1, 2, 4, 3, 2, 1, 5, 2, 2, 3, 0, 13, 1, 3, 4, 6, 4, 2, 6, 0, 3, 4, 2, 9, 3, 6, 6, 2, 3, 4, 4, 3, 0, 5, 2, 3, 2, 7, 2, 5, 5, 4, 3, 6, 3, 6, 0, 1, 2, 3, 1, 3, 4, 5, 1, 4, 7, 7, 4, 5, 5, 2, 2, 1, 2, 2, 1, 6, 6, 4, 0, 2, 6, 3, 1, 9, 6, 1, 5, 1, 3, 1, 2, 2, 2, 5, 6, 1, 5, 0, 0, 2, 5, 2, 1, 1, 6, 4, 2, 4, 2, 2, 0, 1, 3, 2, 1, 6, 2, 0, 1, 0, 2, 8, 1, 5, 0, 5, 3, 2, 4, 1, 2, 4, 6, 3, 4, 9, 10, 8, 0, 3, 2, 5, 0, 1, 6, 0, 9, 2, 6, 8, 1, 6, 6, 4, 2, 2, 3, 2, 4, 3, 3, 3, 7, 5, 9, 3, 4, 3, 1, 8, 5, 1, 4, 9, 5, 2, 8, 5, 3, 0, 6, 6, 1, 0, 5, 6, 3, 3, 0, 1, 2, 1, 2, 7, 3, 5, 3, 9, 3, 6, 2, 5, 2, 5, 4, 3, 1, 3, 2, 2, 1, 3, 7, 6, 6, 0, 7, 5, 2, 3, 2, 3, 1, 3, 2, 15, 2, 1, 1, 1, 2, 0, 1, 2, 4, 4, 2, 2, 4, 5, 0, 1, 8, 4, 2, 3, 0, 2, 4, 2, 8, 2, 1, 4, 9, 5, 3, 7, 8, 4, 4, 2, 5, 5, 2, 7, 3, 1, 4, 10, 8, 5, 3, 14, 1, 3, 4, 4, 1, 1, 0, 4, 2, 1, 1, 0, 4, 4, 2, 1], \"xaxis\": \"x\", \"yaxis\": \"y\"}],\n",
       "                        {\"barmode\": \"relative\", \"height\": 600, \"legend\": {\"tracegroupgap\": 0}, \"margin\": {\"t\": 60}, \"template\": {\"data\": {\"bar\": [{\"error_x\": {\"color\": \"#2a3f5f\"}, \"error_y\": {\"color\": \"#2a3f5f\"}, \"marker\": {\"line\": {\"color\": \"#E5ECF6\", \"width\": 0.5}}, \"type\": \"bar\"}], \"barpolar\": [{\"marker\": {\"line\": {\"color\": \"#E5ECF6\", \"width\": 0.5}}, \"type\": \"barpolar\"}], \"carpet\": [{\"aaxis\": {\"endlinecolor\": \"#2a3f5f\", \"gridcolor\": \"white\", \"linecolor\": \"white\", \"minorgridcolor\": \"white\", \"startlinecolor\": \"#2a3f5f\"}, \"baxis\": {\"endlinecolor\": \"#2a3f5f\", \"gridcolor\": \"white\", \"linecolor\": \"white\", \"minorgridcolor\": \"white\", \"startlinecolor\": \"#2a3f5f\"}, \"type\": \"carpet\"}], \"choropleth\": [{\"colorbar\": {\"outlinewidth\": 0, \"ticks\": \"\"}, \"type\": \"choropleth\"}], \"contour\": [{\"colorbar\": {\"outlinewidth\": 0, \"ticks\": \"\"}, \"colorscale\": [[0.0, \"#0d0887\"], [0.1111111111111111, \"#46039f\"], [0.2222222222222222, \"#7201a8\"], [0.3333333333333333, \"#9c179e\"], [0.4444444444444444, \"#bd3786\"], [0.5555555555555556, \"#d8576b\"], [0.6666666666666666, \"#ed7953\"], [0.7777777777777778, \"#fb9f3a\"], [0.8888888888888888, \"#fdca26\"], [1.0, \"#f0f921\"]], \"type\": \"contour\"}], \"contourcarpet\": [{\"colorbar\": {\"outlinewidth\": 0, \"ticks\": \"\"}, \"type\": \"contourcarpet\"}], \"heatmap\": [{\"colorbar\": {\"outlinewidth\": 0, \"ticks\": \"\"}, \"colorscale\": [[0.0, \"#0d0887\"], [0.1111111111111111, \"#46039f\"], [0.2222222222222222, \"#7201a8\"], [0.3333333333333333, \"#9c179e\"], [0.4444444444444444, \"#bd3786\"], [0.5555555555555556, \"#d8576b\"], [0.6666666666666666, \"#ed7953\"], [0.7777777777777778, \"#fb9f3a\"], [0.8888888888888888, \"#fdca26\"], [1.0, \"#f0f921\"]], \"type\": \"heatmap\"}], \"heatmapgl\": [{\"colorbar\": {\"outlinewidth\": 0, \"ticks\": \"\"}, \"colorscale\": [[0.0, \"#0d0887\"], [0.1111111111111111, \"#46039f\"], [0.2222222222222222, \"#7201a8\"], [0.3333333333333333, \"#9c179e\"], [0.4444444444444444, \"#bd3786\"], [0.5555555555555556, \"#d8576b\"], [0.6666666666666666, \"#ed7953\"], [0.7777777777777778, \"#fb9f3a\"], [0.8888888888888888, \"#fdca26\"], [1.0, \"#f0f921\"]], \"type\": \"heatmapgl\"}], \"histogram\": [{\"marker\": {\"colorbar\": {\"outlinewidth\": 0, \"ticks\": \"\"}}, \"type\": \"histogram\"}], \"histogram2d\": [{\"colorbar\": {\"outlinewidth\": 0, \"ticks\": \"\"}, \"colorscale\": [[0.0, \"#0d0887\"], [0.1111111111111111, \"#46039f\"], [0.2222222222222222, \"#7201a8\"], [0.3333333333333333, \"#9c179e\"], [0.4444444444444444, \"#bd3786\"], [0.5555555555555556, \"#d8576b\"], [0.6666666666666666, \"#ed7953\"], [0.7777777777777778, \"#fb9f3a\"], [0.8888888888888888, \"#fdca26\"], [1.0, \"#f0f921\"]], \"type\": \"histogram2d\"}], \"histogram2dcontour\": [{\"colorbar\": {\"outlinewidth\": 0, \"ticks\": \"\"}, \"colorscale\": [[0.0, \"#0d0887\"], [0.1111111111111111, \"#46039f\"], [0.2222222222222222, \"#7201a8\"], [0.3333333333333333, \"#9c179e\"], [0.4444444444444444, \"#bd3786\"], [0.5555555555555556, \"#d8576b\"], [0.6666666666666666, \"#ed7953\"], [0.7777777777777778, \"#fb9f3a\"], [0.8888888888888888, \"#fdca26\"], [1.0, \"#f0f921\"]], \"type\": \"histogram2dcontour\"}], \"mesh3d\": [{\"colorbar\": {\"outlinewidth\": 0, \"ticks\": \"\"}, \"type\": \"mesh3d\"}], \"parcoords\": [{\"line\": {\"colorbar\": {\"outlinewidth\": 0, \"ticks\": \"\"}}, \"type\": \"parcoords\"}], \"pie\": [{\"automargin\": true, \"type\": \"pie\"}], \"scatter\": [{\"marker\": {\"colorbar\": {\"outlinewidth\": 0, \"ticks\": \"\"}}, \"type\": \"scatter\"}], \"scatter3d\": [{\"line\": {\"colorbar\": {\"outlinewidth\": 0, \"ticks\": \"\"}}, \"marker\": {\"colorbar\": {\"outlinewidth\": 0, \"ticks\": \"\"}}, \"type\": \"scatter3d\"}], \"scattercarpet\": [{\"marker\": {\"colorbar\": {\"outlinewidth\": 0, \"ticks\": \"\"}}, \"type\": \"scattercarpet\"}], \"scattergeo\": [{\"marker\": {\"colorbar\": {\"outlinewidth\": 0, \"ticks\": \"\"}}, \"type\": \"scattergeo\"}], \"scattergl\": [{\"marker\": {\"colorbar\": {\"outlinewidth\": 0, \"ticks\": \"\"}}, \"type\": \"scattergl\"}], \"scattermapbox\": [{\"marker\": {\"colorbar\": {\"outlinewidth\": 0, \"ticks\": \"\"}}, \"type\": \"scattermapbox\"}], \"scatterpolar\": [{\"marker\": {\"colorbar\": {\"outlinewidth\": 0, \"ticks\": \"\"}}, \"type\": \"scatterpolar\"}], \"scatterpolargl\": [{\"marker\": {\"colorbar\": {\"outlinewidth\": 0, \"ticks\": \"\"}}, \"type\": \"scatterpolargl\"}], \"scatterternary\": [{\"marker\": {\"colorbar\": {\"outlinewidth\": 0, \"ticks\": \"\"}}, \"type\": \"scatterternary\"}], \"surface\": [{\"colorbar\": {\"outlinewidth\": 0, \"ticks\": \"\"}, \"colorscale\": [[0.0, \"#0d0887\"], [0.1111111111111111, \"#46039f\"], [0.2222222222222222, \"#7201a8\"], [0.3333333333333333, \"#9c179e\"], [0.4444444444444444, \"#bd3786\"], [0.5555555555555556, \"#d8576b\"], [0.6666666666666666, \"#ed7953\"], [0.7777777777777778, \"#fb9f3a\"], [0.8888888888888888, \"#fdca26\"], [1.0, \"#f0f921\"]], \"type\": \"surface\"}], \"table\": [{\"cells\": {\"fill\": {\"color\": \"#EBF0F8\"}, \"line\": {\"color\": \"white\"}}, \"header\": {\"fill\": {\"color\": \"#C8D4E3\"}, \"line\": {\"color\": \"white\"}}, \"type\": \"table\"}]}, \"layout\": {\"annotationdefaults\": {\"arrowcolor\": \"#2a3f5f\", \"arrowhead\": 0, \"arrowwidth\": 1}, \"coloraxis\": {\"colorbar\": {\"outlinewidth\": 0, \"ticks\": \"\"}}, \"colorscale\": {\"diverging\": [[0, \"#8e0152\"], [0.1, \"#c51b7d\"], [0.2, \"#de77ae\"], [0.3, \"#f1b6da\"], [0.4, \"#fde0ef\"], [0.5, \"#f7f7f7\"], [0.6, \"#e6f5d0\"], [0.7, \"#b8e186\"], [0.8, \"#7fbc41\"], [0.9, \"#4d9221\"], [1, \"#276419\"]], \"sequential\": [[0.0, \"#0d0887\"], [0.1111111111111111, \"#46039f\"], [0.2222222222222222, \"#7201a8\"], [0.3333333333333333, \"#9c179e\"], [0.4444444444444444, \"#bd3786\"], [0.5555555555555556, \"#d8576b\"], [0.6666666666666666, \"#ed7953\"], [0.7777777777777778, \"#fb9f3a\"], [0.8888888888888888, \"#fdca26\"], [1.0, \"#f0f921\"]], \"sequentialminus\": [[0.0, \"#0d0887\"], [0.1111111111111111, \"#46039f\"], [0.2222222222222222, \"#7201a8\"], [0.3333333333333333, \"#9c179e\"], [0.4444444444444444, \"#bd3786\"], [0.5555555555555556, \"#d8576b\"], [0.6666666666666666, \"#ed7953\"], [0.7777777777777778, \"#fb9f3a\"], [0.8888888888888888, \"#fdca26\"], [1.0, \"#f0f921\"]]}, \"colorway\": [\"#636efa\", \"#EF553B\", \"#00cc96\", \"#ab63fa\", \"#FFA15A\", \"#19d3f3\", \"#FF6692\", \"#B6E880\", \"#FF97FF\", \"#FECB52\"], \"font\": {\"color\": \"#2a3f5f\"}, \"geo\": {\"bgcolor\": \"white\", \"lakecolor\": \"white\", \"landcolor\": \"#E5ECF6\", \"showlakes\": true, \"showland\": true, \"subunitcolor\": \"white\"}, \"hoverlabel\": {\"align\": \"left\"}, \"hovermode\": \"closest\", \"mapbox\": {\"style\": \"light\"}, \"paper_bgcolor\": \"white\", \"plot_bgcolor\": \"#E5ECF6\", \"polar\": {\"angularaxis\": {\"gridcolor\": \"white\", \"linecolor\": \"white\", \"ticks\": \"\"}, \"bgcolor\": \"#E5ECF6\", \"radialaxis\": {\"gridcolor\": \"white\", \"linecolor\": \"white\", \"ticks\": \"\"}}, \"scene\": {\"xaxis\": {\"backgroundcolor\": \"#E5ECF6\", \"gridcolor\": \"white\", \"gridwidth\": 2, \"linecolor\": \"white\", \"showbackground\": true, \"ticks\": \"\", \"zerolinecolor\": \"white\"}, \"yaxis\": {\"backgroundcolor\": \"#E5ECF6\", \"gridcolor\": \"white\", \"gridwidth\": 2, \"linecolor\": \"white\", \"showbackground\": true, \"ticks\": \"\", \"zerolinecolor\": \"white\"}, \"zaxis\": {\"backgroundcolor\": \"#E5ECF6\", \"gridcolor\": \"white\", \"gridwidth\": 2, \"linecolor\": \"white\", \"showbackground\": true, \"ticks\": \"\", \"zerolinecolor\": \"white\"}}, \"shapedefaults\": {\"line\": {\"color\": \"#2a3f5f\"}}, \"ternary\": {\"aaxis\": {\"gridcolor\": \"white\", \"linecolor\": \"white\", \"ticks\": \"\"}, \"baxis\": {\"gridcolor\": \"white\", \"linecolor\": \"white\", \"ticks\": \"\"}, \"bgcolor\": \"#E5ECF6\", \"caxis\": {\"gridcolor\": \"white\", \"linecolor\": \"white\", \"ticks\": \"\"}}, \"title\": {\"x\": 0.05}, \"xaxis\": {\"automargin\": true, \"gridcolor\": \"white\", \"linecolor\": \"white\", \"ticks\": \"\", \"title\": {\"standoff\": 15}, \"zerolinecolor\": \"white\", \"zerolinewidth\": 2}, \"yaxis\": {\"automargin\": true, \"gridcolor\": \"white\", \"linecolor\": \"white\", \"ticks\": \"\", \"title\": {\"standoff\": 15}, \"zerolinecolor\": \"white\", \"zerolinewidth\": 2}}}, \"title\": {\"text\": \"number of words distribution\"}, \"width\": 1000, \"xaxis\": {\"anchor\": \"y\", \"domain\": [0.0, 1.0], \"title\": {\"text\": \"\"}}, \"yaxis\": {\"anchor\": \"x\", \"domain\": [0.0, 1.0], \"title\": {\"text\": \"\"}}},\n",
       "                        {\"responsive\": true}\n",
       "                    ).then(function(){\n",
       "                            \n",
       "var gd = document.getElementById('2e44338c-bcc5-417b-9164-bfd157446113');\n",
       "var x = new MutationObserver(function (mutations, observer) {{\n",
       "        var display = window.getComputedStyle(gd).display;\n",
       "        if (!display || display === 'none') {{\n",
       "            console.log([gd, 'removed!']);\n",
       "            Plotly.purge(gd);\n",
       "            observer.disconnect();\n",
       "        }}\n",
       "}});\n",
       "\n",
       "// Listen for the removal of the full notebook cells\n",
       "var notebookContainer = gd.closest('#notebook-container');\n",
       "if (notebookContainer) {{\n",
       "    x.observe(notebookContainer, {childList: true});\n",
       "}}\n",
       "\n",
       "// Listen for the clearing of the current output cell\n",
       "var outputEl = gd.closest('.output');\n",
       "if (outputEl) {{\n",
       "    x.observe(outputEl, {childList: true});\n",
       "}}\n",
       "\n",
       "                        })\n",
       "                };\n",
       "                });\n",
       "            </script>\n",
       "        </div>"
      ]
     },
     "metadata": {},
     "output_type": "display_data"
    }
   ],
   "source": [
    "npt.word_distribution(\n",
    "    title='number of words distribution'\n",
    "#     save=False\n",
    ")"
   ]
  },
  {
   "cell_type": "markdown",
   "metadata": {},
   "source": [
    "## 3-6. wordcloud"
   ]
  },
  {
   "cell_type": "code",
   "execution_count": 85,
   "metadata": {},
   "outputs": [
    {
     "data": {
      "image/png": "[encoded data removed]",
      "text/plain": [
       "<IPython.core.display.Image object>"
      ]
     },
     "metadata": {},
     "output_type": "display_data"
    }
   ],
   "source": [
    "npt.wordcloud(\n",
    "    stopwords=stopwords,\n",
    "    max_words=100,\n",
    "    max_font_size=100,\n",
    "    colormap='tab20_r',\n",
    "    save=True\n",
    ")"
   ]
  },
  {
   "cell_type": "markdown",
   "metadata": {},
   "source": [
    "## 3-7. 共起ネットワーク"
   ]
  },
  {
   "cell_type": "code",
   "execution_count": 102,
   "metadata": {},
   "outputs": [
    {
     "name": "stdout",
     "output_type": "stream",
     "text": [
      "node_size:41, edge_size:31\n"
     ]
    },
    {
     "data": {
      "text/html": [
       "<div>\n",
       "<style scoped>\n",
       "    .dataframe tbody tr th:only-of-type {\n",
       "        vertical-align: middle;\n",
       "    }\n",
       "\n",
       "    .dataframe tbody tr th {\n",
       "        vertical-align: top;\n",
       "    }\n",
       "\n",
       "    .dataframe thead th {\n",
       "        text-align: right;\n",
       "    }\n",
       "</style>\n",
       "<table border=\"1\" class=\"dataframe\">\n",
       "  <thead>\n",
       "    <tr style=\"text-align: right;\">\n",
       "      <th></th>\n",
       "      <th>id</th>\n",
       "      <th>id_code</th>\n",
       "      <th>adjacency_frequency</th>\n",
       "      <th>betweeness_centrality</th>\n",
       "      <th>clustering_coefficient</th>\n",
       "      <th>community</th>\n",
       "    </tr>\n",
       "  </thead>\n",
       "  <tbody>\n",
       "    <tr>\n",
       "      <th>0</th>\n",
       "      <td>未経験</td>\n",
       "      <td>0</td>\n",
       "      <td>2</td>\n",
       "      <td>0.012821</td>\n",
       "      <td>0.000000</td>\n",
       "      <td>0</td>\n",
       "    </tr>\n",
       "    <tr>\n",
       "      <th>1</th>\n",
       "      <td>メディア</td>\n",
       "      <td>1</td>\n",
       "      <td>1</td>\n",
       "      <td>0.000000</td>\n",
       "      <td>0.000000</td>\n",
       "      <td>1</td>\n",
       "    </tr>\n",
       "    <tr>\n",
       "      <th>2</th>\n",
       "      <td>インターン生</td>\n",
       "      <td>2</td>\n",
       "      <td>1</td>\n",
       "      <td>0.000000</td>\n",
       "      <td>0.000000</td>\n",
       "      <td>6</td>\n",
       "    </tr>\n",
       "    <tr>\n",
       "      <th>3</th>\n",
       "      <td>最先端</td>\n",
       "      <td>3</td>\n",
       "      <td>1</td>\n",
       "      <td>0.000000</td>\n",
       "      <td>0.000000</td>\n",
       "      <td>0</td>\n",
       "    </tr>\n",
       "    <tr>\n",
       "      <th>4</th>\n",
       "      <td>事業</td>\n",
       "      <td>4</td>\n",
       "      <td>3</td>\n",
       "      <td>0.030769</td>\n",
       "      <td>0.000000</td>\n",
       "      <td>1</td>\n",
       "    </tr>\n",
       "    <tr>\n",
       "      <th>5</th>\n",
       "      <td>地球</td>\n",
       "      <td>5</td>\n",
       "      <td>2</td>\n",
       "      <td>0.000000</td>\n",
       "      <td>1.000000</td>\n",
       "      <td>2</td>\n",
       "    </tr>\n",
       "    <tr>\n",
       "      <th>6</th>\n",
       "      <td>大切</td>\n",
       "      <td>6</td>\n",
       "      <td>1</td>\n",
       "      <td>0.000000</td>\n",
       "      <td>0.000000</td>\n",
       "      <td>8</td>\n",
       "    </tr>\n",
       "    <tr>\n",
       "      <th>7</th>\n",
       "      <td>社会</td>\n",
       "      <td>7</td>\n",
       "      <td>2</td>\n",
       "      <td>0.000000</td>\n",
       "      <td>1.000000</td>\n",
       "      <td>2</td>\n",
       "    </tr>\n",
       "    <tr>\n",
       "      <th>8</th>\n",
       "      <td>インターン</td>\n",
       "      <td>8</td>\n",
       "      <td>1</td>\n",
       "      <td>0.000000</td>\n",
       "      <td>0.000000</td>\n",
       "      <td>7</td>\n",
       "    </tr>\n",
       "    <tr>\n",
       "      <th>9</th>\n",
       "      <td>心理的</td>\n",
       "      <td>9</td>\n",
       "      <td>1</td>\n",
       "      <td>0.000000</td>\n",
       "      <td>0.000000</td>\n",
       "      <td>9</td>\n",
       "    </tr>\n",
       "    <tr>\n",
       "      <th>10</th>\n",
       "      <td>社員</td>\n",
       "      <td>10</td>\n",
       "      <td>1</td>\n",
       "      <td>0.000000</td>\n",
       "      <td>0.000000</td>\n",
       "      <td>6</td>\n",
       "    </tr>\n",
       "    <tr>\n",
       "      <th>11</th>\n",
       "      <td>人生</td>\n",
       "      <td>11</td>\n",
       "      <td>1</td>\n",
       "      <td>0.000000</td>\n",
       "      <td>0.000000</td>\n",
       "      <td>10</td>\n",
       "    </tr>\n",
       "    <tr>\n",
       "      <th>12</th>\n",
       "      <td>気軽</td>\n",
       "      <td>12</td>\n",
       "      <td>1</td>\n",
       "      <td>0.000000</td>\n",
       "      <td>0.000000</td>\n",
       "      <td>4</td>\n",
       "    </tr>\n",
       "    <tr>\n",
       "      <th>13</th>\n",
       "      <td>実感</td>\n",
       "      <td>13</td>\n",
       "      <td>1</td>\n",
       "      <td>0.000000</td>\n",
       "      <td>0.000000</td>\n",
       "      <td>1</td>\n",
       "    </tr>\n",
       "    <tr>\n",
       "      <th>14</th>\n",
       "      <td>経験</td>\n",
       "      <td>14</td>\n",
       "      <td>1</td>\n",
       "      <td>0.000000</td>\n",
       "      <td>0.000000</td>\n",
       "      <td>7</td>\n",
       "    </tr>\n",
       "    <tr>\n",
       "      <th>15</th>\n",
       "      <td>チーム</td>\n",
       "      <td>15</td>\n",
       "      <td>1</td>\n",
       "      <td>0.000000</td>\n",
       "      <td>0.000000</td>\n",
       "      <td>3</td>\n",
       "    </tr>\n",
       "    <tr>\n",
       "      <th>16</th>\n",
       "      <td>オンライン</td>\n",
       "      <td>16</td>\n",
       "      <td>2</td>\n",
       "      <td>0.001282</td>\n",
       "      <td>0.000000</td>\n",
       "      <td>4</td>\n",
       "    </tr>\n",
       "    <tr>\n",
       "      <th>17</th>\n",
       "      <td>メンバー</td>\n",
       "      <td>17</td>\n",
       "      <td>2</td>\n",
       "      <td>0.001282</td>\n",
       "      <td>0.000000</td>\n",
       "      <td>3</td>\n",
       "    </tr>\n",
       "    <tr>\n",
       "      <th>18</th>\n",
       "      <td>ユーザー</td>\n",
       "      <td>18</td>\n",
       "      <td>1</td>\n",
       "      <td>0.000000</td>\n",
       "      <td>0.000000</td>\n",
       "      <td>5</td>\n",
       "    </tr>\n",
       "    <tr>\n",
       "      <th>19</th>\n",
       "      <td>スキル</td>\n",
       "      <td>19</td>\n",
       "      <td>2</td>\n",
       "      <td>0.010256</td>\n",
       "      <td>0.000000</td>\n",
       "      <td>1</td>\n",
       "    </tr>\n",
       "    <tr>\n",
       "      <th>20</th>\n",
       "      <td>コアバリュー</td>\n",
       "      <td>20</td>\n",
       "      <td>1</td>\n",
       "      <td>0.000000</td>\n",
       "      <td>0.000000</td>\n",
       "      <td>8</td>\n",
       "    </tr>\n",
       "    <tr>\n",
       "      <th>21</th>\n",
       "      <td>キャリア</td>\n",
       "      <td>21</td>\n",
       "      <td>1</td>\n",
       "      <td>0.000000</td>\n",
       "      <td>0.000000</td>\n",
       "      <td>11</td>\n",
       "    </tr>\n",
       "    <tr>\n",
       "      <th>22</th>\n",
       "      <td>価値</td>\n",
       "      <td>22</td>\n",
       "      <td>1</td>\n",
       "      <td>0.000000</td>\n",
       "      <td>0.000000</td>\n",
       "      <td>12</td>\n",
       "    </tr>\n",
       "    <tr>\n",
       "      <th>23</th>\n",
       "      <td>安全性</td>\n",
       "      <td>23</td>\n",
       "      <td>1</td>\n",
       "      <td>0.000000</td>\n",
       "      <td>0.000000</td>\n",
       "      <td>9</td>\n",
       "    </tr>\n",
       "    <tr>\n",
       "      <th>24</th>\n",
       "      <td>身</td>\n",
       "      <td>24</td>\n",
       "      <td>1</td>\n",
       "      <td>0.000000</td>\n",
       "      <td>0.000000</td>\n",
       "      <td>1</td>\n",
       "    </tr>\n",
       "    <tr>\n",
       "      <th>25</th>\n",
       "      <td>世界</td>\n",
       "      <td>25</td>\n",
       "      <td>3</td>\n",
       "      <td>0.007692</td>\n",
       "      <td>0.333333</td>\n",
       "      <td>0</td>\n",
       "    </tr>\n",
       "    <tr>\n",
       "      <th>26</th>\n",
       "      <td>グラフ</td>\n",
       "      <td>26</td>\n",
       "      <td>1</td>\n",
       "      <td>0.000000</td>\n",
       "      <td>0.000000</td>\n",
       "      <td>10</td>\n",
       "    </tr>\n",
       "    <tr>\n",
       "      <th>27</th>\n",
       "      <td>インタビュー</td>\n",
       "      <td>27</td>\n",
       "      <td>1</td>\n",
       "      <td>0.000000</td>\n",
       "      <td>0.000000</td>\n",
       "      <td>3</td>\n",
       "    </tr>\n",
       "    <tr>\n",
       "      <th>28</th>\n",
       "      <td>世の中</td>\n",
       "      <td>28</td>\n",
       "      <td>1</td>\n",
       "      <td>0.000000</td>\n",
       "      <td>0.000000</td>\n",
       "      <td>2</td>\n",
       "    </tr>\n",
       "    <tr>\n",
       "      <th>29</th>\n",
       "      <td>マーケティング</td>\n",
       "      <td>29</td>\n",
       "      <td>4</td>\n",
       "      <td>0.019231</td>\n",
       "      <td>0.166667</td>\n",
       "      <td>0</td>\n",
       "    </tr>\n",
       "    <tr>\n",
       "      <th>30</th>\n",
       "      <td>コンテンツ</td>\n",
       "      <td>30</td>\n",
       "      <td>2</td>\n",
       "      <td>0.001282</td>\n",
       "      <td>0.000000</td>\n",
       "      <td>5</td>\n",
       "    </tr>\n",
       "    <tr>\n",
       "      <th>31</th>\n",
       "      <td>今後</td>\n",
       "      <td>31</td>\n",
       "      <td>1</td>\n",
       "      <td>0.000000</td>\n",
       "      <td>0.000000</td>\n",
       "      <td>11</td>\n",
       "    </tr>\n",
       "    <tr>\n",
       "      <th>32</th>\n",
       "      <td>開催</td>\n",
       "      <td>32</td>\n",
       "      <td>1</td>\n",
       "      <td>0.000000</td>\n",
       "      <td>0.000000</td>\n",
       "      <td>4</td>\n",
       "    </tr>\n",
       "    <tr>\n",
       "      <th>33</th>\n",
       "      <td>作成</td>\n",
       "      <td>33</td>\n",
       "      <td>1</td>\n",
       "      <td>0.000000</td>\n",
       "      <td>0.000000</td>\n",
       "      <td>5</td>\n",
       "    </tr>\n",
       "    <tr>\n",
       "      <th>34</th>\n",
       "      <td>企業</td>\n",
       "      <td>34</td>\n",
       "      <td>2</td>\n",
       "      <td>0.000000</td>\n",
       "      <td>1.000000</td>\n",
       "      <td>0</td>\n",
       "    </tr>\n",
       "    <tr>\n",
       "      <th>35</th>\n",
       "      <td>成長</td>\n",
       "      <td>35</td>\n",
       "      <td>3</td>\n",
       "      <td>0.025641</td>\n",
       "      <td>0.000000</td>\n",
       "      <td>1</td>\n",
       "    </tr>\n",
       "    <tr>\n",
       "      <th>36</th>\n",
       "      <td>サービス</td>\n",
       "      <td>36</td>\n",
       "      <td>1</td>\n",
       "      <td>0.000000</td>\n",
       "      <td>0.000000</td>\n",
       "      <td>0</td>\n",
       "    </tr>\n",
       "    <tr>\n",
       "      <th>37</th>\n",
       "      <td>提供</td>\n",
       "      <td>37</td>\n",
       "      <td>1</td>\n",
       "      <td>0.000000</td>\n",
       "      <td>0.000000</td>\n",
       "      <td>12</td>\n",
       "    </tr>\n",
       "    <tr>\n",
       "      <th>38</th>\n",
       "      <td>新卒</td>\n",
       "      <td>38</td>\n",
       "      <td>1</td>\n",
       "      <td>0.000000</td>\n",
       "      <td>0.000000</td>\n",
       "      <td>0</td>\n",
       "    </tr>\n",
       "    <tr>\n",
       "      <th>39</th>\n",
       "      <td>入社</td>\n",
       "      <td>39</td>\n",
       "      <td>2</td>\n",
       "      <td>0.007692</td>\n",
       "      <td>0.000000</td>\n",
       "      <td>0</td>\n",
       "    </tr>\n",
       "    <tr>\n",
       "      <th>40</th>\n",
       "      <td>貢献</td>\n",
       "      <td>40</td>\n",
       "      <td>4</td>\n",
       "      <td>0.025641</td>\n",
       "      <td>0.166667</td>\n",
       "      <td>2</td>\n",
       "    </tr>\n",
       "  </tbody>\n",
       "</table>\n",
       "</div>"
      ],
      "text/plain": [
       "         id  id_code  adjacency_frequency  betweeness_centrality  \\\n",
       "0       未経験        0                    2               0.012821   \n",
       "1      メディア        1                    1               0.000000   \n",
       "2    インターン生        2                    1               0.000000   \n",
       "3       最先端        3                    1               0.000000   \n",
       "4        事業        4                    3               0.030769   \n",
       "5        地球        5                    2               0.000000   \n",
       "6        大切        6                    1               0.000000   \n",
       "7        社会        7                    2               0.000000   \n",
       "8     インターン        8                    1               0.000000   \n",
       "9       心理的        9                    1               0.000000   \n",
       "10       社員       10                    1               0.000000   \n",
       "11       人生       11                    1               0.000000   \n",
       "12       気軽       12                    1               0.000000   \n",
       "13       実感       13                    1               0.000000   \n",
       "14       経験       14                    1               0.000000   \n",
       "15      チーム       15                    1               0.000000   \n",
       "16    オンライン       16                    2               0.001282   \n",
       "17     メンバー       17                    2               0.001282   \n",
       "18     ユーザー       18                    1               0.000000   \n",
       "19      スキル       19                    2               0.010256   \n",
       "20   コアバリュー       20                    1               0.000000   \n",
       "21     キャリア       21                    1               0.000000   \n",
       "22       価値       22                    1               0.000000   \n",
       "23      安全性       23                    1               0.000000   \n",
       "24        身       24                    1               0.000000   \n",
       "25       世界       25                    3               0.007692   \n",
       "26      グラフ       26                    1               0.000000   \n",
       "27   インタビュー       27                    1               0.000000   \n",
       "28      世の中       28                    1               0.000000   \n",
       "29  マーケティング       29                    4               0.019231   \n",
       "30    コンテンツ       30                    2               0.001282   \n",
       "31       今後       31                    1               0.000000   \n",
       "32       開催       32                    1               0.000000   \n",
       "33       作成       33                    1               0.000000   \n",
       "34       企業       34                    2               0.000000   \n",
       "35       成長       35                    3               0.025641   \n",
       "36     サービス       36                    1               0.000000   \n",
       "37       提供       37                    1               0.000000   \n",
       "38       新卒       38                    1               0.000000   \n",
       "39       入社       39                    2               0.007692   \n",
       "40       貢献       40                    4               0.025641   \n",
       "\n",
       "    clustering_coefficient  community  \n",
       "0                 0.000000          0  \n",
       "1                 0.000000          1  \n",
       "2                 0.000000          6  \n",
       "3                 0.000000          0  \n",
       "4                 0.000000          1  \n",
       "5                 1.000000          2  \n",
       "6                 0.000000          8  \n",
       "7                 1.000000          2  \n",
       "8                 0.000000          7  \n",
       "9                 0.000000          9  \n",
       "10                0.000000          6  \n",
       "11                0.000000         10  \n",
       "12                0.000000          4  \n",
       "13                0.000000          1  \n",
       "14                0.000000          7  \n",
       "15                0.000000          3  \n",
       "16                0.000000          4  \n",
       "17                0.000000          3  \n",
       "18                0.000000          5  \n",
       "19                0.000000          1  \n",
       "20                0.000000          8  \n",
       "21                0.000000         11  \n",
       "22                0.000000         12  \n",
       "23                0.000000          9  \n",
       "24                0.000000          1  \n",
       "25                0.333333          0  \n",
       "26                0.000000         10  \n",
       "27                0.000000          3  \n",
       "28                0.000000          2  \n",
       "29                0.166667          0  \n",
       "30                0.000000          5  \n",
       "31                0.000000         11  \n",
       "32                0.000000          4  \n",
       "33                0.000000          5  \n",
       "34                1.000000          0  \n",
       "35                0.000000          1  \n",
       "36                0.000000          0  \n",
       "37                0.000000         12  \n",
       "38                0.000000          0  \n",
       "39                0.000000          0  \n",
       "40                0.166667          2  "
      ]
     },
     "metadata": {},
     "output_type": "display_data"
    },
    {
     "data": {
      "text/plain": [
       "(41, 6)"
      ]
     },
     "metadata": {},
     "output_type": "display_data"
    },
    {
     "data": {
      "text/html": [
       "<div>\n",
       "<style scoped>\n",
       "    .dataframe tbody tr th:only-of-type {\n",
       "        vertical-align: middle;\n",
       "    }\n",
       "\n",
       "    .dataframe tbody tr th {\n",
       "        vertical-align: top;\n",
       "    }\n",
       "\n",
       "    .dataframe thead th {\n",
       "        text-align: right;\n",
       "    }\n",
       "</style>\n",
       "<table border=\"1\" class=\"dataframe\">\n",
       "  <thead>\n",
       "    <tr style=\"text-align: right;\">\n",
       "      <th></th>\n",
       "      <th>source</th>\n",
       "      <th>target</th>\n",
       "      <th>edge_frequency</th>\n",
       "      <th>source_code</th>\n",
       "      <th>target_code</th>\n",
       "    </tr>\n",
       "  </thead>\n",
       "  <tbody>\n",
       "    <tr>\n",
       "      <th>0</th>\n",
       "      <td>インタビュー</td>\n",
       "      <td>メンバー</td>\n",
       "      <td>41</td>\n",
       "      <td>27</td>\n",
       "      <td>17</td>\n",
       "    </tr>\n",
       "    <tr>\n",
       "      <th>1</th>\n",
       "      <td>社会</td>\n",
       "      <td>貢献</td>\n",
       "      <td>24</td>\n",
       "      <td>7</td>\n",
       "      <td>40</td>\n",
       "    </tr>\n",
       "    <tr>\n",
       "      <th>2</th>\n",
       "      <td>マーケティング</td>\n",
       "      <td>世界</td>\n",
       "      <td>22</td>\n",
       "      <td>29</td>\n",
       "      <td>25</td>\n",
       "    </tr>\n",
       "    <tr>\n",
       "      <th>3</th>\n",
       "      <td>地球</td>\n",
       "      <td>社会</td>\n",
       "      <td>20</td>\n",
       "      <td>5</td>\n",
       "      <td>7</td>\n",
       "    </tr>\n",
       "    <tr>\n",
       "      <th>4</th>\n",
       "      <td>メディア</td>\n",
       "      <td>事業</td>\n",
       "      <td>19</td>\n",
       "      <td>1</td>\n",
       "      <td>4</td>\n",
       "    </tr>\n",
       "    <tr>\n",
       "      <th>5</th>\n",
       "      <td>入社</td>\n",
       "      <td>未経験</td>\n",
       "      <td>19</td>\n",
       "      <td>39</td>\n",
       "      <td>0</td>\n",
       "    </tr>\n",
       "    <tr>\n",
       "      <th>6</th>\n",
       "      <td>オンライン</td>\n",
       "      <td>気軽</td>\n",
       "      <td>19</td>\n",
       "      <td>16</td>\n",
       "      <td>12</td>\n",
       "    </tr>\n",
       "    <tr>\n",
       "      <th>7</th>\n",
       "      <td>価値</td>\n",
       "      <td>提供</td>\n",
       "      <td>19</td>\n",
       "      <td>22</td>\n",
       "      <td>37</td>\n",
       "    </tr>\n",
       "    <tr>\n",
       "      <th>8</th>\n",
       "      <td>マーケティング</td>\n",
       "      <td>最先端</td>\n",
       "      <td>19</td>\n",
       "      <td>29</td>\n",
       "      <td>3</td>\n",
       "    </tr>\n",
       "    <tr>\n",
       "      <th>9</th>\n",
       "      <td>コンテンツ</td>\n",
       "      <td>作成</td>\n",
       "      <td>18</td>\n",
       "      <td>30</td>\n",
       "      <td>33</td>\n",
       "    </tr>\n",
       "    <tr>\n",
       "      <th>10</th>\n",
       "      <td>グラフ</td>\n",
       "      <td>人生</td>\n",
       "      <td>18</td>\n",
       "      <td>26</td>\n",
       "      <td>11</td>\n",
       "    </tr>\n",
       "    <tr>\n",
       "      <th>11</th>\n",
       "      <td>マーケティング</td>\n",
       "      <td>企業</td>\n",
       "      <td>18</td>\n",
       "      <td>29</td>\n",
       "      <td>34</td>\n",
       "    </tr>\n",
       "    <tr>\n",
       "      <th>12</th>\n",
       "      <td>実感</td>\n",
       "      <td>成長</td>\n",
       "      <td>18</td>\n",
       "      <td>13</td>\n",
       "      <td>35</td>\n",
       "    </tr>\n",
       "    <tr>\n",
       "      <th>13</th>\n",
       "      <td>事業</td>\n",
       "      <td>成長</td>\n",
       "      <td>17</td>\n",
       "      <td>4</td>\n",
       "      <td>35</td>\n",
       "    </tr>\n",
       "    <tr>\n",
       "      <th>14</th>\n",
       "      <td>世界</td>\n",
       "      <td>企業</td>\n",
       "      <td>17</td>\n",
       "      <td>25</td>\n",
       "      <td>34</td>\n",
       "    </tr>\n",
       "    <tr>\n",
       "      <th>15</th>\n",
       "      <td>オンライン</td>\n",
       "      <td>開催</td>\n",
       "      <td>16</td>\n",
       "      <td>16</td>\n",
       "      <td>32</td>\n",
       "    </tr>\n",
       "    <tr>\n",
       "      <th>16</th>\n",
       "      <td>インターン生</td>\n",
       "      <td>社員</td>\n",
       "      <td>16</td>\n",
       "      <td>2</td>\n",
       "      <td>10</td>\n",
       "    </tr>\n",
       "    <tr>\n",
       "      <th>17</th>\n",
       "      <td>マーケティング</td>\n",
       "      <td>未経験</td>\n",
       "      <td>16</td>\n",
       "      <td>29</td>\n",
       "      <td>0</td>\n",
       "    </tr>\n",
       "    <tr>\n",
       "      <th>18</th>\n",
       "      <td>世の中</td>\n",
       "      <td>貢献</td>\n",
       "      <td>16</td>\n",
       "      <td>28</td>\n",
       "      <td>40</td>\n",
       "    </tr>\n",
       "    <tr>\n",
       "      <th>19</th>\n",
       "      <td>スキル</td>\n",
       "      <td>身</td>\n",
       "      <td>15</td>\n",
       "      <td>19</td>\n",
       "      <td>24</td>\n",
       "    </tr>\n",
       "    <tr>\n",
       "      <th>20</th>\n",
       "      <td>キャリア</td>\n",
       "      <td>今後</td>\n",
       "      <td>15</td>\n",
       "      <td>21</td>\n",
       "      <td>31</td>\n",
       "    </tr>\n",
       "    <tr>\n",
       "      <th>21</th>\n",
       "      <td>チーム</td>\n",
       "      <td>メンバー</td>\n",
       "      <td>15</td>\n",
       "      <td>15</td>\n",
       "      <td>17</td>\n",
       "    </tr>\n",
       "    <tr>\n",
       "      <th>22</th>\n",
       "      <td>インターン</td>\n",
       "      <td>経験</td>\n",
       "      <td>15</td>\n",
       "      <td>8</td>\n",
       "      <td>14</td>\n",
       "    </tr>\n",
       "    <tr>\n",
       "      <th>23</th>\n",
       "      <td>入社</td>\n",
       "      <td>新卒</td>\n",
       "      <td>14</td>\n",
       "      <td>39</td>\n",
       "      <td>38</td>\n",
       "    </tr>\n",
       "    <tr>\n",
       "      <th>24</th>\n",
       "      <td>スキル</td>\n",
       "      <td>成長</td>\n",
       "      <td>14</td>\n",
       "      <td>19</td>\n",
       "      <td>35</td>\n",
       "    </tr>\n",
       "    <tr>\n",
       "      <th>25</th>\n",
       "      <td>コアバリュー</td>\n",
       "      <td>大切</td>\n",
       "      <td>14</td>\n",
       "      <td>20</td>\n",
       "      <td>6</td>\n",
       "    </tr>\n",
       "    <tr>\n",
       "      <th>26</th>\n",
       "      <td>コンテンツ</td>\n",
       "      <td>ユーザー</td>\n",
       "      <td>14</td>\n",
       "      <td>30</td>\n",
       "      <td>18</td>\n",
       "    </tr>\n",
       "    <tr>\n",
       "      <th>27</th>\n",
       "      <td>地球</td>\n",
       "      <td>貢献</td>\n",
       "      <td>14</td>\n",
       "      <td>5</td>\n",
       "      <td>40</td>\n",
       "    </tr>\n",
       "    <tr>\n",
       "      <th>28</th>\n",
       "      <td>安全性</td>\n",
       "      <td>心理的</td>\n",
       "      <td>14</td>\n",
       "      <td>23</td>\n",
       "      <td>9</td>\n",
       "    </tr>\n",
       "    <tr>\n",
       "      <th>29</th>\n",
       "      <td>事業</td>\n",
       "      <td>貢献</td>\n",
       "      <td>14</td>\n",
       "      <td>4</td>\n",
       "      <td>40</td>\n",
       "    </tr>\n",
       "    <tr>\n",
       "      <th>30</th>\n",
       "      <td>サービス</td>\n",
       "      <td>世界</td>\n",
       "      <td>14</td>\n",
       "      <td>36</td>\n",
       "      <td>25</td>\n",
       "    </tr>\n",
       "  </tbody>\n",
       "</table>\n",
       "</div>"
      ],
      "text/plain": [
       "     source target  edge_frequency  source_code  target_code\n",
       "0    インタビュー   メンバー              41           27           17\n",
       "1        社会     貢献              24            7           40\n",
       "2   マーケティング     世界              22           29           25\n",
       "3        地球     社会              20            5            7\n",
       "4      メディア     事業              19            1            4\n",
       "5        入社    未経験              19           39            0\n",
       "6     オンライン     気軽              19           16           12\n",
       "7        価値     提供              19           22           37\n",
       "8   マーケティング    最先端              19           29            3\n",
       "9     コンテンツ     作成              18           30           33\n",
       "10      グラフ     人生              18           26           11\n",
       "11  マーケティング     企業              18           29           34\n",
       "12       実感     成長              18           13           35\n",
       "13       事業     成長              17            4           35\n",
       "14       世界     企業              17           25           34\n",
       "15    オンライン     開催              16           16           32\n",
       "16   インターン生     社員              16            2           10\n",
       "17  マーケティング    未経験              16           29            0\n",
       "18      世の中     貢献              16           28           40\n",
       "19      スキル      身              15           19           24\n",
       "20     キャリア     今後              15           21           31\n",
       "21      チーム   メンバー              15           15           17\n",
       "22    インターン     経験              15            8           14\n",
       "23       入社     新卒              14           39           38\n",
       "24      スキル     成長              14           19           35\n",
       "25   コアバリュー     大切              14           20            6\n",
       "26    コンテンツ   ユーザー              14           30           18\n",
       "27       地球     貢献              14            5           40\n",
       "28      安全性    心理的              14           23            9\n",
       "29       事業     貢献              14            4           40\n",
       "30     サービス     世界              14           36           25"
      ]
     },
     "metadata": {},
     "output_type": "display_data"
    },
    {
     "data": {
      "text/plain": [
       "(31, 5)"
      ]
     },
     "metadata": {},
     "output_type": "display_data"
    }
   ],
   "source": [
    "npt.build_graph(stopwords=stopwords, min_edge_frequency=13)\n",
    "\n",
    "display(\n",
    "    npt.node_df, npt.node_df.shape,\n",
    "    npt.edge_df, npt.edge_df.shape\n",
    ")"
   ]
  },
  {
   "cell_type": "code",
   "execution_count": 103,
   "metadata": {
    "scrolled": false
   },
   "outputs": [
    {
     "data": {
      "application/vnd.plotly.v1+json": {
       "config": {
        "linkText": "Export to plot.ly",
        "plotlyServerURL": "https://plot.ly",
        "showLink": false
       },
       "data": [
        {
         "line": {
          "shape": "spline",
          "width": 1.2
         },
         "marker": {
          "color": "#ece8e8"
         },
         "mode": "lines",
         "opacity": 1,
         "type": "scatter",
         "x": [
          0.35992122308589314,
          0.6832775016920359,
          null
         ],
         "y": [
          -0.07622746623439788,
          -0.06760580131490382,
          null
         ]
        },
        {
         "line": {
          "shape": "spline",
          "width": 1.2
         },
         "marker": {
          "color": "#ece8e8"
         },
         "mode": "lines",
         "opacity": 1,
         "type": "scatter",
         "x": [
          0.35992122308589314,
          0.01723683862248929,
          null
         ],
         "y": [
          -0.07622746623439788,
          -0.060441595036906604,
          null
         ]
        },
        {
         "line": {
          "shape": "spline",
          "width": 1.2
         },
         "marker": {
          "color": "#ece8e8"
         },
         "mode": "lines",
         "opacity": 1,
         "type": "scatter",
         "x": [
          0.22636783314853623,
          0.12121392869234882,
          null
         ],
         "y": [
          -0.3685454763964956,
          -0.025591126634839173,
          null
         ]
        },
        {
         "line": {
          "shape": "spline",
          "width": 1.2
         },
         "marker": {
          "color": "#ece8e8"
         },
         "mode": "lines",
         "opacity": 1,
         "type": "scatter",
         "x": [
          0.28040641274685035,
          0.03153008184719265,
          null
         ],
         "y": [
          0.10949473737082738,
          0.2994635544178105,
          null
         ]
        },
        {
         "line": {
          "shape": "spline",
          "width": 1.2
         },
         "marker": {
          "color": "#ece8e8"
         },
         "mode": "lines",
         "opacity": 1,
         "type": "scatter",
         "x": [
          -0.07018426961639052,
          0.01723683862248929,
          null
         ],
         "y": [
          0.28664009874704194,
          -0.060441595036906604,
          null
         ]
        },
        {
         "line": {
          "shape": "spline",
          "width": 1.2
         },
         "marker": {
          "color": "#ece8e8"
         },
         "mode": "lines",
         "opacity": 1,
         "type": "scatter",
         "x": [
          0.12121392869234882,
          -0.24120548086194618,
          null
         ],
         "y": [
          -0.025591126634839173,
          -0.0013979601832703335,
          null
         ]
        },
        {
         "line": {
          "shape": "spline",
          "width": 1.2
         },
         "marker": {
          "color": "#ece8e8"
         },
         "mode": "lines",
         "opacity": 1,
         "type": "scatter",
         "x": [
          0.12121392869234882,
          0.4179012964045933,
          null
         ],
         "y": [
          -0.025591126634839173,
          0.18452552244613424,
          null
         ]
        },
        {
         "line": {
          "shape": "spline",
          "width": 1.2
         },
         "marker": {
          "color": "#ece8e8"
         },
         "mode": "lines",
         "opacity": 1,
         "type": "scatter",
         "x": [
          0.6476736634888298,
          0.39733011357197756,
          null
         ],
         "y": [
          0.4303398536170525,
          0.5340181416233221,
          null
         ]
        },
        {
         "line": {
          "shape": "spline",
          "width": 1.2
         },
         "marker": {
          "color": "#ece8e8"
         },
         "mode": "lines",
         "opacity": 1,
         "type": "scatter",
         "x": [
          0.6476736634888298,
          0.4179012964045933,
          null
         ],
         "y": [
          0.4303398536170525,
          0.18452552244613424,
          null
         ]
        },
        {
         "line": {
          "shape": "spline",
          "width": 1.2
         },
         "marker": {
          "color": "#ece8e8"
         },
         "mode": "lines",
         "opacity": 1,
         "type": "scatter",
         "x": [
          0.08163259204504862,
          -0.20416420906751753,
          null
         ],
         "y": [
          0.20101880011789014,
          0.07315978645375293,
          null
         ]
        },
        {
         "line": {
          "shape": "spline",
          "width": 1.2
         },
         "marker": {
          "color": "#ece8e8"
         },
         "mode": "lines",
         "opacity": 1,
         "type": "scatter",
         "x": [
          0.39733011357197756,
          0.4179012964045933,
          null
         ],
         "y": [
          0.5340181416233221,
          0.18452552244613424,
          null
         ]
        },
        {
         "line": {
          "shape": "spline",
          "width": 1.2
         },
         "marker": {
          "color": "#ece8e8"
         },
         "mode": "lines",
         "opacity": 1,
         "type": "scatter",
         "x": [
          0.12330570047039806,
          -0.1877326405248548,
          null
         ],
         "y": [
          0.29778775497355897,
          0.2619673637421552,
          null
         ]
        },
        {
         "line": {
          "shape": "spline",
          "width": 1.2
         },
         "marker": {
          "color": "#ece8e8"
         },
         "mode": "lines",
         "opacity": 1,
         "type": "scatter",
         "x": [
          -0.016084171314372585,
          -0.21532246051595394,
          null
         ],
         "y": [
          0.21630197024839554,
          -0.025218022574035846,
          null
         ]
        },
        {
         "line": {
          "shape": "spline",
          "width": 1.2
         },
         "marker": {
          "color": "#ece8e8"
         },
         "mode": "lines",
         "opacity": 1,
         "type": "scatter",
         "x": [
          -0.07525743138168009,
          -0.1696253415857077,
          null
         ],
         "y": [
          0.18800026505508283,
          -0.11053388293465581,
          null
         ]
        },
        {
         "line": {
          "shape": "spline",
          "width": 1.2
         },
         "marker": {
          "color": "#ece8e8"
         },
         "mode": "lines",
         "opacity": 1,
         "type": "scatter",
         "x": [
          -0.11638902196379396,
          -0.09870335153594473,
          null
         ],
         "y": [
          0.3764767470237879,
          0.0637538805652513,
          null
         ]
        },
        {
         "line": {
          "shape": "spline",
          "width": 1.2
         },
         "marker": {
          "color": "#ece8e8"
         },
         "mode": "lines",
         "opacity": 1,
         "type": "scatter",
         "x": [
          -0.4575523054698077,
          -0.24120548086194618,
          null
         ],
         "y": [
          0.2776941287988784,
          -0.0013979601832703335,
          null
         ]
        },
        {
         "line": {
          "shape": "spline",
          "width": 1.2
         },
         "marker": {
          "color": "#ece8e8"
         },
         "mode": "lines",
         "opacity": 1,
         "type": "scatter",
         "x": [
          -0.20525768840614078,
          -0.22332194768096392,
          null
         ],
         "y": [
          0.3566440021473792,
          0.04401204508840568,
          null
         ]
        },
        {
         "line": {
          "shape": "spline",
          "width": 1.2
         },
         "marker": {
          "color": "#ece8e8"
         },
         "mode": "lines",
         "opacity": 1,
         "type": "scatter",
         "x": [
          -0.09870335153594473,
          -0.05031551591957596,
          null
         ],
         "y": [
          0.0637538805652513,
          -0.24571102058899896,
          null
         ]
        },
        {
         "line": {
          "shape": "spline",
          "width": 1.2
         },
         "marker": {
          "color": "#ece8e8"
         },
         "mode": "lines",
         "opacity": 1,
         "type": "scatter",
         "x": [
          -0.22332194768096392,
          -0.2215119747097501,
          null
         ],
         "y": [
          0.04401204508840568,
          -0.2691402127489037,
          null
         ]
        },
        {
         "line": {
          "shape": "spline",
          "width": 1.2
         },
         "marker": {
          "color": "#ece8e8"
         },
         "mode": "lines",
         "opacity": 1,
         "type": "scatter",
         "x": [
          -0.31146310449145603,
          -0.07872057857847231,
          null
         ],
         "y": [
          0.04007197447592241,
          -0.1694748752951798,
          null
         ]
        },
        {
         "line": {
          "shape": "spline",
          "width": 1.2
         },
         "marker": {
          "color": "#ece8e8"
         },
         "mode": "lines",
         "opacity": 1,
         "type": "scatter",
         "x": [
          -0.48571874342557225,
          -0.7432714150735431,
          null
         ],
         "y": [
          -0.24835530833787395,
          -0.44710181217158323,
          null
         ]
        },
        {
         "line": {
          "shape": "spline",
          "width": 1.2
         },
         "marker": {
          "color": "#ece8e8"
         },
         "mode": "lines",
         "opacity": 1,
         "type": "scatter",
         "x": [
          -0.48571874342557225,
          -0.24120548086194618,
          null
         ],
         "y": [
          -0.24835530833787395,
          -0.0013979601832703335,
          null
         ]
        },
        {
         "line": {
          "shape": "spline",
          "width": 1.2
         },
         "marker": {
          "color": "#ece8e8"
         },
         "mode": "lines",
         "opacity": 1,
         "type": "scatter",
         "x": [
          -0.26751238978025627,
          -0.03367693037661247,
          null
         ],
         "y": [
          -0.06510484621303873,
          -0.2733093865657131,
          null
         ]
        },
        {
         "line": {
          "shape": "spline",
          "width": 1.2
         },
         "marker": {
          "color": "#ece8e8"
         },
         "mode": "lines",
         "opacity": 1,
         "type": "scatter",
         "x": [
          -0.1779838700605273,
          0.12939120151369488,
          null
         ],
         "y": [
          -0.09652868566854379,
          -0.15609678438993868,
          null
         ]
        },
        {
         "line": {
          "shape": "spline",
          "width": 1.2
         },
         "marker": {
          "color": "#ece8e8"
         },
         "mode": "lines",
         "opacity": 1,
         "type": "scatter",
         "x": [
          -0.15243915548708123,
          0.01723683862248929,
          null
         ],
         "y": [
          -0.3628536706640214,
          -0.060441595036906604,
          null
         ]
        },
        {
         "line": {
          "shape": "spline",
          "width": 1.2
         },
         "marker": {
          "color": "#ece8e8"
         },
         "mode": "lines",
         "opacity": 1,
         "type": "scatter",
         "x": [
          -0.15243915548708123,
          -0.303829468127076,
          null
         ],
         "y": [
          -0.3628536706640214,
          -0.10729702387568175,
          null
         ]
        },
        {
         "line": {
          "shape": "spline",
          "width": 1.2
         },
         "marker": {
          "color": "#ece8e8"
         },
         "mode": "lines",
         "opacity": 1,
         "type": "scatter",
         "x": [
          -0.15243915548708123,
          -0.3076981207260375,
          null
         ],
         "y": [
          -0.3628536706640214,
          -0.6539820809569675,
          null
         ]
        },
        {
         "line": {
          "shape": "spline",
          "width": 1.2
         },
         "marker": {
          "color": "#ece8e8"
         },
         "mode": "lines",
         "opacity": 1,
         "type": "scatter",
         "x": [
          0.7287900788487213,
          0.4179012964045933,
          null
         ],
         "y": [
          -0.00012816966646780252,
          0.18452552244613424,
          null
         ]
        },
        {
         "line": {
          "shape": "spline",
          "width": 1.2
         },
         "marker": {
          "color": "#ece8e8"
         },
         "mode": "lines",
         "opacity": 1,
         "type": "scatter",
         "x": [
          0.01723683862248929,
          -0.303829468127076,
          null
         ],
         "y": [
          -0.060441595036906604,
          -0.10729702387568175,
          null
         ]
        },
        {
         "line": {
          "shape": "spline",
          "width": 1.2
         },
         "marker": {
          "color": "#ece8e8"
         },
         "mode": "lines",
         "opacity": 1,
         "type": "scatter",
         "x": [
          -0.07872057857847231,
          0.16896312050242512,
          null
         ],
         "y": [
          -0.1694748752951798,
          -0.36112292294725246,
          null
         ]
        },
        {
         "line": {
          "shape": "spline",
          "width": 1.2
         },
         "marker": {
          "color": "#ece8e8"
         },
         "mode": "lines",
         "opacity": 1,
         "type": "scatter",
         "x": [
          0.9999999999999999,
          0.6832775016920359,
          null
         ],
         "y": [
          -0.04960249551297897,
          -0.06760580131490382,
          null
         ]
        },
        {
         "hoverinfo": "text",
         "hovertext": [],
         "marker": {
          "color": [
           "rgb(220.16,95.0272,87.03999999999999)",
           "rgb(220.16,156.4672,87.03999999999999)",
           "rgb(87.03999999999999,220.16,197.42720000000003)",
           "rgb(220.16,95.0272,87.03999999999999)",
           "rgb(220.16,156.4672,87.03999999999999)",
           "rgb(220.16,217.90720000000002,87.03999999999999)",
           "rgb(87.03999999999999,120.01279999999993,220.16)",
           "rgb(220.16,217.90720000000002,87.03999999999999)",
           "rgb(87.03999999999999,181.45279999999988,220.16)",
           "rgb(115.50719999999993,87.03999999999999,220.16)",
           "rgb(87.03999999999999,220.16,197.42720000000003)",
           "rgb(176.94720000000007,87.03999999999999,220.16)",
           "rgb(99.53280000000001,220.16,87.03999999999999)",
           "rgb(220.16,156.4672,87.03999999999999)",
           "rgb(87.03999999999999,181.45279999999988,220.16)",
           "rgb(160.97279999999995,220.16,87.03999999999999)",
           "rgb(99.53280000000001,220.16,87.03999999999999)",
           "rgb(160.97279999999995,220.16,87.03999999999999)",
           "rgb(87.03999999999999,220.16,135.98720000000003)",
           "rgb(220.16,156.4672,87.03999999999999)",
           "rgb(87.03999999999999,120.01279999999993,220.16)",
           "rgb(220.16,87.03999999999999,201.93279999999982)",
           "rgb(220.16,87.03999999999999,140.49279999999987)",
           "rgb(115.50719999999993,87.03999999999999,220.16)",
           "rgb(220.16,156.4672,87.03999999999999)",
           "rgb(220.16,95.0272,87.03999999999999)",
           "rgb(176.94720000000007,87.03999999999999,220.16)",
           "rgb(160.97279999999995,220.16,87.03999999999999)",
           "rgb(220.16,217.90720000000002,87.03999999999999)",
           "rgb(220.16,95.0272,87.03999999999999)",
           "rgb(87.03999999999999,220.16,135.98720000000003)",
           "rgb(220.16,87.03999999999999,201.93279999999982)",
           "rgb(99.53280000000001,220.16,87.03999999999999)",
           "rgb(87.03999999999999,220.16,135.98720000000003)",
           "rgb(220.16,95.0272,87.03999999999999)",
           "rgb(220.16,156.4672,87.03999999999999)",
           "rgb(220.16,95.0272,87.03999999999999)",
           "rgb(220.16,87.03999999999999,140.49279999999987)",
           "rgb(220.16,95.0272,87.03999999999999)",
           "rgb(220.16,95.0272,87.03999999999999)",
           "rgb(220.16,217.90720000000002,87.03999999999999)"
          ],
          "line": {
           "color": "#ece8e8",
           "width": 0.5
          },
          "size": [
           33.33333333333333,
           0,
           0,
           0,
           66.66666666666667,
           33.33333333333333,
           0,
           33.33333333333333,
           0,
           0,
           0,
           0,
           0,
           0,
           0,
           0,
           33.33333333333333,
           33.33333333333333,
           0,
           33.33333333333333,
           0,
           0,
           0,
           0,
           0,
           66.66666666666667,
           0,
           0,
           0,
           100,
           33.33333333333333,
           0,
           0,
           0,
           33.33333333333333,
           66.66666666666667,
           0,
           0,
           0,
           33.33333333333333,
           100
          ]
         },
         "mode": "markers+text",
         "text": [
          "未経験",
          "メディア",
          "インターン生",
          "最先端",
          "事業",
          "地球",
          "大切",
          "社会",
          "インターン",
          "心理的",
          "社員",
          "人生",
          "気軽",
          "実感",
          "経験",
          "チーム",
          "オンライン",
          "メンバー",
          "ユーザー",
          "スキル",
          "コアバリュー",
          "キャリア",
          "価値",
          "安全性",
          "身",
          "世界",
          "グラフ",
          "インタビュー",
          "世の中",
          "マーケティング",
          "コンテンツ",
          "今後",
          "開催",
          "作成",
          "企業",
          "成長",
          "サービス",
          "提供",
          "新卒",
          "入社",
          "貢献"
         ],
         "textposition": "bottom center",
         "type": "scatter",
         "x": [
          0.35992122308589314,
          0.22636783314853623,
          0.28040641274685035,
          -0.07018426961639052,
          0.12121392869234882,
          0.6476736634888298,
          0.08163259204504862,
          0.39733011357197756,
          0.12330570047039806,
          -0.016084171314372585,
          0.03153008184719265,
          -0.07525743138168009,
          -0.11638902196379396,
          -0.4575523054698077,
          -0.1877326405248548,
          -0.20525768840614078,
          -0.09870335153594473,
          -0.22332194768096392,
          -0.31146310449145603,
          -0.48571874342557225,
          -0.20416420906751753,
          -0.26751238978025627,
          -0.1779838700605273,
          -0.21532246051595394,
          -0.7432714150735431,
          -0.15243915548708123,
          -0.1696253415857077,
          -0.2215119747097501,
          0.7287900788487213,
          0.01723683862248929,
          -0.07872057857847231,
          -0.03367693037661247,
          -0.05031551591957596,
          0.16896312050242512,
          -0.303829468127076,
          -0.24120548086194618,
          -0.3076981207260375,
          0.12939120151369488,
          0.9999999999999999,
          0.6832775016920359,
          0.4179012964045933
         ],
         "y": [
          -0.07622746623439788,
          -0.3685454763964956,
          0.10949473737082738,
          0.28664009874704194,
          -0.025591126634839173,
          0.4303398536170525,
          0.20101880011789014,
          0.5340181416233221,
          0.29778775497355897,
          0.21630197024839554,
          0.2994635544178105,
          0.18800026505508283,
          0.3764767470237879,
          0.2776941287988784,
          0.2619673637421552,
          0.3566440021473792,
          0.0637538805652513,
          0.04401204508840568,
          0.04007197447592241,
          -0.24835530833787395,
          0.07315978645375293,
          -0.06510484621303873,
          -0.09652868566854379,
          -0.025218022574035846,
          -0.44710181217158323,
          -0.3628536706640214,
          -0.11053388293465581,
          -0.2691402127489037,
          -0.00012816966646780252,
          -0.060441595036906604,
          -0.1694748752951798,
          -0.2733093865657131,
          -0.24571102058899896,
          -0.36112292294725246,
          -0.10729702387568175,
          -0.0013979601832703335,
          -0.6539820809569675,
          -0.15609678438993868,
          -0.04960249551297897,
          -0.06760580131490382,
          0.18452552244613424
         ]
        }
       ],
       "layout": {
        "autosize": true,
        "font": {
         "family": "Arial",
         "size": 12
        },
        "height": 1200,
        "hovermode": "closest",
        "margin": {
         "b": 85,
         "l": 40,
         "pad": 0,
         "r": 40,
         "t": 100
        },
        "plot_bgcolor": "#ffffff",
        "showlegend": false,
        "template": {
         "data": {
          "bar": [
           {
            "error_x": {
             "color": "#2a3f5f"
            },
            "error_y": {
             "color": "#2a3f5f"
            },
            "marker": {
             "line": {
              "color": "#E5ECF6",
              "width": 0.5
             }
            },
            "type": "bar"
           }
          ],
          "barpolar": [
           {
            "marker": {
             "line": {
              "color": "#E5ECF6",
              "width": 0.5
             }
            },
            "type": "barpolar"
           }
          ],
          "carpet": [
           {
            "aaxis": {
             "endlinecolor": "#2a3f5f",
             "gridcolor": "white",
             "linecolor": "white",
             "minorgridcolor": "white",
             "startlinecolor": "#2a3f5f"
            },
            "baxis": {
             "endlinecolor": "#2a3f5f",
             "gridcolor": "white",
             "linecolor": "white",
             "minorgridcolor": "white",
             "startlinecolor": "#2a3f5f"
            },
            "type": "carpet"
           }
          ],
          "choropleth": [
           {
            "colorbar": {
             "outlinewidth": 0,
             "ticks": ""
            },
            "type": "choropleth"
           }
          ],
          "contour": [
           {
            "colorbar": {
             "outlinewidth": 0,
             "ticks": ""
            },
            "colorscale": [
             [
              0,
              "#0d0887"
             ],
             [
              0.1111111111111111,
              "#46039f"
             ],
             [
              0.2222222222222222,
              "#7201a8"
             ],
             [
              0.3333333333333333,
              "#9c179e"
             ],
             [
              0.4444444444444444,
              "#bd3786"
             ],
             [
              0.5555555555555556,
              "#d8576b"
             ],
             [
              0.6666666666666666,
              "#ed7953"
             ],
             [
              0.7777777777777778,
              "#fb9f3a"
             ],
             [
              0.8888888888888888,
              "#fdca26"
             ],
             [
              1,
              "#f0f921"
             ]
            ],
            "type": "contour"
           }
          ],
          "contourcarpet": [
           {
            "colorbar": {
             "outlinewidth": 0,
             "ticks": ""
            },
            "type": "contourcarpet"
           }
          ],
          "heatmap": [
           {
            "colorbar": {
             "outlinewidth": 0,
             "ticks": ""
            },
            "colorscale": [
             [
              0,
              "#0d0887"
             ],
             [
              0.1111111111111111,
              "#46039f"
             ],
             [
              0.2222222222222222,
              "#7201a8"
             ],
             [
              0.3333333333333333,
              "#9c179e"
             ],
             [
              0.4444444444444444,
              "#bd3786"
             ],
             [
              0.5555555555555556,
              "#d8576b"
             ],
             [
              0.6666666666666666,
              "#ed7953"
             ],
             [
              0.7777777777777778,
              "#fb9f3a"
             ],
             [
              0.8888888888888888,
              "#fdca26"
             ],
             [
              1,
              "#f0f921"
             ]
            ],
            "type": "heatmap"
           }
          ],
          "heatmapgl": [
           {
            "colorbar": {
             "outlinewidth": 0,
             "ticks": ""
            },
            "colorscale": [
             [
              0,
              "#0d0887"
             ],
             [
              0.1111111111111111,
              "#46039f"
             ],
             [
              0.2222222222222222,
              "#7201a8"
             ],
             [
              0.3333333333333333,
              "#9c179e"
             ],
             [
              0.4444444444444444,
              "#bd3786"
             ],
             [
              0.5555555555555556,
              "#d8576b"
             ],
             [
              0.6666666666666666,
              "#ed7953"
             ],
             [
              0.7777777777777778,
              "#fb9f3a"
             ],
             [
              0.8888888888888888,
              "#fdca26"
             ],
             [
              1,
              "#f0f921"
             ]
            ],
            "type": "heatmapgl"
           }
          ],
          "histogram": [
           {
            "marker": {
             "colorbar": {
              "outlinewidth": 0,
              "ticks": ""
             }
            },
            "type": "histogram"
           }
          ],
          "histogram2d": [
           {
            "colorbar": {
             "outlinewidth": 0,
             "ticks": ""
            },
            "colorscale": [
             [
              0,
              "#0d0887"
             ],
             [
              0.1111111111111111,
              "#46039f"
             ],
             [
              0.2222222222222222,
              "#7201a8"
             ],
             [
              0.3333333333333333,
              "#9c179e"
             ],
             [
              0.4444444444444444,
              "#bd3786"
             ],
             [
              0.5555555555555556,
              "#d8576b"
             ],
             [
              0.6666666666666666,
              "#ed7953"
             ],
             [
              0.7777777777777778,
              "#fb9f3a"
             ],
             [
              0.8888888888888888,
              "#fdca26"
             ],
             [
              1,
              "#f0f921"
             ]
            ],
            "type": "histogram2d"
           }
          ],
          "histogram2dcontour": [
           {
            "colorbar": {
             "outlinewidth": 0,
             "ticks": ""
            },
            "colorscale": [
             [
              0,
              "#0d0887"
             ],
             [
              0.1111111111111111,
              "#46039f"
             ],
             [
              0.2222222222222222,
              "#7201a8"
             ],
             [
              0.3333333333333333,
              "#9c179e"
             ],
             [
              0.4444444444444444,
              "#bd3786"
             ],
             [
              0.5555555555555556,
              "#d8576b"
             ],
             [
              0.6666666666666666,
              "#ed7953"
             ],
             [
              0.7777777777777778,
              "#fb9f3a"
             ],
             [
              0.8888888888888888,
              "#fdca26"
             ],
             [
              1,
              "#f0f921"
             ]
            ],
            "type": "histogram2dcontour"
           }
          ],
          "mesh3d": [
           {
            "colorbar": {
             "outlinewidth": 0,
             "ticks": ""
            },
            "type": "mesh3d"
           }
          ],
          "parcoords": [
           {
            "line": {
             "colorbar": {
              "outlinewidth": 0,
              "ticks": ""
             }
            },
            "type": "parcoords"
           }
          ],
          "pie": [
           {
            "automargin": true,
            "type": "pie"
           }
          ],
          "scatter": [
           {
            "marker": {
             "colorbar": {
              "outlinewidth": 0,
              "ticks": ""
             }
            },
            "type": "scatter"
           }
          ],
          "scatter3d": [
           {
            "line": {
             "colorbar": {
              "outlinewidth": 0,
              "ticks": ""
             }
            },
            "marker": {
             "colorbar": {
              "outlinewidth": 0,
              "ticks": ""
             }
            },
            "type": "scatter3d"
           }
          ],
          "scattercarpet": [
           {
            "marker": {
             "colorbar": {
              "outlinewidth": 0,
              "ticks": ""
             }
            },
            "type": "scattercarpet"
           }
          ],
          "scattergeo": [
           {
            "marker": {
             "colorbar": {
              "outlinewidth": 0,
              "ticks": ""
             }
            },
            "type": "scattergeo"
           }
          ],
          "scattergl": [
           {
            "marker": {
             "colorbar": {
              "outlinewidth": 0,
              "ticks": ""
             }
            },
            "type": "scattergl"
           }
          ],
          "scattermapbox": [
           {
            "marker": {
             "colorbar": {
              "outlinewidth": 0,
              "ticks": ""
             }
            },
            "type": "scattermapbox"
           }
          ],
          "scatterpolar": [
           {
            "marker": {
             "colorbar": {
              "outlinewidth": 0,
              "ticks": ""
             }
            },
            "type": "scatterpolar"
           }
          ],
          "scatterpolargl": [
           {
            "marker": {
             "colorbar": {
              "outlinewidth": 0,
              "ticks": ""
             }
            },
            "type": "scatterpolargl"
           }
          ],
          "scatterternary": [
           {
            "marker": {
             "colorbar": {
              "outlinewidth": 0,
              "ticks": ""
             }
            },
            "type": "scatterternary"
           }
          ],
          "surface": [
           {
            "colorbar": {
             "outlinewidth": 0,
             "ticks": ""
            },
            "colorscale": [
             [
              0,
              "#0d0887"
             ],
             [
              0.1111111111111111,
              "#46039f"
             ],
             [
              0.2222222222222222,
              "#7201a8"
             ],
             [
              0.3333333333333333,
              "#9c179e"
             ],
             [
              0.4444444444444444,
              "#bd3786"
             ],
             [
              0.5555555555555556,
              "#d8576b"
             ],
             [
              0.6666666666666666,
              "#ed7953"
             ],
             [
              0.7777777777777778,
              "#fb9f3a"
             ],
             [
              0.8888888888888888,
              "#fdca26"
             ],
             [
              1,
              "#f0f921"
             ]
            ],
            "type": "surface"
           }
          ],
          "table": [
           {
            "cells": {
             "fill": {
              "color": "#EBF0F8"
             },
             "line": {
              "color": "white"
             }
            },
            "header": {
             "fill": {
              "color": "#C8D4E3"
             },
             "line": {
              "color": "white"
             }
            },
            "type": "table"
           }
          ]
         },
         "layout": {
          "annotationdefaults": {
           "arrowcolor": "#2a3f5f",
           "arrowhead": 0,
           "arrowwidth": 1
          },
          "coloraxis": {
           "colorbar": {
            "outlinewidth": 0,
            "ticks": ""
           }
          },
          "colorscale": {
           "diverging": [
            [
             0,
             "#8e0152"
            ],
            [
             0.1,
             "#c51b7d"
            ],
            [
             0.2,
             "#de77ae"
            ],
            [
             0.3,
             "#f1b6da"
            ],
            [
             0.4,
             "#fde0ef"
            ],
            [
             0.5,
             "#f7f7f7"
            ],
            [
             0.6,
             "#e6f5d0"
            ],
            [
             0.7,
             "#b8e186"
            ],
            [
             0.8,
             "#7fbc41"
            ],
            [
             0.9,
             "#4d9221"
            ],
            [
             1,
             "#276419"
            ]
           ],
           "sequential": [
            [
             0,
             "#0d0887"
            ],
            [
             0.1111111111111111,
             "#46039f"
            ],
            [
             0.2222222222222222,
             "#7201a8"
            ],
            [
             0.3333333333333333,
             "#9c179e"
            ],
            [
             0.4444444444444444,
             "#bd3786"
            ],
            [
             0.5555555555555556,
             "#d8576b"
            ],
            [
             0.6666666666666666,
             "#ed7953"
            ],
            [
             0.7777777777777778,
             "#fb9f3a"
            ],
            [
             0.8888888888888888,
             "#fdca26"
            ],
            [
             1,
             "#f0f921"
            ]
           ],
           "sequentialminus": [
            [
             0,
             "#0d0887"
            ],
            [
             0.1111111111111111,
             "#46039f"
            ],
            [
             0.2222222222222222,
             "#7201a8"
            ],
            [
             0.3333333333333333,
             "#9c179e"
            ],
            [
             0.4444444444444444,
             "#bd3786"
            ],
            [
             0.5555555555555556,
             "#d8576b"
            ],
            [
             0.6666666666666666,
             "#ed7953"
            ],
            [
             0.7777777777777778,
             "#fb9f3a"
            ],
            [
             0.8888888888888888,
             "#fdca26"
            ],
            [
             1,
             "#f0f921"
            ]
           ]
          },
          "colorway": [
           "#636efa",
           "#EF553B",
           "#00cc96",
           "#ab63fa",
           "#FFA15A",
           "#19d3f3",
           "#FF6692",
           "#B6E880",
           "#FF97FF",
           "#FECB52"
          ],
          "font": {
           "color": "#2a3f5f"
          },
          "geo": {
           "bgcolor": "white",
           "lakecolor": "white",
           "landcolor": "#E5ECF6",
           "showlakes": true,
           "showland": true,
           "subunitcolor": "white"
          },
          "hoverlabel": {
           "align": "left"
          },
          "hovermode": "closest",
          "mapbox": {
           "style": "light"
          },
          "paper_bgcolor": "white",
          "plot_bgcolor": "#E5ECF6",
          "polar": {
           "angularaxis": {
            "gridcolor": "white",
            "linecolor": "white",
            "ticks": ""
           },
           "bgcolor": "#E5ECF6",
           "radialaxis": {
            "gridcolor": "white",
            "linecolor": "white",
            "ticks": ""
           }
          },
          "scene": {
           "xaxis": {
            "backgroundcolor": "#E5ECF6",
            "gridcolor": "white",
            "gridwidth": 2,
            "linecolor": "white",
            "showbackground": true,
            "ticks": "",
            "zerolinecolor": "white"
           },
           "yaxis": {
            "backgroundcolor": "#E5ECF6",
            "gridcolor": "white",
            "gridwidth": 2,
            "linecolor": "white",
            "showbackground": true,
            "ticks": "",
            "zerolinecolor": "white"
           },
           "zaxis": {
            "backgroundcolor": "#E5ECF6",
            "gridcolor": "white",
            "gridwidth": 2,
            "linecolor": "white",
            "showbackground": true,
            "ticks": "",
            "zerolinecolor": "white"
           }
          },
          "shapedefaults": {
           "line": {
            "color": "#2a3f5f"
           }
          },
          "ternary": {
           "aaxis": {
            "gridcolor": "white",
            "linecolor": "white",
            "ticks": ""
           },
           "baxis": {
            "gridcolor": "white",
            "linecolor": "white",
            "ticks": ""
           },
           "bgcolor": "#E5ECF6",
           "caxis": {
            "gridcolor": "white",
            "linecolor": "white",
            "ticks": ""
           }
          },
          "title": {
           "x": 0.05
          },
          "xaxis": {
           "automargin": true,
           "gridcolor": "white",
           "linecolor": "white",
           "ticks": "",
           "title": {
            "standoff": 15
           },
           "zerolinecolor": "white",
           "zerolinewidth": 2
          },
          "yaxis": {
           "automargin": true,
           "gridcolor": "white",
           "linecolor": "white",
           "ticks": "",
           "title": {
            "standoff": 15
           },
           "zerolinecolor": "white",
           "zerolinewidth": 2
          }
         }
        },
        "title": {
         "text": "All sentiment Co-occurrence network"
        },
        "width": 1700,
        "xaxis": {
         "showgrid": false,
         "showline": false,
         "showticklabels": false,
         "title": {
          "text": ""
         },
         "zeroline": false
        },
        "yaxis": {
         "showgrid": false,
         "showline": false,
         "showticklabels": false,
         "title": {
          "text": ""
         },
         "zeroline": false
        }
       }
      },
      "text/html": [
       "<div>\n",
       "        \n",
       "        \n",
       "            <div id=\"a9d47b0c-dd3f-40bd-b9f4-7e88528a00cc\" class=\"plotly-graph-div\" style=\"height:1200px; width:1700px;\"></div>\n",
       "            <script type=\"text/javascript\">\n",
       "                require([\"plotly\"], function(Plotly) {\n",
       "                    window.PLOTLYENV=window.PLOTLYENV || {};\n",
       "                    \n",
       "                if (document.getElementById(\"a9d47b0c-dd3f-40bd-b9f4-7e88528a00cc\")) {\n",
       "                    Plotly.newPlot(\n",
       "                        'a9d47b0c-dd3f-40bd-b9f4-7e88528a00cc',\n",
       "                        [{\"line\": {\"shape\": \"spline\", \"width\": 1.2}, \"marker\": {\"color\": \"#ece8e8\"}, \"mode\": \"lines\", \"opacity\": 1, \"type\": \"scatter\", \"x\": [0.35992122308589314, 0.6832775016920359, null], \"y\": [-0.07622746623439788, -0.06760580131490382, null]}, {\"line\": {\"shape\": \"spline\", \"width\": 1.2}, \"marker\": {\"color\": \"#ece8e8\"}, \"mode\": \"lines\", \"opacity\": 1, \"type\": \"scatter\", \"x\": [0.35992122308589314, 0.01723683862248929, null], \"y\": [-0.07622746623439788, -0.060441595036906604, null]}, {\"line\": {\"shape\": \"spline\", \"width\": 1.2}, \"marker\": {\"color\": \"#ece8e8\"}, \"mode\": \"lines\", \"opacity\": 1, \"type\": \"scatter\", \"x\": [0.22636783314853623, 0.12121392869234882, null], \"y\": [-0.3685454763964956, -0.025591126634839173, null]}, {\"line\": {\"shape\": \"spline\", \"width\": 1.2}, \"marker\": {\"color\": \"#ece8e8\"}, \"mode\": \"lines\", \"opacity\": 1, \"type\": \"scatter\", \"x\": [0.28040641274685035, 0.03153008184719265, null], \"y\": [0.10949473737082738, 0.2994635544178105, null]}, {\"line\": {\"shape\": \"spline\", \"width\": 1.2}, \"marker\": {\"color\": \"#ece8e8\"}, \"mode\": \"lines\", \"opacity\": 1, \"type\": \"scatter\", \"x\": [-0.07018426961639052, 0.01723683862248929, null], \"y\": [0.28664009874704194, -0.060441595036906604, null]}, {\"line\": {\"shape\": \"spline\", \"width\": 1.2}, \"marker\": {\"color\": \"#ece8e8\"}, \"mode\": \"lines\", \"opacity\": 1, \"type\": \"scatter\", \"x\": [0.12121392869234882, -0.24120548086194618, null], \"y\": [-0.025591126634839173, -0.0013979601832703335, null]}, {\"line\": {\"shape\": \"spline\", \"width\": 1.2}, \"marker\": {\"color\": \"#ece8e8\"}, \"mode\": \"lines\", \"opacity\": 1, \"type\": \"scatter\", \"x\": [0.12121392869234882, 0.4179012964045933, null], \"y\": [-0.025591126634839173, 0.18452552244613424, null]}, {\"line\": {\"shape\": \"spline\", \"width\": 1.2}, \"marker\": {\"color\": \"#ece8e8\"}, \"mode\": \"lines\", \"opacity\": 1, \"type\": \"scatter\", \"x\": [0.6476736634888298, 0.39733011357197756, null], \"y\": [0.4303398536170525, 0.5340181416233221, null]}, {\"line\": {\"shape\": \"spline\", \"width\": 1.2}, \"marker\": {\"color\": \"#ece8e8\"}, \"mode\": \"lines\", \"opacity\": 1, \"type\": \"scatter\", \"x\": [0.6476736634888298, 0.4179012964045933, null], \"y\": [0.4303398536170525, 0.18452552244613424, null]}, {\"line\": {\"shape\": \"spline\", \"width\": 1.2}, \"marker\": {\"color\": \"#ece8e8\"}, \"mode\": \"lines\", \"opacity\": 1, \"type\": \"scatter\", \"x\": [0.08163259204504862, -0.20416420906751753, null], \"y\": [0.20101880011789014, 0.07315978645375293, null]}, {\"line\": {\"shape\": \"spline\", \"width\": 1.2}, \"marker\": {\"color\": \"#ece8e8\"}, \"mode\": \"lines\", \"opacity\": 1, \"type\": \"scatter\", \"x\": [0.39733011357197756, 0.4179012964045933, null], \"y\": [0.5340181416233221, 0.18452552244613424, null]}, {\"line\": {\"shape\": \"spline\", \"width\": 1.2}, \"marker\": {\"color\": \"#ece8e8\"}, \"mode\": \"lines\", \"opacity\": 1, \"type\": \"scatter\", \"x\": [0.12330570047039806, -0.1877326405248548, null], \"y\": [0.29778775497355897, 0.2619673637421552, null]}, {\"line\": {\"shape\": \"spline\", \"width\": 1.2}, \"marker\": {\"color\": \"#ece8e8\"}, \"mode\": \"lines\", \"opacity\": 1, \"type\": \"scatter\", \"x\": [-0.016084171314372585, -0.21532246051595394, null], \"y\": [0.21630197024839554, -0.025218022574035846, null]}, {\"line\": {\"shape\": \"spline\", \"width\": 1.2}, \"marker\": {\"color\": \"#ece8e8\"}, \"mode\": \"lines\", \"opacity\": 1, \"type\": \"scatter\", \"x\": [-0.07525743138168009, -0.1696253415857077, null], \"y\": [0.18800026505508283, -0.11053388293465581, null]}, {\"line\": {\"shape\": \"spline\", \"width\": 1.2}, \"marker\": {\"color\": \"#ece8e8\"}, \"mode\": \"lines\", \"opacity\": 1, \"type\": \"scatter\", \"x\": [-0.11638902196379396, -0.09870335153594473, null], \"y\": [0.3764767470237879, 0.0637538805652513, null]}, {\"line\": {\"shape\": \"spline\", \"width\": 1.2}, \"marker\": {\"color\": \"#ece8e8\"}, \"mode\": \"lines\", \"opacity\": 1, \"type\": \"scatter\", \"x\": [-0.4575523054698077, -0.24120548086194618, null], \"y\": [0.2776941287988784, -0.0013979601832703335, null]}, {\"line\": {\"shape\": \"spline\", \"width\": 1.2}, \"marker\": {\"color\": \"#ece8e8\"}, \"mode\": \"lines\", \"opacity\": 1, \"type\": \"scatter\", \"x\": [-0.20525768840614078, -0.22332194768096392, null], \"y\": [0.3566440021473792, 0.04401204508840568, null]}, {\"line\": {\"shape\": \"spline\", \"width\": 1.2}, \"marker\": {\"color\": \"#ece8e8\"}, \"mode\": \"lines\", \"opacity\": 1, \"type\": \"scatter\", \"x\": [-0.09870335153594473, -0.05031551591957596, null], \"y\": [0.0637538805652513, -0.24571102058899896, null]}, {\"line\": {\"shape\": \"spline\", \"width\": 1.2}, \"marker\": {\"color\": \"#ece8e8\"}, \"mode\": \"lines\", \"opacity\": 1, \"type\": \"scatter\", \"x\": [-0.22332194768096392, -0.2215119747097501, null], \"y\": [0.04401204508840568, -0.2691402127489037, null]}, {\"line\": {\"shape\": \"spline\", \"width\": 1.2}, \"marker\": {\"color\": \"#ece8e8\"}, \"mode\": \"lines\", \"opacity\": 1, \"type\": \"scatter\", \"x\": [-0.31146310449145603, -0.07872057857847231, null], \"y\": [0.04007197447592241, -0.1694748752951798, null]}, {\"line\": {\"shape\": \"spline\", \"width\": 1.2}, \"marker\": {\"color\": \"#ece8e8\"}, \"mode\": \"lines\", \"opacity\": 1, \"type\": \"scatter\", \"x\": [-0.48571874342557225, -0.7432714150735431, null], \"y\": [-0.24835530833787395, -0.44710181217158323, null]}, {\"line\": {\"shape\": \"spline\", \"width\": 1.2}, \"marker\": {\"color\": \"#ece8e8\"}, \"mode\": \"lines\", \"opacity\": 1, \"type\": \"scatter\", \"x\": [-0.48571874342557225, -0.24120548086194618, null], \"y\": [-0.24835530833787395, -0.0013979601832703335, null]}, {\"line\": {\"shape\": \"spline\", \"width\": 1.2}, \"marker\": {\"color\": \"#ece8e8\"}, \"mode\": \"lines\", \"opacity\": 1, \"type\": \"scatter\", \"x\": [-0.26751238978025627, -0.03367693037661247, null], \"y\": [-0.06510484621303873, -0.2733093865657131, null]}, {\"line\": {\"shape\": \"spline\", \"width\": 1.2}, \"marker\": {\"color\": \"#ece8e8\"}, \"mode\": \"lines\", \"opacity\": 1, \"type\": \"scatter\", \"x\": [-0.1779838700605273, 0.12939120151369488, null], \"y\": [-0.09652868566854379, -0.15609678438993868, null]}, {\"line\": {\"shape\": \"spline\", \"width\": 1.2}, \"marker\": {\"color\": \"#ece8e8\"}, \"mode\": \"lines\", \"opacity\": 1, \"type\": \"scatter\", \"x\": [-0.15243915548708123, 0.01723683862248929, null], \"y\": [-0.3628536706640214, -0.060441595036906604, null]}, {\"line\": {\"shape\": \"spline\", \"width\": 1.2}, \"marker\": {\"color\": \"#ece8e8\"}, \"mode\": \"lines\", \"opacity\": 1, \"type\": \"scatter\", \"x\": [-0.15243915548708123, -0.303829468127076, null], \"y\": [-0.3628536706640214, -0.10729702387568175, null]}, {\"line\": {\"shape\": \"spline\", \"width\": 1.2}, \"marker\": {\"color\": \"#ece8e8\"}, \"mode\": \"lines\", \"opacity\": 1, \"type\": \"scatter\", \"x\": [-0.15243915548708123, -0.3076981207260375, null], \"y\": [-0.3628536706640214, -0.6539820809569675, null]}, {\"line\": {\"shape\": \"spline\", \"width\": 1.2}, \"marker\": {\"color\": \"#ece8e8\"}, \"mode\": \"lines\", \"opacity\": 1, \"type\": \"scatter\", \"x\": [0.7287900788487213, 0.4179012964045933, null], \"y\": [-0.00012816966646780252, 0.18452552244613424, null]}, {\"line\": {\"shape\": \"spline\", \"width\": 1.2}, \"marker\": {\"color\": \"#ece8e8\"}, \"mode\": \"lines\", \"opacity\": 1, \"type\": \"scatter\", \"x\": [0.01723683862248929, -0.303829468127076, null], \"y\": [-0.060441595036906604, -0.10729702387568175, null]}, {\"line\": {\"shape\": \"spline\", \"width\": 1.2}, \"marker\": {\"color\": \"#ece8e8\"}, \"mode\": \"lines\", \"opacity\": 1, \"type\": \"scatter\", \"x\": [-0.07872057857847231, 0.16896312050242512, null], \"y\": [-0.1694748752951798, -0.36112292294725246, null]}, {\"line\": {\"shape\": \"spline\", \"width\": 1.2}, \"marker\": {\"color\": \"#ece8e8\"}, \"mode\": \"lines\", \"opacity\": 1, \"type\": \"scatter\", \"x\": [0.9999999999999999, 0.6832775016920359, null], \"y\": [-0.04960249551297897, -0.06760580131490382, null]}, {\"hoverinfo\": \"text\", \"hovertext\": [], \"marker\": {\"color\": [\"rgb(220.16,95.0272,87.03999999999999)\", \"rgb(220.16,156.4672,87.03999999999999)\", \"rgb(87.03999999999999,220.16,197.42720000000003)\", \"rgb(220.16,95.0272,87.03999999999999)\", \"rgb(220.16,156.4672,87.03999999999999)\", \"rgb(220.16,217.90720000000002,87.03999999999999)\", \"rgb(87.03999999999999,120.01279999999993,220.16)\", \"rgb(220.16,217.90720000000002,87.03999999999999)\", \"rgb(87.03999999999999,181.45279999999988,220.16)\", \"rgb(115.50719999999993,87.03999999999999,220.16)\", \"rgb(87.03999999999999,220.16,197.42720000000003)\", \"rgb(176.94720000000007,87.03999999999999,220.16)\", \"rgb(99.53280000000001,220.16,87.03999999999999)\", \"rgb(220.16,156.4672,87.03999999999999)\", \"rgb(87.03999999999999,181.45279999999988,220.16)\", \"rgb(160.97279999999995,220.16,87.03999999999999)\", \"rgb(99.53280000000001,220.16,87.03999999999999)\", \"rgb(160.97279999999995,220.16,87.03999999999999)\", \"rgb(87.03999999999999,220.16,135.98720000000003)\", \"rgb(220.16,156.4672,87.03999999999999)\", \"rgb(87.03999999999999,120.01279999999993,220.16)\", \"rgb(220.16,87.03999999999999,201.93279999999982)\", \"rgb(220.16,87.03999999999999,140.49279999999987)\", \"rgb(115.50719999999993,87.03999999999999,220.16)\", \"rgb(220.16,156.4672,87.03999999999999)\", \"rgb(220.16,95.0272,87.03999999999999)\", \"rgb(176.94720000000007,87.03999999999999,220.16)\", \"rgb(160.97279999999995,220.16,87.03999999999999)\", \"rgb(220.16,217.90720000000002,87.03999999999999)\", \"rgb(220.16,95.0272,87.03999999999999)\", \"rgb(87.03999999999999,220.16,135.98720000000003)\", \"rgb(220.16,87.03999999999999,201.93279999999982)\", \"rgb(99.53280000000001,220.16,87.03999999999999)\", \"rgb(87.03999999999999,220.16,135.98720000000003)\", \"rgb(220.16,95.0272,87.03999999999999)\", \"rgb(220.16,156.4672,87.03999999999999)\", \"rgb(220.16,95.0272,87.03999999999999)\", \"rgb(220.16,87.03999999999999,140.49279999999987)\", \"rgb(220.16,95.0272,87.03999999999999)\", \"rgb(220.16,95.0272,87.03999999999999)\", \"rgb(220.16,217.90720000000002,87.03999999999999)\"], \"line\": {\"color\": \"#ece8e8\", \"width\": 0.5}, \"size\": [33.33333333333333, 0.0, 0.0, 0.0, 66.66666666666667, 33.33333333333333, 0.0, 33.33333333333333, 0.0, 0.0, 0.0, 0.0, 0.0, 0.0, 0.0, 0.0, 33.33333333333333, 33.33333333333333, 0.0, 33.33333333333333, 0.0, 0.0, 0.0, 0.0, 0.0, 66.66666666666667, 0.0, 0.0, 0.0, 100.0, 33.33333333333333, 0.0, 0.0, 0.0, 33.33333333333333, 66.66666666666667, 0.0, 0.0, 0.0, 33.33333333333333, 100.0]}, \"mode\": \"markers+text\", \"text\": [\"\\u672a\\u7d4c\\u9a13\", \"\\u30e1\\u30c7\\u30a3\\u30a2\", \"\\u30a4\\u30f3\\u30bf\\u30fc\\u30f3\\u751f\", \"\\u6700\\u5148\\u7aef\", \"\\u4e8b\\u696d\", \"\\u5730\\u7403\", \"\\u5927\\u5207\", \"\\u793e\\u4f1a\", \"\\u30a4\\u30f3\\u30bf\\u30fc\\u30f3\", \"\\u5fc3\\u7406\\u7684\", \"\\u793e\\u54e1\", \"\\u4eba\\u751f\", \"\\u6c17\\u8efd\", \"\\u5b9f\\u611f\", \"\\u7d4c\\u9a13\", \"\\u30c1\\u30fc\\u30e0\", \"\\u30aa\\u30f3\\u30e9\\u30a4\\u30f3\", \"\\u30e1\\u30f3\\u30d0\\u30fc\", \"\\u30e6\\u30fc\\u30b6\\u30fc\", \"\\u30b9\\u30ad\\u30eb\", \"\\u30b3\\u30a2\\u30d0\\u30ea\\u30e5\\u30fc\", \"\\u30ad\\u30e3\\u30ea\\u30a2\", \"\\u4fa1\\u5024\", \"\\u5b89\\u5168\\u6027\", \"\\u8eab\", \"\\u4e16\\u754c\", \"\\u30b0\\u30e9\\u30d5\", \"\\u30a4\\u30f3\\u30bf\\u30d3\\u30e5\\u30fc\", \"\\u4e16\\u306e\\u4e2d\", \"\\u30de\\u30fc\\u30b1\\u30c6\\u30a3\\u30f3\\u30b0\", \"\\u30b3\\u30f3\\u30c6\\u30f3\\u30c4\", \"\\u4eca\\u5f8c\", \"\\u958b\\u50ac\", \"\\u4f5c\\u6210\", \"\\u4f01\\u696d\", \"\\u6210\\u9577\", \"\\u30b5\\u30fc\\u30d3\\u30b9\", \"\\u63d0\\u4f9b\", \"\\u65b0\\u5352\", \"\\u5165\\u793e\", \"\\u8ca2\\u732e\"], \"textposition\": \"bottom center\", \"type\": \"scatter\", \"x\": [0.35992122308589314, 0.22636783314853623, 0.28040641274685035, -0.07018426961639052, 0.12121392869234882, 0.6476736634888298, 0.08163259204504862, 0.39733011357197756, 0.12330570047039806, -0.016084171314372585, 0.03153008184719265, -0.07525743138168009, -0.11638902196379396, -0.4575523054698077, -0.1877326405248548, -0.20525768840614078, -0.09870335153594473, -0.22332194768096392, -0.31146310449145603, -0.48571874342557225, -0.20416420906751753, -0.26751238978025627, -0.1779838700605273, -0.21532246051595394, -0.7432714150735431, -0.15243915548708123, -0.1696253415857077, -0.2215119747097501, 0.7287900788487213, 0.01723683862248929, -0.07872057857847231, -0.03367693037661247, -0.05031551591957596, 0.16896312050242512, -0.303829468127076, -0.24120548086194618, -0.3076981207260375, 0.12939120151369488, 0.9999999999999999, 0.6832775016920359, 0.4179012964045933], \"y\": [-0.07622746623439788, -0.3685454763964956, 0.10949473737082738, 0.28664009874704194, -0.025591126634839173, 0.4303398536170525, 0.20101880011789014, 0.5340181416233221, 0.29778775497355897, 0.21630197024839554, 0.2994635544178105, 0.18800026505508283, 0.3764767470237879, 0.2776941287988784, 0.2619673637421552, 0.3566440021473792, 0.0637538805652513, 0.04401204508840568, 0.04007197447592241, -0.24835530833787395, 0.07315978645375293, -0.06510484621303873, -0.09652868566854379, -0.025218022574035846, -0.44710181217158323, -0.3628536706640214, -0.11053388293465581, -0.2691402127489037, -0.00012816966646780252, -0.060441595036906604, -0.1694748752951798, -0.2733093865657131, -0.24571102058899896, -0.36112292294725246, -0.10729702387568175, -0.0013979601832703335, -0.6539820809569675, -0.15609678438993868, -0.04960249551297897, -0.06760580131490382, 0.18452552244613424]}],\n",
       "                        {\"autosize\": true, \"font\": {\"family\": \"Arial\", \"size\": 12}, \"height\": 1200, \"hovermode\": \"closest\", \"margin\": {\"b\": 85, \"l\": 40, \"pad\": 0, \"r\": 40, \"t\": 100}, \"plot_bgcolor\": \"#ffffff\", \"showlegend\": false, \"template\": {\"data\": {\"bar\": [{\"error_x\": {\"color\": \"#2a3f5f\"}, \"error_y\": {\"color\": \"#2a3f5f\"}, \"marker\": {\"line\": {\"color\": \"#E5ECF6\", \"width\": 0.5}}, \"type\": \"bar\"}], \"barpolar\": [{\"marker\": {\"line\": {\"color\": \"#E5ECF6\", \"width\": 0.5}}, \"type\": \"barpolar\"}], \"carpet\": [{\"aaxis\": {\"endlinecolor\": \"#2a3f5f\", \"gridcolor\": \"white\", \"linecolor\": \"white\", \"minorgridcolor\": \"white\", \"startlinecolor\": \"#2a3f5f\"}, \"baxis\": {\"endlinecolor\": \"#2a3f5f\", \"gridcolor\": \"white\", \"linecolor\": \"white\", \"minorgridcolor\": \"white\", \"startlinecolor\": \"#2a3f5f\"}, \"type\": \"carpet\"}], \"choropleth\": [{\"colorbar\": {\"outlinewidth\": 0, \"ticks\": \"\"}, \"type\": \"choropleth\"}], \"contour\": [{\"colorbar\": {\"outlinewidth\": 0, \"ticks\": \"\"}, \"colorscale\": [[0.0, \"#0d0887\"], [0.1111111111111111, \"#46039f\"], [0.2222222222222222, \"#7201a8\"], [0.3333333333333333, \"#9c179e\"], [0.4444444444444444, \"#bd3786\"], [0.5555555555555556, \"#d8576b\"], [0.6666666666666666, \"#ed7953\"], [0.7777777777777778, \"#fb9f3a\"], [0.8888888888888888, \"#fdca26\"], [1.0, \"#f0f921\"]], \"type\": \"contour\"}], \"contourcarpet\": [{\"colorbar\": {\"outlinewidth\": 0, \"ticks\": \"\"}, \"type\": \"contourcarpet\"}], \"heatmap\": [{\"colorbar\": {\"outlinewidth\": 0, \"ticks\": \"\"}, \"colorscale\": [[0.0, \"#0d0887\"], [0.1111111111111111, \"#46039f\"], [0.2222222222222222, \"#7201a8\"], [0.3333333333333333, \"#9c179e\"], [0.4444444444444444, \"#bd3786\"], [0.5555555555555556, \"#d8576b\"], [0.6666666666666666, \"#ed7953\"], [0.7777777777777778, \"#fb9f3a\"], [0.8888888888888888, \"#fdca26\"], [1.0, \"#f0f921\"]], \"type\": \"heatmap\"}], \"heatmapgl\": [{\"colorbar\": {\"outlinewidth\": 0, \"ticks\": \"\"}, \"colorscale\": [[0.0, \"#0d0887\"], [0.1111111111111111, \"#46039f\"], [0.2222222222222222, \"#7201a8\"], [0.3333333333333333, \"#9c179e\"], [0.4444444444444444, \"#bd3786\"], [0.5555555555555556, \"#d8576b\"], [0.6666666666666666, \"#ed7953\"], [0.7777777777777778, \"#fb9f3a\"], [0.8888888888888888, \"#fdca26\"], [1.0, \"#f0f921\"]], \"type\": \"heatmapgl\"}], \"histogram\": [{\"marker\": {\"colorbar\": {\"outlinewidth\": 0, \"ticks\": \"\"}}, \"type\": \"histogram\"}], \"histogram2d\": [{\"colorbar\": {\"outlinewidth\": 0, \"ticks\": \"\"}, \"colorscale\": [[0.0, \"#0d0887\"], [0.1111111111111111, \"#46039f\"], [0.2222222222222222, \"#7201a8\"], [0.3333333333333333, \"#9c179e\"], [0.4444444444444444, \"#bd3786\"], [0.5555555555555556, \"#d8576b\"], [0.6666666666666666, \"#ed7953\"], [0.7777777777777778, \"#fb9f3a\"], [0.8888888888888888, \"#fdca26\"], [1.0, \"#f0f921\"]], \"type\": \"histogram2d\"}], \"histogram2dcontour\": [{\"colorbar\": {\"outlinewidth\": 0, \"ticks\": \"\"}, \"colorscale\": [[0.0, \"#0d0887\"], [0.1111111111111111, \"#46039f\"], [0.2222222222222222, \"#7201a8\"], [0.3333333333333333, \"#9c179e\"], [0.4444444444444444, \"#bd3786\"], [0.5555555555555556, \"#d8576b\"], [0.6666666666666666, \"#ed7953\"], [0.7777777777777778, \"#fb9f3a\"], [0.8888888888888888, \"#fdca26\"], [1.0, \"#f0f921\"]], \"type\": \"histogram2dcontour\"}], \"mesh3d\": [{\"colorbar\": {\"outlinewidth\": 0, \"ticks\": \"\"}, \"type\": \"mesh3d\"}], \"parcoords\": [{\"line\": {\"colorbar\": {\"outlinewidth\": 0, \"ticks\": \"\"}}, \"type\": \"parcoords\"}], \"pie\": [{\"automargin\": true, \"type\": \"pie\"}], \"scatter\": [{\"marker\": {\"colorbar\": {\"outlinewidth\": 0, \"ticks\": \"\"}}, \"type\": \"scatter\"}], \"scatter3d\": [{\"line\": {\"colorbar\": {\"outlinewidth\": 0, \"ticks\": \"\"}}, \"marker\": {\"colorbar\": {\"outlinewidth\": 0, \"ticks\": \"\"}}, \"type\": \"scatter3d\"}], \"scattercarpet\": [{\"marker\": {\"colorbar\": {\"outlinewidth\": 0, \"ticks\": \"\"}}, \"type\": \"scattercarpet\"}], \"scattergeo\": [{\"marker\": {\"colorbar\": {\"outlinewidth\": 0, \"ticks\": \"\"}}, \"type\": \"scattergeo\"}], \"scattergl\": [{\"marker\": {\"colorbar\": {\"outlinewidth\": 0, \"ticks\": \"\"}}, \"type\": \"scattergl\"}], \"scattermapbox\": [{\"marker\": {\"colorbar\": {\"outlinewidth\": 0, \"ticks\": \"\"}}, \"type\": \"scattermapbox\"}], \"scatterpolar\": [{\"marker\": {\"colorbar\": {\"outlinewidth\": 0, \"ticks\": \"\"}}, \"type\": \"scatterpolar\"}], \"scatterpolargl\": [{\"marker\": {\"colorbar\": {\"outlinewidth\": 0, \"ticks\": \"\"}}, \"type\": \"scatterpolargl\"}], \"scatterternary\": [{\"marker\": {\"colorbar\": {\"outlinewidth\": 0, \"ticks\": \"\"}}, \"type\": \"scatterternary\"}], \"surface\": [{\"colorbar\": {\"outlinewidth\": 0, \"ticks\": \"\"}, \"colorscale\": [[0.0, \"#0d0887\"], [0.1111111111111111, \"#46039f\"], [0.2222222222222222, \"#7201a8\"], [0.3333333333333333, \"#9c179e\"], [0.4444444444444444, \"#bd3786\"], [0.5555555555555556, \"#d8576b\"], [0.6666666666666666, \"#ed7953\"], [0.7777777777777778, \"#fb9f3a\"], [0.8888888888888888, \"#fdca26\"], [1.0, \"#f0f921\"]], \"type\": \"surface\"}], \"table\": [{\"cells\": {\"fill\": {\"color\": \"#EBF0F8\"}, \"line\": {\"color\": \"white\"}}, \"header\": {\"fill\": {\"color\": \"#C8D4E3\"}, \"line\": {\"color\": \"white\"}}, \"type\": \"table\"}]}, \"layout\": {\"annotationdefaults\": {\"arrowcolor\": \"#2a3f5f\", \"arrowhead\": 0, \"arrowwidth\": 1}, \"coloraxis\": {\"colorbar\": {\"outlinewidth\": 0, \"ticks\": \"\"}}, \"colorscale\": {\"diverging\": [[0, \"#8e0152\"], [0.1, \"#c51b7d\"], [0.2, \"#de77ae\"], [0.3, \"#f1b6da\"], [0.4, \"#fde0ef\"], [0.5, \"#f7f7f7\"], [0.6, \"#e6f5d0\"], [0.7, \"#b8e186\"], [0.8, \"#7fbc41\"], [0.9, \"#4d9221\"], [1, \"#276419\"]], \"sequential\": [[0.0, \"#0d0887\"], [0.1111111111111111, \"#46039f\"], [0.2222222222222222, \"#7201a8\"], [0.3333333333333333, \"#9c179e\"], [0.4444444444444444, \"#bd3786\"], [0.5555555555555556, \"#d8576b\"], [0.6666666666666666, \"#ed7953\"], [0.7777777777777778, \"#fb9f3a\"], [0.8888888888888888, \"#fdca26\"], [1.0, \"#f0f921\"]], \"sequentialminus\": [[0.0, \"#0d0887\"], [0.1111111111111111, \"#46039f\"], [0.2222222222222222, \"#7201a8\"], [0.3333333333333333, \"#9c179e\"], [0.4444444444444444, \"#bd3786\"], [0.5555555555555556, \"#d8576b\"], [0.6666666666666666, \"#ed7953\"], [0.7777777777777778, \"#fb9f3a\"], [0.8888888888888888, \"#fdca26\"], [1.0, \"#f0f921\"]]}, \"colorway\": [\"#636efa\", \"#EF553B\", \"#00cc96\", \"#ab63fa\", \"#FFA15A\", \"#19d3f3\", \"#FF6692\", \"#B6E880\", \"#FF97FF\", \"#FECB52\"], \"font\": {\"color\": \"#2a3f5f\"}, \"geo\": {\"bgcolor\": \"white\", \"lakecolor\": \"white\", \"landcolor\": \"#E5ECF6\", \"showlakes\": true, \"showland\": true, \"subunitcolor\": \"white\"}, \"hoverlabel\": {\"align\": \"left\"}, \"hovermode\": \"closest\", \"mapbox\": {\"style\": \"light\"}, \"paper_bgcolor\": \"white\", \"plot_bgcolor\": \"#E5ECF6\", \"polar\": {\"angularaxis\": {\"gridcolor\": \"white\", \"linecolor\": \"white\", \"ticks\": \"\"}, \"bgcolor\": \"#E5ECF6\", \"radialaxis\": {\"gridcolor\": \"white\", \"linecolor\": \"white\", \"ticks\": \"\"}}, \"scene\": {\"xaxis\": {\"backgroundcolor\": \"#E5ECF6\", \"gridcolor\": \"white\", \"gridwidth\": 2, \"linecolor\": \"white\", \"showbackground\": true, \"ticks\": \"\", \"zerolinecolor\": \"white\"}, \"yaxis\": {\"backgroundcolor\": \"#E5ECF6\", \"gridcolor\": \"white\", \"gridwidth\": 2, \"linecolor\": \"white\", \"showbackground\": true, \"ticks\": \"\", \"zerolinecolor\": \"white\"}, \"zaxis\": {\"backgroundcolor\": \"#E5ECF6\", \"gridcolor\": \"white\", \"gridwidth\": 2, \"linecolor\": \"white\", \"showbackground\": true, \"ticks\": \"\", \"zerolinecolor\": \"white\"}}, \"shapedefaults\": {\"line\": {\"color\": \"#2a3f5f\"}}, \"ternary\": {\"aaxis\": {\"gridcolor\": \"white\", \"linecolor\": \"white\", \"ticks\": \"\"}, \"baxis\": {\"gridcolor\": \"white\", \"linecolor\": \"white\", \"ticks\": \"\"}, \"bgcolor\": \"#E5ECF6\", \"caxis\": {\"gridcolor\": \"white\", \"linecolor\": \"white\", \"ticks\": \"\"}}, \"title\": {\"x\": 0.05}, \"xaxis\": {\"automargin\": true, \"gridcolor\": \"white\", \"linecolor\": \"white\", \"ticks\": \"\", \"title\": {\"standoff\": 15}, \"zerolinecolor\": \"white\", \"zerolinewidth\": 2}, \"yaxis\": {\"automargin\": true, \"gridcolor\": \"white\", \"linecolor\": \"white\", \"ticks\": \"\", \"title\": {\"standoff\": 15}, \"zerolinecolor\": \"white\", \"zerolinewidth\": 2}}}, \"title\": {\"text\": \"All sentiment Co-occurrence network\"}, \"width\": 1700, \"xaxis\": {\"showgrid\": false, \"showline\": false, \"showticklabels\": false, \"title\": {\"text\": \"\"}, \"zeroline\": false}, \"yaxis\": {\"showgrid\": false, \"showline\": false, \"showticklabels\": false, \"title\": {\"text\": \"\"}, \"zeroline\": false}},\n",
       "                        {\"responsive\": true}\n",
       "                    ).then(function(){\n",
       "                            \n",
       "var gd = document.getElementById('a9d47b0c-dd3f-40bd-b9f4-7e88528a00cc');\n",
       "var x = new MutationObserver(function (mutations, observer) {{\n",
       "        var display = window.getComputedStyle(gd).display;\n",
       "        if (!display || display === 'none') {{\n",
       "            console.log([gd, 'removed!']);\n",
       "            Plotly.purge(gd);\n",
       "            observer.disconnect();\n",
       "        }}\n",
       "}});\n",
       "\n",
       "// Listen for the removal of the full notebook cells\n",
       "var notebookContainer = gd.closest('#notebook-container');\n",
       "if (notebookContainer) {{\n",
       "    x.observe(notebookContainer, {childList: true});\n",
       "}}\n",
       "\n",
       "// Listen for the clearing of the current output cell\n",
       "var outputEl = gd.closest('.output');\n",
       "if (outputEl) {{\n",
       "    x.observe(outputEl, {childList: true});\n",
       "}}\n",
       "\n",
       "                        })\n",
       "                };\n",
       "                });\n",
       "            </script>\n",
       "        </div>"
      ]
     },
     "metadata": {},
     "output_type": "display_data"
    }
   ],
   "source": [
    "npt.co_network(\n",
    "    title='All sentiment Co-occurrence network',\n",
    "    color_palette='hls',\n",
    "    save=True\n",
    ")"
   ]
  },
  {
   "cell_type": "markdown",
   "metadata": {},
   "source": [
    "## 3-8. sunburst chart"
   ]
  },
  {
   "cell_type": "code",
   "execution_count": 95,
   "metadata": {},
   "outputs": [
    {
     "data": {
      "application/vnd.plotly.v1+json": {
       "config": {
        "plotlyServerURL": "https://plot.ly"
       },
       "data": [
        {
         "branchvalues": "total",
         "customdata": [
          [
           0
          ],
          [
           0
          ],
          [
           0
          ],
          [
           0.001282051282051282
          ],
          [
           0
          ],
          [
           0
          ],
          [
           0
          ],
          [
           0.001282051282051282
          ],
          [
           0
          ],
          [
           0.010256410256410256
          ],
          [
           0
          ],
          [
           0.019230769230769232
          ],
          [
           0
          ],
          [
           0.001282051282051282
          ],
          [
           0
          ],
          [
           0
          ],
          [
           0.007692307692307693
          ],
          [
           0.03076923076923077
          ],
          [
           0
          ],
          [
           0
          ],
          [
           0
          ],
          [
           0
          ],
          [
           0
          ],
          [
           0.007692307692307693
          ],
          [
           0
          ],
          [
           0
          ],
          [
           0
          ],
          [
           0
          ],
          [
           0
          ],
          [
           0.025641025641025644
          ],
          [
           0
          ],
          [
           0
          ],
          [
           0
          ],
          [
           0.01282051282051282
          ],
          [
           0
          ],
          [
           0
          ],
          [
           0
          ],
          [
           0
          ],
          [
           0.02564102564102564
          ],
          [
           0
          ],
          [
           0
          ],
          [
           0.008814102564102564
          ],
          [
           0.01724941724941725
          ],
          [
           0
          ],
          [
           0
          ],
          [
           0
          ],
          [
           0.011396011396011395
          ],
          [
           0.000641025641025641
          ],
          [
           0.000641025641025641
          ],
          [
           0.000641025641025641
          ],
          [
           0
          ],
          [
           0
          ],
          [
           0
          ],
          [
           0
          ]
         ],
         "domain": {
          "x": [
           0,
           1
          ],
          "y": [
           0,
           1
          ]
         },
         "hovertemplate": "labels=%{label}<br>adjacency_frequency=%{value}<br>parent=%{parent}<br>id=%{id}<br>betweeness_centrality=%{color}<extra></extra>",
         "ids": [
          "3/インタビュー",
          "7/インターン",
          "6/インターン生",
          "4/オンライン",
          "11/キャリア",
          "10/グラフ",
          "8/コアバリュー",
          "5/コンテンツ",
          "0/サービス",
          "1/スキル",
          "3/チーム",
          "0/マーケティング",
          "1/メディア",
          "3/メンバー",
          "5/ユーザー",
          "2/世の中",
          "0/世界",
          "1/事業",
          "10/人生",
          "11/今後",
          "0/企業",
          "5/作成",
          "12/価値",
          "0/入社",
          "2/地球",
          "8/大切",
          "9/安全性",
          "1/実感",
          "9/心理的",
          "1/成長",
          "12/提供",
          "0/新卒",
          "0/最先端",
          "0/未経験",
          "4/気軽",
          "2/社会",
          "6/社員",
          "7/経験",
          "2/貢献",
          "1/身",
          "4/開催",
          "0",
          "1",
          "10",
          "11",
          "12",
          "2",
          "3",
          "4",
          "5",
          "6",
          "7",
          "8",
          "9"
         ],
         "labels": [
          "インタビュー",
          "インターン",
          "インターン生",
          "オンライン",
          "キャリア",
          "グラフ",
          "コアバリュー",
          "コンテンツ",
          "サービス",
          "スキル",
          "チーム",
          "マーケティング",
          "メディア",
          "メンバー",
          "ユーザー",
          "世の中",
          "世界",
          "事業",
          "人生",
          "今後",
          "企業",
          "作成",
          "価値",
          "入社",
          "地球",
          "大切",
          "安全性",
          "実感",
          "心理的",
          "成長",
          "提供",
          "新卒",
          "最先端",
          "未経験",
          "気軽",
          "社会",
          "社員",
          "経験",
          "貢献",
          "身",
          "開催",
          "0",
          "1",
          "10",
          "11",
          "12",
          "2",
          "3",
          "4",
          "5",
          "6",
          "7",
          "8",
          "9"
         ],
         "marker": {
          "coloraxis": "coloraxis",
          "colors": [
           0,
           0,
           0,
           0.001282051282051282,
           0,
           0,
           0,
           0.001282051282051282,
           0,
           0.010256410256410256,
           0,
           0.019230769230769232,
           0,
           0.001282051282051282,
           0,
           0,
           0.007692307692307693,
           0.03076923076923077,
           0,
           0,
           0,
           0,
           0,
           0.007692307692307693,
           0,
           0,
           0,
           0,
           0,
           0.025641025641025644,
           0,
           0,
           0,
           0.01282051282051282,
           0,
           0,
           0,
           0,
           0.02564102564102564,
           0,
           0,
           0.008814102564102564,
           0.01724941724941725,
           0,
           0,
           0,
           0.011396011396011395,
           0.000641025641025641,
           0.000641025641025641,
           0.000641025641025641,
           0,
           0,
           0,
           0
          ]
         },
         "name": "",
         "parents": [
          "3",
          "7",
          "6",
          "4",
          "11",
          "10",
          "8",
          "5",
          "0",
          "1",
          "3",
          "0",
          "1",
          "3",
          "5",
          "2",
          "0",
          "1",
          "10",
          "11",
          "0",
          "5",
          "12",
          "0",
          "2",
          "8",
          "9",
          "1",
          "9",
          "1",
          "12",
          "0",
          "0",
          "0",
          "4",
          "2",
          "6",
          "7",
          "2",
          "1",
          "4",
          "",
          "",
          "",
          "",
          "",
          "",
          "",
          "",
          "",
          "",
          "",
          "",
          ""
         ],
         "type": "sunburst",
         "values": [
          1,
          1,
          1,
          2,
          1,
          1,
          1,
          2,
          1,
          2,
          1,
          4,
          1,
          2,
          1,
          1,
          3,
          3,
          1,
          1,
          2,
          1,
          1,
          2,
          2,
          1,
          1,
          1,
          1,
          3,
          1,
          1,
          1,
          2,
          1,
          2,
          1,
          1,
          4,
          1,
          1,
          16,
          11,
          2,
          2,
          2,
          9,
          4,
          4,
          4,
          2,
          2,
          2,
          2
         ]
        }
       ],
       "layout": {
        "coloraxis": {
         "cmid": 0.021062271062271064,
         "colorbar": {
          "title": {
           "text": "betweeness_centrality"
          }
         },
         "colorscale": [
          [
           0,
           "rgb(236, 218, 154)"
          ],
          [
           0.16666666666666666,
           "rgb(239, 196, 126)"
          ],
          [
           0.3333333333333333,
           "rgb(243, 173, 106)"
          ],
          [
           0.5,
           "rgb(247, 148, 93)"
          ],
          [
           0.6666666666666666,
           "rgb(249, 123, 87)"
          ],
          [
           0.8333333333333334,
           "rgb(246, 99, 86)"
          ],
          [
           1,
           "rgb(238, 77, 90)"
          ]
         ]
        },
        "height": 600,
        "legend": {
         "tracegroupgap": 0
        },
        "margin": {
         "t": 60
        },
        "template": {
         "data": {
          "bar": [
           {
            "error_x": {
             "color": "#2a3f5f"
            },
            "error_y": {
             "color": "#2a3f5f"
            },
            "marker": {
             "line": {
              "color": "#E5ECF6",
              "width": 0.5
             }
            },
            "type": "bar"
           }
          ],
          "barpolar": [
           {
            "marker": {
             "line": {
              "color": "#E5ECF6",
              "width": 0.5
             }
            },
            "type": "barpolar"
           }
          ],
          "carpet": [
           {
            "aaxis": {
             "endlinecolor": "#2a3f5f",
             "gridcolor": "white",
             "linecolor": "white",
             "minorgridcolor": "white",
             "startlinecolor": "#2a3f5f"
            },
            "baxis": {
             "endlinecolor": "#2a3f5f",
             "gridcolor": "white",
             "linecolor": "white",
             "minorgridcolor": "white",
             "startlinecolor": "#2a3f5f"
            },
            "type": "carpet"
           }
          ],
          "choropleth": [
           {
            "colorbar": {
             "outlinewidth": 0,
             "ticks": ""
            },
            "type": "choropleth"
           }
          ],
          "contour": [
           {
            "colorbar": {
             "outlinewidth": 0,
             "ticks": ""
            },
            "colorscale": [
             [
              0,
              "#0d0887"
             ],
             [
              0.1111111111111111,
              "#46039f"
             ],
             [
              0.2222222222222222,
              "#7201a8"
             ],
             [
              0.3333333333333333,
              "#9c179e"
             ],
             [
              0.4444444444444444,
              "#bd3786"
             ],
             [
              0.5555555555555556,
              "#d8576b"
             ],
             [
              0.6666666666666666,
              "#ed7953"
             ],
             [
              0.7777777777777778,
              "#fb9f3a"
             ],
             [
              0.8888888888888888,
              "#fdca26"
             ],
             [
              1,
              "#f0f921"
             ]
            ],
            "type": "contour"
           }
          ],
          "contourcarpet": [
           {
            "colorbar": {
             "outlinewidth": 0,
             "ticks": ""
            },
            "type": "contourcarpet"
           }
          ],
          "heatmap": [
           {
            "colorbar": {
             "outlinewidth": 0,
             "ticks": ""
            },
            "colorscale": [
             [
              0,
              "#0d0887"
             ],
             [
              0.1111111111111111,
              "#46039f"
             ],
             [
              0.2222222222222222,
              "#7201a8"
             ],
             [
              0.3333333333333333,
              "#9c179e"
             ],
             [
              0.4444444444444444,
              "#bd3786"
             ],
             [
              0.5555555555555556,
              "#d8576b"
             ],
             [
              0.6666666666666666,
              "#ed7953"
             ],
             [
              0.7777777777777778,
              "#fb9f3a"
             ],
             [
              0.8888888888888888,
              "#fdca26"
             ],
             [
              1,
              "#f0f921"
             ]
            ],
            "type": "heatmap"
           }
          ],
          "heatmapgl": [
           {
            "colorbar": {
             "outlinewidth": 0,
             "ticks": ""
            },
            "colorscale": [
             [
              0,
              "#0d0887"
             ],
             [
              0.1111111111111111,
              "#46039f"
             ],
             [
              0.2222222222222222,
              "#7201a8"
             ],
             [
              0.3333333333333333,
              "#9c179e"
             ],
             [
              0.4444444444444444,
              "#bd3786"
             ],
             [
              0.5555555555555556,
              "#d8576b"
             ],
             [
              0.6666666666666666,
              "#ed7953"
             ],
             [
              0.7777777777777778,
              "#fb9f3a"
             ],
             [
              0.8888888888888888,
              "#fdca26"
             ],
             [
              1,
              "#f0f921"
             ]
            ],
            "type": "heatmapgl"
           }
          ],
          "histogram": [
           {
            "marker": {
             "colorbar": {
              "outlinewidth": 0,
              "ticks": ""
             }
            },
            "type": "histogram"
           }
          ],
          "histogram2d": [
           {
            "colorbar": {
             "outlinewidth": 0,
             "ticks": ""
            },
            "colorscale": [
             [
              0,
              "#0d0887"
             ],
             [
              0.1111111111111111,
              "#46039f"
             ],
             [
              0.2222222222222222,
              "#7201a8"
             ],
             [
              0.3333333333333333,
              "#9c179e"
             ],
             [
              0.4444444444444444,
              "#bd3786"
             ],
             [
              0.5555555555555556,
              "#d8576b"
             ],
             [
              0.6666666666666666,
              "#ed7953"
             ],
             [
              0.7777777777777778,
              "#fb9f3a"
             ],
             [
              0.8888888888888888,
              "#fdca26"
             ],
             [
              1,
              "#f0f921"
             ]
            ],
            "type": "histogram2d"
           }
          ],
          "histogram2dcontour": [
           {
            "colorbar": {
             "outlinewidth": 0,
             "ticks": ""
            },
            "colorscale": [
             [
              0,
              "#0d0887"
             ],
             [
              0.1111111111111111,
              "#46039f"
             ],
             [
              0.2222222222222222,
              "#7201a8"
             ],
             [
              0.3333333333333333,
              "#9c179e"
             ],
             [
              0.4444444444444444,
              "#bd3786"
             ],
             [
              0.5555555555555556,
              "#d8576b"
             ],
             [
              0.6666666666666666,
              "#ed7953"
             ],
             [
              0.7777777777777778,
              "#fb9f3a"
             ],
             [
              0.8888888888888888,
              "#fdca26"
             ],
             [
              1,
              "#f0f921"
             ]
            ],
            "type": "histogram2dcontour"
           }
          ],
          "mesh3d": [
           {
            "colorbar": {
             "outlinewidth": 0,
             "ticks": ""
            },
            "type": "mesh3d"
           }
          ],
          "parcoords": [
           {
            "line": {
             "colorbar": {
              "outlinewidth": 0,
              "ticks": ""
             }
            },
            "type": "parcoords"
           }
          ],
          "pie": [
           {
            "automargin": true,
            "type": "pie"
           }
          ],
          "scatter": [
           {
            "marker": {
             "colorbar": {
              "outlinewidth": 0,
              "ticks": ""
             }
            },
            "type": "scatter"
           }
          ],
          "scatter3d": [
           {
            "line": {
             "colorbar": {
              "outlinewidth": 0,
              "ticks": ""
             }
            },
            "marker": {
             "colorbar": {
              "outlinewidth": 0,
              "ticks": ""
             }
            },
            "type": "scatter3d"
           }
          ],
          "scattercarpet": [
           {
            "marker": {
             "colorbar": {
              "outlinewidth": 0,
              "ticks": ""
             }
            },
            "type": "scattercarpet"
           }
          ],
          "scattergeo": [
           {
            "marker": {
             "colorbar": {
              "outlinewidth": 0,
              "ticks": ""
             }
            },
            "type": "scattergeo"
           }
          ],
          "scattergl": [
           {
            "marker": {
             "colorbar": {
              "outlinewidth": 0,
              "ticks": ""
             }
            },
            "type": "scattergl"
           }
          ],
          "scattermapbox": [
           {
            "marker": {
             "colorbar": {
              "outlinewidth": 0,
              "ticks": ""
             }
            },
            "type": "scattermapbox"
           }
          ],
          "scatterpolar": [
           {
            "marker": {
             "colorbar": {
              "outlinewidth": 0,
              "ticks": ""
             }
            },
            "type": "scatterpolar"
           }
          ],
          "scatterpolargl": [
           {
            "marker": {
             "colorbar": {
              "outlinewidth": 0,
              "ticks": ""
             }
            },
            "type": "scatterpolargl"
           }
          ],
          "scatterternary": [
           {
            "marker": {
             "colorbar": {
              "outlinewidth": 0,
              "ticks": ""
             }
            },
            "type": "scatterternary"
           }
          ],
          "surface": [
           {
            "colorbar": {
             "outlinewidth": 0,
             "ticks": ""
            },
            "colorscale": [
             [
              0,
              "#0d0887"
             ],
             [
              0.1111111111111111,
              "#46039f"
             ],
             [
              0.2222222222222222,
              "#7201a8"
             ],
             [
              0.3333333333333333,
              "#9c179e"
             ],
             [
              0.4444444444444444,
              "#bd3786"
             ],
             [
              0.5555555555555556,
              "#d8576b"
             ],
             [
              0.6666666666666666,
              "#ed7953"
             ],
             [
              0.7777777777777778,
              "#fb9f3a"
             ],
             [
              0.8888888888888888,
              "#fdca26"
             ],
             [
              1,
              "#f0f921"
             ]
            ],
            "type": "surface"
           }
          ],
          "table": [
           {
            "cells": {
             "fill": {
              "color": "#EBF0F8"
             },
             "line": {
              "color": "white"
             }
            },
            "header": {
             "fill": {
              "color": "#C8D4E3"
             },
             "line": {
              "color": "white"
             }
            },
            "type": "table"
           }
          ]
         },
         "layout": {
          "annotationdefaults": {
           "arrowcolor": "#2a3f5f",
           "arrowhead": 0,
           "arrowwidth": 1
          },
          "coloraxis": {
           "colorbar": {
            "outlinewidth": 0,
            "ticks": ""
           }
          },
          "colorscale": {
           "diverging": [
            [
             0,
             "#8e0152"
            ],
            [
             0.1,
             "#c51b7d"
            ],
            [
             0.2,
             "#de77ae"
            ],
            [
             0.3,
             "#f1b6da"
            ],
            [
             0.4,
             "#fde0ef"
            ],
            [
             0.5,
             "#f7f7f7"
            ],
            [
             0.6,
             "#e6f5d0"
            ],
            [
             0.7,
             "#b8e186"
            ],
            [
             0.8,
             "#7fbc41"
            ],
            [
             0.9,
             "#4d9221"
            ],
            [
             1,
             "#276419"
            ]
           ],
           "sequential": [
            [
             0,
             "#0d0887"
            ],
            [
             0.1111111111111111,
             "#46039f"
            ],
            [
             0.2222222222222222,
             "#7201a8"
            ],
            [
             0.3333333333333333,
             "#9c179e"
            ],
            [
             0.4444444444444444,
             "#bd3786"
            ],
            [
             0.5555555555555556,
             "#d8576b"
            ],
            [
             0.6666666666666666,
             "#ed7953"
            ],
            [
             0.7777777777777778,
             "#fb9f3a"
            ],
            [
             0.8888888888888888,
             "#fdca26"
            ],
            [
             1,
             "#f0f921"
            ]
           ],
           "sequentialminus": [
            [
             0,
             "#0d0887"
            ],
            [
             0.1111111111111111,
             "#46039f"
            ],
            [
             0.2222222222222222,
             "#7201a8"
            ],
            [
             0.3333333333333333,
             "#9c179e"
            ],
            [
             0.4444444444444444,
             "#bd3786"
            ],
            [
             0.5555555555555556,
             "#d8576b"
            ],
            [
             0.6666666666666666,
             "#ed7953"
            ],
            [
             0.7777777777777778,
             "#fb9f3a"
            ],
            [
             0.8888888888888888,
             "#fdca26"
            ],
            [
             1,
             "#f0f921"
            ]
           ]
          },
          "colorway": [
           "#636efa",
           "#EF553B",
           "#00cc96",
           "#ab63fa",
           "#FFA15A",
           "#19d3f3",
           "#FF6692",
           "#B6E880",
           "#FF97FF",
           "#FECB52"
          ],
          "font": {
           "color": "#2a3f5f"
          },
          "geo": {
           "bgcolor": "white",
           "lakecolor": "white",
           "landcolor": "#E5ECF6",
           "showlakes": true,
           "showland": true,
           "subunitcolor": "white"
          },
          "hoverlabel": {
           "align": "left"
          },
          "hovermode": "closest",
          "mapbox": {
           "style": "light"
          },
          "paper_bgcolor": "white",
          "plot_bgcolor": "#E5ECF6",
          "polar": {
           "angularaxis": {
            "gridcolor": "white",
            "linecolor": "white",
            "ticks": ""
           },
           "bgcolor": "#E5ECF6",
           "radialaxis": {
            "gridcolor": "white",
            "linecolor": "white",
            "ticks": ""
           }
          },
          "scene": {
           "xaxis": {
            "backgroundcolor": "#E5ECF6",
            "gridcolor": "white",
            "gridwidth": 2,
            "linecolor": "white",
            "showbackground": true,
            "ticks": "",
            "zerolinecolor": "white"
           },
           "yaxis": {
            "backgroundcolor": "#E5ECF6",
            "gridcolor": "white",
            "gridwidth": 2,
            "linecolor": "white",
            "showbackground": true,
            "ticks": "",
            "zerolinecolor": "white"
           },
           "zaxis": {
            "backgroundcolor": "#E5ECF6",
            "gridcolor": "white",
            "gridwidth": 2,
            "linecolor": "white",
            "showbackground": true,
            "ticks": "",
            "zerolinecolor": "white"
           }
          },
          "shapedefaults": {
           "line": {
            "color": "#2a3f5f"
           }
          },
          "ternary": {
           "aaxis": {
            "gridcolor": "white",
            "linecolor": "white",
            "ticks": ""
           },
           "baxis": {
            "gridcolor": "white",
            "linecolor": "white",
            "ticks": ""
           },
           "bgcolor": "#E5ECF6",
           "caxis": {
            "gridcolor": "white",
            "linecolor": "white",
            "ticks": ""
           }
          },
          "title": {
           "x": 0.05
          },
          "xaxis": {
           "automargin": true,
           "gridcolor": "white",
           "linecolor": "white",
           "ticks": "",
           "title": {
            "standoff": 15
           },
           "zerolinecolor": "white",
           "zerolinewidth": 2
          },
          "yaxis": {
           "automargin": true,
           "gridcolor": "white",
           "linecolor": "white",
           "ticks": "",
           "title": {
            "standoff": 15
           },
           "zerolinecolor": "white",
           "zerolinewidth": 2
          }
         }
        },
        "title": {
         "text": "All sentiment sunburst chart"
        },
        "width": 800
       }
      },
      "text/html": [
       "<div>\n",
       "        \n",
       "        \n",
       "            <div id=\"09c01013-8d55-4e86-b1db-4c9c625c1dcf\" class=\"plotly-graph-div\" style=\"height:600px; width:800px;\"></div>\n",
       "            <script type=\"text/javascript\">\n",
       "                require([\"plotly\"], function(Plotly) {\n",
       "                    window.PLOTLYENV=window.PLOTLYENV || {};\n",
       "                    \n",
       "                if (document.getElementById(\"09c01013-8d55-4e86-b1db-4c9c625c1dcf\")) {\n",
       "                    Plotly.newPlot(\n",
       "                        '09c01013-8d55-4e86-b1db-4c9c625c1dcf',\n",
       "                        [{\"branchvalues\": \"total\", \"customdata\": [[0.0], [0.0], [0.0], [0.001282051282051282], [0.0], [0.0], [0.0], [0.001282051282051282], [0.0], [0.010256410256410256], [0.0], [0.019230769230769232], [0.0], [0.001282051282051282], [0.0], [0.0], [0.007692307692307693], [0.03076923076923077], [0.0], [0.0], [0.0], [0.0], [0.0], [0.007692307692307693], [0.0], [0.0], [0.0], [0.0], [0.0], [0.025641025641025644], [0.0], [0.0], [0.0], [0.01282051282051282], [0.0], [0.0], [0.0], [0.0], [0.02564102564102564], [0.0], [0.0], [0.008814102564102564], [0.01724941724941725], [0.0], [0.0], [0.0], [0.011396011396011395], [0.000641025641025641], [0.000641025641025641], [0.000641025641025641], [0.0], [0.0], [0.0], [0.0]], \"domain\": {\"x\": [0.0, 1.0], \"y\": [0.0, 1.0]}, \"hovertemplate\": \"labels=%{label}<br>adjacency_frequency=%{value}<br>parent=%{parent}<br>id=%{id}<br>betweeness_centrality=%{color}<extra></extra>\", \"ids\": [\"3/\\u30a4\\u30f3\\u30bf\\u30d3\\u30e5\\u30fc\", \"7/\\u30a4\\u30f3\\u30bf\\u30fc\\u30f3\", \"6/\\u30a4\\u30f3\\u30bf\\u30fc\\u30f3\\u751f\", \"4/\\u30aa\\u30f3\\u30e9\\u30a4\\u30f3\", \"11/\\u30ad\\u30e3\\u30ea\\u30a2\", \"10/\\u30b0\\u30e9\\u30d5\", \"8/\\u30b3\\u30a2\\u30d0\\u30ea\\u30e5\\u30fc\", \"5/\\u30b3\\u30f3\\u30c6\\u30f3\\u30c4\", \"0/\\u30b5\\u30fc\\u30d3\\u30b9\", \"1/\\u30b9\\u30ad\\u30eb\", \"3/\\u30c1\\u30fc\\u30e0\", \"0/\\u30de\\u30fc\\u30b1\\u30c6\\u30a3\\u30f3\\u30b0\", \"1/\\u30e1\\u30c7\\u30a3\\u30a2\", \"3/\\u30e1\\u30f3\\u30d0\\u30fc\", \"5/\\u30e6\\u30fc\\u30b6\\u30fc\", \"2/\\u4e16\\u306e\\u4e2d\", \"0/\\u4e16\\u754c\", \"1/\\u4e8b\\u696d\", \"10/\\u4eba\\u751f\", \"11/\\u4eca\\u5f8c\", \"0/\\u4f01\\u696d\", \"5/\\u4f5c\\u6210\", \"12/\\u4fa1\\u5024\", \"0/\\u5165\\u793e\", \"2/\\u5730\\u7403\", \"8/\\u5927\\u5207\", \"9/\\u5b89\\u5168\\u6027\", \"1/\\u5b9f\\u611f\", \"9/\\u5fc3\\u7406\\u7684\", \"1/\\u6210\\u9577\", \"12/\\u63d0\\u4f9b\", \"0/\\u65b0\\u5352\", \"0/\\u6700\\u5148\\u7aef\", \"0/\\u672a\\u7d4c\\u9a13\", \"4/\\u6c17\\u8efd\", \"2/\\u793e\\u4f1a\", \"6/\\u793e\\u54e1\", \"7/\\u7d4c\\u9a13\", \"2/\\u8ca2\\u732e\", \"1/\\u8eab\", \"4/\\u958b\\u50ac\", \"0\", \"1\", \"10\", \"11\", \"12\", \"2\", \"3\", \"4\", \"5\", \"6\", \"7\", \"8\", \"9\"], \"labels\": [\"\\u30a4\\u30f3\\u30bf\\u30d3\\u30e5\\u30fc\", \"\\u30a4\\u30f3\\u30bf\\u30fc\\u30f3\", \"\\u30a4\\u30f3\\u30bf\\u30fc\\u30f3\\u751f\", \"\\u30aa\\u30f3\\u30e9\\u30a4\\u30f3\", \"\\u30ad\\u30e3\\u30ea\\u30a2\", \"\\u30b0\\u30e9\\u30d5\", \"\\u30b3\\u30a2\\u30d0\\u30ea\\u30e5\\u30fc\", \"\\u30b3\\u30f3\\u30c6\\u30f3\\u30c4\", \"\\u30b5\\u30fc\\u30d3\\u30b9\", \"\\u30b9\\u30ad\\u30eb\", \"\\u30c1\\u30fc\\u30e0\", \"\\u30de\\u30fc\\u30b1\\u30c6\\u30a3\\u30f3\\u30b0\", \"\\u30e1\\u30c7\\u30a3\\u30a2\", \"\\u30e1\\u30f3\\u30d0\\u30fc\", \"\\u30e6\\u30fc\\u30b6\\u30fc\", \"\\u4e16\\u306e\\u4e2d\", \"\\u4e16\\u754c\", \"\\u4e8b\\u696d\", \"\\u4eba\\u751f\", \"\\u4eca\\u5f8c\", \"\\u4f01\\u696d\", \"\\u4f5c\\u6210\", \"\\u4fa1\\u5024\", \"\\u5165\\u793e\", \"\\u5730\\u7403\", \"\\u5927\\u5207\", \"\\u5b89\\u5168\\u6027\", \"\\u5b9f\\u611f\", \"\\u5fc3\\u7406\\u7684\", \"\\u6210\\u9577\", \"\\u63d0\\u4f9b\", \"\\u65b0\\u5352\", \"\\u6700\\u5148\\u7aef\", \"\\u672a\\u7d4c\\u9a13\", \"\\u6c17\\u8efd\", \"\\u793e\\u4f1a\", \"\\u793e\\u54e1\", \"\\u7d4c\\u9a13\", \"\\u8ca2\\u732e\", \"\\u8eab\", \"\\u958b\\u50ac\", \"0\", \"1\", \"10\", \"11\", \"12\", \"2\", \"3\", \"4\", \"5\", \"6\", \"7\", \"8\", \"9\"], \"marker\": {\"coloraxis\": \"coloraxis\", \"colors\": [0.0, 0.0, 0.0, 0.001282051282051282, 0.0, 0.0, 0.0, 0.001282051282051282, 0.0, 0.010256410256410256, 0.0, 0.019230769230769232, 0.0, 0.001282051282051282, 0.0, 0.0, 0.007692307692307693, 0.03076923076923077, 0.0, 0.0, 0.0, 0.0, 0.0, 0.007692307692307693, 0.0, 0.0, 0.0, 0.0, 0.0, 0.025641025641025644, 0.0, 0.0, 0.0, 0.01282051282051282, 0.0, 0.0, 0.0, 0.0, 0.02564102564102564, 0.0, 0.0, 0.008814102564102564, 0.01724941724941725, 0.0, 0.0, 0.0, 0.011396011396011395, 0.000641025641025641, 0.000641025641025641, 0.000641025641025641, 0.0, 0.0, 0.0, 0.0]}, \"name\": \"\", \"parents\": [\"3\", \"7\", \"6\", \"4\", \"11\", \"10\", \"8\", \"5\", \"0\", \"1\", \"3\", \"0\", \"1\", \"3\", \"5\", \"2\", \"0\", \"1\", \"10\", \"11\", \"0\", \"5\", \"12\", \"0\", \"2\", \"8\", \"9\", \"1\", \"9\", \"1\", \"12\", \"0\", \"0\", \"0\", \"4\", \"2\", \"6\", \"7\", \"2\", \"1\", \"4\", \"\", \"\", \"\", \"\", \"\", \"\", \"\", \"\", \"\", \"\", \"\", \"\", \"\"], \"type\": \"sunburst\", \"values\": [1, 1, 1, 2, 1, 1, 1, 2, 1, 2, 1, 4, 1, 2, 1, 1, 3, 3, 1, 1, 2, 1, 1, 2, 2, 1, 1, 1, 1, 3, 1, 1, 1, 2, 1, 2, 1, 1, 4, 1, 1, 16, 11, 2, 2, 2, 9, 4, 4, 4, 2, 2, 2, 2]}],\n",
       "                        {\"coloraxis\": {\"cmid\": 0.021062271062271064, \"colorbar\": {\"title\": {\"text\": \"betweeness_centrality\"}}, \"colorscale\": [[0.0, \"rgb(236, 218, 154)\"], [0.16666666666666666, \"rgb(239, 196, 126)\"], [0.3333333333333333, \"rgb(243, 173, 106)\"], [0.5, \"rgb(247, 148, 93)\"], [0.6666666666666666, \"rgb(249, 123, 87)\"], [0.8333333333333334, \"rgb(246, 99, 86)\"], [1.0, \"rgb(238, 77, 90)\"]]}, \"height\": 600, \"legend\": {\"tracegroupgap\": 0}, \"margin\": {\"t\": 60}, \"template\": {\"data\": {\"bar\": [{\"error_x\": {\"color\": \"#2a3f5f\"}, \"error_y\": {\"color\": \"#2a3f5f\"}, \"marker\": {\"line\": {\"color\": \"#E5ECF6\", \"width\": 0.5}}, \"type\": \"bar\"}], \"barpolar\": [{\"marker\": {\"line\": {\"color\": \"#E5ECF6\", \"width\": 0.5}}, \"type\": \"barpolar\"}], \"carpet\": [{\"aaxis\": {\"endlinecolor\": \"#2a3f5f\", \"gridcolor\": \"white\", \"linecolor\": \"white\", \"minorgridcolor\": \"white\", \"startlinecolor\": \"#2a3f5f\"}, \"baxis\": {\"endlinecolor\": \"#2a3f5f\", \"gridcolor\": \"white\", \"linecolor\": \"white\", \"minorgridcolor\": \"white\", \"startlinecolor\": \"#2a3f5f\"}, \"type\": \"carpet\"}], \"choropleth\": [{\"colorbar\": {\"outlinewidth\": 0, \"ticks\": \"\"}, \"type\": \"choropleth\"}], \"contour\": [{\"colorbar\": {\"outlinewidth\": 0, \"ticks\": \"\"}, \"colorscale\": [[0.0, \"#0d0887\"], [0.1111111111111111, \"#46039f\"], [0.2222222222222222, \"#7201a8\"], [0.3333333333333333, \"#9c179e\"], [0.4444444444444444, \"#bd3786\"], [0.5555555555555556, \"#d8576b\"], [0.6666666666666666, \"#ed7953\"], [0.7777777777777778, \"#fb9f3a\"], [0.8888888888888888, \"#fdca26\"], [1.0, \"#f0f921\"]], \"type\": \"contour\"}], \"contourcarpet\": [{\"colorbar\": {\"outlinewidth\": 0, \"ticks\": \"\"}, \"type\": \"contourcarpet\"}], \"heatmap\": [{\"colorbar\": {\"outlinewidth\": 0, \"ticks\": \"\"}, \"colorscale\": [[0.0, \"#0d0887\"], [0.1111111111111111, \"#46039f\"], [0.2222222222222222, \"#7201a8\"], [0.3333333333333333, \"#9c179e\"], [0.4444444444444444, \"#bd3786\"], [0.5555555555555556, \"#d8576b\"], [0.6666666666666666, \"#ed7953\"], [0.7777777777777778, \"#fb9f3a\"], [0.8888888888888888, \"#fdca26\"], [1.0, \"#f0f921\"]], \"type\": \"heatmap\"}], \"heatmapgl\": [{\"colorbar\": {\"outlinewidth\": 0, \"ticks\": \"\"}, \"colorscale\": [[0.0, \"#0d0887\"], [0.1111111111111111, \"#46039f\"], [0.2222222222222222, \"#7201a8\"], [0.3333333333333333, \"#9c179e\"], [0.4444444444444444, \"#bd3786\"], [0.5555555555555556, \"#d8576b\"], [0.6666666666666666, \"#ed7953\"], [0.7777777777777778, \"#fb9f3a\"], [0.8888888888888888, \"#fdca26\"], [1.0, \"#f0f921\"]], \"type\": \"heatmapgl\"}], \"histogram\": [{\"marker\": {\"colorbar\": {\"outlinewidth\": 0, \"ticks\": \"\"}}, \"type\": \"histogram\"}], \"histogram2d\": [{\"colorbar\": {\"outlinewidth\": 0, \"ticks\": \"\"}, \"colorscale\": [[0.0, \"#0d0887\"], [0.1111111111111111, \"#46039f\"], [0.2222222222222222, \"#7201a8\"], [0.3333333333333333, \"#9c179e\"], [0.4444444444444444, \"#bd3786\"], [0.5555555555555556, \"#d8576b\"], [0.6666666666666666, \"#ed7953\"], [0.7777777777777778, \"#fb9f3a\"], [0.8888888888888888, \"#fdca26\"], [1.0, \"#f0f921\"]], \"type\": \"histogram2d\"}], \"histogram2dcontour\": [{\"colorbar\": {\"outlinewidth\": 0, \"ticks\": \"\"}, \"colorscale\": [[0.0, \"#0d0887\"], [0.1111111111111111, \"#46039f\"], [0.2222222222222222, \"#7201a8\"], [0.3333333333333333, \"#9c179e\"], [0.4444444444444444, \"#bd3786\"], [0.5555555555555556, \"#d8576b\"], [0.6666666666666666, \"#ed7953\"], [0.7777777777777778, \"#fb9f3a\"], [0.8888888888888888, \"#fdca26\"], [1.0, \"#f0f921\"]], \"type\": \"histogram2dcontour\"}], \"mesh3d\": [{\"colorbar\": {\"outlinewidth\": 0, \"ticks\": \"\"}, \"type\": \"mesh3d\"}], \"parcoords\": [{\"line\": {\"colorbar\": {\"outlinewidth\": 0, \"ticks\": \"\"}}, \"type\": \"parcoords\"}], \"pie\": [{\"automargin\": true, \"type\": \"pie\"}], \"scatter\": [{\"marker\": {\"colorbar\": {\"outlinewidth\": 0, \"ticks\": \"\"}}, \"type\": \"scatter\"}], \"scatter3d\": [{\"line\": {\"colorbar\": {\"outlinewidth\": 0, \"ticks\": \"\"}}, \"marker\": {\"colorbar\": {\"outlinewidth\": 0, \"ticks\": \"\"}}, \"type\": \"scatter3d\"}], \"scattercarpet\": [{\"marker\": {\"colorbar\": {\"outlinewidth\": 0, \"ticks\": \"\"}}, \"type\": \"scattercarpet\"}], \"scattergeo\": [{\"marker\": {\"colorbar\": {\"outlinewidth\": 0, \"ticks\": \"\"}}, \"type\": \"scattergeo\"}], \"scattergl\": [{\"marker\": {\"colorbar\": {\"outlinewidth\": 0, \"ticks\": \"\"}}, \"type\": \"scattergl\"}], \"scattermapbox\": [{\"marker\": {\"colorbar\": {\"outlinewidth\": 0, \"ticks\": \"\"}}, \"type\": \"scattermapbox\"}], \"scatterpolar\": [{\"marker\": {\"colorbar\": {\"outlinewidth\": 0, \"ticks\": \"\"}}, \"type\": \"scatterpolar\"}], \"scatterpolargl\": [{\"marker\": {\"colorbar\": {\"outlinewidth\": 0, \"ticks\": \"\"}}, \"type\": \"scatterpolargl\"}], \"scatterternary\": [{\"marker\": {\"colorbar\": {\"outlinewidth\": 0, \"ticks\": \"\"}}, \"type\": \"scatterternary\"}], \"surface\": [{\"colorbar\": {\"outlinewidth\": 0, \"ticks\": \"\"}, \"colorscale\": [[0.0, \"#0d0887\"], [0.1111111111111111, \"#46039f\"], [0.2222222222222222, \"#7201a8\"], [0.3333333333333333, \"#9c179e\"], [0.4444444444444444, \"#bd3786\"], [0.5555555555555556, \"#d8576b\"], [0.6666666666666666, \"#ed7953\"], [0.7777777777777778, \"#fb9f3a\"], [0.8888888888888888, \"#fdca26\"], [1.0, \"#f0f921\"]], \"type\": \"surface\"}], \"table\": [{\"cells\": {\"fill\": {\"color\": \"#EBF0F8\"}, \"line\": {\"color\": \"white\"}}, \"header\": {\"fill\": {\"color\": \"#C8D4E3\"}, \"line\": {\"color\": \"white\"}}, \"type\": \"table\"}]}, \"layout\": {\"annotationdefaults\": {\"arrowcolor\": \"#2a3f5f\", \"arrowhead\": 0, \"arrowwidth\": 1}, \"coloraxis\": {\"colorbar\": {\"outlinewidth\": 0, \"ticks\": \"\"}}, \"colorscale\": {\"diverging\": [[0, \"#8e0152\"], [0.1, \"#c51b7d\"], [0.2, \"#de77ae\"], [0.3, \"#f1b6da\"], [0.4, \"#fde0ef\"], [0.5, \"#f7f7f7\"], [0.6, \"#e6f5d0\"], [0.7, \"#b8e186\"], [0.8, \"#7fbc41\"], [0.9, \"#4d9221\"], [1, \"#276419\"]], \"sequential\": [[0.0, \"#0d0887\"], [0.1111111111111111, \"#46039f\"], [0.2222222222222222, \"#7201a8\"], [0.3333333333333333, \"#9c179e\"], [0.4444444444444444, \"#bd3786\"], [0.5555555555555556, \"#d8576b\"], [0.6666666666666666, \"#ed7953\"], [0.7777777777777778, \"#fb9f3a\"], [0.8888888888888888, \"#fdca26\"], [1.0, \"#f0f921\"]], \"sequentialminus\": [[0.0, \"#0d0887\"], [0.1111111111111111, \"#46039f\"], [0.2222222222222222, \"#7201a8\"], [0.3333333333333333, \"#9c179e\"], [0.4444444444444444, \"#bd3786\"], [0.5555555555555556, \"#d8576b\"], [0.6666666666666666, \"#ed7953\"], [0.7777777777777778, \"#fb9f3a\"], [0.8888888888888888, \"#fdca26\"], [1.0, \"#f0f921\"]]}, \"colorway\": [\"#636efa\", \"#EF553B\", \"#00cc96\", \"#ab63fa\", \"#FFA15A\", \"#19d3f3\", \"#FF6692\", \"#B6E880\", \"#FF97FF\", \"#FECB52\"], \"font\": {\"color\": \"#2a3f5f\"}, \"geo\": {\"bgcolor\": \"white\", \"lakecolor\": \"white\", \"landcolor\": \"#E5ECF6\", \"showlakes\": true, \"showland\": true, \"subunitcolor\": \"white\"}, \"hoverlabel\": {\"align\": \"left\"}, \"hovermode\": \"closest\", \"mapbox\": {\"style\": \"light\"}, \"paper_bgcolor\": \"white\", \"plot_bgcolor\": \"#E5ECF6\", \"polar\": {\"angularaxis\": {\"gridcolor\": \"white\", \"linecolor\": \"white\", \"ticks\": \"\"}, \"bgcolor\": \"#E5ECF6\", \"radialaxis\": {\"gridcolor\": \"white\", \"linecolor\": \"white\", \"ticks\": \"\"}}, \"scene\": {\"xaxis\": {\"backgroundcolor\": \"#E5ECF6\", \"gridcolor\": \"white\", \"gridwidth\": 2, \"linecolor\": \"white\", \"showbackground\": true, \"ticks\": \"\", \"zerolinecolor\": \"white\"}, \"yaxis\": {\"backgroundcolor\": \"#E5ECF6\", \"gridcolor\": \"white\", \"gridwidth\": 2, \"linecolor\": \"white\", \"showbackground\": true, \"ticks\": \"\", \"zerolinecolor\": \"white\"}, \"zaxis\": {\"backgroundcolor\": \"#E5ECF6\", \"gridcolor\": \"white\", \"gridwidth\": 2, \"linecolor\": \"white\", \"showbackground\": true, \"ticks\": \"\", \"zerolinecolor\": \"white\"}}, \"shapedefaults\": {\"line\": {\"color\": \"#2a3f5f\"}}, \"ternary\": {\"aaxis\": {\"gridcolor\": \"white\", \"linecolor\": \"white\", \"ticks\": \"\"}, \"baxis\": {\"gridcolor\": \"white\", \"linecolor\": \"white\", \"ticks\": \"\"}, \"bgcolor\": \"#E5ECF6\", \"caxis\": {\"gridcolor\": \"white\", \"linecolor\": \"white\", \"ticks\": \"\"}}, \"title\": {\"x\": 0.05}, \"xaxis\": {\"automargin\": true, \"gridcolor\": \"white\", \"linecolor\": \"white\", \"ticks\": \"\", \"title\": {\"standoff\": 15}, \"zerolinecolor\": \"white\", \"zerolinewidth\": 2}, \"yaxis\": {\"automargin\": true, \"gridcolor\": \"white\", \"linecolor\": \"white\", \"ticks\": \"\", \"title\": {\"standoff\": 15}, \"zerolinecolor\": \"white\", \"zerolinewidth\": 2}}}, \"title\": {\"text\": \"All sentiment sunburst chart\"}, \"width\": 800},\n",
       "                        {\"responsive\": true}\n",
       "                    ).then(function(){\n",
       "                            \n",
       "var gd = document.getElementById('09c01013-8d55-4e86-b1db-4c9c625c1dcf');\n",
       "var x = new MutationObserver(function (mutations, observer) {{\n",
       "        var display = window.getComputedStyle(gd).display;\n",
       "        if (!display || display === 'none') {{\n",
       "            console.log([gd, 'removed!']);\n",
       "            Plotly.purge(gd);\n",
       "            observer.disconnect();\n",
       "        }}\n",
       "}});\n",
       "\n",
       "// Listen for the removal of the full notebook cells\n",
       "var notebookContainer = gd.closest('#notebook-container');\n",
       "if (notebookContainer) {{\n",
       "    x.observe(notebookContainer, {childList: true});\n",
       "}}\n",
       "\n",
       "// Listen for the clearing of the current output cell\n",
       "var outputEl = gd.closest('.output');\n",
       "if (outputEl) {{\n",
       "    x.observe(outputEl, {childList: true});\n",
       "}}\n",
       "\n",
       "                        })\n",
       "                };\n",
       "                });\n",
       "            </script>\n",
       "        </div>"
      ]
     },
     "metadata": {},
     "output_type": "display_data"
    }
   ],
   "source": [
    "npt.sunburst(\n",
    "    title='All sentiment sunburst chart',\n",
    "    colorscale=True,\n",
    "    color_continuous_scale='Oryel',\n",
    "    width=800,\n",
    "    height=600,\n",
    "    save=True\n",
    ")"
   ]
  }
 ],
 "metadata": {
  "kernelspec": {
   "display_name": "Python 3",
   "language": "python",
   "name": "python3"
  },
  "language_info": {
   "codemirror_mode": {
    "name": "ipython",
    "version": 3
   },
   "file_extension": ".py",
   "mimetype": "text/x-python",
   "name": "python",
   "nbconvert_exporter": "python",
   "pygments_lexer": "ipython3",
   "version": "3.7.6"
  },
  "toc-autonumbering": true,
  "toc-showcode": false,
  "toc-showmarkdowntxt": false,
  "toc-showtags": false
 },
 "nbformat": 4,
 "nbformat_minor": 4
}
